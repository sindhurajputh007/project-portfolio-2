{
 "cells": [
  {
   "cell_type": "code",
   "execution_count": 202,
   "id": "a20da66a",
   "metadata": {},
   "outputs": [],
   "source": [
    "# Supress unnecessary warnings\n",
    "import warnings\n",
    "warnings.filterwarnings('ignore')"
   ]
  },
  {
   "cell_type": "code",
   "execution_count": 203,
   "id": "6f90819d",
   "metadata": {},
   "outputs": [],
   "source": [
    "# Import the NumPy and Pandas packages\n",
    "import numpy as np\n",
    "import pandas as pd"
   ]
  },
  {
   "cell_type": "code",
   "execution_count": 204,
   "id": "047be432",
   "metadata": {},
   "outputs": [],
   "source": [
    "import matplotlib.pyplot as plt\n",
    "import seaborn as sns"
   ]
  },
  {
   "cell_type": "code",
   "execution_count": 205,
   "id": "8abfac3c",
   "metadata": {},
   "outputs": [],
   "source": [
    "# Read the dataset\n",
    "leads = pd.read_csv('Leads.csv')"
   ]
  },
  {
   "cell_type": "code",
   "execution_count": 206,
   "id": "317764ba",
   "metadata": {},
   "outputs": [
    {
     "data": {
      "text/html": [
       "<div>\n",
       "<style scoped>\n",
       "    .dataframe tbody tr th:only-of-type {\n",
       "        vertical-align: middle;\n",
       "    }\n",
       "\n",
       "    .dataframe tbody tr th {\n",
       "        vertical-align: top;\n",
       "    }\n",
       "\n",
       "    .dataframe thead th {\n",
       "        text-align: right;\n",
       "    }\n",
       "</style>\n",
       "<table border=\"1\" class=\"dataframe\">\n",
       "  <thead>\n",
       "    <tr style=\"text-align: right;\">\n",
       "      <th></th>\n",
       "      <th>Prospect ID</th>\n",
       "      <th>Lead Number</th>\n",
       "      <th>Lead Origin</th>\n",
       "      <th>Lead Source</th>\n",
       "      <th>Do Not Email</th>\n",
       "      <th>Do Not Call</th>\n",
       "      <th>Converted</th>\n",
       "      <th>TotalVisits</th>\n",
       "      <th>Total Time Spent on Website</th>\n",
       "      <th>Page Views Per Visit</th>\n",
       "      <th>...</th>\n",
       "      <th>Get updates on DM Content</th>\n",
       "      <th>Lead Profile</th>\n",
       "      <th>City</th>\n",
       "      <th>Asymmetrique Activity Index</th>\n",
       "      <th>Asymmetrique Profile Index</th>\n",
       "      <th>Asymmetrique Activity Score</th>\n",
       "      <th>Asymmetrique Profile Score</th>\n",
       "      <th>I agree to pay the amount through cheque</th>\n",
       "      <th>A free copy of Mastering The Interview</th>\n",
       "      <th>Last Notable Activity</th>\n",
       "    </tr>\n",
       "  </thead>\n",
       "  <tbody>\n",
       "    <tr>\n",
       "      <th>0</th>\n",
       "      <td>7927b2df-8bba-4d29-b9a2-b6e0beafe620</td>\n",
       "      <td>660737</td>\n",
       "      <td>API</td>\n",
       "      <td>Olark Chat</td>\n",
       "      <td>No</td>\n",
       "      <td>No</td>\n",
       "      <td>0</td>\n",
       "      <td>0.0</td>\n",
       "      <td>0</td>\n",
       "      <td>0.0</td>\n",
       "      <td>...</td>\n",
       "      <td>No</td>\n",
       "      <td>Select</td>\n",
       "      <td>Select</td>\n",
       "      <td>02.Medium</td>\n",
       "      <td>02.Medium</td>\n",
       "      <td>15.0</td>\n",
       "      <td>15.0</td>\n",
       "      <td>No</td>\n",
       "      <td>No</td>\n",
       "      <td>Modified</td>\n",
       "    </tr>\n",
       "    <tr>\n",
       "      <th>1</th>\n",
       "      <td>2a272436-5132-4136-86fa-dcc88c88f482</td>\n",
       "      <td>660728</td>\n",
       "      <td>API</td>\n",
       "      <td>Organic Search</td>\n",
       "      <td>No</td>\n",
       "      <td>No</td>\n",
       "      <td>0</td>\n",
       "      <td>5.0</td>\n",
       "      <td>674</td>\n",
       "      <td>2.5</td>\n",
       "      <td>...</td>\n",
       "      <td>No</td>\n",
       "      <td>Select</td>\n",
       "      <td>Select</td>\n",
       "      <td>02.Medium</td>\n",
       "      <td>02.Medium</td>\n",
       "      <td>15.0</td>\n",
       "      <td>15.0</td>\n",
       "      <td>No</td>\n",
       "      <td>No</td>\n",
       "      <td>Email Opened</td>\n",
       "    </tr>\n",
       "    <tr>\n",
       "      <th>2</th>\n",
       "      <td>8cc8c611-a219-4f35-ad23-fdfd2656bd8a</td>\n",
       "      <td>660727</td>\n",
       "      <td>Landing Page Submission</td>\n",
       "      <td>Direct Traffic</td>\n",
       "      <td>No</td>\n",
       "      <td>No</td>\n",
       "      <td>1</td>\n",
       "      <td>2.0</td>\n",
       "      <td>1532</td>\n",
       "      <td>2.0</td>\n",
       "      <td>...</td>\n",
       "      <td>No</td>\n",
       "      <td>Potential Lead</td>\n",
       "      <td>Mumbai</td>\n",
       "      <td>02.Medium</td>\n",
       "      <td>01.High</td>\n",
       "      <td>14.0</td>\n",
       "      <td>20.0</td>\n",
       "      <td>No</td>\n",
       "      <td>Yes</td>\n",
       "      <td>Email Opened</td>\n",
       "    </tr>\n",
       "    <tr>\n",
       "      <th>3</th>\n",
       "      <td>0cc2df48-7cf4-4e39-9de9-19797f9b38cc</td>\n",
       "      <td>660719</td>\n",
       "      <td>Landing Page Submission</td>\n",
       "      <td>Direct Traffic</td>\n",
       "      <td>No</td>\n",
       "      <td>No</td>\n",
       "      <td>0</td>\n",
       "      <td>1.0</td>\n",
       "      <td>305</td>\n",
       "      <td>1.0</td>\n",
       "      <td>...</td>\n",
       "      <td>No</td>\n",
       "      <td>Select</td>\n",
       "      <td>Mumbai</td>\n",
       "      <td>02.Medium</td>\n",
       "      <td>01.High</td>\n",
       "      <td>13.0</td>\n",
       "      <td>17.0</td>\n",
       "      <td>No</td>\n",
       "      <td>No</td>\n",
       "      <td>Modified</td>\n",
       "    </tr>\n",
       "    <tr>\n",
       "      <th>4</th>\n",
       "      <td>3256f628-e534-4826-9d63-4a8b88782852</td>\n",
       "      <td>660681</td>\n",
       "      <td>Landing Page Submission</td>\n",
       "      <td>Google</td>\n",
       "      <td>No</td>\n",
       "      <td>No</td>\n",
       "      <td>1</td>\n",
       "      <td>2.0</td>\n",
       "      <td>1428</td>\n",
       "      <td>1.0</td>\n",
       "      <td>...</td>\n",
       "      <td>No</td>\n",
       "      <td>Select</td>\n",
       "      <td>Mumbai</td>\n",
       "      <td>02.Medium</td>\n",
       "      <td>01.High</td>\n",
       "      <td>15.0</td>\n",
       "      <td>18.0</td>\n",
       "      <td>No</td>\n",
       "      <td>No</td>\n",
       "      <td>Modified</td>\n",
       "    </tr>\n",
       "  </tbody>\n",
       "</table>\n",
       "<p>5 rows × 37 columns</p>\n",
       "</div>"
      ],
      "text/plain": [
       "                            Prospect ID  Lead Number              Lead Origin  \\\n",
       "0  7927b2df-8bba-4d29-b9a2-b6e0beafe620       660737                      API   \n",
       "1  2a272436-5132-4136-86fa-dcc88c88f482       660728                      API   \n",
       "2  8cc8c611-a219-4f35-ad23-fdfd2656bd8a       660727  Landing Page Submission   \n",
       "3  0cc2df48-7cf4-4e39-9de9-19797f9b38cc       660719  Landing Page Submission   \n",
       "4  3256f628-e534-4826-9d63-4a8b88782852       660681  Landing Page Submission   \n",
       "\n",
       "      Lead Source Do Not Email Do Not Call  Converted  TotalVisits  \\\n",
       "0      Olark Chat           No          No          0          0.0   \n",
       "1  Organic Search           No          No          0          5.0   \n",
       "2  Direct Traffic           No          No          1          2.0   \n",
       "3  Direct Traffic           No          No          0          1.0   \n",
       "4          Google           No          No          1          2.0   \n",
       "\n",
       "   Total Time Spent on Website  Page Views Per Visit  ...  \\\n",
       "0                            0                   0.0  ...   \n",
       "1                          674                   2.5  ...   \n",
       "2                         1532                   2.0  ...   \n",
       "3                          305                   1.0  ...   \n",
       "4                         1428                   1.0  ...   \n",
       "\n",
       "  Get updates on DM Content    Lead Profile    City  \\\n",
       "0                        No          Select  Select   \n",
       "1                        No          Select  Select   \n",
       "2                        No  Potential Lead  Mumbai   \n",
       "3                        No          Select  Mumbai   \n",
       "4                        No          Select  Mumbai   \n",
       "\n",
       "  Asymmetrique Activity Index Asymmetrique Profile Index  \\\n",
       "0                   02.Medium                  02.Medium   \n",
       "1                   02.Medium                  02.Medium   \n",
       "2                   02.Medium                    01.High   \n",
       "3                   02.Medium                    01.High   \n",
       "4                   02.Medium                    01.High   \n",
       "\n",
       "  Asymmetrique Activity Score Asymmetrique Profile Score  \\\n",
       "0                        15.0                       15.0   \n",
       "1                        15.0                       15.0   \n",
       "2                        14.0                       20.0   \n",
       "3                        13.0                       17.0   \n",
       "4                        15.0                       18.0   \n",
       "\n",
       "  I agree to pay the amount through cheque  \\\n",
       "0                                       No   \n",
       "1                                       No   \n",
       "2                                       No   \n",
       "3                                       No   \n",
       "4                                       No   \n",
       "\n",
       "  A free copy of Mastering The Interview Last Notable Activity  \n",
       "0                                     No              Modified  \n",
       "1                                     No          Email Opened  \n",
       "2                                    Yes          Email Opened  \n",
       "3                                     No              Modified  \n",
       "4                                     No              Modified  \n",
       "\n",
       "[5 rows x 37 columns]"
      ]
     },
     "execution_count": 206,
     "metadata": {},
     "output_type": "execute_result"
    }
   ],
   "source": [
    "# Look at the first few entries\n",
    "\n",
    "leads.head()"
   ]
  },
  {
   "cell_type": "code",
   "execution_count": 207,
   "id": "a5c2a584",
   "metadata": {},
   "outputs": [
    {
     "data": {
      "text/plain": [
       "(9240, 37)"
      ]
     },
     "execution_count": 207,
     "metadata": {},
     "output_type": "execute_result"
    }
   ],
   "source": [
    "# Inspect the shape of the dataset\n",
    "\n",
    "leads.shape"
   ]
  },
  {
   "cell_type": "code",
   "execution_count": 208,
   "id": "579dcedd",
   "metadata": {},
   "outputs": [
    {
     "data": {
      "text/plain": [
       "Index(['Prospect ID', 'Lead Number', 'Lead Origin', 'Lead Source',\n",
       "       'Do Not Email', 'Do Not Call', 'Converted', 'TotalVisits',\n",
       "       'Total Time Spent on Website', 'Page Views Per Visit', 'Last Activity',\n",
       "       'Country', 'Specialization', 'How did you hear about X Education',\n",
       "       'What is your current occupation',\n",
       "       'What matters most to you in choosing a course', 'Search', 'Magazine',\n",
       "       'Newspaper Article', 'X Education Forums', 'Newspaper',\n",
       "       'Digital Advertisement', 'Through Recommendations',\n",
       "       'Receive More Updates About Our Courses', 'Tags', 'Lead Quality',\n",
       "       'Update me on Supply Chain Content', 'Get updates on DM Content',\n",
       "       'Lead Profile', 'City', 'Asymmetrique Activity Index',\n",
       "       'Asymmetrique Profile Index', 'Asymmetrique Activity Score',\n",
       "       'Asymmetrique Profile Score',\n",
       "       'I agree to pay the amount through cheque',\n",
       "       'A free copy of Mastering The Interview', 'Last Notable Activity'],\n",
       "      dtype='object')"
      ]
     },
     "execution_count": 208,
     "metadata": {},
     "output_type": "execute_result"
    }
   ],
   "source": [
    "# Inspect the different columsn in the dataset\n",
    "\n",
    "leads.columns"
   ]
  },
  {
   "cell_type": "markdown",
   "id": "6ffd30d6",
   "metadata": {},
   "source": [
    "As you can see, the feature variables are quite intuitive. If you don't understand them completely, please refer to the data dictionary."
   ]
  },
  {
   "cell_type": "code",
   "execution_count": 209,
   "id": "747c1126",
   "metadata": {},
   "outputs": [
    {
     "data": {
      "text/html": [
       "<div>\n",
       "<style scoped>\n",
       "    .dataframe tbody tr th:only-of-type {\n",
       "        vertical-align: middle;\n",
       "    }\n",
       "\n",
       "    .dataframe tbody tr th {\n",
       "        vertical-align: top;\n",
       "    }\n",
       "\n",
       "    .dataframe thead th {\n",
       "        text-align: right;\n",
       "    }\n",
       "</style>\n",
       "<table border=\"1\" class=\"dataframe\">\n",
       "  <thead>\n",
       "    <tr style=\"text-align: right;\">\n",
       "      <th></th>\n",
       "      <th>Lead Number</th>\n",
       "      <th>Converted</th>\n",
       "      <th>TotalVisits</th>\n",
       "      <th>Total Time Spent on Website</th>\n",
       "      <th>Page Views Per Visit</th>\n",
       "      <th>Asymmetrique Activity Score</th>\n",
       "      <th>Asymmetrique Profile Score</th>\n",
       "    </tr>\n",
       "  </thead>\n",
       "  <tbody>\n",
       "    <tr>\n",
       "      <th>count</th>\n",
       "      <td>9240.000000</td>\n",
       "      <td>9240.000000</td>\n",
       "      <td>9103.000000</td>\n",
       "      <td>9240.000000</td>\n",
       "      <td>9103.000000</td>\n",
       "      <td>5022.000000</td>\n",
       "      <td>5022.000000</td>\n",
       "    </tr>\n",
       "    <tr>\n",
       "      <th>mean</th>\n",
       "      <td>617188.435606</td>\n",
       "      <td>0.385390</td>\n",
       "      <td>3.445238</td>\n",
       "      <td>487.698268</td>\n",
       "      <td>2.362820</td>\n",
       "      <td>14.306252</td>\n",
       "      <td>16.344883</td>\n",
       "    </tr>\n",
       "    <tr>\n",
       "      <th>std</th>\n",
       "      <td>23405.995698</td>\n",
       "      <td>0.486714</td>\n",
       "      <td>4.854853</td>\n",
       "      <td>548.021466</td>\n",
       "      <td>2.161418</td>\n",
       "      <td>1.386694</td>\n",
       "      <td>1.811395</td>\n",
       "    </tr>\n",
       "    <tr>\n",
       "      <th>min</th>\n",
       "      <td>579533.000000</td>\n",
       "      <td>0.000000</td>\n",
       "      <td>0.000000</td>\n",
       "      <td>0.000000</td>\n",
       "      <td>0.000000</td>\n",
       "      <td>7.000000</td>\n",
       "      <td>11.000000</td>\n",
       "    </tr>\n",
       "    <tr>\n",
       "      <th>25%</th>\n",
       "      <td>596484.500000</td>\n",
       "      <td>0.000000</td>\n",
       "      <td>1.000000</td>\n",
       "      <td>12.000000</td>\n",
       "      <td>1.000000</td>\n",
       "      <td>14.000000</td>\n",
       "      <td>15.000000</td>\n",
       "    </tr>\n",
       "    <tr>\n",
       "      <th>50%</th>\n",
       "      <td>615479.000000</td>\n",
       "      <td>0.000000</td>\n",
       "      <td>3.000000</td>\n",
       "      <td>248.000000</td>\n",
       "      <td>2.000000</td>\n",
       "      <td>14.000000</td>\n",
       "      <td>16.000000</td>\n",
       "    </tr>\n",
       "    <tr>\n",
       "      <th>75%</th>\n",
       "      <td>637387.250000</td>\n",
       "      <td>1.000000</td>\n",
       "      <td>5.000000</td>\n",
       "      <td>936.000000</td>\n",
       "      <td>3.000000</td>\n",
       "      <td>15.000000</td>\n",
       "      <td>18.000000</td>\n",
       "    </tr>\n",
       "    <tr>\n",
       "      <th>max</th>\n",
       "      <td>660737.000000</td>\n",
       "      <td>1.000000</td>\n",
       "      <td>251.000000</td>\n",
       "      <td>2272.000000</td>\n",
       "      <td>55.000000</td>\n",
       "      <td>18.000000</td>\n",
       "      <td>20.000000</td>\n",
       "    </tr>\n",
       "  </tbody>\n",
       "</table>\n",
       "</div>"
      ],
      "text/plain": [
       "         Lead Number    Converted  TotalVisits  Total Time Spent on Website  \\\n",
       "count    9240.000000  9240.000000  9103.000000                  9240.000000   \n",
       "mean   617188.435606     0.385390     3.445238                   487.698268   \n",
       "std     23405.995698     0.486714     4.854853                   548.021466   \n",
       "min    579533.000000     0.000000     0.000000                     0.000000   \n",
       "25%    596484.500000     0.000000     1.000000                    12.000000   \n",
       "50%    615479.000000     0.000000     3.000000                   248.000000   \n",
       "75%    637387.250000     1.000000     5.000000                   936.000000   \n",
       "max    660737.000000     1.000000   251.000000                  2272.000000   \n",
       "\n",
       "       Page Views Per Visit  Asymmetrique Activity Score  \\\n",
       "count           9103.000000                  5022.000000   \n",
       "mean               2.362820                    14.306252   \n",
       "std                2.161418                     1.386694   \n",
       "min                0.000000                     7.000000   \n",
       "25%                1.000000                    14.000000   \n",
       "50%                2.000000                    14.000000   \n",
       "75%                3.000000                    15.000000   \n",
       "max               55.000000                    18.000000   \n",
       "\n",
       "       Asymmetrique Profile Score  \n",
       "count                 5022.000000  \n",
       "mean                    16.344883  \n",
       "std                      1.811395  \n",
       "min                     11.000000  \n",
       "25%                     15.000000  \n",
       "50%                     16.000000  \n",
       "75%                     18.000000  \n",
       "max                     20.000000  "
      ]
     },
     "execution_count": 209,
     "metadata": {},
     "output_type": "execute_result"
    }
   ],
   "source": [
    "# Check the summary of the dataset\n",
    "\n",
    "leads.describe()"
   ]
  },
  {
   "cell_type": "code",
   "execution_count": 210,
   "id": "d7c7f35d",
   "metadata": {},
   "outputs": [
    {
     "ename": "AttributeError",
     "evalue": "module 'numpy' has no attribute 'object'.\n`np.object` was a deprecated alias for the builtin `object`. To avoid this error in existing code, use `object` by itself. Doing this will not modify any behavior and is safe. \nThe aliases was originally deprecated in NumPy 1.20; for more details and guidance see the original release note at:\n    https://numpy.org/devdocs/release/1.20.0-notes.html#deprecations",
     "output_type": "error",
     "traceback": [
      "\u001b[1;31m---------------------------------------------------------------------------\u001b[0m",
      "\u001b[1;31mAttributeError\u001b[0m                            Traceback (most recent call last)",
      "Cell \u001b[1;32mIn[210], line 1\u001b[0m\n\u001b[1;32m----> 1\u001b[0m leads\u001b[38;5;241m.\u001b[39mdescribe(include\u001b[38;5;241m=\u001b[39mnp\u001b[38;5;241m.\u001b[39mobject)\n",
      "File \u001b[1;32m~\\anaconda3\\Lib\\site-packages\\numpy\\__init__.py:338\u001b[0m, in \u001b[0;36m__getattr__\u001b[1;34m(attr)\u001b[0m\n\u001b[0;32m    333\u001b[0m     warnings\u001b[38;5;241m.\u001b[39mwarn(\n\u001b[0;32m    334\u001b[0m         \u001b[38;5;124mf\u001b[39m\u001b[38;5;124m\"\u001b[39m\u001b[38;5;124mIn the future `np.\u001b[39m\u001b[38;5;132;01m{\u001b[39;00mattr\u001b[38;5;132;01m}\u001b[39;00m\u001b[38;5;124m` will be defined as the \u001b[39m\u001b[38;5;124m\"\u001b[39m\n\u001b[0;32m    335\u001b[0m         \u001b[38;5;124m\"\u001b[39m\u001b[38;5;124mcorresponding NumPy scalar.\u001b[39m\u001b[38;5;124m\"\u001b[39m, \u001b[38;5;167;01mFutureWarning\u001b[39;00m, stacklevel\u001b[38;5;241m=\u001b[39m\u001b[38;5;241m2\u001b[39m)\n\u001b[0;32m    337\u001b[0m \u001b[38;5;28;01mif\u001b[39;00m attr \u001b[38;5;129;01min\u001b[39;00m __former_attrs__:\n\u001b[1;32m--> 338\u001b[0m     \u001b[38;5;28;01mraise\u001b[39;00m \u001b[38;5;167;01mAttributeError\u001b[39;00m(__former_attrs__[attr])\n\u001b[0;32m    340\u001b[0m \u001b[38;5;28;01mif\u001b[39;00m attr \u001b[38;5;241m==\u001b[39m \u001b[38;5;124m'\u001b[39m\u001b[38;5;124mtesting\u001b[39m\u001b[38;5;124m'\u001b[39m:\n\u001b[0;32m    341\u001b[0m     \u001b[38;5;28;01mimport\u001b[39;00m \u001b[38;5;21;01mnumpy\u001b[39;00m\u001b[38;5;21;01m.\u001b[39;00m\u001b[38;5;21;01mtesting\u001b[39;00m \u001b[38;5;28;01mas\u001b[39;00m \u001b[38;5;21;01mtesting\u001b[39;00m\n",
      "\u001b[1;31mAttributeError\u001b[0m: module 'numpy' has no attribute 'object'.\n`np.object` was a deprecated alias for the builtin `object`. To avoid this error in existing code, use `object` by itself. Doing this will not modify any behavior and is safe. \nThe aliases was originally deprecated in NumPy 1.20; for more details and guidance see the original release note at:\n    https://numpy.org/devdocs/release/1.20.0-notes.html#deprecations"
     ]
    }
   ],
   "source": [
    "leads.describe(include=np.object)"
   ]
  },
  {
   "cell_type": "markdown",
   "id": "0b9a084b",
   "metadata": {},
   "source": [
    "Looks like there are quite a few categorical variables present in this dataset for which we will need to create dummy variables. Also, there are a lot of null values present as well, so we will need to treat them accordingly."
   ]
  },
  {
   "cell_type": "markdown",
   "id": "f82f9391",
   "metadata": {},
   "source": [
    "**General Guideline for Treating Missing Value**\n",
    "\n",
    "- Identify if Missing are Numerical or Categorical values.\n",
    "- Check for % of missing value of a column, if more than 30% of data missing drop the column.\n",
    "\n",
    "**For Numerical Values**:\n",
    "\n",
    "    a. Impute with Mean, Median or constant values.\n",
    "    b. Logical condition Imputation.\n",
    "    c. Interpolation and Regression Approach\n",
    "\n",
    "**For Categorical Values**\n",
    "\n",
    "    a. Impute with Mode values\n",
    "    b. Logical condition Imputation."
   ]
  },
  {
   "cell_type": "markdown",
   "id": "9a420e33",
   "metadata": {},
   "source": [
    "# Assignment is to write down Strategy for:\n",
    "\n",
    "1.   Handling Missing Values\n",
    "2.   Handling Categorical Values\n",
    "\n"
   ]
  },
  {
   "cell_type": "markdown",
   "id": "94661156",
   "metadata": {},
   "source": [
    "## Step 1: Data Cleaning and Preparation"
   ]
  },
  {
   "cell_type": "code",
   "execution_count": 211,
   "id": "6968429e",
   "metadata": {},
   "outputs": [
    {
     "name": "stdout",
     "output_type": "stream",
     "text": [
      "<class 'pandas.core.frame.DataFrame'>\n",
      "RangeIndex: 9240 entries, 0 to 9239\n",
      "Data columns (total 37 columns):\n",
      " #   Column                                         Non-Null Count  Dtype  \n",
      "---  ------                                         --------------  -----  \n",
      " 0   Prospect ID                                    9240 non-null   object \n",
      " 1   Lead Number                                    9240 non-null   int64  \n",
      " 2   Lead Origin                                    9240 non-null   object \n",
      " 3   Lead Source                                    9204 non-null   object \n",
      " 4   Do Not Email                                   9240 non-null   object \n",
      " 5   Do Not Call                                    9240 non-null   object \n",
      " 6   Converted                                      9240 non-null   int64  \n",
      " 7   TotalVisits                                    9103 non-null   float64\n",
      " 8   Total Time Spent on Website                    9240 non-null   int64  \n",
      " 9   Page Views Per Visit                           9103 non-null   float64\n",
      " 10  Last Activity                                  9137 non-null   object \n",
      " 11  Country                                        6779 non-null   object \n",
      " 12  Specialization                                 7802 non-null   object \n",
      " 13  How did you hear about X Education             7033 non-null   object \n",
      " 14  What is your current occupation                6550 non-null   object \n",
      " 15  What matters most to you in choosing a course  6531 non-null   object \n",
      " 16  Search                                         9240 non-null   object \n",
      " 17  Magazine                                       9240 non-null   object \n",
      " 18  Newspaper Article                              9240 non-null   object \n",
      " 19  X Education Forums                             9240 non-null   object \n",
      " 20  Newspaper                                      9240 non-null   object \n",
      " 21  Digital Advertisement                          9240 non-null   object \n",
      " 22  Through Recommendations                        9240 non-null   object \n",
      " 23  Receive More Updates About Our Courses         9240 non-null   object \n",
      " 24  Tags                                           5887 non-null   object \n",
      " 25  Lead Quality                                   4473 non-null   object \n",
      " 26  Update me on Supply Chain Content              9240 non-null   object \n",
      " 27  Get updates on DM Content                      9240 non-null   object \n",
      " 28  Lead Profile                                   6531 non-null   object \n",
      " 29  City                                           7820 non-null   object \n",
      " 30  Asymmetrique Activity Index                    5022 non-null   object \n",
      " 31  Asymmetrique Profile Index                     5022 non-null   object \n",
      " 32  Asymmetrique Activity Score                    5022 non-null   float64\n",
      " 33  Asymmetrique Profile Score                     5022 non-null   float64\n",
      " 34  I agree to pay the amount through cheque       9240 non-null   object \n",
      " 35  A free copy of Mastering The Interview         9240 non-null   object \n",
      " 36  Last Notable Activity                          9240 non-null   object \n",
      "dtypes: float64(4), int64(3), object(30)\n",
      "memory usage: 2.6+ MB\n"
     ]
    }
   ],
   "source": [
    "# Check the info to see the types of the feature variables and the null values present\n",
    "\n",
    "leads.info()"
   ]
  },
  {
   "cell_type": "code",
   "execution_count": 212,
   "id": "216b901a",
   "metadata": {},
   "outputs": [
    {
     "data": {
      "text/plain": [
       "Prospect ID                                         0\n",
       "Lead Number                                         0\n",
       "Lead Origin                                         0\n",
       "Lead Source                                        36\n",
       "Do Not Email                                        0\n",
       "Do Not Call                                         0\n",
       "Converted                                           0\n",
       "TotalVisits                                       137\n",
       "Total Time Spent on Website                         0\n",
       "Page Views Per Visit                              137\n",
       "Last Activity                                     103\n",
       "Country                                          2461\n",
       "Specialization                                   1438\n",
       "How did you hear about X Education               2207\n",
       "What is your current occupation                  2690\n",
       "What matters most to you in choosing a course    2709\n",
       "Search                                              0\n",
       "Magazine                                            0\n",
       "Newspaper Article                                   0\n",
       "X Education Forums                                  0\n",
       "Newspaper                                           0\n",
       "Digital Advertisement                               0\n",
       "Through Recommendations                             0\n",
       "Receive More Updates About Our Courses              0\n",
       "Tags                                             3353\n",
       "Lead Quality                                     4767\n",
       "Update me on Supply Chain Content                   0\n",
       "Get updates on DM Content                           0\n",
       "Lead Profile                                     2709\n",
       "City                                             1420\n",
       "Asymmetrique Activity Index                      4218\n",
       "Asymmetrique Profile Index                       4218\n",
       "Asymmetrique Activity Score                      4218\n",
       "Asymmetrique Profile Score                       4218\n",
       "I agree to pay the amount through cheque            0\n",
       "A free copy of Mastering The Interview              0\n",
       "Last Notable Activity                               0\n",
       "dtype: int64"
      ]
     },
     "execution_count": 212,
     "metadata": {},
     "output_type": "execute_result"
    }
   ],
   "source": [
    "# Check the number of missing values in each column\n",
    "\n",
    "leads.isnull().sum()"
   ]
  },
  {
   "cell_type": "code",
   "execution_count": 213,
   "id": "599d8600",
   "metadata": {},
   "outputs": [
    {
     "data": {
      "text/plain": [
       "Prospect ID                                       0.000000\n",
       "Lead Number                                       0.000000\n",
       "Lead Origin                                       0.000000\n",
       "Lead Source                                       0.389610\n",
       "Do Not Email                                      0.000000\n",
       "Do Not Call                                       0.000000\n",
       "Converted                                         0.000000\n",
       "TotalVisits                                       1.482684\n",
       "Total Time Spent on Website                       0.000000\n",
       "Page Views Per Visit                              1.482684\n",
       "Last Activity                                     1.114719\n",
       "Country                                          26.634199\n",
       "Specialization                                   15.562771\n",
       "How did you hear about X Education               23.885281\n",
       "What is your current occupation                  29.112554\n",
       "What matters most to you in choosing a course    29.318182\n",
       "Search                                            0.000000\n",
       "Magazine                                          0.000000\n",
       "Newspaper Article                                 0.000000\n",
       "X Education Forums                                0.000000\n",
       "Newspaper                                         0.000000\n",
       "Digital Advertisement                             0.000000\n",
       "Through Recommendations                           0.000000\n",
       "Receive More Updates About Our Courses            0.000000\n",
       "Tags                                             36.287879\n",
       "Lead Quality                                     51.590909\n",
       "Update me on Supply Chain Content                 0.000000\n",
       "Get updates on DM Content                         0.000000\n",
       "Lead Profile                                     29.318182\n",
       "City                                             15.367965\n",
       "Asymmetrique Activity Index                      45.649351\n",
       "Asymmetrique Profile Index                       45.649351\n",
       "Asymmetrique Activity Score                      45.649351\n",
       "Asymmetrique Profile Score                       45.649351\n",
       "I agree to pay the amount through cheque          0.000000\n",
       "A free copy of Mastering The Interview            0.000000\n",
       "Last Notable Activity                             0.000000\n",
       "dtype: float64"
      ]
     },
     "execution_count": 213,
     "metadata": {},
     "output_type": "execute_result"
    }
   ],
   "source": [
    "# Check the number of missing values in each column\n",
    "\n",
    "leads.isnull().sum()/len(leads)*100"
   ]
  },
  {
   "cell_type": "markdown",
   "id": "66a06f5a",
   "metadata": {},
   "source": []
  },
  {
   "cell_type": "markdown",
   "id": "dfa32c01",
   "metadata": {},
   "source": [
    "As you can see there are a lot of columnw which have high number of missing values. Clearly, these columns are not useful. Since, there are 9000 datapoints in our dataframe, let's eliminate the columns having greater than 3000 missing values as they are of no use to us."
   ]
  },
  {
   "cell_type": "code",
   "execution_count": 214,
   "id": "b0bca6c6",
   "metadata": {},
   "outputs": [],
   "source": [
    "# Drop all the columns in which greater than 3000 missing values are present\n",
    "\n",
    "for col in leads.columns:\n",
    "    if leads[col].isnull().sum() > 3000:\n",
    "        leads.drop(col, axis = 1, inplace=True)"
   ]
  },
  {
   "cell_type": "code",
   "execution_count": 215,
   "id": "742b54ab",
   "metadata": {},
   "outputs": [],
   "source": [
    "def drop_missing_columns(df,threshold):\n",
    "    '''\n",
    "    This function drop the columns from dataframe having missing values greater than a certain\n",
    "    threshold value.\n",
    "    Input:\n",
    "      df : Dataframe from which you want to drop columns.\n",
    "      threshold : Threshold integer value beyond which we will drop columns.\n",
    "    Return: Dataframe with missing columns removed.\n",
    "    '''\n",
    "    for col in df.columns:\n",
    "      if df[col].isnull().sum() > threshold:\n",
    "          df.drop(col, axis = 1, inplace=True)\n",
    "    return df"
   ]
  },
  {
   "cell_type": "code",
   "execution_count": 216,
   "id": "b5b9c762",
   "metadata": {},
   "outputs": [
    {
     "name": "stdout",
     "output_type": "stream",
     "text": [
      "data shape before dropping columns (9240, 37)\n",
      "data shape after dropping columns (9240, 31)\n"
     ]
    }
   ],
   "source": [
    "new_df = pd.read_csv('Leads.csv')\n",
    "print(f\"data shape before dropping columns {new_df.shape}\")\n",
    "drop_missing_columns(new_df,3000)\n",
    "print(f\"data shape after dropping columns {new_df.shape}\")"
   ]
  },
  {
   "cell_type": "code",
   "execution_count": 217,
   "id": "36066a42",
   "metadata": {},
   "outputs": [
    {
     "data": {
      "text/plain": [
       "(9240, 31)"
      ]
     },
     "execution_count": 217,
     "metadata": {},
     "output_type": "execute_result"
    }
   ],
   "source": [
    "leads.shape"
   ]
  },
  {
   "cell_type": "code",
   "execution_count": 218,
   "id": "602e0eaa",
   "metadata": {},
   "outputs": [
    {
     "data": {
      "text/plain": [
       "Prospect ID                                         0\n",
       "Lead Number                                         0\n",
       "Lead Origin                                         0\n",
       "Lead Source                                        36\n",
       "Do Not Email                                        0\n",
       "Do Not Call                                         0\n",
       "Converted                                           0\n",
       "TotalVisits                                       137\n",
       "Total Time Spent on Website                         0\n",
       "Page Views Per Visit                              137\n",
       "Last Activity                                     103\n",
       "Country                                          2461\n",
       "Specialization                                   1438\n",
       "How did you hear about X Education               2207\n",
       "What is your current occupation                  2690\n",
       "What matters most to you in choosing a course    2709\n",
       "Search                                              0\n",
       "Magazine                                            0\n",
       "Newspaper Article                                   0\n",
       "X Education Forums                                  0\n",
       "Newspaper                                           0\n",
       "Digital Advertisement                               0\n",
       "Through Recommendations                             0\n",
       "Receive More Updates About Our Courses              0\n",
       "Update me on Supply Chain Content                   0\n",
       "Get updates on DM Content                           0\n",
       "Lead Profile                                     2709\n",
       "City                                             1420\n",
       "I agree to pay the amount through cheque            0\n",
       "A free copy of Mastering The Interview              0\n",
       "Last Notable Activity                               0\n",
       "dtype: int64"
      ]
     },
     "execution_count": 218,
     "metadata": {},
     "output_type": "execute_result"
    }
   ],
   "source": [
    "# Check the number of null values again\n",
    "\n",
    "leads.isnull().sum()"
   ]
  },
  {
   "cell_type": "markdown",
   "id": "3d01924c",
   "metadata": {},
   "source": [
    "**City Column**"
   ]
  },
  {
   "cell_type": "markdown",
   "id": "650430e6",
   "metadata": {},
   "source": [
    "As you might be able to interpret, the variable `City` won't be of any use in our analysis. So it's best that we drop it."
   ]
  },
  {
   "cell_type": "code",
   "execution_count": 219,
   "id": "65fbf80c",
   "metadata": {},
   "outputs": [
    {
     "data": {
      "text/plain": [
       "array(['Select', 'Mumbai', nan, 'Thane & Outskirts', 'Other Metro Cities',\n",
       "       'Other Cities', 'Other Cities of Maharashtra', 'Tier II Cities'],\n",
       "      dtype=object)"
      ]
     },
     "execution_count": 219,
     "metadata": {},
     "output_type": "execute_result"
    }
   ],
   "source": [
    "leads['City'].unique()"
   ]
  },
  {
   "cell_type": "code",
   "execution_count": 220,
   "id": "1efb91fd",
   "metadata": {},
   "outputs": [],
   "source": [
    "city_mapper = {\"Mumbai\" : \"Maharastra\",\n",
    "               \"Thane & Outskirts\" :\"Maharastra\",\n",
    "               \"Other Cities of Maharashtra\" : \"Maharastra\",\n",
    "               \"Select\" : \"unknown\",\n",
    "               np.nan : \"unknown\",\n",
    "               \"Other Metro Cities\" : \"Others\",\n",
    "               \"Other Cities\" : \"Others\",\n",
    "               \"Tier II Cities\" : \"Others\"\n",
    "}"
   ]
  },
  {
   "cell_type": "code",
   "execution_count": 221,
   "id": "b5a5c0bf",
   "metadata": {},
   "outputs": [],
   "source": [
    "leads['State'] = leads['City'].replace(city_mapper,regex=True)"
   ]
  },
  {
   "cell_type": "code",
   "execution_count": 222,
   "id": "927474df",
   "metadata": {},
   "outputs": [
    {
     "data": {
      "text/plain": [
       "array(['unknown', 'Maharastra', 'Others'], dtype=object)"
      ]
     },
     "execution_count": 222,
     "metadata": {},
     "output_type": "execute_result"
    }
   ],
   "source": [
    "leads['State'].unique()"
   ]
  },
  {
   "cell_type": "code",
   "execution_count": 223,
   "id": "4213958d",
   "metadata": {},
   "outputs": [],
   "source": [
    "leads.drop(['City'], axis = 1, inplace = True)"
   ]
  },
  {
   "cell_type": "code",
   "execution_count": 224,
   "id": "0c32724b",
   "metadata": {},
   "outputs": [
    {
     "data": {
      "text/plain": [
       "0"
      ]
     },
     "execution_count": 224,
     "metadata": {},
     "output_type": "execute_result"
    }
   ],
   "source": [
    "leads['State'].isnull().sum()"
   ]
  },
  {
   "cell_type": "markdown",
   "id": "579a921b",
   "metadata": {},
   "source": [
    "**Country Column**"
   ]
  },
  {
   "cell_type": "code",
   "execution_count": 225,
   "id": "4f6329a4",
   "metadata": {},
   "outputs": [
    {
     "data": {
      "text/plain": [
       "Country\n",
       "India                   95.766337\n",
       "United States            1.017849\n",
       "United Arab Emirates     0.781826\n",
       "Singapore                0.354035\n",
       "Saudi Arabia             0.309780\n",
       "United Kingdom           0.221272\n",
       "Australia                0.191769\n",
       "Qatar                    0.147514\n",
       "Hong Kong                0.103260\n",
       "Bahrain                  0.103260\n",
       "Oman                     0.088509\n",
       "France                   0.088509\n",
       "unknown                  0.073757\n",
       "South Africa             0.059006\n",
       "Nigeria                  0.059006\n",
       "Germany                  0.059006\n",
       "Kuwait                   0.059006\n",
       "Canada                   0.059006\n",
       "Sweden                   0.044254\n",
       "China                    0.029503\n",
       "Asia/Pacific Region      0.029503\n",
       "Uganda                   0.029503\n",
       "Bangladesh               0.029503\n",
       "Italy                    0.029503\n",
       "Belgium                  0.029503\n",
       "Netherlands              0.029503\n",
       "Ghana                    0.029503\n",
       "Philippines              0.029503\n",
       "Russia                   0.014751\n",
       "Switzerland              0.014751\n",
       "Vietnam                  0.014751\n",
       "Denmark                  0.014751\n",
       "Tanzania                 0.014751\n",
       "Liberia                  0.014751\n",
       "Malaysia                 0.014751\n",
       "Kenya                    0.014751\n",
       "Sri Lanka                0.014751\n",
       "Indonesia                0.014751\n",
       "Name: proportion, dtype: float64"
      ]
     },
     "execution_count": 225,
     "metadata": {},
     "output_type": "execute_result"
    }
   ],
   "source": [
    "leads['Country'].value_counts(normalize=True)*100"
   ]
  },
  {
   "cell_type": "code",
   "execution_count": 226,
   "id": "ca10cc2f",
   "metadata": {},
   "outputs": [],
   "source": [
    "leads['Country_modified'] = leads['Country'].apply(lambda x: \"Others\"  if x != \"India\" else \"India\")"
   ]
  },
  {
   "cell_type": "code",
   "execution_count": 227,
   "id": "5bfa75c7",
   "metadata": {},
   "outputs": [
    {
     "data": {
      "text/plain": [
       "array(['Others', 'India'], dtype=object)"
      ]
     },
     "execution_count": 227,
     "metadata": {},
     "output_type": "execute_result"
    }
   ],
   "source": [
    "leads['Country_modified'].unique()"
   ]
  },
  {
   "cell_type": "code",
   "execution_count": 228,
   "id": "b49f0b29",
   "metadata": {},
   "outputs": [],
   "source": [
    "# Same goes for the variable 'Country'\n",
    "\n",
    "leads.drop(['Country'], axis = 1, inplace = True)"
   ]
  },
  {
   "cell_type": "code",
   "execution_count": 229,
   "id": "8a26e94b",
   "metadata": {},
   "outputs": [
    {
     "data": {
      "text/plain": [
       "Prospect ID                                       0.00\n",
       "Lead Number                                       0.00\n",
       "Lead Origin                                       0.00\n",
       "Lead Source                                       0.39\n",
       "Do Not Email                                      0.00\n",
       "Do Not Call                                       0.00\n",
       "Converted                                         0.00\n",
       "TotalVisits                                       1.48\n",
       "Total Time Spent on Website                       0.00\n",
       "Page Views Per Visit                              1.48\n",
       "Last Activity                                     1.11\n",
       "Specialization                                   15.56\n",
       "How did you hear about X Education               23.89\n",
       "What is your current occupation                  29.11\n",
       "What matters most to you in choosing a course    29.32\n",
       "Search                                            0.00\n",
       "Magazine                                          0.00\n",
       "Newspaper Article                                 0.00\n",
       "X Education Forums                                0.00\n",
       "Newspaper                                         0.00\n",
       "Digital Advertisement                             0.00\n",
       "Through Recommendations                           0.00\n",
       "Receive More Updates About Our Courses            0.00\n",
       "Update me on Supply Chain Content                 0.00\n",
       "Get updates on DM Content                         0.00\n",
       "Lead Profile                                     29.32\n",
       "I agree to pay the amount through cheque          0.00\n",
       "A free copy of Mastering The Interview            0.00\n",
       "Last Notable Activity                             0.00\n",
       "State                                             0.00\n",
       "Country_modified                                  0.00\n",
       "dtype: float64"
      ]
     },
     "execution_count": 229,
     "metadata": {},
     "output_type": "execute_result"
    }
   ],
   "source": [
    "# Let's now check the percentage of missing values in each column\n",
    "\n",
    "round(100*(leads.isnull().sum()/len(leads.index)), 2)"
   ]
  },
  {
   "cell_type": "markdown",
   "id": "2ce0d941",
   "metadata": {},
   "source": [
    "Now recall that there are a few columns in which there is a level called 'Select' which basically means that the student had not selected the option for that particular column which is why it shows 'Select'. These values are as good as missing values and hence we need to identify the value counts of the level 'Select' in all the columns that it is present."
   ]
  },
  {
   "cell_type": "code",
   "execution_count": 230,
   "id": "6039ad84",
   "metadata": {},
   "outputs": [
    {
     "name": "stdout",
     "output_type": "stream",
     "text": [
      "Prospect ID\n",
      "000104b9-23e4-4ddc-8caa-8629fe8ad7f4    1\n",
      "a7a319ea-b6ae-4c6b-afc5-183b933d10b5    1\n",
      "aa27a0af-eeab-4007-a770-fa8a93fa53c8    1\n",
      "aa30ebb2-8476-41ce-9258-37cc025110d3    1\n",
      "aa405742-17ac-4c65-b19e-ab91c241cc53    1\n",
      "                                       ..\n",
      "539eb309-df36-4a89-ac58-6d3651393910    1\n",
      "539ffa32-1be7-4fe1-b04c-faf1bab763cf    1\n",
      "53aabd84-5dcc-4299-bbe3-62f3764b07b1    1\n",
      "53ac14bd-2bb2-4315-a21c-94562d1b6b2d    1\n",
      "fffb0e5e-9f92-4017-9f42-781a69da4154    1\n",
      "Name: count, Length: 9240, dtype: int64\n",
      "___________________________________________________\n",
      "Lead Number\n",
      "579533    1\n",
      "629593    1\n",
      "630390    1\n",
      "630403    1\n",
      "630405    1\n",
      "         ..\n",
      "602534    1\n",
      "602540    1\n",
      "602557    1\n",
      "602561    1\n",
      "660737    1\n",
      "Name: count, Length: 9240, dtype: int64\n",
      "___________________________________________________\n",
      "Lead Origin\n",
      "Landing Page Submission    4886\n",
      "API                        3580\n",
      "Lead Add Form               718\n",
      "Lead Import                  55\n",
      "Quick Add Form                1\n",
      "Name: count, dtype: int64\n",
      "___________________________________________________\n",
      "Lead Source\n",
      "Google               2868\n",
      "Direct Traffic       2543\n",
      "Olark Chat           1755\n",
      "Organic Search       1154\n",
      "Reference             534\n",
      "Welingak Website      142\n",
      "Referral Sites        125\n",
      "Facebook               55\n",
      "bing                    6\n",
      "google                  5\n",
      "Click2call              4\n",
      "Press_Release           2\n",
      "Social Media            2\n",
      "Live Chat               2\n",
      "WeLearn                 1\n",
      "Pay per Click Ads       1\n",
      "NC_EDM                  1\n",
      "blog                    1\n",
      "testone                 1\n",
      "welearnblog_Home        1\n",
      "youtubechannel          1\n",
      "Name: count, dtype: int64\n",
      "___________________________________________________\n",
      "Do Not Email\n",
      "No     8506\n",
      "Yes     734\n",
      "Name: count, dtype: int64\n",
      "___________________________________________________\n",
      "Do Not Call\n",
      "No     9238\n",
      "Yes       2\n",
      "Name: count, dtype: int64\n",
      "___________________________________________________\n",
      "Converted\n",
      "0    5679\n",
      "1    3561\n",
      "Name: count, dtype: int64\n",
      "___________________________________________________\n",
      "TotalVisits\n",
      "0.0      2189\n",
      "2.0      1680\n",
      "3.0      1306\n",
      "4.0      1120\n",
      "5.0       783\n",
      "6.0       466\n",
      "1.0       395\n",
      "7.0       309\n",
      "8.0       224\n",
      "9.0       164\n",
      "10.0      114\n",
      "11.0       86\n",
      "13.0       48\n",
      "12.0       45\n",
      "14.0       36\n",
      "16.0       21\n",
      "15.0       18\n",
      "17.0       16\n",
      "18.0       15\n",
      "20.0       12\n",
      "19.0        9\n",
      "23.0        6\n",
      "21.0        6\n",
      "24.0        5\n",
      "25.0        5\n",
      "27.0        5\n",
      "22.0        3\n",
      "26.0        2\n",
      "28.0        2\n",
      "29.0        2\n",
      "54.0        1\n",
      "141.0       1\n",
      "115.0       1\n",
      "74.0        1\n",
      "55.0        1\n",
      "30.0        1\n",
      "43.0        1\n",
      "42.0        1\n",
      "41.0        1\n",
      "32.0        1\n",
      "251.0       1\n",
      "Name: count, dtype: int64\n",
      "___________________________________________________\n",
      "Total Time Spent on Website\n",
      "0       2193\n",
      "60        19\n",
      "75        18\n",
      "74        18\n",
      "127       18\n",
      "        ... \n",
      "1091       1\n",
      "1088       1\n",
      "1085       1\n",
      "1084       1\n",
      "2272       1\n",
      "Name: count, Length: 1731, dtype: int64\n",
      "___________________________________________________\n",
      "Page Views Per Visit\n",
      "0.0     2189\n",
      "2.0     1795\n",
      "3.0     1196\n",
      "4.0      896\n",
      "1.0      651\n",
      "        ... \n",
      "3.57       1\n",
      "3.8        1\n",
      "3.82       1\n",
      "3.83       1\n",
      "55.0       1\n",
      "Name: count, Length: 114, dtype: int64\n",
      "___________________________________________________\n",
      "Last Activity\n",
      "Email Opened                    3437\n",
      "SMS Sent                        2745\n",
      "Olark Chat Conversation          973\n",
      "Page Visited on Website          640\n",
      "Converted to Lead                428\n",
      "Email Bounced                    326\n",
      "Email Link Clicked               267\n",
      "Form Submitted on Website        116\n",
      "Unreachable                       93\n",
      "Unsubscribed                      61\n",
      "Had a Phone Conversation          30\n",
      "Approached upfront                 9\n",
      "View in browser link Clicked       6\n",
      "Email Received                     2\n",
      "Email Marked Spam                  2\n",
      "Resubscribed to emails             1\n",
      "Visited Booth in Tradeshow         1\n",
      "Name: count, dtype: int64\n",
      "___________________________________________________\n",
      "Specialization\n",
      "Select                               1942\n",
      "Finance Management                    976\n",
      "Human Resource Management             848\n",
      "Marketing Management                  838\n",
      "Operations Management                 503\n",
      "Business Administration               403\n",
      "IT Projects Management                366\n",
      "Supply Chain Management               349\n",
      "Banking, Investment And Insurance     338\n",
      "Media and Advertising                 203\n",
      "Travel and Tourism                    203\n",
      "International Business                178\n",
      "Healthcare Management                 159\n",
      "Hospitality Management                114\n",
      "E-COMMERCE                            112\n",
      "Retail Management                     100\n",
      "Rural and Agribusiness                 73\n",
      "E-Business                             57\n",
      "Services Excellence                    40\n",
      "Name: count, dtype: int64\n",
      "___________________________________________________\n",
      "How did you hear about X Education\n",
      "Select                   5043\n",
      "Online Search             808\n",
      "Word Of Mouth             348\n",
      "Student of SomeSchool     310\n",
      "Other                     186\n",
      "Multiple Sources          152\n",
      "Advertisements             70\n",
      "Social Media               67\n",
      "Email                      26\n",
      "SMS                        23\n",
      "Name: count, dtype: int64\n",
      "___________________________________________________\n",
      "What is your current occupation\n",
      "Unemployed              5600\n",
      "Working Professional     706\n",
      "Student                  210\n",
      "Other                     16\n",
      "Housewife                 10\n",
      "Businessman                8\n",
      "Name: count, dtype: int64\n",
      "___________________________________________________\n",
      "What matters most to you in choosing a course\n",
      "Better Career Prospects      6528\n",
      "Flexibility & Convenience       2\n",
      "Other                           1\n",
      "Name: count, dtype: int64\n",
      "___________________________________________________\n",
      "Search\n",
      "No     9226\n",
      "Yes      14\n",
      "Name: count, dtype: int64\n",
      "___________________________________________________\n",
      "Magazine\n",
      "No    9240\n",
      "Name: count, dtype: int64\n",
      "___________________________________________________\n",
      "Newspaper Article\n",
      "No     9238\n",
      "Yes       2\n",
      "Name: count, dtype: int64\n",
      "___________________________________________________\n",
      "X Education Forums\n",
      "No     9239\n",
      "Yes       1\n",
      "Name: count, dtype: int64\n",
      "___________________________________________________\n",
      "Newspaper\n",
      "No     9239\n",
      "Yes       1\n",
      "Name: count, dtype: int64\n",
      "___________________________________________________\n",
      "Digital Advertisement\n",
      "No     9236\n",
      "Yes       4\n",
      "Name: count, dtype: int64\n",
      "___________________________________________________\n",
      "Through Recommendations\n",
      "No     9233\n",
      "Yes       7\n",
      "Name: count, dtype: int64\n",
      "___________________________________________________\n",
      "Receive More Updates About Our Courses\n",
      "No    9240\n",
      "Name: count, dtype: int64\n",
      "___________________________________________________\n",
      "Update me on Supply Chain Content\n",
      "No    9240\n",
      "Name: count, dtype: int64\n",
      "___________________________________________________\n",
      "Get updates on DM Content\n",
      "No    9240\n",
      "Name: count, dtype: int64\n",
      "___________________________________________________\n",
      "Lead Profile\n",
      "Select                         4146\n",
      "Potential Lead                 1613\n",
      "Other Leads                     487\n",
      "Student of SomeSchool           241\n",
      "Lateral Student                  24\n",
      "Dual Specialization Student      20\n",
      "Name: count, dtype: int64\n",
      "___________________________________________________\n",
      "I agree to pay the amount through cheque\n",
      "No    9240\n",
      "Name: count, dtype: int64\n",
      "___________________________________________________\n",
      "A free copy of Mastering The Interview\n",
      "No     6352\n",
      "Yes    2888\n",
      "Name: count, dtype: int64\n",
      "___________________________________________________\n",
      "Last Notable Activity\n",
      "Modified                        3407\n",
      "Email Opened                    2827\n",
      "SMS Sent                        2172\n",
      "Page Visited on Website          318\n",
      "Olark Chat Conversation          183\n",
      "Email Link Clicked               173\n",
      "Email Bounced                     60\n",
      "Unsubscribed                      47\n",
      "Unreachable                       32\n",
      "Had a Phone Conversation          14\n",
      "Email Marked Spam                  2\n",
      "Approached upfront                 1\n",
      "Email Received                     1\n",
      "Form Submitted on Website          1\n",
      "Resubscribed to emails             1\n",
      "View in browser link Clicked       1\n",
      "Name: count, dtype: int64\n",
      "___________________________________________________\n",
      "State\n",
      "Maharastra    4431\n",
      "unknown       3669\n",
      "Others        1140\n",
      "Name: count, dtype: int64\n",
      "___________________________________________________\n",
      "Country_modified\n",
      "India     6492\n",
      "Others    2748\n",
      "Name: count, dtype: int64\n",
      "___________________________________________________\n"
     ]
    }
   ],
   "source": [
    "# Get the value counts of all the columns\n",
    "\n",
    "for column in leads:\n",
    "    print(leads[column].astype('category').value_counts())\n",
    "    print('___________________________________________________')"
   ]
  },
  {
   "cell_type": "markdown",
   "id": "a2a59d8f",
   "metadata": {},
   "source": [
    "The following three columns now have the level 'Select'. Let's check them once again."
   ]
  },
  {
   "cell_type": "markdown",
   "id": "773eae4d",
   "metadata": {},
   "source": [
    "**Lead Profile**"
   ]
  },
  {
   "cell_type": "code",
   "execution_count": 231,
   "id": "7178f4e6",
   "metadata": {},
   "outputs": [
    {
     "data": {
      "text/plain": [
       "Lead Profile\n",
       "Select                         4146\n",
       "Potential Lead                 1613\n",
       "Other Leads                     487\n",
       "Student of SomeSchool           241\n",
       "Lateral Student                  24\n",
       "Dual Specialization Student      20\n",
       "Name: count, dtype: int64"
      ]
     },
     "execution_count": 231,
     "metadata": {},
     "output_type": "execute_result"
    }
   ],
   "source": [
    "leads['Lead Profile'].astype('category').value_counts()"
   ]
  },
  {
   "cell_type": "markdown",
   "id": "0e1dab89",
   "metadata": {},
   "source": [
    "**How did you hear about X Education**"
   ]
  },
  {
   "cell_type": "code",
   "execution_count": 232,
   "id": "fbd8984b",
   "metadata": {},
   "outputs": [
    {
     "data": {
      "text/plain": [
       "How did you hear about X Education\n",
       "Select                   5043\n",
       "Online Search             808\n",
       "Word Of Mouth             348\n",
       "Student of SomeSchool     310\n",
       "Other                     186\n",
       "Multiple Sources          152\n",
       "Advertisements             70\n",
       "Social Media               67\n",
       "Email                      26\n",
       "SMS                        23\n",
       "Name: count, dtype: int64"
      ]
     },
     "execution_count": 232,
     "metadata": {},
     "output_type": "execute_result"
    }
   ],
   "source": [
    "leads['How did you hear about X Education'].value_counts()"
   ]
  },
  {
   "cell_type": "markdown",
   "id": "cfbbd740",
   "metadata": {},
   "source": [
    "**Specialization**"
   ]
  },
  {
   "cell_type": "code",
   "execution_count": 233,
   "id": "5579ced1",
   "metadata": {},
   "outputs": [
    {
     "data": {
      "text/plain": [
       "Specialization\n",
       "Select                               1942\n",
       "Finance Management                    976\n",
       "Human Resource Management             848\n",
       "Marketing Management                  838\n",
       "Operations Management                 503\n",
       "Business Administration               403\n",
       "IT Projects Management                366\n",
       "Supply Chain Management               349\n",
       "Banking, Investment And Insurance     338\n",
       "Travel and Tourism                    203\n",
       "Media and Advertising                 203\n",
       "International Business                178\n",
       "Healthcare Management                 159\n",
       "Hospitality Management                114\n",
       "E-COMMERCE                            112\n",
       "Retail Management                     100\n",
       "Rural and Agribusiness                 73\n",
       "E-Business                             57\n",
       "Services Excellence                    40\n",
       "Name: count, dtype: int64"
      ]
     },
     "execution_count": 233,
     "metadata": {},
     "output_type": "execute_result"
    }
   ],
   "source": [
    "leads['Specialization'].value_counts()"
   ]
  },
  {
   "cell_type": "markdown",
   "id": "a837c5f6",
   "metadata": {},
   "source": [
    "Clearly the levels `Lead Profile` and `How did you hear about X Education` have a lot of rows which have the value `Select` which is of no use to the analysis so it's best that we drop them."
   ]
  },
  {
   "cell_type": "code",
   "execution_count": 234,
   "id": "b6e838aa",
   "metadata": {},
   "outputs": [],
   "source": [
    "leads.drop(['Lead Profile', 'How did you hear about X Education'], axis = 1, inplace = True)"
   ]
  },
  {
   "cell_type": "markdown",
   "id": "fd248ba0",
   "metadata": {},
   "source": [
    "Also notice that when you got the value counts of all the columns, there were a few columns in which only one value was majorly present for all the data points. These include Do Not Call, Search, Magazine, Newspaper Article, X Education Forums, Newspaper, Digital Advertisement, Through Recommendations, Receive More Updates About Our Courses, Update me on Supply Chain Content, Get updates on DM Content, I agree to pay the amount through cheque. Since practically all of the values for these variables are No, it's best that we drop these columns as they won't help with our analysis."
   ]
  },
  {
   "cell_type": "code",
   "execution_count": 235,
   "id": "32ac804c",
   "metadata": {},
   "outputs": [],
   "source": [
    "leads.drop(['Do Not Call', 'Search', 'Magazine', 'Newspaper Article', 'X Education Forums', 'Newspaper',\n",
    "            'Digital Advertisement', 'Through Recommendations', 'Receive More Updates About Our Courses',\n",
    "            'Update me on Supply Chain Content', 'Get updates on DM Content',\n",
    "            'I agree to pay the amount through cheque'], axis = 1, inplace = True)"
   ]
  },
  {
   "cell_type": "markdown",
   "id": "3e1015d6",
   "metadata": {},
   "source": [
    "Also, the variable `What matters most to you in choosing a course` has the level `Better Career Prospects` `6528` times while the other two levels appear once twice and once respectively. So we should drop this column as well."
   ]
  },
  {
   "cell_type": "markdown",
   "id": "78870bff",
   "metadata": {},
   "source": [
    "**What matters most to you in choosing a course**"
   ]
  },
  {
   "cell_type": "code",
   "execution_count": 236,
   "id": "b89fef5d",
   "metadata": {},
   "outputs": [
    {
     "data": {
      "text/plain": [
       "What matters most to you in choosing a course\n",
       "Better Career Prospects      6528\n",
       "Flexibility & Convenience       2\n",
       "Other                           1\n",
       "Name: count, dtype: int64"
      ]
     },
     "execution_count": 236,
     "metadata": {},
     "output_type": "execute_result"
    }
   ],
   "source": [
    "leads['What matters most to you in choosing a course'].value_counts()"
   ]
  },
  {
   "cell_type": "code",
   "execution_count": 237,
   "id": "3afbca08",
   "metadata": {},
   "outputs": [],
   "source": [
    "# Drop the null value rows present in the variable 'What matters most to you in choosing a course'\n",
    "\n",
    "leads.drop(['What matters most to you in choosing a course'], axis = 1, inplace=True)"
   ]
  },
  {
   "cell_type": "code",
   "execution_count": 238,
   "id": "ee853bf3",
   "metadata": {},
   "outputs": [
    {
     "data": {
      "text/plain": [
       "Prospect ID                                  0\n",
       "Lead Number                                  0\n",
       "Lead Origin                                  0\n",
       "Lead Source                                 36\n",
       "Do Not Email                                 0\n",
       "Converted                                    0\n",
       "TotalVisits                                137\n",
       "Total Time Spent on Website                  0\n",
       "Page Views Per Visit                       137\n",
       "Last Activity                              103\n",
       "Specialization                            1438\n",
       "What is your current occupation           2690\n",
       "A free copy of Mastering The Interview       0\n",
       "Last Notable Activity                        0\n",
       "State                                        0\n",
       "Country_modified                             0\n",
       "dtype: int64"
      ]
     },
     "execution_count": 238,
     "metadata": {},
     "output_type": "execute_result"
    }
   ],
   "source": [
    "# Check the number of null values again\n",
    "leads.isnull().sum()"
   ]
  },
  {
   "cell_type": "markdown",
   "id": "a02cd5c4",
   "metadata": {},
   "source": [
    "Now, there's the column `What is your current occupation` which has a lot of null values. Now you can drop the entire row but since we have already lost so many feature variables, we choose not to drop it as it might turn out to be significant in the analysis. So let's just drop the null rows for the column `What is you current occupation`."
   ]
  },
  {
   "cell_type": "code",
   "execution_count": 239,
   "id": "c19ca3f6",
   "metadata": {},
   "outputs": [
    {
     "data": {
      "text/plain": [
       "What is your current occupation\n",
       "Unemployed              5600\n",
       "Working Professional     706\n",
       "Student                  210\n",
       "Other                     16\n",
       "Housewife                 10\n",
       "Businessman                8\n",
       "Name: count, dtype: int64"
      ]
     },
     "execution_count": 239,
     "metadata": {},
     "output_type": "execute_result"
    }
   ],
   "source": [
    "leads['What is your current occupation'].value_counts()"
   ]
  },
  {
   "cell_type": "code",
   "execution_count": 240,
   "id": "057df791",
   "metadata": {},
   "outputs": [],
   "source": [
    "leads = leads[~pd.isnull(leads['What is your current occupation'])]"
   ]
  },
  {
   "cell_type": "code",
   "execution_count": 241,
   "id": "b00b4737",
   "metadata": {},
   "outputs": [
    {
     "data": {
      "text/plain": [
       "Prospect ID                                 0\n",
       "Lead Number                                 0\n",
       "Lead Origin                                 0\n",
       "Lead Source                                36\n",
       "Do Not Email                                0\n",
       "Converted                                   0\n",
       "TotalVisits                               130\n",
       "Total Time Spent on Website                 0\n",
       "Page Views Per Visit                      130\n",
       "Last Activity                             103\n",
       "Specialization                             18\n",
       "What is your current occupation             0\n",
       "A free copy of Mastering The Interview      0\n",
       "Last Notable Activity                       0\n",
       "State                                       0\n",
       "Country_modified                            0\n",
       "dtype: int64"
      ]
     },
     "execution_count": 241,
     "metadata": {},
     "output_type": "execute_result"
    }
   ],
   "source": [
    "# Check the number of null values again\n",
    "leads.isnull().sum()"
   ]
  },
  {
   "cell_type": "markdown",
   "id": "282f3147",
   "metadata": {},
   "source": [
    "Since now the number of null values present in the columns are quite small we can simply drop the rows in which these null values are present."
   ]
  },
  {
   "cell_type": "code",
   "execution_count": 242,
   "id": "3fc76c18",
   "metadata": {},
   "outputs": [],
   "source": [
    "# Drop the null value rows in the column 'TotalVisits'\n",
    "\n",
    "leads = leads[~pd.isnull(leads['TotalVisits'])]"
   ]
  },
  {
   "cell_type": "code",
   "execution_count": 243,
   "id": "1cdcddbf",
   "metadata": {},
   "outputs": [
    {
     "data": {
      "text/plain": [
       "Prospect ID                                0\n",
       "Lead Number                                0\n",
       "Lead Origin                                0\n",
       "Lead Source                               29\n",
       "Do Not Email                               0\n",
       "Converted                                  0\n",
       "TotalVisits                                0\n",
       "Total Time Spent on Website                0\n",
       "Page Views Per Visit                       0\n",
       "Last Activity                              0\n",
       "Specialization                            18\n",
       "What is your current occupation            0\n",
       "A free copy of Mastering The Interview     0\n",
       "Last Notable Activity                      0\n",
       "State                                      0\n",
       "Country_modified                           0\n",
       "dtype: int64"
      ]
     },
     "execution_count": 243,
     "metadata": {},
     "output_type": "execute_result"
    }
   ],
   "source": [
    "# Check the null values again\n",
    "\n",
    "leads.isnull().sum()"
   ]
  },
  {
   "cell_type": "code",
   "execution_count": 244,
   "id": "d23cb6ea",
   "metadata": {},
   "outputs": [],
   "source": [
    "# Drop the null values rows in the column 'Lead Source'\n",
    "\n",
    "leads = leads[~pd.isnull(leads['Lead Source'])]"
   ]
  },
  {
   "cell_type": "code",
   "execution_count": 245,
   "id": "a525f225",
   "metadata": {},
   "outputs": [
    {
     "data": {
      "text/plain": [
       "Prospect ID                                0\n",
       "Lead Number                                0\n",
       "Lead Origin                                0\n",
       "Lead Source                                0\n",
       "Do Not Email                               0\n",
       "Converted                                  0\n",
       "TotalVisits                                0\n",
       "Total Time Spent on Website                0\n",
       "Page Views Per Visit                       0\n",
       "Last Activity                              0\n",
       "Specialization                            18\n",
       "What is your current occupation            0\n",
       "A free copy of Mastering The Interview     0\n",
       "Last Notable Activity                      0\n",
       "State                                      0\n",
       "Country_modified                           0\n",
       "dtype: int64"
      ]
     },
     "execution_count": 245,
     "metadata": {},
     "output_type": "execute_result"
    }
   ],
   "source": [
    "# Check the number of null values again\n",
    "\n",
    "leads.isnull().sum()"
   ]
  },
  {
   "cell_type": "code",
   "execution_count": 246,
   "id": "b55e2417",
   "metadata": {},
   "outputs": [],
   "source": [
    "# Drop the null values rows in the column 'Specialization'\n",
    "\n",
    "leads = leads[~pd.isnull(leads['Specialization'])]"
   ]
  },
  {
   "cell_type": "code",
   "execution_count": 247,
   "id": "941fa601",
   "metadata": {},
   "outputs": [
    {
     "data": {
      "text/plain": [
       "Prospect ID                               0\n",
       "Lead Number                               0\n",
       "Lead Origin                               0\n",
       "Lead Source                               0\n",
       "Do Not Email                              0\n",
       "Converted                                 0\n",
       "TotalVisits                               0\n",
       "Total Time Spent on Website               0\n",
       "Page Views Per Visit                      0\n",
       "Last Activity                             0\n",
       "Specialization                            0\n",
       "What is your current occupation           0\n",
       "A free copy of Mastering The Interview    0\n",
       "Last Notable Activity                     0\n",
       "State                                     0\n",
       "Country_modified                          0\n",
       "dtype: int64"
      ]
     },
     "execution_count": 247,
     "metadata": {},
     "output_type": "execute_result"
    }
   ],
   "source": [
    "# Check the number of null values again\n",
    "\n",
    "leads.isnull().sum()"
   ]
  },
  {
   "cell_type": "markdown",
   "id": "73d3b772",
   "metadata": {},
   "source": [
    "Now your data doesn't have any null values. Let's now check the percentage of rows that we have retained."
   ]
  },
  {
   "cell_type": "code",
   "execution_count": 248,
   "id": "3341fd4b",
   "metadata": {},
   "outputs": [
    {
     "name": "stdout",
     "output_type": "stream",
     "text": [
      "6373\n",
      "0.6897186147186147\n"
     ]
    }
   ],
   "source": [
    "print(len(leads.index))\n",
    "print(len(leads.index)/9240)"
   ]
  },
  {
   "cell_type": "markdown",
   "id": "4923eb93",
   "metadata": {},
   "source": [
    "We still have around 69% of the rows which seems good enough."
   ]
  },
  {
   "cell_type": "code",
   "execution_count": 249,
   "id": "08ea223f",
   "metadata": {},
   "outputs": [
    {
     "data": {
      "text/html": [
       "<div>\n",
       "<style scoped>\n",
       "    .dataframe tbody tr th:only-of-type {\n",
       "        vertical-align: middle;\n",
       "    }\n",
       "\n",
       "    .dataframe tbody tr th {\n",
       "        vertical-align: top;\n",
       "    }\n",
       "\n",
       "    .dataframe thead th {\n",
       "        text-align: right;\n",
       "    }\n",
       "</style>\n",
       "<table border=\"1\" class=\"dataframe\">\n",
       "  <thead>\n",
       "    <tr style=\"text-align: right;\">\n",
       "      <th></th>\n",
       "      <th>Prospect ID</th>\n",
       "      <th>Lead Number</th>\n",
       "      <th>Lead Origin</th>\n",
       "      <th>Lead Source</th>\n",
       "      <th>Do Not Email</th>\n",
       "      <th>Converted</th>\n",
       "      <th>TotalVisits</th>\n",
       "      <th>Total Time Spent on Website</th>\n",
       "      <th>Page Views Per Visit</th>\n",
       "      <th>Last Activity</th>\n",
       "      <th>Specialization</th>\n",
       "      <th>What is your current occupation</th>\n",
       "      <th>A free copy of Mastering The Interview</th>\n",
       "      <th>Last Notable Activity</th>\n",
       "      <th>State</th>\n",
       "      <th>Country_modified</th>\n",
       "    </tr>\n",
       "  </thead>\n",
       "  <tbody>\n",
       "    <tr>\n",
       "      <th>0</th>\n",
       "      <td>7927b2df-8bba-4d29-b9a2-b6e0beafe620</td>\n",
       "      <td>660737</td>\n",
       "      <td>API</td>\n",
       "      <td>Olark Chat</td>\n",
       "      <td>No</td>\n",
       "      <td>0</td>\n",
       "      <td>0.0</td>\n",
       "      <td>0</td>\n",
       "      <td>0.0</td>\n",
       "      <td>Page Visited on Website</td>\n",
       "      <td>Select</td>\n",
       "      <td>Unemployed</td>\n",
       "      <td>No</td>\n",
       "      <td>Modified</td>\n",
       "      <td>unknown</td>\n",
       "      <td>Others</td>\n",
       "    </tr>\n",
       "    <tr>\n",
       "      <th>1</th>\n",
       "      <td>2a272436-5132-4136-86fa-dcc88c88f482</td>\n",
       "      <td>660728</td>\n",
       "      <td>API</td>\n",
       "      <td>Organic Search</td>\n",
       "      <td>No</td>\n",
       "      <td>0</td>\n",
       "      <td>5.0</td>\n",
       "      <td>674</td>\n",
       "      <td>2.5</td>\n",
       "      <td>Email Opened</td>\n",
       "      <td>Select</td>\n",
       "      <td>Unemployed</td>\n",
       "      <td>No</td>\n",
       "      <td>Email Opened</td>\n",
       "      <td>unknown</td>\n",
       "      <td>India</td>\n",
       "    </tr>\n",
       "    <tr>\n",
       "      <th>2</th>\n",
       "      <td>8cc8c611-a219-4f35-ad23-fdfd2656bd8a</td>\n",
       "      <td>660727</td>\n",
       "      <td>Landing Page Submission</td>\n",
       "      <td>Direct Traffic</td>\n",
       "      <td>No</td>\n",
       "      <td>1</td>\n",
       "      <td>2.0</td>\n",
       "      <td>1532</td>\n",
       "      <td>2.0</td>\n",
       "      <td>Email Opened</td>\n",
       "      <td>Business Administration</td>\n",
       "      <td>Student</td>\n",
       "      <td>Yes</td>\n",
       "      <td>Email Opened</td>\n",
       "      <td>Maharastra</td>\n",
       "      <td>India</td>\n",
       "    </tr>\n",
       "    <tr>\n",
       "      <th>3</th>\n",
       "      <td>0cc2df48-7cf4-4e39-9de9-19797f9b38cc</td>\n",
       "      <td>660719</td>\n",
       "      <td>Landing Page Submission</td>\n",
       "      <td>Direct Traffic</td>\n",
       "      <td>No</td>\n",
       "      <td>0</td>\n",
       "      <td>1.0</td>\n",
       "      <td>305</td>\n",
       "      <td>1.0</td>\n",
       "      <td>Unreachable</td>\n",
       "      <td>Media and Advertising</td>\n",
       "      <td>Unemployed</td>\n",
       "      <td>No</td>\n",
       "      <td>Modified</td>\n",
       "      <td>Maharastra</td>\n",
       "      <td>India</td>\n",
       "    </tr>\n",
       "    <tr>\n",
       "      <th>4</th>\n",
       "      <td>3256f628-e534-4826-9d63-4a8b88782852</td>\n",
       "      <td>660681</td>\n",
       "      <td>Landing Page Submission</td>\n",
       "      <td>Google</td>\n",
       "      <td>No</td>\n",
       "      <td>1</td>\n",
       "      <td>2.0</td>\n",
       "      <td>1428</td>\n",
       "      <td>1.0</td>\n",
       "      <td>Converted to Lead</td>\n",
       "      <td>Select</td>\n",
       "      <td>Unemployed</td>\n",
       "      <td>No</td>\n",
       "      <td>Modified</td>\n",
       "      <td>Maharastra</td>\n",
       "      <td>India</td>\n",
       "    </tr>\n",
       "  </tbody>\n",
       "</table>\n",
       "</div>"
      ],
      "text/plain": [
       "                            Prospect ID  Lead Number              Lead Origin  \\\n",
       "0  7927b2df-8bba-4d29-b9a2-b6e0beafe620       660737                      API   \n",
       "1  2a272436-5132-4136-86fa-dcc88c88f482       660728                      API   \n",
       "2  8cc8c611-a219-4f35-ad23-fdfd2656bd8a       660727  Landing Page Submission   \n",
       "3  0cc2df48-7cf4-4e39-9de9-19797f9b38cc       660719  Landing Page Submission   \n",
       "4  3256f628-e534-4826-9d63-4a8b88782852       660681  Landing Page Submission   \n",
       "\n",
       "      Lead Source Do Not Email  Converted  TotalVisits  \\\n",
       "0      Olark Chat           No          0          0.0   \n",
       "1  Organic Search           No          0          5.0   \n",
       "2  Direct Traffic           No          1          2.0   \n",
       "3  Direct Traffic           No          0          1.0   \n",
       "4          Google           No          1          2.0   \n",
       "\n",
       "   Total Time Spent on Website  Page Views Per Visit            Last Activity  \\\n",
       "0                            0                   0.0  Page Visited on Website   \n",
       "1                          674                   2.5             Email Opened   \n",
       "2                         1532                   2.0             Email Opened   \n",
       "3                          305                   1.0              Unreachable   \n",
       "4                         1428                   1.0        Converted to Lead   \n",
       "\n",
       "            Specialization What is your current occupation  \\\n",
       "0                   Select                      Unemployed   \n",
       "1                   Select                      Unemployed   \n",
       "2  Business Administration                         Student   \n",
       "3    Media and Advertising                      Unemployed   \n",
       "4                   Select                      Unemployed   \n",
       "\n",
       "  A free copy of Mastering The Interview Last Notable Activity       State  \\\n",
       "0                                     No              Modified     unknown   \n",
       "1                                     No          Email Opened     unknown   \n",
       "2                                    Yes          Email Opened  Maharastra   \n",
       "3                                     No              Modified  Maharastra   \n",
       "4                                     No              Modified  Maharastra   \n",
       "\n",
       "  Country_modified  \n",
       "0           Others  \n",
       "1            India  \n",
       "2            India  \n",
       "3            India  \n",
       "4            India  "
      ]
     },
     "execution_count": 249,
     "metadata": {},
     "output_type": "execute_result"
    }
   ],
   "source": [
    "# Let's look at the dataset again\n",
    "\n",
    "leads.head()"
   ]
  },
  {
   "cell_type": "markdown",
   "id": "c0a726a7",
   "metadata": {},
   "source": [
    "Now, clearly the variables `Prospect ID` and `Lead Number` won't be of any use in the analysis, so it's best that we drop these two variables."
   ]
  },
  {
   "cell_type": "code",
   "execution_count": 250,
   "id": "76028bee",
   "metadata": {},
   "outputs": [],
   "source": [
    "leads.drop(['Prospect ID', 'Lead Number'], axis = 1, inplace = True)"
   ]
  },
  {
   "cell_type": "code",
   "execution_count": 251,
   "id": "6cb63548",
   "metadata": {},
   "outputs": [
    {
     "data": {
      "text/html": [
       "<div>\n",
       "<style scoped>\n",
       "    .dataframe tbody tr th:only-of-type {\n",
       "        vertical-align: middle;\n",
       "    }\n",
       "\n",
       "    .dataframe tbody tr th {\n",
       "        vertical-align: top;\n",
       "    }\n",
       "\n",
       "    .dataframe thead th {\n",
       "        text-align: right;\n",
       "    }\n",
       "</style>\n",
       "<table border=\"1\" class=\"dataframe\">\n",
       "  <thead>\n",
       "    <tr style=\"text-align: right;\">\n",
       "      <th></th>\n",
       "      <th>Lead Origin</th>\n",
       "      <th>Lead Source</th>\n",
       "      <th>Do Not Email</th>\n",
       "      <th>Converted</th>\n",
       "      <th>TotalVisits</th>\n",
       "      <th>Total Time Spent on Website</th>\n",
       "      <th>Page Views Per Visit</th>\n",
       "      <th>Last Activity</th>\n",
       "      <th>Specialization</th>\n",
       "      <th>What is your current occupation</th>\n",
       "      <th>A free copy of Mastering The Interview</th>\n",
       "      <th>Last Notable Activity</th>\n",
       "      <th>State</th>\n",
       "      <th>Country_modified</th>\n",
       "    </tr>\n",
       "  </thead>\n",
       "  <tbody>\n",
       "    <tr>\n",
       "      <th>0</th>\n",
       "      <td>API</td>\n",
       "      <td>Olark Chat</td>\n",
       "      <td>No</td>\n",
       "      <td>0</td>\n",
       "      <td>0.0</td>\n",
       "      <td>0</td>\n",
       "      <td>0.0</td>\n",
       "      <td>Page Visited on Website</td>\n",
       "      <td>Select</td>\n",
       "      <td>Unemployed</td>\n",
       "      <td>No</td>\n",
       "      <td>Modified</td>\n",
       "      <td>unknown</td>\n",
       "      <td>Others</td>\n",
       "    </tr>\n",
       "    <tr>\n",
       "      <th>1</th>\n",
       "      <td>API</td>\n",
       "      <td>Organic Search</td>\n",
       "      <td>No</td>\n",
       "      <td>0</td>\n",
       "      <td>5.0</td>\n",
       "      <td>674</td>\n",
       "      <td>2.5</td>\n",
       "      <td>Email Opened</td>\n",
       "      <td>Select</td>\n",
       "      <td>Unemployed</td>\n",
       "      <td>No</td>\n",
       "      <td>Email Opened</td>\n",
       "      <td>unknown</td>\n",
       "      <td>India</td>\n",
       "    </tr>\n",
       "    <tr>\n",
       "      <th>2</th>\n",
       "      <td>Landing Page Submission</td>\n",
       "      <td>Direct Traffic</td>\n",
       "      <td>No</td>\n",
       "      <td>1</td>\n",
       "      <td>2.0</td>\n",
       "      <td>1532</td>\n",
       "      <td>2.0</td>\n",
       "      <td>Email Opened</td>\n",
       "      <td>Business Administration</td>\n",
       "      <td>Student</td>\n",
       "      <td>Yes</td>\n",
       "      <td>Email Opened</td>\n",
       "      <td>Maharastra</td>\n",
       "      <td>India</td>\n",
       "    </tr>\n",
       "    <tr>\n",
       "      <th>3</th>\n",
       "      <td>Landing Page Submission</td>\n",
       "      <td>Direct Traffic</td>\n",
       "      <td>No</td>\n",
       "      <td>0</td>\n",
       "      <td>1.0</td>\n",
       "      <td>305</td>\n",
       "      <td>1.0</td>\n",
       "      <td>Unreachable</td>\n",
       "      <td>Media and Advertising</td>\n",
       "      <td>Unemployed</td>\n",
       "      <td>No</td>\n",
       "      <td>Modified</td>\n",
       "      <td>Maharastra</td>\n",
       "      <td>India</td>\n",
       "    </tr>\n",
       "    <tr>\n",
       "      <th>4</th>\n",
       "      <td>Landing Page Submission</td>\n",
       "      <td>Google</td>\n",
       "      <td>No</td>\n",
       "      <td>1</td>\n",
       "      <td>2.0</td>\n",
       "      <td>1428</td>\n",
       "      <td>1.0</td>\n",
       "      <td>Converted to Lead</td>\n",
       "      <td>Select</td>\n",
       "      <td>Unemployed</td>\n",
       "      <td>No</td>\n",
       "      <td>Modified</td>\n",
       "      <td>Maharastra</td>\n",
       "      <td>India</td>\n",
       "    </tr>\n",
       "  </tbody>\n",
       "</table>\n",
       "</div>"
      ],
      "text/plain": [
       "               Lead Origin     Lead Source Do Not Email  Converted  \\\n",
       "0                      API      Olark Chat           No          0   \n",
       "1                      API  Organic Search           No          0   \n",
       "2  Landing Page Submission  Direct Traffic           No          1   \n",
       "3  Landing Page Submission  Direct Traffic           No          0   \n",
       "4  Landing Page Submission          Google           No          1   \n",
       "\n",
       "   TotalVisits  Total Time Spent on Website  Page Views Per Visit  \\\n",
       "0          0.0                            0                   0.0   \n",
       "1          5.0                          674                   2.5   \n",
       "2          2.0                         1532                   2.0   \n",
       "3          1.0                          305                   1.0   \n",
       "4          2.0                         1428                   1.0   \n",
       "\n",
       "             Last Activity           Specialization  \\\n",
       "0  Page Visited on Website                   Select   \n",
       "1             Email Opened                   Select   \n",
       "2             Email Opened  Business Administration   \n",
       "3              Unreachable    Media and Advertising   \n",
       "4        Converted to Lead                   Select   \n",
       "\n",
       "  What is your current occupation A free copy of Mastering The Interview  \\\n",
       "0                      Unemployed                                     No   \n",
       "1                      Unemployed                                     No   \n",
       "2                         Student                                    Yes   \n",
       "3                      Unemployed                                     No   \n",
       "4                      Unemployed                                     No   \n",
       "\n",
       "  Last Notable Activity       State Country_modified  \n",
       "0              Modified     unknown           Others  \n",
       "1          Email Opened     unknown            India  \n",
       "2          Email Opened  Maharastra            India  \n",
       "3              Modified  Maharastra            India  \n",
       "4              Modified  Maharastra            India  "
      ]
     },
     "execution_count": 251,
     "metadata": {},
     "output_type": "execute_result"
    }
   ],
   "source": [
    "leads.head()"
   ]
  },
  {
   "cell_type": "markdown",
   "id": "0bc89e0e",
   "metadata": {},
   "source": [
    "### Dummy variable creation\n",
    "\n",
    "The next step is to deal with the categorical variables present in the dataset. So first take a look at which variables are actually categorical variables."
   ]
  },
  {
   "cell_type": "code",
   "execution_count": 252,
   "id": "8465a4a5",
   "metadata": {},
   "outputs": [
    {
     "data": {
      "text/plain": [
       "Index(['Lead Origin', 'Lead Source', 'Do Not Email', 'Last Activity',\n",
       "       'Specialization', 'What is your current occupation',\n",
       "       'A free copy of Mastering The Interview', 'Last Notable Activity',\n",
       "       'State', 'Country_modified'],\n",
       "      dtype='object')"
      ]
     },
     "execution_count": 252,
     "metadata": {},
     "output_type": "execute_result"
    }
   ],
   "source": [
    "# Check the columns which are of type 'object'\n",
    "\n",
    "temp = leads.loc[:, leads.dtypes == 'object']\n",
    "temp.columns"
   ]
  },
  {
   "cell_type": "code",
   "execution_count": 253,
   "id": "4c74e41d",
   "metadata": {},
   "outputs": [],
   "source": [
    "# Create dummy variables using the 'get_dummies' command\n",
    "dummy = pd.get_dummies(leads[['Lead Origin', 'Lead Source', 'Do Not Email', 'Last Activity',\n",
    "                              'What is your current occupation','A free copy of Mastering The Interview',\n",
    "                              'Last Notable Activity']], drop_first=True)\n",
    "\n",
    "# Add the results to the master dataframe\n",
    "leads = pd.concat([leads, dummy], axis=1)"
   ]
  },
  {
   "cell_type": "code",
   "execution_count": 254,
   "id": "ad685435",
   "metadata": {},
   "outputs": [],
   "source": [
    "# Creating dummy variable separately for the variable 'Specialization' since it has the level 'Select' which is useless so we\n",
    "# drop that level by specifying it explicitly\n",
    "\n",
    "dummy_spl = pd.get_dummies(leads['Specialization'], prefix = 'Specialization')\n",
    "dummy_spl = dummy_spl.drop(['Specialization_Select'], axis = 1)\n",
    "leads = pd.concat([leads, dummy_spl], axis = 1)"
   ]
  },
  {
   "cell_type": "code",
   "execution_count": 255,
   "id": "cf449d13",
   "metadata": {},
   "outputs": [],
   "source": [
    "# Drop the variables for which the dummy variables have been created\n",
    "\n",
    "leads = leads.drop(['Lead Origin', 'Lead Source', 'Do Not Email', 'Last Activity',\n",
    "                   'Specialization', 'What is your current occupation',\n",
    "                   'A free copy of Mastering The Interview', 'Last Notable Activity'],axis =  1)"
   ]
  },
  {
   "cell_type": "code",
   "execution_count": 256,
   "id": "fbe341d2",
   "metadata": {},
   "outputs": [
    {
     "data": {
      "text/html": [
       "<div>\n",
       "<style scoped>\n",
       "    .dataframe tbody tr th:only-of-type {\n",
       "        vertical-align: middle;\n",
       "    }\n",
       "\n",
       "    .dataframe tbody tr th {\n",
       "        vertical-align: top;\n",
       "    }\n",
       "\n",
       "    .dataframe thead th {\n",
       "        text-align: right;\n",
       "    }\n",
       "</style>\n",
       "<table border=\"1\" class=\"dataframe\">\n",
       "  <thead>\n",
       "    <tr style=\"text-align: right;\">\n",
       "      <th></th>\n",
       "      <th>Converted</th>\n",
       "      <th>TotalVisits</th>\n",
       "      <th>Total Time Spent on Website</th>\n",
       "      <th>Page Views Per Visit</th>\n",
       "      <th>State</th>\n",
       "      <th>Country_modified</th>\n",
       "      <th>Lead Origin_Landing Page Submission</th>\n",
       "      <th>Lead Origin_Lead Add Form</th>\n",
       "      <th>Lead Origin_Lead Import</th>\n",
       "      <th>Lead Source_Direct Traffic</th>\n",
       "      <th>...</th>\n",
       "      <th>Specialization_IT Projects Management</th>\n",
       "      <th>Specialization_International Business</th>\n",
       "      <th>Specialization_Marketing Management</th>\n",
       "      <th>Specialization_Media and Advertising</th>\n",
       "      <th>Specialization_Operations Management</th>\n",
       "      <th>Specialization_Retail Management</th>\n",
       "      <th>Specialization_Rural and Agribusiness</th>\n",
       "      <th>Specialization_Services Excellence</th>\n",
       "      <th>Specialization_Supply Chain Management</th>\n",
       "      <th>Specialization_Travel and Tourism</th>\n",
       "    </tr>\n",
       "  </thead>\n",
       "  <tbody>\n",
       "    <tr>\n",
       "      <th>0</th>\n",
       "      <td>0</td>\n",
       "      <td>0.0</td>\n",
       "      <td>0</td>\n",
       "      <td>0.0</td>\n",
       "      <td>unknown</td>\n",
       "      <td>Others</td>\n",
       "      <td>False</td>\n",
       "      <td>False</td>\n",
       "      <td>False</td>\n",
       "      <td>False</td>\n",
       "      <td>...</td>\n",
       "      <td>False</td>\n",
       "      <td>False</td>\n",
       "      <td>False</td>\n",
       "      <td>False</td>\n",
       "      <td>False</td>\n",
       "      <td>False</td>\n",
       "      <td>False</td>\n",
       "      <td>False</td>\n",
       "      <td>False</td>\n",
       "      <td>False</td>\n",
       "    </tr>\n",
       "    <tr>\n",
       "      <th>1</th>\n",
       "      <td>0</td>\n",
       "      <td>5.0</td>\n",
       "      <td>674</td>\n",
       "      <td>2.5</td>\n",
       "      <td>unknown</td>\n",
       "      <td>India</td>\n",
       "      <td>False</td>\n",
       "      <td>False</td>\n",
       "      <td>False</td>\n",
       "      <td>False</td>\n",
       "      <td>...</td>\n",
       "      <td>False</td>\n",
       "      <td>False</td>\n",
       "      <td>False</td>\n",
       "      <td>False</td>\n",
       "      <td>False</td>\n",
       "      <td>False</td>\n",
       "      <td>False</td>\n",
       "      <td>False</td>\n",
       "      <td>False</td>\n",
       "      <td>False</td>\n",
       "    </tr>\n",
       "    <tr>\n",
       "      <th>2</th>\n",
       "      <td>1</td>\n",
       "      <td>2.0</td>\n",
       "      <td>1532</td>\n",
       "      <td>2.0</td>\n",
       "      <td>Maharastra</td>\n",
       "      <td>India</td>\n",
       "      <td>True</td>\n",
       "      <td>False</td>\n",
       "      <td>False</td>\n",
       "      <td>True</td>\n",
       "      <td>...</td>\n",
       "      <td>False</td>\n",
       "      <td>False</td>\n",
       "      <td>False</td>\n",
       "      <td>False</td>\n",
       "      <td>False</td>\n",
       "      <td>False</td>\n",
       "      <td>False</td>\n",
       "      <td>False</td>\n",
       "      <td>False</td>\n",
       "      <td>False</td>\n",
       "    </tr>\n",
       "    <tr>\n",
       "      <th>3</th>\n",
       "      <td>0</td>\n",
       "      <td>1.0</td>\n",
       "      <td>305</td>\n",
       "      <td>1.0</td>\n",
       "      <td>Maharastra</td>\n",
       "      <td>India</td>\n",
       "      <td>True</td>\n",
       "      <td>False</td>\n",
       "      <td>False</td>\n",
       "      <td>True</td>\n",
       "      <td>...</td>\n",
       "      <td>False</td>\n",
       "      <td>False</td>\n",
       "      <td>False</td>\n",
       "      <td>True</td>\n",
       "      <td>False</td>\n",
       "      <td>False</td>\n",
       "      <td>False</td>\n",
       "      <td>False</td>\n",
       "      <td>False</td>\n",
       "      <td>False</td>\n",
       "    </tr>\n",
       "    <tr>\n",
       "      <th>4</th>\n",
       "      <td>1</td>\n",
       "      <td>2.0</td>\n",
       "      <td>1428</td>\n",
       "      <td>1.0</td>\n",
       "      <td>Maharastra</td>\n",
       "      <td>India</td>\n",
       "      <td>True</td>\n",
       "      <td>False</td>\n",
       "      <td>False</td>\n",
       "      <td>False</td>\n",
       "      <td>...</td>\n",
       "      <td>False</td>\n",
       "      <td>False</td>\n",
       "      <td>False</td>\n",
       "      <td>False</td>\n",
       "      <td>False</td>\n",
       "      <td>False</td>\n",
       "      <td>False</td>\n",
       "      <td>False</td>\n",
       "      <td>False</td>\n",
       "      <td>False</td>\n",
       "    </tr>\n",
       "  </tbody>\n",
       "</table>\n",
       "<p>5 rows × 77 columns</p>\n",
       "</div>"
      ],
      "text/plain": [
       "   Converted  TotalVisits  Total Time Spent on Website  Page Views Per Visit  \\\n",
       "0          0          0.0                            0                   0.0   \n",
       "1          0          5.0                          674                   2.5   \n",
       "2          1          2.0                         1532                   2.0   \n",
       "3          0          1.0                          305                   1.0   \n",
       "4          1          2.0                         1428                   1.0   \n",
       "\n",
       "        State Country_modified  Lead Origin_Landing Page Submission  \\\n",
       "0     unknown           Others                                False   \n",
       "1     unknown            India                                False   \n",
       "2  Maharastra            India                                 True   \n",
       "3  Maharastra            India                                 True   \n",
       "4  Maharastra            India                                 True   \n",
       "\n",
       "   Lead Origin_Lead Add Form  Lead Origin_Lead Import  \\\n",
       "0                      False                    False   \n",
       "1                      False                    False   \n",
       "2                      False                    False   \n",
       "3                      False                    False   \n",
       "4                      False                    False   \n",
       "\n",
       "   Lead Source_Direct Traffic  ...  Specialization_IT Projects Management  \\\n",
       "0                       False  ...                                  False   \n",
       "1                       False  ...                                  False   \n",
       "2                        True  ...                                  False   \n",
       "3                        True  ...                                  False   \n",
       "4                       False  ...                                  False   \n",
       "\n",
       "   Specialization_International Business  Specialization_Marketing Management  \\\n",
       "0                                  False                                False   \n",
       "1                                  False                                False   \n",
       "2                                  False                                False   \n",
       "3                                  False                                False   \n",
       "4                                  False                                False   \n",
       "\n",
       "   Specialization_Media and Advertising  Specialization_Operations Management  \\\n",
       "0                                 False                                 False   \n",
       "1                                 False                                 False   \n",
       "2                                 False                                 False   \n",
       "3                                  True                                 False   \n",
       "4                                 False                                 False   \n",
       "\n",
       "   Specialization_Retail Management  Specialization_Rural and Agribusiness  \\\n",
       "0                             False                                  False   \n",
       "1                             False                                  False   \n",
       "2                             False                                  False   \n",
       "3                             False                                  False   \n",
       "4                             False                                  False   \n",
       "\n",
       "   Specialization_Services Excellence  Specialization_Supply Chain Management  \\\n",
       "0                               False                                   False   \n",
       "1                               False                                   False   \n",
       "2                               False                                   False   \n",
       "3                               False                                   False   \n",
       "4                               False                                   False   \n",
       "\n",
       "   Specialization_Travel and Tourism  \n",
       "0                              False  \n",
       "1                              False  \n",
       "2                              False  \n",
       "3                              False  \n",
       "4                              False  \n",
       "\n",
       "[5 rows x 77 columns]"
      ]
     },
     "execution_count": 256,
     "metadata": {},
     "output_type": "execute_result"
    }
   ],
   "source": [
    "# Let's take a look at the dataset again\n",
    "\n",
    "leads.head()"
   ]
  },
  {
   "cell_type": "code",
   "execution_count": 257,
   "id": "9bf4cff4",
   "metadata": {},
   "outputs": [],
   "source": [
    "leads.drop(['State',\"Country_modified\"],axis=1,inplace=True)"
   ]
  },
  {
   "cell_type": "code",
   "execution_count": 258,
   "id": "8501a170",
   "metadata": {},
   "outputs": [
    {
     "data": {
      "text/html": [
       "<div>\n",
       "<style scoped>\n",
       "    .dataframe tbody tr th:only-of-type {\n",
       "        vertical-align: middle;\n",
       "    }\n",
       "\n",
       "    .dataframe tbody tr th {\n",
       "        vertical-align: top;\n",
       "    }\n",
       "\n",
       "    .dataframe thead th {\n",
       "        text-align: right;\n",
       "    }\n",
       "</style>\n",
       "<table border=\"1\" class=\"dataframe\">\n",
       "  <thead>\n",
       "    <tr style=\"text-align: right;\">\n",
       "      <th></th>\n",
       "      <th>Converted</th>\n",
       "      <th>TotalVisits</th>\n",
       "      <th>Total Time Spent on Website</th>\n",
       "      <th>Page Views Per Visit</th>\n",
       "      <th>Lead Origin_Landing Page Submission</th>\n",
       "      <th>Lead Origin_Lead Add Form</th>\n",
       "      <th>Lead Origin_Lead Import</th>\n",
       "      <th>Lead Source_Direct Traffic</th>\n",
       "      <th>Lead Source_Facebook</th>\n",
       "      <th>Lead Source_Google</th>\n",
       "      <th>...</th>\n",
       "      <th>Specialization_IT Projects Management</th>\n",
       "      <th>Specialization_International Business</th>\n",
       "      <th>Specialization_Marketing Management</th>\n",
       "      <th>Specialization_Media and Advertising</th>\n",
       "      <th>Specialization_Operations Management</th>\n",
       "      <th>Specialization_Retail Management</th>\n",
       "      <th>Specialization_Rural and Agribusiness</th>\n",
       "      <th>Specialization_Services Excellence</th>\n",
       "      <th>Specialization_Supply Chain Management</th>\n",
       "      <th>Specialization_Travel and Tourism</th>\n",
       "    </tr>\n",
       "  </thead>\n",
       "  <tbody>\n",
       "    <tr>\n",
       "      <th>0</th>\n",
       "      <td>0</td>\n",
       "      <td>0.0</td>\n",
       "      <td>0</td>\n",
       "      <td>0.0</td>\n",
       "      <td>False</td>\n",
       "      <td>False</td>\n",
       "      <td>False</td>\n",
       "      <td>False</td>\n",
       "      <td>False</td>\n",
       "      <td>False</td>\n",
       "      <td>...</td>\n",
       "      <td>False</td>\n",
       "      <td>False</td>\n",
       "      <td>False</td>\n",
       "      <td>False</td>\n",
       "      <td>False</td>\n",
       "      <td>False</td>\n",
       "      <td>False</td>\n",
       "      <td>False</td>\n",
       "      <td>False</td>\n",
       "      <td>False</td>\n",
       "    </tr>\n",
       "    <tr>\n",
       "      <th>1</th>\n",
       "      <td>0</td>\n",
       "      <td>5.0</td>\n",
       "      <td>674</td>\n",
       "      <td>2.5</td>\n",
       "      <td>False</td>\n",
       "      <td>False</td>\n",
       "      <td>False</td>\n",
       "      <td>False</td>\n",
       "      <td>False</td>\n",
       "      <td>False</td>\n",
       "      <td>...</td>\n",
       "      <td>False</td>\n",
       "      <td>False</td>\n",
       "      <td>False</td>\n",
       "      <td>False</td>\n",
       "      <td>False</td>\n",
       "      <td>False</td>\n",
       "      <td>False</td>\n",
       "      <td>False</td>\n",
       "      <td>False</td>\n",
       "      <td>False</td>\n",
       "    </tr>\n",
       "    <tr>\n",
       "      <th>2</th>\n",
       "      <td>1</td>\n",
       "      <td>2.0</td>\n",
       "      <td>1532</td>\n",
       "      <td>2.0</td>\n",
       "      <td>True</td>\n",
       "      <td>False</td>\n",
       "      <td>False</td>\n",
       "      <td>True</td>\n",
       "      <td>False</td>\n",
       "      <td>False</td>\n",
       "      <td>...</td>\n",
       "      <td>False</td>\n",
       "      <td>False</td>\n",
       "      <td>False</td>\n",
       "      <td>False</td>\n",
       "      <td>False</td>\n",
       "      <td>False</td>\n",
       "      <td>False</td>\n",
       "      <td>False</td>\n",
       "      <td>False</td>\n",
       "      <td>False</td>\n",
       "    </tr>\n",
       "    <tr>\n",
       "      <th>3</th>\n",
       "      <td>0</td>\n",
       "      <td>1.0</td>\n",
       "      <td>305</td>\n",
       "      <td>1.0</td>\n",
       "      <td>True</td>\n",
       "      <td>False</td>\n",
       "      <td>False</td>\n",
       "      <td>True</td>\n",
       "      <td>False</td>\n",
       "      <td>False</td>\n",
       "      <td>...</td>\n",
       "      <td>False</td>\n",
       "      <td>False</td>\n",
       "      <td>False</td>\n",
       "      <td>True</td>\n",
       "      <td>False</td>\n",
       "      <td>False</td>\n",
       "      <td>False</td>\n",
       "      <td>False</td>\n",
       "      <td>False</td>\n",
       "      <td>False</td>\n",
       "    </tr>\n",
       "    <tr>\n",
       "      <th>4</th>\n",
       "      <td>1</td>\n",
       "      <td>2.0</td>\n",
       "      <td>1428</td>\n",
       "      <td>1.0</td>\n",
       "      <td>True</td>\n",
       "      <td>False</td>\n",
       "      <td>False</td>\n",
       "      <td>False</td>\n",
       "      <td>False</td>\n",
       "      <td>True</td>\n",
       "      <td>...</td>\n",
       "      <td>False</td>\n",
       "      <td>False</td>\n",
       "      <td>False</td>\n",
       "      <td>False</td>\n",
       "      <td>False</td>\n",
       "      <td>False</td>\n",
       "      <td>False</td>\n",
       "      <td>False</td>\n",
       "      <td>False</td>\n",
       "      <td>False</td>\n",
       "    </tr>\n",
       "  </tbody>\n",
       "</table>\n",
       "<p>5 rows × 75 columns</p>\n",
       "</div>"
      ],
      "text/plain": [
       "   Converted  TotalVisits  Total Time Spent on Website  Page Views Per Visit  \\\n",
       "0          0          0.0                            0                   0.0   \n",
       "1          0          5.0                          674                   2.5   \n",
       "2          1          2.0                         1532                   2.0   \n",
       "3          0          1.0                          305                   1.0   \n",
       "4          1          2.0                         1428                   1.0   \n",
       "\n",
       "   Lead Origin_Landing Page Submission  Lead Origin_Lead Add Form  \\\n",
       "0                                False                      False   \n",
       "1                                False                      False   \n",
       "2                                 True                      False   \n",
       "3                                 True                      False   \n",
       "4                                 True                      False   \n",
       "\n",
       "   Lead Origin_Lead Import  Lead Source_Direct Traffic  Lead Source_Facebook  \\\n",
       "0                    False                       False                 False   \n",
       "1                    False                       False                 False   \n",
       "2                    False                        True                 False   \n",
       "3                    False                        True                 False   \n",
       "4                    False                       False                 False   \n",
       "\n",
       "   Lead Source_Google  ...  Specialization_IT Projects Management  \\\n",
       "0               False  ...                                  False   \n",
       "1               False  ...                                  False   \n",
       "2               False  ...                                  False   \n",
       "3               False  ...                                  False   \n",
       "4                True  ...                                  False   \n",
       "\n",
       "   Specialization_International Business  Specialization_Marketing Management  \\\n",
       "0                                  False                                False   \n",
       "1                                  False                                False   \n",
       "2                                  False                                False   \n",
       "3                                  False                                False   \n",
       "4                                  False                                False   \n",
       "\n",
       "   Specialization_Media and Advertising  Specialization_Operations Management  \\\n",
       "0                                 False                                 False   \n",
       "1                                 False                                 False   \n",
       "2                                 False                                 False   \n",
       "3                                  True                                 False   \n",
       "4                                 False                                 False   \n",
       "\n",
       "   Specialization_Retail Management  Specialization_Rural and Agribusiness  \\\n",
       "0                             False                                  False   \n",
       "1                             False                                  False   \n",
       "2                             False                                  False   \n",
       "3                             False                                  False   \n",
       "4                             False                                  False   \n",
       "\n",
       "   Specialization_Services Excellence  Specialization_Supply Chain Management  \\\n",
       "0                               False                                   False   \n",
       "1                               False                                   False   \n",
       "2                               False                                   False   \n",
       "3                               False                                   False   \n",
       "4                               False                                   False   \n",
       "\n",
       "   Specialization_Travel and Tourism  \n",
       "0                              False  \n",
       "1                              False  \n",
       "2                              False  \n",
       "3                              False  \n",
       "4                              False  \n",
       "\n",
       "[5 rows x 75 columns]"
      ]
     },
     "execution_count": 258,
     "metadata": {},
     "output_type": "execute_result"
    }
   ],
   "source": [
    "leads.head()"
   ]
  },
  {
   "cell_type": "code",
   "execution_count": 259,
   "id": "62d0f6b3",
   "metadata": {},
   "outputs": [
    {
     "name": "stdout",
     "output_type": "stream",
     "text": [
      "<class 'pandas.core.frame.DataFrame'>\n",
      "Index: 6373 entries, 0 to 9239\n",
      "Data columns (total 75 columns):\n",
      " #   Column                                                Non-Null Count  Dtype  \n",
      "---  ------                                                --------------  -----  \n",
      " 0   Converted                                             6373 non-null   int64  \n",
      " 1   TotalVisits                                           6373 non-null   float64\n",
      " 2   Total Time Spent on Website                           6373 non-null   int64  \n",
      " 3   Page Views Per Visit                                  6373 non-null   float64\n",
      " 4   Lead Origin_Landing Page Submission                   6373 non-null   bool   \n",
      " 5   Lead Origin_Lead Add Form                             6373 non-null   bool   \n",
      " 6   Lead Origin_Lead Import                               6373 non-null   bool   \n",
      " 7   Lead Source_Direct Traffic                            6373 non-null   bool   \n",
      " 8   Lead Source_Facebook                                  6373 non-null   bool   \n",
      " 9   Lead Source_Google                                    6373 non-null   bool   \n",
      " 10  Lead Source_Live Chat                                 6373 non-null   bool   \n",
      " 11  Lead Source_Olark Chat                                6373 non-null   bool   \n",
      " 12  Lead Source_Organic Search                            6373 non-null   bool   \n",
      " 13  Lead Source_Pay per Click Ads                         6373 non-null   bool   \n",
      " 14  Lead Source_Press_Release                             6373 non-null   bool   \n",
      " 15  Lead Source_Reference                                 6373 non-null   bool   \n",
      " 16  Lead Source_Referral Sites                            6373 non-null   bool   \n",
      " 17  Lead Source_Social Media                              6373 non-null   bool   \n",
      " 18  Lead Source_WeLearn                                   6373 non-null   bool   \n",
      " 19  Lead Source_Welingak Website                          6373 non-null   bool   \n",
      " 20  Lead Source_bing                                      6373 non-null   bool   \n",
      " 21  Lead Source_testone                                   6373 non-null   bool   \n",
      " 22  Do Not Email_Yes                                      6373 non-null   bool   \n",
      " 23  Last Activity_Converted to Lead                       6373 non-null   bool   \n",
      " 24  Last Activity_Email Bounced                           6373 non-null   bool   \n",
      " 25  Last Activity_Email Link Clicked                      6373 non-null   bool   \n",
      " 26  Last Activity_Email Marked Spam                       6373 non-null   bool   \n",
      " 27  Last Activity_Email Opened                            6373 non-null   bool   \n",
      " 28  Last Activity_Email Received                          6373 non-null   bool   \n",
      " 29  Last Activity_Form Submitted on Website               6373 non-null   bool   \n",
      " 30  Last Activity_Had a Phone Conversation                6373 non-null   bool   \n",
      " 31  Last Activity_Olark Chat Conversation                 6373 non-null   bool   \n",
      " 32  Last Activity_Page Visited on Website                 6373 non-null   bool   \n",
      " 33  Last Activity_SMS Sent                                6373 non-null   bool   \n",
      " 34  Last Activity_Unreachable                             6373 non-null   bool   \n",
      " 35  Last Activity_Unsubscribed                            6373 non-null   bool   \n",
      " 36  Last Activity_View in browser link Clicked            6373 non-null   bool   \n",
      " 37  Last Activity_Visited Booth in Tradeshow              6373 non-null   bool   \n",
      " 38  What is your current occupation_Housewife             6373 non-null   bool   \n",
      " 39  What is your current occupation_Other                 6373 non-null   bool   \n",
      " 40  What is your current occupation_Student               6373 non-null   bool   \n",
      " 41  What is your current occupation_Unemployed            6373 non-null   bool   \n",
      " 42  What is your current occupation_Working Professional  6373 non-null   bool   \n",
      " 43  A free copy of Mastering The Interview_Yes            6373 non-null   bool   \n",
      " 44  Last Notable Activity_Email Bounced                   6373 non-null   bool   \n",
      " 45  Last Notable Activity_Email Link Clicked              6373 non-null   bool   \n",
      " 46  Last Notable Activity_Email Marked Spam               6373 non-null   bool   \n",
      " 47  Last Notable Activity_Email Opened                    6373 non-null   bool   \n",
      " 48  Last Notable Activity_Email Received                  6373 non-null   bool   \n",
      " 49  Last Notable Activity_Had a Phone Conversation        6373 non-null   bool   \n",
      " 50  Last Notable Activity_Modified                        6373 non-null   bool   \n",
      " 51  Last Notable Activity_Olark Chat Conversation         6373 non-null   bool   \n",
      " 52  Last Notable Activity_Page Visited on Website         6373 non-null   bool   \n",
      " 53  Last Notable Activity_SMS Sent                        6373 non-null   bool   \n",
      " 54  Last Notable Activity_Unreachable                     6373 non-null   bool   \n",
      " 55  Last Notable Activity_Unsubscribed                    6373 non-null   bool   \n",
      " 56  Last Notable Activity_View in browser link Clicked    6373 non-null   bool   \n",
      " 57  Specialization_Banking, Investment And Insurance      6373 non-null   bool   \n",
      " 58  Specialization_Business Administration                6373 non-null   bool   \n",
      " 59  Specialization_E-Business                             6373 non-null   bool   \n",
      " 60  Specialization_E-COMMERCE                             6373 non-null   bool   \n",
      " 61  Specialization_Finance Management                     6373 non-null   bool   \n",
      " 62  Specialization_Healthcare Management                  6373 non-null   bool   \n",
      " 63  Specialization_Hospitality Management                 6373 non-null   bool   \n",
      " 64  Specialization_Human Resource Management              6373 non-null   bool   \n",
      " 65  Specialization_IT Projects Management                 6373 non-null   bool   \n",
      " 66  Specialization_International Business                 6373 non-null   bool   \n",
      " 67  Specialization_Marketing Management                   6373 non-null   bool   \n",
      " 68  Specialization_Media and Advertising                  6373 non-null   bool   \n",
      " 69  Specialization_Operations Management                  6373 non-null   bool   \n",
      " 70  Specialization_Retail Management                      6373 non-null   bool   \n",
      " 71  Specialization_Rural and Agribusiness                 6373 non-null   bool   \n",
      " 72  Specialization_Services Excellence                    6373 non-null   bool   \n",
      " 73  Specialization_Supply Chain Management                6373 non-null   bool   \n",
      " 74  Specialization_Travel and Tourism                     6373 non-null   bool   \n",
      "dtypes: bool(71), float64(2), int64(2)\n",
      "memory usage: 690.8 KB\n"
     ]
    }
   ],
   "source": [
    "leads.info()"
   ]
  },
  {
   "cell_type": "markdown",
   "id": "f8cb7897",
   "metadata": {},
   "source": [
    "### Test-Train Split\n",
    "\n",
    "The next step is to split the dataset into training an testing sets."
   ]
  },
  {
   "cell_type": "code",
   "execution_count": 260,
   "id": "57b21504",
   "metadata": {},
   "outputs": [],
   "source": [
    "# Import the required library\n",
    "\n",
    "from sklearn.model_selection import train_test_split"
   ]
  },
  {
   "cell_type": "code",
   "execution_count": 261,
   "id": "2ffc3b56",
   "metadata": {},
   "outputs": [
    {
     "data": {
      "text/html": [
       "<div>\n",
       "<style scoped>\n",
       "    .dataframe tbody tr th:only-of-type {\n",
       "        vertical-align: middle;\n",
       "    }\n",
       "\n",
       "    .dataframe tbody tr th {\n",
       "        vertical-align: top;\n",
       "    }\n",
       "\n",
       "    .dataframe thead th {\n",
       "        text-align: right;\n",
       "    }\n",
       "</style>\n",
       "<table border=\"1\" class=\"dataframe\">\n",
       "  <thead>\n",
       "    <tr style=\"text-align: right;\">\n",
       "      <th></th>\n",
       "      <th>TotalVisits</th>\n",
       "      <th>Total Time Spent on Website</th>\n",
       "      <th>Page Views Per Visit</th>\n",
       "      <th>Lead Origin_Landing Page Submission</th>\n",
       "      <th>Lead Origin_Lead Add Form</th>\n",
       "      <th>Lead Origin_Lead Import</th>\n",
       "      <th>Lead Source_Direct Traffic</th>\n",
       "      <th>Lead Source_Facebook</th>\n",
       "      <th>Lead Source_Google</th>\n",
       "      <th>Lead Source_Live Chat</th>\n",
       "      <th>...</th>\n",
       "      <th>Specialization_IT Projects Management</th>\n",
       "      <th>Specialization_International Business</th>\n",
       "      <th>Specialization_Marketing Management</th>\n",
       "      <th>Specialization_Media and Advertising</th>\n",
       "      <th>Specialization_Operations Management</th>\n",
       "      <th>Specialization_Retail Management</th>\n",
       "      <th>Specialization_Rural and Agribusiness</th>\n",
       "      <th>Specialization_Services Excellence</th>\n",
       "      <th>Specialization_Supply Chain Management</th>\n",
       "      <th>Specialization_Travel and Tourism</th>\n",
       "    </tr>\n",
       "  </thead>\n",
       "  <tbody>\n",
       "    <tr>\n",
       "      <th>0</th>\n",
       "      <td>0.0</td>\n",
       "      <td>0</td>\n",
       "      <td>0.0</td>\n",
       "      <td>False</td>\n",
       "      <td>False</td>\n",
       "      <td>False</td>\n",
       "      <td>False</td>\n",
       "      <td>False</td>\n",
       "      <td>False</td>\n",
       "      <td>False</td>\n",
       "      <td>...</td>\n",
       "      <td>False</td>\n",
       "      <td>False</td>\n",
       "      <td>False</td>\n",
       "      <td>False</td>\n",
       "      <td>False</td>\n",
       "      <td>False</td>\n",
       "      <td>False</td>\n",
       "      <td>False</td>\n",
       "      <td>False</td>\n",
       "      <td>False</td>\n",
       "    </tr>\n",
       "    <tr>\n",
       "      <th>1</th>\n",
       "      <td>5.0</td>\n",
       "      <td>674</td>\n",
       "      <td>2.5</td>\n",
       "      <td>False</td>\n",
       "      <td>False</td>\n",
       "      <td>False</td>\n",
       "      <td>False</td>\n",
       "      <td>False</td>\n",
       "      <td>False</td>\n",
       "      <td>False</td>\n",
       "      <td>...</td>\n",
       "      <td>False</td>\n",
       "      <td>False</td>\n",
       "      <td>False</td>\n",
       "      <td>False</td>\n",
       "      <td>False</td>\n",
       "      <td>False</td>\n",
       "      <td>False</td>\n",
       "      <td>False</td>\n",
       "      <td>False</td>\n",
       "      <td>False</td>\n",
       "    </tr>\n",
       "    <tr>\n",
       "      <th>2</th>\n",
       "      <td>2.0</td>\n",
       "      <td>1532</td>\n",
       "      <td>2.0</td>\n",
       "      <td>True</td>\n",
       "      <td>False</td>\n",
       "      <td>False</td>\n",
       "      <td>True</td>\n",
       "      <td>False</td>\n",
       "      <td>False</td>\n",
       "      <td>False</td>\n",
       "      <td>...</td>\n",
       "      <td>False</td>\n",
       "      <td>False</td>\n",
       "      <td>False</td>\n",
       "      <td>False</td>\n",
       "      <td>False</td>\n",
       "      <td>False</td>\n",
       "      <td>False</td>\n",
       "      <td>False</td>\n",
       "      <td>False</td>\n",
       "      <td>False</td>\n",
       "    </tr>\n",
       "    <tr>\n",
       "      <th>3</th>\n",
       "      <td>1.0</td>\n",
       "      <td>305</td>\n",
       "      <td>1.0</td>\n",
       "      <td>True</td>\n",
       "      <td>False</td>\n",
       "      <td>False</td>\n",
       "      <td>True</td>\n",
       "      <td>False</td>\n",
       "      <td>False</td>\n",
       "      <td>False</td>\n",
       "      <td>...</td>\n",
       "      <td>False</td>\n",
       "      <td>False</td>\n",
       "      <td>False</td>\n",
       "      <td>True</td>\n",
       "      <td>False</td>\n",
       "      <td>False</td>\n",
       "      <td>False</td>\n",
       "      <td>False</td>\n",
       "      <td>False</td>\n",
       "      <td>False</td>\n",
       "    </tr>\n",
       "    <tr>\n",
       "      <th>4</th>\n",
       "      <td>2.0</td>\n",
       "      <td>1428</td>\n",
       "      <td>1.0</td>\n",
       "      <td>True</td>\n",
       "      <td>False</td>\n",
       "      <td>False</td>\n",
       "      <td>False</td>\n",
       "      <td>False</td>\n",
       "      <td>True</td>\n",
       "      <td>False</td>\n",
       "      <td>...</td>\n",
       "      <td>False</td>\n",
       "      <td>False</td>\n",
       "      <td>False</td>\n",
       "      <td>False</td>\n",
       "      <td>False</td>\n",
       "      <td>False</td>\n",
       "      <td>False</td>\n",
       "      <td>False</td>\n",
       "      <td>False</td>\n",
       "      <td>False</td>\n",
       "    </tr>\n",
       "  </tbody>\n",
       "</table>\n",
       "<p>5 rows × 74 columns</p>\n",
       "</div>"
      ],
      "text/plain": [
       "   TotalVisits  Total Time Spent on Website  Page Views Per Visit  \\\n",
       "0          0.0                            0                   0.0   \n",
       "1          5.0                          674                   2.5   \n",
       "2          2.0                         1532                   2.0   \n",
       "3          1.0                          305                   1.0   \n",
       "4          2.0                         1428                   1.0   \n",
       "\n",
       "   Lead Origin_Landing Page Submission  Lead Origin_Lead Add Form  \\\n",
       "0                                False                      False   \n",
       "1                                False                      False   \n",
       "2                                 True                      False   \n",
       "3                                 True                      False   \n",
       "4                                 True                      False   \n",
       "\n",
       "   Lead Origin_Lead Import  Lead Source_Direct Traffic  Lead Source_Facebook  \\\n",
       "0                    False                       False                 False   \n",
       "1                    False                       False                 False   \n",
       "2                    False                        True                 False   \n",
       "3                    False                        True                 False   \n",
       "4                    False                       False                 False   \n",
       "\n",
       "   Lead Source_Google  Lead Source_Live Chat  ...  \\\n",
       "0               False                  False  ...   \n",
       "1               False                  False  ...   \n",
       "2               False                  False  ...   \n",
       "3               False                  False  ...   \n",
       "4                True                  False  ...   \n",
       "\n",
       "   Specialization_IT Projects Management  \\\n",
       "0                                  False   \n",
       "1                                  False   \n",
       "2                                  False   \n",
       "3                                  False   \n",
       "4                                  False   \n",
       "\n",
       "   Specialization_International Business  Specialization_Marketing Management  \\\n",
       "0                                  False                                False   \n",
       "1                                  False                                False   \n",
       "2                                  False                                False   \n",
       "3                                  False                                False   \n",
       "4                                  False                                False   \n",
       "\n",
       "   Specialization_Media and Advertising  Specialization_Operations Management  \\\n",
       "0                                 False                                 False   \n",
       "1                                 False                                 False   \n",
       "2                                 False                                 False   \n",
       "3                                  True                                 False   \n",
       "4                                 False                                 False   \n",
       "\n",
       "   Specialization_Retail Management  Specialization_Rural and Agribusiness  \\\n",
       "0                             False                                  False   \n",
       "1                             False                                  False   \n",
       "2                             False                                  False   \n",
       "3                             False                                  False   \n",
       "4                             False                                  False   \n",
       "\n",
       "   Specialization_Services Excellence  Specialization_Supply Chain Management  \\\n",
       "0                               False                                   False   \n",
       "1                               False                                   False   \n",
       "2                               False                                   False   \n",
       "3                               False                                   False   \n",
       "4                               False                                   False   \n",
       "\n",
       "   Specialization_Travel and Tourism  \n",
       "0                              False  \n",
       "1                              False  \n",
       "2                              False  \n",
       "3                              False  \n",
       "4                              False  \n",
       "\n",
       "[5 rows x 74 columns]"
      ]
     },
     "execution_count": 261,
     "metadata": {},
     "output_type": "execute_result"
    }
   ],
   "source": [
    "# Put all the feature variables in X\n",
    "\n",
    "X = leads.drop(['Converted'], axis = 1)\n",
    "X.head()"
   ]
  },
  {
   "cell_type": "code",
   "execution_count": 262,
   "id": "bf3663e4",
   "metadata": {},
   "outputs": [
    {
     "data": {
      "text/plain": [
       "0    0\n",
       "1    0\n",
       "2    1\n",
       "3    0\n",
       "4    1\n",
       "Name: Converted, dtype: int64"
      ]
     },
     "execution_count": 262,
     "metadata": {},
     "output_type": "execute_result"
    }
   ],
   "source": [
    "# Put the target variable in y\n",
    "\n",
    "y = leads['Converted']\n",
    "\n",
    "y.head()"
   ]
  },
  {
   "cell_type": "code",
   "execution_count": 263,
   "id": "c287e572",
   "metadata": {},
   "outputs": [],
   "source": [
    "# Split the dataset into 70% train and 30% test\n",
    "\n",
    "X_train, X_test, y_train, y_test = train_test_split(X, y, train_size=0.7, test_size=0.3, random_state=100)"
   ]
  },
  {
   "cell_type": "code",
   "execution_count": 264,
   "id": "48a4708b",
   "metadata": {},
   "outputs": [
    {
     "data": {
      "text/plain": [
       "((4461, 74), (4461,))"
      ]
     },
     "execution_count": 264,
     "metadata": {},
     "output_type": "execute_result"
    }
   ],
   "source": [
    "X_train.shape, y_train.shape"
   ]
  },
  {
   "cell_type": "code",
   "execution_count": 265,
   "id": "92572392",
   "metadata": {},
   "outputs": [
    {
     "data": {
      "text/plain": [
       "((1912, 74), (1912,))"
      ]
     },
     "execution_count": 265,
     "metadata": {},
     "output_type": "execute_result"
    }
   ],
   "source": [
    " X_test.shape, y_test.shape"
   ]
  },
  {
   "cell_type": "markdown",
   "id": "3dd8de3d",
   "metadata": {},
   "source": [
    "### Scaling\n",
    "\n",
    "Now there are a few numeric variables present in the dataset which have different scales. So let's go ahead and scale these variables."
   ]
  },
  {
   "cell_type": "code",
   "execution_count": 266,
   "id": "cedc98d8",
   "metadata": {},
   "outputs": [],
   "source": [
    "# Import MinMax scaler\n",
    "\n",
    "from sklearn.preprocessing import MinMaxScaler"
   ]
  },
  {
   "cell_type": "code",
   "execution_count": 267,
   "id": "8ca0986a",
   "metadata": {},
   "outputs": [
    {
     "data": {
      "text/html": [
       "<div>\n",
       "<style scoped>\n",
       "    .dataframe tbody tr th:only-of-type {\n",
       "        vertical-align: middle;\n",
       "    }\n",
       "\n",
       "    .dataframe tbody tr th {\n",
       "        vertical-align: top;\n",
       "    }\n",
       "\n",
       "    .dataframe thead th {\n",
       "        text-align: right;\n",
       "    }\n",
       "</style>\n",
       "<table border=\"1\" class=\"dataframe\">\n",
       "  <thead>\n",
       "    <tr style=\"text-align: right;\">\n",
       "      <th></th>\n",
       "      <th>TotalVisits</th>\n",
       "      <th>Total Time Spent on Website</th>\n",
       "      <th>Page Views Per Visit</th>\n",
       "      <th>Lead Origin_Landing Page Submission</th>\n",
       "      <th>Lead Origin_Lead Add Form</th>\n",
       "      <th>Lead Origin_Lead Import</th>\n",
       "      <th>Lead Source_Direct Traffic</th>\n",
       "      <th>Lead Source_Facebook</th>\n",
       "      <th>Lead Source_Google</th>\n",
       "      <th>Lead Source_Live Chat</th>\n",
       "      <th>...</th>\n",
       "      <th>Specialization_IT Projects Management</th>\n",
       "      <th>Specialization_International Business</th>\n",
       "      <th>Specialization_Marketing Management</th>\n",
       "      <th>Specialization_Media and Advertising</th>\n",
       "      <th>Specialization_Operations Management</th>\n",
       "      <th>Specialization_Retail Management</th>\n",
       "      <th>Specialization_Rural and Agribusiness</th>\n",
       "      <th>Specialization_Services Excellence</th>\n",
       "      <th>Specialization_Supply Chain Management</th>\n",
       "      <th>Specialization_Travel and Tourism</th>\n",
       "    </tr>\n",
       "  </thead>\n",
       "  <tbody>\n",
       "    <tr>\n",
       "      <th>8003</th>\n",
       "      <td>0.015936</td>\n",
       "      <td>0.029489</td>\n",
       "      <td>0.125</td>\n",
       "      <td>True</td>\n",
       "      <td>False</td>\n",
       "      <td>False</td>\n",
       "      <td>True</td>\n",
       "      <td>False</td>\n",
       "      <td>False</td>\n",
       "      <td>False</td>\n",
       "      <td>...</td>\n",
       "      <td>True</td>\n",
       "      <td>False</td>\n",
       "      <td>False</td>\n",
       "      <td>False</td>\n",
       "      <td>False</td>\n",
       "      <td>False</td>\n",
       "      <td>False</td>\n",
       "      <td>False</td>\n",
       "      <td>False</td>\n",
       "      <td>False</td>\n",
       "    </tr>\n",
       "    <tr>\n",
       "      <th>218</th>\n",
       "      <td>0.015936</td>\n",
       "      <td>0.082306</td>\n",
       "      <td>0.250</td>\n",
       "      <td>True</td>\n",
       "      <td>False</td>\n",
       "      <td>False</td>\n",
       "      <td>True</td>\n",
       "      <td>False</td>\n",
       "      <td>False</td>\n",
       "      <td>False</td>\n",
       "      <td>...</td>\n",
       "      <td>False</td>\n",
       "      <td>False</td>\n",
       "      <td>False</td>\n",
       "      <td>False</td>\n",
       "      <td>False</td>\n",
       "      <td>False</td>\n",
       "      <td>False</td>\n",
       "      <td>False</td>\n",
       "      <td>False</td>\n",
       "      <td>False</td>\n",
       "    </tr>\n",
       "    <tr>\n",
       "      <th>4171</th>\n",
       "      <td>0.023904</td>\n",
       "      <td>0.034331</td>\n",
       "      <td>0.375</td>\n",
       "      <td>True</td>\n",
       "      <td>False</td>\n",
       "      <td>False</td>\n",
       "      <td>True</td>\n",
       "      <td>False</td>\n",
       "      <td>False</td>\n",
       "      <td>False</td>\n",
       "      <td>...</td>\n",
       "      <td>False</td>\n",
       "      <td>False</td>\n",
       "      <td>False</td>\n",
       "      <td>False</td>\n",
       "      <td>False</td>\n",
       "      <td>False</td>\n",
       "      <td>False</td>\n",
       "      <td>False</td>\n",
       "      <td>False</td>\n",
       "      <td>True</td>\n",
       "    </tr>\n",
       "    <tr>\n",
       "      <th>4037</th>\n",
       "      <td>0.000000</td>\n",
       "      <td>0.000000</td>\n",
       "      <td>0.000</td>\n",
       "      <td>False</td>\n",
       "      <td>False</td>\n",
       "      <td>False</td>\n",
       "      <td>False</td>\n",
       "      <td>False</td>\n",
       "      <td>False</td>\n",
       "      <td>False</td>\n",
       "      <td>...</td>\n",
       "      <td>False</td>\n",
       "      <td>False</td>\n",
       "      <td>False</td>\n",
       "      <td>False</td>\n",
       "      <td>False</td>\n",
       "      <td>False</td>\n",
       "      <td>False</td>\n",
       "      <td>False</td>\n",
       "      <td>False</td>\n",
       "      <td>False</td>\n",
       "    </tr>\n",
       "    <tr>\n",
       "      <th>3660</th>\n",
       "      <td>0.000000</td>\n",
       "      <td>0.000000</td>\n",
       "      <td>0.000</td>\n",
       "      <td>False</td>\n",
       "      <td>True</td>\n",
       "      <td>False</td>\n",
       "      <td>False</td>\n",
       "      <td>False</td>\n",
       "      <td>False</td>\n",
       "      <td>False</td>\n",
       "      <td>...</td>\n",
       "      <td>False</td>\n",
       "      <td>False</td>\n",
       "      <td>False</td>\n",
       "      <td>False</td>\n",
       "      <td>False</td>\n",
       "      <td>False</td>\n",
       "      <td>False</td>\n",
       "      <td>False</td>\n",
       "      <td>False</td>\n",
       "      <td>False</td>\n",
       "    </tr>\n",
       "  </tbody>\n",
       "</table>\n",
       "<p>5 rows × 74 columns</p>\n",
       "</div>"
      ],
      "text/plain": [
       "      TotalVisits  Total Time Spent on Website  Page Views Per Visit  \\\n",
       "8003     0.015936                     0.029489                 0.125   \n",
       "218      0.015936                     0.082306                 0.250   \n",
       "4171     0.023904                     0.034331                 0.375   \n",
       "4037     0.000000                     0.000000                 0.000   \n",
       "3660     0.000000                     0.000000                 0.000   \n",
       "\n",
       "      Lead Origin_Landing Page Submission  Lead Origin_Lead Add Form  \\\n",
       "8003                                 True                      False   \n",
       "218                                  True                      False   \n",
       "4171                                 True                      False   \n",
       "4037                                False                      False   \n",
       "3660                                False                       True   \n",
       "\n",
       "      Lead Origin_Lead Import  Lead Source_Direct Traffic  \\\n",
       "8003                    False                        True   \n",
       "218                     False                        True   \n",
       "4171                    False                        True   \n",
       "4037                    False                       False   \n",
       "3660                    False                       False   \n",
       "\n",
       "      Lead Source_Facebook  Lead Source_Google  Lead Source_Live Chat  ...  \\\n",
       "8003                 False               False                  False  ...   \n",
       "218                  False               False                  False  ...   \n",
       "4171                 False               False                  False  ...   \n",
       "4037                 False               False                  False  ...   \n",
       "3660                 False               False                  False  ...   \n",
       "\n",
       "      Specialization_IT Projects Management  \\\n",
       "8003                                   True   \n",
       "218                                   False   \n",
       "4171                                  False   \n",
       "4037                                  False   \n",
       "3660                                  False   \n",
       "\n",
       "      Specialization_International Business  \\\n",
       "8003                                  False   \n",
       "218                                   False   \n",
       "4171                                  False   \n",
       "4037                                  False   \n",
       "3660                                  False   \n",
       "\n",
       "      Specialization_Marketing Management  \\\n",
       "8003                                False   \n",
       "218                                 False   \n",
       "4171                                False   \n",
       "4037                                False   \n",
       "3660                                False   \n",
       "\n",
       "      Specialization_Media and Advertising  \\\n",
       "8003                                 False   \n",
       "218                                  False   \n",
       "4171                                 False   \n",
       "4037                                 False   \n",
       "3660                                 False   \n",
       "\n",
       "      Specialization_Operations Management  Specialization_Retail Management  \\\n",
       "8003                                 False                             False   \n",
       "218                                  False                             False   \n",
       "4171                                 False                             False   \n",
       "4037                                 False                             False   \n",
       "3660                                 False                             False   \n",
       "\n",
       "      Specialization_Rural and Agribusiness  \\\n",
       "8003                                  False   \n",
       "218                                   False   \n",
       "4171                                  False   \n",
       "4037                                  False   \n",
       "3660                                  False   \n",
       "\n",
       "      Specialization_Services Excellence  \\\n",
       "8003                               False   \n",
       "218                                False   \n",
       "4171                               False   \n",
       "4037                               False   \n",
       "3660                               False   \n",
       "\n",
       "      Specialization_Supply Chain Management  \\\n",
       "8003                                   False   \n",
       "218                                    False   \n",
       "4171                                   False   \n",
       "4037                                   False   \n",
       "3660                                   False   \n",
       "\n",
       "      Specialization_Travel and Tourism  \n",
       "8003                              False  \n",
       "218                               False  \n",
       "4171                               True  \n",
       "4037                              False  \n",
       "3660                              False  \n",
       "\n",
       "[5 rows x 74 columns]"
      ]
     },
     "execution_count": 267,
     "metadata": {},
     "output_type": "execute_result"
    }
   ],
   "source": [
    "# Scale the three numeric features present in the dataset\n",
    "\n",
    "scaler = MinMaxScaler()\n",
    "\n",
    "X_train[['TotalVisits', 'Page Views Per Visit', 'Total Time Spent on Website']] = scaler.fit_transform(X_train[['TotalVisits', 'Page Views Per Visit', 'Total Time Spent on Website']])\n",
    "\n",
    "X_train.head()"
   ]
  },
  {
   "cell_type": "markdown",
   "id": "44722cd8",
   "metadata": {},
   "source": [
    "### Looking at the correlations\n",
    "\n",
    "Let's now look at the correlations. Since the number of variables are pretty high, it's better that we look at the table instead of plotting a heatmap"
   ]
  },
  {
   "cell_type": "code",
   "execution_count": 268,
   "id": "3ed2fb6c",
   "metadata": {},
   "outputs": [
    {
     "data": {
      "text/html": [
       "<div>\n",
       "<style scoped>\n",
       "    .dataframe tbody tr th:only-of-type {\n",
       "        vertical-align: middle;\n",
       "    }\n",
       "\n",
       "    .dataframe tbody tr th {\n",
       "        vertical-align: top;\n",
       "    }\n",
       "\n",
       "    .dataframe thead th {\n",
       "        text-align: right;\n",
       "    }\n",
       "</style>\n",
       "<table border=\"1\" class=\"dataframe\">\n",
       "  <thead>\n",
       "    <tr style=\"text-align: right;\">\n",
       "      <th></th>\n",
       "      <th>Converted</th>\n",
       "      <th>TotalVisits</th>\n",
       "      <th>Total Time Spent on Website</th>\n",
       "      <th>Page Views Per Visit</th>\n",
       "      <th>Lead Origin_Landing Page Submission</th>\n",
       "      <th>Lead Origin_Lead Add Form</th>\n",
       "      <th>Lead Origin_Lead Import</th>\n",
       "      <th>Lead Source_Direct Traffic</th>\n",
       "      <th>Lead Source_Facebook</th>\n",
       "      <th>Lead Source_Google</th>\n",
       "      <th>...</th>\n",
       "      <th>Specialization_IT Projects Management</th>\n",
       "      <th>Specialization_International Business</th>\n",
       "      <th>Specialization_Marketing Management</th>\n",
       "      <th>Specialization_Media and Advertising</th>\n",
       "      <th>Specialization_Operations Management</th>\n",
       "      <th>Specialization_Retail Management</th>\n",
       "      <th>Specialization_Rural and Agribusiness</th>\n",
       "      <th>Specialization_Services Excellence</th>\n",
       "      <th>Specialization_Supply Chain Management</th>\n",
       "      <th>Specialization_Travel and Tourism</th>\n",
       "    </tr>\n",
       "  </thead>\n",
       "  <tbody>\n",
       "    <tr>\n",
       "      <th>Converted</th>\n",
       "      <td>1.000000</td>\n",
       "      <td>0.005651</td>\n",
       "      <td>0.313338</td>\n",
       "      <td>-0.063362</td>\n",
       "      <td>-0.117563</td>\n",
       "      <td>0.288666</td>\n",
       "      <td>-0.019269</td>\n",
       "      <td>-0.133600</td>\n",
       "      <td>-0.021207</td>\n",
       "      <td>0.020205</td>\n",
       "      <td>...</td>\n",
       "      <td>-0.005689</td>\n",
       "      <td>-0.024789</td>\n",
       "      <td>0.049520</td>\n",
       "      <td>-0.000862</td>\n",
       "      <td>0.031349</td>\n",
       "      <td>-0.018603</td>\n",
       "      <td>0.006964</td>\n",
       "      <td>-0.005142</td>\n",
       "      <td>0.005785</td>\n",
       "      <td>-0.011762</td>\n",
       "    </tr>\n",
       "    <tr>\n",
       "      <th>TotalVisits</th>\n",
       "      <td>0.005651</td>\n",
       "      <td>1.000000</td>\n",
       "      <td>0.202551</td>\n",
       "      <td>0.489039</td>\n",
       "      <td>0.267954</td>\n",
       "      <td>-0.208375</td>\n",
       "      <td>-0.043000</td>\n",
       "      <td>0.075252</td>\n",
       "      <td>-0.042052</td>\n",
       "      <td>0.085306</td>\n",
       "      <td>...</td>\n",
       "      <td>0.025182</td>\n",
       "      <td>0.028630</td>\n",
       "      <td>-0.000493</td>\n",
       "      <td>0.038725</td>\n",
       "      <td>0.008929</td>\n",
       "      <td>0.014223</td>\n",
       "      <td>0.068015</td>\n",
       "      <td>0.015114</td>\n",
       "      <td>0.063383</td>\n",
       "      <td>0.064384</td>\n",
       "    </tr>\n",
       "    <tr>\n",
       "      <th>Total Time Spent on Website</th>\n",
       "      <td>0.313338</td>\n",
       "      <td>0.202551</td>\n",
       "      <td>1.000000</td>\n",
       "      <td>0.303870</td>\n",
       "      <td>0.275606</td>\n",
       "      <td>-0.249493</td>\n",
       "      <td>-0.061429</td>\n",
       "      <td>0.114088</td>\n",
       "      <td>-0.060945</td>\n",
       "      <td>0.227496</td>\n",
       "      <td>...</td>\n",
       "      <td>0.025526</td>\n",
       "      <td>0.011056</td>\n",
       "      <td>0.052437</td>\n",
       "      <td>0.043356</td>\n",
       "      <td>0.050860</td>\n",
       "      <td>0.024919</td>\n",
       "      <td>0.018767</td>\n",
       "      <td>0.003203</td>\n",
       "      <td>0.045386</td>\n",
       "      <td>0.037867</td>\n",
       "    </tr>\n",
       "    <tr>\n",
       "      <th>Page Views Per Visit</th>\n",
       "      <td>-0.063362</td>\n",
       "      <td>0.489039</td>\n",
       "      <td>0.303870</td>\n",
       "      <td>1.000000</td>\n",
       "      <td>0.458168</td>\n",
       "      <td>-0.340185</td>\n",
       "      <td>-0.065739</td>\n",
       "      <td>0.109785</td>\n",
       "      <td>-0.062896</td>\n",
       "      <td>0.183735</td>\n",
       "      <td>...</td>\n",
       "      <td>0.062421</td>\n",
       "      <td>0.057990</td>\n",
       "      <td>0.017799</td>\n",
       "      <td>0.063772</td>\n",
       "      <td>0.030364</td>\n",
       "      <td>0.026099</td>\n",
       "      <td>0.027465</td>\n",
       "      <td>0.015230</td>\n",
       "      <td>0.052972</td>\n",
       "      <td>0.111284</td>\n",
       "    </tr>\n",
       "    <tr>\n",
       "      <th>Lead Origin_Landing Page Submission</th>\n",
       "      <td>-0.117563</td>\n",
       "      <td>0.267954</td>\n",
       "      <td>0.275606</td>\n",
       "      <td>0.458168</td>\n",
       "      <td>1.000000</td>\n",
       "      <td>-0.363764</td>\n",
       "      <td>-0.074917</td>\n",
       "      <td>0.508857</td>\n",
       "      <td>-0.071507</td>\n",
       "      <td>0.067225</td>\n",
       "      <td>...</td>\n",
       "      <td>0.133206</td>\n",
       "      <td>0.089105</td>\n",
       "      <td>0.084975</td>\n",
       "      <td>0.093730</td>\n",
       "      <td>0.095849</td>\n",
       "      <td>0.070983</td>\n",
       "      <td>0.050077</td>\n",
       "      <td>0.039433</td>\n",
       "      <td>0.111610</td>\n",
       "      <td>0.094875</td>\n",
       "    </tr>\n",
       "    <tr>\n",
       "      <th>...</th>\n",
       "      <td>...</td>\n",
       "      <td>...</td>\n",
       "      <td>...</td>\n",
       "      <td>...</td>\n",
       "      <td>...</td>\n",
       "      <td>...</td>\n",
       "      <td>...</td>\n",
       "      <td>...</td>\n",
       "      <td>...</td>\n",
       "      <td>...</td>\n",
       "      <td>...</td>\n",
       "      <td>...</td>\n",
       "      <td>...</td>\n",
       "      <td>...</td>\n",
       "      <td>...</td>\n",
       "      <td>...</td>\n",
       "      <td>...</td>\n",
       "      <td>...</td>\n",
       "      <td>...</td>\n",
       "      <td>...</td>\n",
       "      <td>...</td>\n",
       "    </tr>\n",
       "    <tr>\n",
       "      <th>Specialization_Retail Management</th>\n",
       "      <td>-0.018603</td>\n",
       "      <td>0.014223</td>\n",
       "      <td>0.024919</td>\n",
       "      <td>0.026099</td>\n",
       "      <td>0.070983</td>\n",
       "      <td>-0.025339</td>\n",
       "      <td>-0.007261</td>\n",
       "      <td>0.022168</td>\n",
       "      <td>-0.007395</td>\n",
       "      <td>0.021190</td>\n",
       "      <td>...</td>\n",
       "      <td>-0.023773</td>\n",
       "      <td>-0.016437</td>\n",
       "      <td>-0.037930</td>\n",
       "      <td>-0.017920</td>\n",
       "      <td>-0.028459</td>\n",
       "      <td>1.000000</td>\n",
       "      <td>-0.010668</td>\n",
       "      <td>-0.006986</td>\n",
       "      <td>-0.023639</td>\n",
       "      <td>-0.017223</td>\n",
       "    </tr>\n",
       "    <tr>\n",
       "      <th>Specialization_Rural and Agribusiness</th>\n",
       "      <td>0.006964</td>\n",
       "      <td>0.068015</td>\n",
       "      <td>0.018767</td>\n",
       "      <td>0.027465</td>\n",
       "      <td>0.050077</td>\n",
       "      <td>-0.018872</td>\n",
       "      <td>-0.006251</td>\n",
       "      <td>0.021596</td>\n",
       "      <td>-0.006366</td>\n",
       "      <td>-0.037642</td>\n",
       "      <td>...</td>\n",
       "      <td>-0.020467</td>\n",
       "      <td>-0.014152</td>\n",
       "      <td>-0.032656</td>\n",
       "      <td>-0.015429</td>\n",
       "      <td>-0.024501</td>\n",
       "      <td>-0.010668</td>\n",
       "      <td>1.000000</td>\n",
       "      <td>-0.006014</td>\n",
       "      <td>-0.020352</td>\n",
       "      <td>-0.014828</td>\n",
       "    </tr>\n",
       "    <tr>\n",
       "      <th>Specialization_Services Excellence</th>\n",
       "      <td>-0.005142</td>\n",
       "      <td>0.015114</td>\n",
       "      <td>0.003203</td>\n",
       "      <td>0.015230</td>\n",
       "      <td>0.039433</td>\n",
       "      <td>-0.011155</td>\n",
       "      <td>-0.004093</td>\n",
       "      <td>0.053189</td>\n",
       "      <td>-0.004169</td>\n",
       "      <td>-0.027058</td>\n",
       "      <td>...</td>\n",
       "      <td>-0.013403</td>\n",
       "      <td>-0.009267</td>\n",
       "      <td>-0.021384</td>\n",
       "      <td>-0.010103</td>\n",
       "      <td>-0.016044</td>\n",
       "      <td>-0.006986</td>\n",
       "      <td>-0.006014</td>\n",
       "      <td>1.000000</td>\n",
       "      <td>-0.013327</td>\n",
       "      <td>-0.009710</td>\n",
       "    </tr>\n",
       "    <tr>\n",
       "      <th>Specialization_Supply Chain Management</th>\n",
       "      <td>0.005785</td>\n",
       "      <td>0.063383</td>\n",
       "      <td>0.045386</td>\n",
       "      <td>0.052972</td>\n",
       "      <td>0.111610</td>\n",
       "      <td>-0.035065</td>\n",
       "      <td>-0.001963</td>\n",
       "      <td>0.093536</td>\n",
       "      <td>-0.002431</td>\n",
       "      <td>-0.027074</td>\n",
       "      <td>...</td>\n",
       "      <td>-0.045353</td>\n",
       "      <td>-0.031358</td>\n",
       "      <td>-0.072362</td>\n",
       "      <td>-0.034188</td>\n",
       "      <td>-0.054292</td>\n",
       "      <td>-0.023639</td>\n",
       "      <td>-0.020352</td>\n",
       "      <td>-0.013327</td>\n",
       "      <td>1.000000</td>\n",
       "      <td>-0.032857</td>\n",
       "    </tr>\n",
       "    <tr>\n",
       "      <th>Specialization_Travel and Tourism</th>\n",
       "      <td>-0.011762</td>\n",
       "      <td>0.064384</td>\n",
       "      <td>0.037867</td>\n",
       "      <td>0.111284</td>\n",
       "      <td>0.094875</td>\n",
       "      <td>-0.045397</td>\n",
       "      <td>-0.010092</td>\n",
       "      <td>0.002757</td>\n",
       "      <td>-0.010278</td>\n",
       "      <td>-0.053104</td>\n",
       "      <td>...</td>\n",
       "      <td>-0.033044</td>\n",
       "      <td>-0.022848</td>\n",
       "      <td>-0.052723</td>\n",
       "      <td>-0.024909</td>\n",
       "      <td>-0.039557</td>\n",
       "      <td>-0.017223</td>\n",
       "      <td>-0.014828</td>\n",
       "      <td>-0.009710</td>\n",
       "      <td>-0.032857</td>\n",
       "      <td>1.000000</td>\n",
       "    </tr>\n",
       "  </tbody>\n",
       "</table>\n",
       "<p>75 rows × 75 columns</p>\n",
       "</div>"
      ],
      "text/plain": [
       "                                        Converted  TotalVisits  \\\n",
       "Converted                                1.000000     0.005651   \n",
       "TotalVisits                              0.005651     1.000000   \n",
       "Total Time Spent on Website              0.313338     0.202551   \n",
       "Page Views Per Visit                    -0.063362     0.489039   \n",
       "Lead Origin_Landing Page Submission     -0.117563     0.267954   \n",
       "...                                           ...          ...   \n",
       "Specialization_Retail Management        -0.018603     0.014223   \n",
       "Specialization_Rural and Agribusiness    0.006964     0.068015   \n",
       "Specialization_Services Excellence      -0.005142     0.015114   \n",
       "Specialization_Supply Chain Management   0.005785     0.063383   \n",
       "Specialization_Travel and Tourism       -0.011762     0.064384   \n",
       "\n",
       "                                        Total Time Spent on Website  \\\n",
       "Converted                                                  0.313338   \n",
       "TotalVisits                                                0.202551   \n",
       "Total Time Spent on Website                                1.000000   \n",
       "Page Views Per Visit                                       0.303870   \n",
       "Lead Origin_Landing Page Submission                        0.275606   \n",
       "...                                                             ...   \n",
       "Specialization_Retail Management                           0.024919   \n",
       "Specialization_Rural and Agribusiness                      0.018767   \n",
       "Specialization_Services Excellence                         0.003203   \n",
       "Specialization_Supply Chain Management                     0.045386   \n",
       "Specialization_Travel and Tourism                          0.037867   \n",
       "\n",
       "                                        Page Views Per Visit  \\\n",
       "Converted                                          -0.063362   \n",
       "TotalVisits                                         0.489039   \n",
       "Total Time Spent on Website                         0.303870   \n",
       "Page Views Per Visit                                1.000000   \n",
       "Lead Origin_Landing Page Submission                 0.458168   \n",
       "...                                                      ...   \n",
       "Specialization_Retail Management                    0.026099   \n",
       "Specialization_Rural and Agribusiness               0.027465   \n",
       "Specialization_Services Excellence                  0.015230   \n",
       "Specialization_Supply Chain Management              0.052972   \n",
       "Specialization_Travel and Tourism                   0.111284   \n",
       "\n",
       "                                        Lead Origin_Landing Page Submission  \\\n",
       "Converted                                                         -0.117563   \n",
       "TotalVisits                                                        0.267954   \n",
       "Total Time Spent on Website                                        0.275606   \n",
       "Page Views Per Visit                                               0.458168   \n",
       "Lead Origin_Landing Page Submission                                1.000000   \n",
       "...                                                                     ...   \n",
       "Specialization_Retail Management                                   0.070983   \n",
       "Specialization_Rural and Agribusiness                              0.050077   \n",
       "Specialization_Services Excellence                                 0.039433   \n",
       "Specialization_Supply Chain Management                             0.111610   \n",
       "Specialization_Travel and Tourism                                  0.094875   \n",
       "\n",
       "                                        Lead Origin_Lead Add Form  \\\n",
       "Converted                                                0.288666   \n",
       "TotalVisits                                             -0.208375   \n",
       "Total Time Spent on Website                             -0.249493   \n",
       "Page Views Per Visit                                    -0.340185   \n",
       "Lead Origin_Landing Page Submission                     -0.363764   \n",
       "...                                                           ...   \n",
       "Specialization_Retail Management                        -0.025339   \n",
       "Specialization_Rural and Agribusiness                   -0.018872   \n",
       "Specialization_Services Excellence                      -0.011155   \n",
       "Specialization_Supply Chain Management                  -0.035065   \n",
       "Specialization_Travel and Tourism                       -0.045397   \n",
       "\n",
       "                                        Lead Origin_Lead Import  \\\n",
       "Converted                                             -0.019269   \n",
       "TotalVisits                                           -0.043000   \n",
       "Total Time Spent on Website                           -0.061429   \n",
       "Page Views Per Visit                                  -0.065739   \n",
       "Lead Origin_Landing Page Submission                   -0.074917   \n",
       "...                                                         ...   \n",
       "Specialization_Retail Management                      -0.007261   \n",
       "Specialization_Rural and Agribusiness                 -0.006251   \n",
       "Specialization_Services Excellence                    -0.004093   \n",
       "Specialization_Supply Chain Management                -0.001963   \n",
       "Specialization_Travel and Tourism                     -0.010092   \n",
       "\n",
       "                                        Lead Source_Direct Traffic  \\\n",
       "Converted                                                -0.133600   \n",
       "TotalVisits                                               0.075252   \n",
       "Total Time Spent on Website                               0.114088   \n",
       "Page Views Per Visit                                      0.109785   \n",
       "Lead Origin_Landing Page Submission                       0.508857   \n",
       "...                                                            ...   \n",
       "Specialization_Retail Management                          0.022168   \n",
       "Specialization_Rural and Agribusiness                     0.021596   \n",
       "Specialization_Services Excellence                        0.053189   \n",
       "Specialization_Supply Chain Management                    0.093536   \n",
       "Specialization_Travel and Tourism                         0.002757   \n",
       "\n",
       "                                        Lead Source_Facebook  \\\n",
       "Converted                                          -0.021207   \n",
       "TotalVisits                                        -0.042052   \n",
       "Total Time Spent on Website                        -0.060945   \n",
       "Page Views Per Visit                               -0.062896   \n",
       "Lead Origin_Landing Page Submission                -0.071507   \n",
       "...                                                      ...   \n",
       "Specialization_Retail Management                   -0.007395   \n",
       "Specialization_Rural and Agribusiness              -0.006366   \n",
       "Specialization_Services Excellence                 -0.004169   \n",
       "Specialization_Supply Chain Management             -0.002431   \n",
       "Specialization_Travel and Tourism                  -0.010278   \n",
       "\n",
       "                                        Lead Source_Google  ...  \\\n",
       "Converted                                         0.020205  ...   \n",
       "TotalVisits                                       0.085306  ...   \n",
       "Total Time Spent on Website                       0.227496  ...   \n",
       "Page Views Per Visit                              0.183735  ...   \n",
       "Lead Origin_Landing Page Submission               0.067225  ...   \n",
       "...                                                    ...  ...   \n",
       "Specialization_Retail Management                  0.021190  ...   \n",
       "Specialization_Rural and Agribusiness            -0.037642  ...   \n",
       "Specialization_Services Excellence               -0.027058  ...   \n",
       "Specialization_Supply Chain Management           -0.027074  ...   \n",
       "Specialization_Travel and Tourism                -0.053104  ...   \n",
       "\n",
       "                                        Specialization_IT Projects Management  \\\n",
       "Converted                                                           -0.005689   \n",
       "TotalVisits                                                          0.025182   \n",
       "Total Time Spent on Website                                          0.025526   \n",
       "Page Views Per Visit                                                 0.062421   \n",
       "Lead Origin_Landing Page Submission                                  0.133206   \n",
       "...                                                                       ...   \n",
       "Specialization_Retail Management                                    -0.023773   \n",
       "Specialization_Rural and Agribusiness                               -0.020467   \n",
       "Specialization_Services Excellence                                  -0.013403   \n",
       "Specialization_Supply Chain Management                              -0.045353   \n",
       "Specialization_Travel and Tourism                                   -0.033044   \n",
       "\n",
       "                                        Specialization_International Business  \\\n",
       "Converted                                                           -0.024789   \n",
       "TotalVisits                                                          0.028630   \n",
       "Total Time Spent on Website                                          0.011056   \n",
       "Page Views Per Visit                                                 0.057990   \n",
       "Lead Origin_Landing Page Submission                                  0.089105   \n",
       "...                                                                       ...   \n",
       "Specialization_Retail Management                                    -0.016437   \n",
       "Specialization_Rural and Agribusiness                               -0.014152   \n",
       "Specialization_Services Excellence                                  -0.009267   \n",
       "Specialization_Supply Chain Management                              -0.031358   \n",
       "Specialization_Travel and Tourism                                   -0.022848   \n",
       "\n",
       "                                        Specialization_Marketing Management  \\\n",
       "Converted                                                          0.049520   \n",
       "TotalVisits                                                       -0.000493   \n",
       "Total Time Spent on Website                                        0.052437   \n",
       "Page Views Per Visit                                               0.017799   \n",
       "Lead Origin_Landing Page Submission                                0.084975   \n",
       "...                                                                     ...   \n",
       "Specialization_Retail Management                                  -0.037930   \n",
       "Specialization_Rural and Agribusiness                             -0.032656   \n",
       "Specialization_Services Excellence                                -0.021384   \n",
       "Specialization_Supply Chain Management                            -0.072362   \n",
       "Specialization_Travel and Tourism                                 -0.052723   \n",
       "\n",
       "                                        Specialization_Media and Advertising  \\\n",
       "Converted                                                          -0.000862   \n",
       "TotalVisits                                                         0.038725   \n",
       "Total Time Spent on Website                                         0.043356   \n",
       "Page Views Per Visit                                                0.063772   \n",
       "Lead Origin_Landing Page Submission                                 0.093730   \n",
       "...                                                                      ...   \n",
       "Specialization_Retail Management                                   -0.017920   \n",
       "Specialization_Rural and Agribusiness                              -0.015429   \n",
       "Specialization_Services Excellence                                 -0.010103   \n",
       "Specialization_Supply Chain Management                             -0.034188   \n",
       "Specialization_Travel and Tourism                                  -0.024909   \n",
       "\n",
       "                                        Specialization_Operations Management  \\\n",
       "Converted                                                           0.031349   \n",
       "TotalVisits                                                         0.008929   \n",
       "Total Time Spent on Website                                         0.050860   \n",
       "Page Views Per Visit                                                0.030364   \n",
       "Lead Origin_Landing Page Submission                                 0.095849   \n",
       "...                                                                      ...   \n",
       "Specialization_Retail Management                                   -0.028459   \n",
       "Specialization_Rural and Agribusiness                              -0.024501   \n",
       "Specialization_Services Excellence                                 -0.016044   \n",
       "Specialization_Supply Chain Management                             -0.054292   \n",
       "Specialization_Travel and Tourism                                  -0.039557   \n",
       "\n",
       "                                        Specialization_Retail Management  \\\n",
       "Converted                                                      -0.018603   \n",
       "TotalVisits                                                     0.014223   \n",
       "Total Time Spent on Website                                     0.024919   \n",
       "Page Views Per Visit                                            0.026099   \n",
       "Lead Origin_Landing Page Submission                             0.070983   \n",
       "...                                                                  ...   \n",
       "Specialization_Retail Management                                1.000000   \n",
       "Specialization_Rural and Agribusiness                          -0.010668   \n",
       "Specialization_Services Excellence                             -0.006986   \n",
       "Specialization_Supply Chain Management                         -0.023639   \n",
       "Specialization_Travel and Tourism                              -0.017223   \n",
       "\n",
       "                                        Specialization_Rural and Agribusiness  \\\n",
       "Converted                                                            0.006964   \n",
       "TotalVisits                                                          0.068015   \n",
       "Total Time Spent on Website                                          0.018767   \n",
       "Page Views Per Visit                                                 0.027465   \n",
       "Lead Origin_Landing Page Submission                                  0.050077   \n",
       "...                                                                       ...   \n",
       "Specialization_Retail Management                                    -0.010668   \n",
       "Specialization_Rural and Agribusiness                                1.000000   \n",
       "Specialization_Services Excellence                                  -0.006014   \n",
       "Specialization_Supply Chain Management                              -0.020352   \n",
       "Specialization_Travel and Tourism                                   -0.014828   \n",
       "\n",
       "                                        Specialization_Services Excellence  \\\n",
       "Converted                                                        -0.005142   \n",
       "TotalVisits                                                       0.015114   \n",
       "Total Time Spent on Website                                       0.003203   \n",
       "Page Views Per Visit                                              0.015230   \n",
       "Lead Origin_Landing Page Submission                               0.039433   \n",
       "...                                                                    ...   \n",
       "Specialization_Retail Management                                 -0.006986   \n",
       "Specialization_Rural and Agribusiness                            -0.006014   \n",
       "Specialization_Services Excellence                                1.000000   \n",
       "Specialization_Supply Chain Management                           -0.013327   \n",
       "Specialization_Travel and Tourism                                -0.009710   \n",
       "\n",
       "                                        Specialization_Supply Chain Management  \\\n",
       "Converted                                                             0.005785   \n",
       "TotalVisits                                                           0.063383   \n",
       "Total Time Spent on Website                                           0.045386   \n",
       "Page Views Per Visit                                                  0.052972   \n",
       "Lead Origin_Landing Page Submission                                   0.111610   \n",
       "...                                                                        ...   \n",
       "Specialization_Retail Management                                     -0.023639   \n",
       "Specialization_Rural and Agribusiness                                -0.020352   \n",
       "Specialization_Services Excellence                                   -0.013327   \n",
       "Specialization_Supply Chain Management                                1.000000   \n",
       "Specialization_Travel and Tourism                                    -0.032857   \n",
       "\n",
       "                                        Specialization_Travel and Tourism  \n",
       "Converted                                                       -0.011762  \n",
       "TotalVisits                                                      0.064384  \n",
       "Total Time Spent on Website                                      0.037867  \n",
       "Page Views Per Visit                                             0.111284  \n",
       "Lead Origin_Landing Page Submission                              0.094875  \n",
       "...                                                                   ...  \n",
       "Specialization_Retail Management                                -0.017223  \n",
       "Specialization_Rural and Agribusiness                           -0.014828  \n",
       "Specialization_Services Excellence                              -0.009710  \n",
       "Specialization_Supply Chain Management                          -0.032857  \n",
       "Specialization_Travel and Tourism                                1.000000  \n",
       "\n",
       "[75 rows x 75 columns]"
      ]
     },
     "execution_count": 268,
     "metadata": {},
     "output_type": "execute_result"
    }
   ],
   "source": [
    "# Looking at the correlation table\n",
    "\n",
    "leads.corr()"
   ]
  },
  {
   "cell_type": "markdown",
   "id": "e19e2d56",
   "metadata": {},
   "source": [
    "## Step 2: Model Building\n",
    "\n",
    "Let's now move to model building. As you can see that there are a lot of variables present in the dataset which we cannot deal with. So the best way to approach this is to select a small set of features from this pool of variables using RFE."
   ]
  },
  {
   "cell_type": "markdown",
   "id": "b5198eb3",
   "metadata": {},
   "source": [
    "# Benchmark Evaluation"
   ]
  },
  {
   "cell_type": "code",
   "execution_count": 269,
   "id": "5600a332",
   "metadata": {},
   "outputs": [],
   "source": [
    "# Import 'LogisticRegression' and create a LogisticRegression object"
   ]
  },
  {
   "cell_type": "code",
   "execution_count": 270,
   "id": "a48494c1",
   "metadata": {},
   "outputs": [],
   "source": [
    "from sklearn.linear_model import LogisticRegression"
   ]
  },
  {
   "cell_type": "code",
   "execution_count": 271,
   "id": "4592c2fa",
   "metadata": {},
   "outputs": [],
   "source": [
    "model = LogisticRegression()"
   ]
  },
  {
   "cell_type": "code",
   "execution_count": 272,
   "id": "6cdea5ef",
   "metadata": {},
   "outputs": [
    {
     "data": {
      "text/html": [
       "<style>#sk-container-id-5 {color: black;}#sk-container-id-5 pre{padding: 0;}#sk-container-id-5 div.sk-toggleable {background-color: white;}#sk-container-id-5 label.sk-toggleable__label {cursor: pointer;display: block;width: 100%;margin-bottom: 0;padding: 0.3em;box-sizing: border-box;text-align: center;}#sk-container-id-5 label.sk-toggleable__label-arrow:before {content: \"▸\";float: left;margin-right: 0.25em;color: #696969;}#sk-container-id-5 label.sk-toggleable__label-arrow:hover:before {color: black;}#sk-container-id-5 div.sk-estimator:hover label.sk-toggleable__label-arrow:before {color: black;}#sk-container-id-5 div.sk-toggleable__content {max-height: 0;max-width: 0;overflow: hidden;text-align: left;background-color: #f0f8ff;}#sk-container-id-5 div.sk-toggleable__content pre {margin: 0.2em;color: black;border-radius: 0.25em;background-color: #f0f8ff;}#sk-container-id-5 input.sk-toggleable__control:checked~div.sk-toggleable__content {max-height: 200px;max-width: 100%;overflow: auto;}#sk-container-id-5 input.sk-toggleable__control:checked~label.sk-toggleable__label-arrow:before {content: \"▾\";}#sk-container-id-5 div.sk-estimator input.sk-toggleable__control:checked~label.sk-toggleable__label {background-color: #d4ebff;}#sk-container-id-5 div.sk-label input.sk-toggleable__control:checked~label.sk-toggleable__label {background-color: #d4ebff;}#sk-container-id-5 input.sk-hidden--visually {border: 0;clip: rect(1px 1px 1px 1px);clip: rect(1px, 1px, 1px, 1px);height: 1px;margin: -1px;overflow: hidden;padding: 0;position: absolute;width: 1px;}#sk-container-id-5 div.sk-estimator {font-family: monospace;background-color: #f0f8ff;border: 1px dotted black;border-radius: 0.25em;box-sizing: border-box;margin-bottom: 0.5em;}#sk-container-id-5 div.sk-estimator:hover {background-color: #d4ebff;}#sk-container-id-5 div.sk-parallel-item::after {content: \"\";width: 100%;border-bottom: 1px solid gray;flex-grow: 1;}#sk-container-id-5 div.sk-label:hover label.sk-toggleable__label {background-color: #d4ebff;}#sk-container-id-5 div.sk-serial::before {content: \"\";position: absolute;border-left: 1px solid gray;box-sizing: border-box;top: 0;bottom: 0;left: 50%;z-index: 0;}#sk-container-id-5 div.sk-serial {display: flex;flex-direction: column;align-items: center;background-color: white;padding-right: 0.2em;padding-left: 0.2em;position: relative;}#sk-container-id-5 div.sk-item {position: relative;z-index: 1;}#sk-container-id-5 div.sk-parallel {display: flex;align-items: stretch;justify-content: center;background-color: white;position: relative;}#sk-container-id-5 div.sk-item::before, #sk-container-id-5 div.sk-parallel-item::before {content: \"\";position: absolute;border-left: 1px solid gray;box-sizing: border-box;top: 0;bottom: 0;left: 50%;z-index: -1;}#sk-container-id-5 div.sk-parallel-item {display: flex;flex-direction: column;z-index: 1;position: relative;background-color: white;}#sk-container-id-5 div.sk-parallel-item:first-child::after {align-self: flex-end;width: 50%;}#sk-container-id-5 div.sk-parallel-item:last-child::after {align-self: flex-start;width: 50%;}#sk-container-id-5 div.sk-parallel-item:only-child::after {width: 0;}#sk-container-id-5 div.sk-dashed-wrapped {border: 1px dashed gray;margin: 0 0.4em 0.5em 0.4em;box-sizing: border-box;padding-bottom: 0.4em;background-color: white;}#sk-container-id-5 div.sk-label label {font-family: monospace;font-weight: bold;display: inline-block;line-height: 1.2em;}#sk-container-id-5 div.sk-label-container {text-align: center;}#sk-container-id-5 div.sk-container {/* jupyter's `normalize.less` sets `[hidden] { display: none; }` but bootstrap.min.css set `[hidden] { display: none !important; }` so we also need the `!important` here to be able to override the default hidden behavior on the sphinx rendered scikit-learn.org. See: https://github.com/scikit-learn/scikit-learn/issues/21755 */display: inline-block !important;position: relative;}#sk-container-id-5 div.sk-text-repr-fallback {display: none;}</style><div id=\"sk-container-id-5\" class=\"sk-top-container\"><div class=\"sk-text-repr-fallback\"><pre>LogisticRegression()</pre><b>In a Jupyter environment, please rerun this cell to show the HTML representation or trust the notebook. <br />On GitHub, the HTML representation is unable to render, please try loading this page with nbviewer.org.</b></div><div class=\"sk-container\" hidden><div class=\"sk-item\"><div class=\"sk-estimator sk-toggleable\"><input class=\"sk-toggleable__control sk-hidden--visually\" id=\"sk-estimator-id-5\" type=\"checkbox\" checked><label for=\"sk-estimator-id-5\" class=\"sk-toggleable__label sk-toggleable__label-arrow\">LogisticRegression</label><div class=\"sk-toggleable__content\"><pre>LogisticRegression()</pre></div></div></div></div></div>"
      ],
      "text/plain": [
       "LogisticRegression()"
      ]
     },
     "execution_count": 272,
     "metadata": {},
     "output_type": "execute_result"
    }
   ],
   "source": [
    "model.fit(X_train,y_train)"
   ]
  },
  {
   "cell_type": "code",
   "execution_count": 273,
   "id": "c358fa8d",
   "metadata": {},
   "outputs": [
    {
     "data": {
      "text/plain": [
       "8003    0\n",
       "218     0\n",
       "4171    1\n",
       "Name: Converted, dtype: int64"
      ]
     },
     "execution_count": 273,
     "metadata": {},
     "output_type": "execute_result"
    }
   ],
   "source": [
    "y_train.head(3)"
   ]
  },
  {
   "cell_type": "code",
   "execution_count": 274,
   "id": "1bba3798",
   "metadata": {},
   "outputs": [
    {
     "data": {
      "text/html": [
       "<div>\n",
       "<style scoped>\n",
       "    .dataframe tbody tr th:only-of-type {\n",
       "        vertical-align: middle;\n",
       "    }\n",
       "\n",
       "    .dataframe tbody tr th {\n",
       "        vertical-align: top;\n",
       "    }\n",
       "\n",
       "    .dataframe thead th {\n",
       "        text-align: right;\n",
       "    }\n",
       "</style>\n",
       "<table border=\"1\" class=\"dataframe\">\n",
       "  <thead>\n",
       "    <tr style=\"text-align: right;\">\n",
       "      <th></th>\n",
       "      <th>TotalVisits</th>\n",
       "      <th>Total Time Spent on Website</th>\n",
       "      <th>Page Views Per Visit</th>\n",
       "      <th>Lead Origin_Landing Page Submission</th>\n",
       "      <th>Lead Origin_Lead Add Form</th>\n",
       "      <th>Lead Origin_Lead Import</th>\n",
       "      <th>Lead Source_Direct Traffic</th>\n",
       "      <th>Lead Source_Facebook</th>\n",
       "      <th>Lead Source_Google</th>\n",
       "      <th>Lead Source_Live Chat</th>\n",
       "      <th>...</th>\n",
       "      <th>Specialization_IT Projects Management</th>\n",
       "      <th>Specialization_International Business</th>\n",
       "      <th>Specialization_Marketing Management</th>\n",
       "      <th>Specialization_Media and Advertising</th>\n",
       "      <th>Specialization_Operations Management</th>\n",
       "      <th>Specialization_Retail Management</th>\n",
       "      <th>Specialization_Rural and Agribusiness</th>\n",
       "      <th>Specialization_Services Excellence</th>\n",
       "      <th>Specialization_Supply Chain Management</th>\n",
       "      <th>Specialization_Travel and Tourism</th>\n",
       "    </tr>\n",
       "  </thead>\n",
       "  <tbody>\n",
       "    <tr>\n",
       "      <th>8003</th>\n",
       "      <td>0.015936</td>\n",
       "      <td>0.029489</td>\n",
       "      <td>0.125</td>\n",
       "      <td>True</td>\n",
       "      <td>False</td>\n",
       "      <td>False</td>\n",
       "      <td>True</td>\n",
       "      <td>False</td>\n",
       "      <td>False</td>\n",
       "      <td>False</td>\n",
       "      <td>...</td>\n",
       "      <td>True</td>\n",
       "      <td>False</td>\n",
       "      <td>False</td>\n",
       "      <td>False</td>\n",
       "      <td>False</td>\n",
       "      <td>False</td>\n",
       "      <td>False</td>\n",
       "      <td>False</td>\n",
       "      <td>False</td>\n",
       "      <td>False</td>\n",
       "    </tr>\n",
       "    <tr>\n",
       "      <th>218</th>\n",
       "      <td>0.015936</td>\n",
       "      <td>0.082306</td>\n",
       "      <td>0.250</td>\n",
       "      <td>True</td>\n",
       "      <td>False</td>\n",
       "      <td>False</td>\n",
       "      <td>True</td>\n",
       "      <td>False</td>\n",
       "      <td>False</td>\n",
       "      <td>False</td>\n",
       "      <td>...</td>\n",
       "      <td>False</td>\n",
       "      <td>False</td>\n",
       "      <td>False</td>\n",
       "      <td>False</td>\n",
       "      <td>False</td>\n",
       "      <td>False</td>\n",
       "      <td>False</td>\n",
       "      <td>False</td>\n",
       "      <td>False</td>\n",
       "      <td>False</td>\n",
       "    </tr>\n",
       "    <tr>\n",
       "      <th>4171</th>\n",
       "      <td>0.023904</td>\n",
       "      <td>0.034331</td>\n",
       "      <td>0.375</td>\n",
       "      <td>True</td>\n",
       "      <td>False</td>\n",
       "      <td>False</td>\n",
       "      <td>True</td>\n",
       "      <td>False</td>\n",
       "      <td>False</td>\n",
       "      <td>False</td>\n",
       "      <td>...</td>\n",
       "      <td>False</td>\n",
       "      <td>False</td>\n",
       "      <td>False</td>\n",
       "      <td>False</td>\n",
       "      <td>False</td>\n",
       "      <td>False</td>\n",
       "      <td>False</td>\n",
       "      <td>False</td>\n",
       "      <td>False</td>\n",
       "      <td>True</td>\n",
       "    </tr>\n",
       "  </tbody>\n",
       "</table>\n",
       "<p>3 rows × 74 columns</p>\n",
       "</div>"
      ],
      "text/plain": [
       "      TotalVisits  Total Time Spent on Website  Page Views Per Visit  \\\n",
       "8003     0.015936                     0.029489                 0.125   \n",
       "218      0.015936                     0.082306                 0.250   \n",
       "4171     0.023904                     0.034331                 0.375   \n",
       "\n",
       "      Lead Origin_Landing Page Submission  Lead Origin_Lead Add Form  \\\n",
       "8003                                 True                      False   \n",
       "218                                  True                      False   \n",
       "4171                                 True                      False   \n",
       "\n",
       "      Lead Origin_Lead Import  Lead Source_Direct Traffic  \\\n",
       "8003                    False                        True   \n",
       "218                     False                        True   \n",
       "4171                    False                        True   \n",
       "\n",
       "      Lead Source_Facebook  Lead Source_Google  Lead Source_Live Chat  ...  \\\n",
       "8003                 False               False                  False  ...   \n",
       "218                  False               False                  False  ...   \n",
       "4171                 False               False                  False  ...   \n",
       "\n",
       "      Specialization_IT Projects Management  \\\n",
       "8003                                   True   \n",
       "218                                   False   \n",
       "4171                                  False   \n",
       "\n",
       "      Specialization_International Business  \\\n",
       "8003                                  False   \n",
       "218                                   False   \n",
       "4171                                  False   \n",
       "\n",
       "      Specialization_Marketing Management  \\\n",
       "8003                                False   \n",
       "218                                 False   \n",
       "4171                                False   \n",
       "\n",
       "      Specialization_Media and Advertising  \\\n",
       "8003                                 False   \n",
       "218                                  False   \n",
       "4171                                 False   \n",
       "\n",
       "      Specialization_Operations Management  Specialization_Retail Management  \\\n",
       "8003                                 False                             False   \n",
       "218                                  False                             False   \n",
       "4171                                 False                             False   \n",
       "\n",
       "      Specialization_Rural and Agribusiness  \\\n",
       "8003                                  False   \n",
       "218                                   False   \n",
       "4171                                  False   \n",
       "\n",
       "      Specialization_Services Excellence  \\\n",
       "8003                               False   \n",
       "218                                False   \n",
       "4171                               False   \n",
       "\n",
       "      Specialization_Supply Chain Management  \\\n",
       "8003                                   False   \n",
       "218                                    False   \n",
       "4171                                   False   \n",
       "\n",
       "      Specialization_Travel and Tourism  \n",
       "8003                              False  \n",
       "218                               False  \n",
       "4171                               True  \n",
       "\n",
       "[3 rows x 74 columns]"
      ]
     },
     "execution_count": 274,
     "metadata": {},
     "output_type": "execute_result"
    }
   ],
   "source": [
    "X_train.head(3)"
   ]
  },
  {
   "cell_type": "code",
   "execution_count": 275,
   "id": "c49181d1",
   "metadata": {},
   "outputs": [
    {
     "data": {
      "text/plain": [
       "array([[0.71165548, 0.28834452],\n",
       "       [0.92032307, 0.07967693],\n",
       "       [0.94723522, 0.05276478],\n",
       "       ...,\n",
       "       [0.10182112, 0.89817888],\n",
       "       [0.88748822, 0.11251178],\n",
       "       [0.5474528 , 0.4525472 ]])"
      ]
     },
     "execution_count": 275,
     "metadata": {},
     "output_type": "execute_result"
    }
   ],
   "source": [
    "model.predict_proba(X_train)\n",
    "# [probability_of_not_getting_converted, probability_of_getting_converted]\n",
    "                            #  0.5 , 0.2\n",
    "# [0.71165548, 0.28834452], ==> 0  , 1\n",
    "# [0.92032307, 0.07967693], ==> 0  , 0\n",
    "# [0.94723522, 0.05276478], ==> 0  , 0\n",
    "# [0.10182112, 0.89817888], ==> 1  , 1\n",
    "# [0,1]"
   ]
  },
  {
   "cell_type": "code",
   "execution_count": 276,
   "id": "99fa5e1c",
   "metadata": {},
   "outputs": [
    {
     "data": {
      "text/plain": [
       "array([0, 0, 0, ..., 1, 0, 0], dtype=int64)"
      ]
     },
     "execution_count": 276,
     "metadata": {},
     "output_type": "execute_result"
    }
   ],
   "source": [
    "model.predict(X_train) # threshold = 0.5"
   ]
  },
  {
   "cell_type": "markdown",
   "id": "0077e4a1",
   "metadata": {},
   "source": [
    "**Explain Confusion Matrix and associated metrics in a simple way. Let's break it down step by step!**\n",
    "\n",
    "**Confusion Matrix:**\n",
    "\n",
    "Imagine you have a super smart robot that can tell if an animal is a dog or a cat. Sometimes, the robot might make mistakes and say a dog is a cat, or a cat is a dog. The Confusion Matrix is like a chart that helps us see how good the robot is at recognizing animals.\n",
    "\n",
    "Now, let's talk about the different parts of the Confusion Matrix.\n",
    "\n",
    "1. True Positives (TP): These are the times when the robot correctly says an animal is a dog, and it really is a dog.\n",
    "\n",
    "2. True Negatives (TN): These are the times when the robot correctly says an animal is a cat, and it really is a cat.\n",
    "\n",
    "3. False Positives (FP): These are the times when the robot mistakenly says an animal is a dog, but it's actually a cat.\n",
    "\n",
    "4. False Negatives (FN): These are the times when the robot mistakenly says an animal is a cat, but it's actually a dog.\n",
    "\n",
    "Metrics from the Confusion Matrix:\n",
    "\n",
    "We use these parts of the Confusion Matrix to find out how well the robot is doing. Let's look at some important things we can figure out:\n",
    "\n",
    "a. Accuracy: This tells us how many times the robot got things right. It's like the percentage of animals the robot guessed correctly out of all the animals.\n",
    "\n",
    "b. Precision: This helps us see how good the robot is at saying something is a dog, and it really is a dog. It's like the percentage of times the robot was right when it said \"dog.\"\n",
    "\n",
    "c. Recall: This helps us see how many of the actual dogs the robot was able to find. It's like the percentage of dogs the robot was able to catch.\n",
    "\n",
    "d. F1-Score: This combines both Precision and Recall to give us a better idea of how well the robot is doing overall.\n",
    "\n",
    "Python Code Example:\n",
    "\n",
    "Here's a simple Python code example that shows how to calculate these metrics using some pretend data:\n",
    "\n",
    "```\n",
    "# Pretend Confusion Matrix\n",
    "true_positives = 45\n",
    "true_negatives = 80\n",
    "false_positives = 5\n",
    "false_negatives = 10\n",
    "\n",
    "# Calculate metrics\n",
    "accuracy = (true_positives + true_negatives) / (true_positives + true_negatives + false_positives + false_negatives)\n",
    "precision = true_positives / (true_positives + false_positives)\n",
    "recall = true_positives / (true_positives + false_negatives)\n",
    "f1_score = 2 * (precision * recall) / (precision + recall)\n",
    "\n",
    "# Print the metrics\n",
    "print(\"Accuracy:\", accuracy)\n",
    "print(\"Precision:\", precision)\n",
    "print(\"Recall:\", recall)\n",
    "print(\"F1-Score:\", f1_score)\n",
    "```\n",
    "In this code, we calculate the metrics using the numbers of true positives, true negatives, false positives, and false negatives. These metrics help us understand how well the robot is performing in recognizing animals.\n",
    "\n",
    "So, the Confusion Matrix and its metrics help us see how good our robot is at telling dogs from cats, and these numbers can help us make the robot even smarter!\n",
    "\n"
   ]
  },
  {
   "cell_type": "code",
   "execution_count": 277,
   "id": "c2f64788",
   "metadata": {},
   "outputs": [
    {
     "name": "stdout",
     "output_type": "stream",
     "text": [
      "Accuracy: 0.8928571428571429\n",
      "Precision: 0.9\n",
      "Recall: 0.8181818181818182\n",
      "F1-Score: 0.8571428571428572\n"
     ]
    }
   ],
   "source": [
    "# Pretend Confusion Matrix\n",
    "# No. of Animals in total 140\n",
    "# No. of Dogs were 45+5 = 50\n",
    "# No. of Cats were 80+10  = 90\n",
    "\n",
    "true_positives = 45\n",
    "true_negatives = 80\n",
    "false_positives = 5\n",
    "false_negatives = 10\n",
    "\n",
    "# Calculate metrics\n",
    "accuracy = (true_positives + true_negatives) / (true_positives + true_negatives + false_positives + false_negatives) # 43+80 /140\n",
    "precision = true_positives / (true_positives + false_positives) # 45/50\n",
    "recall = true_positives / (true_positives + false_negatives) # 45/45+10\n",
    "f1_score = 2 * (precision * recall) / (precision + recall)\n",
    "\n",
    "# Print the metrics\n",
    "print(\"Accuracy:\", accuracy)\n",
    "print(\"Precision:\", precision)\n",
    "print(\"Recall:\", recall)\n",
    "print(\"F1-Score:\", f1_score)"
   ]
  },
  {
   "cell_type": "markdown",
   "id": "66470ff5",
   "metadata": {},
   "source": [
    "## Train"
   ]
  },
  {
   "cell_type": "code",
   "execution_count": 278,
   "id": "0e066031",
   "metadata": {},
   "outputs": [],
   "source": [
    "y_train_pred = model.predict(X_train)"
   ]
  },
  {
   "cell_type": "code",
   "execution_count": 279,
   "id": "caf95a4b",
   "metadata": {},
   "outputs": [
    {
     "data": {
      "text/plain": [
       "array([[1938,  374],\n",
       "       [ 516, 1633]], dtype=int64)"
      ]
     },
     "execution_count": 279,
     "metadata": {},
     "output_type": "execute_result"
    }
   ],
   "source": [
    "from sklearn.metrics import confusion_matrix\n",
    "confusion_matrix(y_train,y_train_pred)"
   ]
  },
  {
   "cell_type": "code",
   "execution_count": 280,
   "id": "9e309e5c",
   "metadata": {},
   "outputs": [
    {
     "data": {
      "text/plain": [
       "<sklearn.metrics._plot.confusion_matrix.ConfusionMatrixDisplay at 0x1fac9d05e50>"
      ]
     },
     "execution_count": 280,
     "metadata": {},
     "output_type": "execute_result"
    },
    {
     "data": {
      "image/png": "[encoded data removed]",
      "text/plain": [
       "<Figure size 640x480 with 2 Axes>"
      ]
     },
     "metadata": {},
     "output_type": "display_data"
    }
   ],
   "source": [
    "from sklearn.metrics import ConfusionMatrixDisplay\n",
    "ConfusionMatrixDisplay.from_estimator(model, X_train, y_train)"
   ]
  },
  {
   "cell_type": "code",
   "execution_count": 281,
   "id": "4486f6ec",
   "metadata": {},
   "outputs": [
    {
     "name": "stdout",
     "output_type": "stream",
     "text": [
      "Accuracy Score :  0.8004931629679444\n",
      "Precision Score :  0.8136522172396612\n",
      "Recall Score :  0.7598883201489065\n",
      "F1 Score :  0.785851780558229\n"
     ]
    }
   ],
   "source": [
    "from sklearn.metrics import accuracy_score, precision_score, recall_score , f1_score, roc_auc_score\n",
    "print(\"Accuracy Score : \",accuracy_score(y_train,y_train_pred))\n",
    "print(\"Precision Score : \",precision_score(y_train,y_train_pred))\n",
    "print(\"Recall Score : \",recall_score(y_train,y_train_pred))\n",
    "print(\"F1 Score : \",f1_score(y_train,y_train_pred))"
   ]
  },
  {
   "cell_type": "code",
   "execution_count": 282,
   "id": "4a399c7a",
   "metadata": {},
   "outputs": [],
   "source": [
    "# class 0 (Not Converted)is negative\n",
    "# class 1 (COnverted)  is positive\n",
    "\n",
    "# TP = 1633\n",
    "# TN = 1938\n",
    "# FP = 374\n",
    "# FN = 516"
   ]
  },
  {
   "cell_type": "code",
   "execution_count": 283,
   "id": "cd8d7901",
   "metadata": {},
   "outputs": [],
   "source": [
    "# Accuracy =  TP+TN / (TP+TN+FP+FN) = 80.00 %\n",
    "# Precision = TP / TP+ FP =81.36%\n",
    "# Recall = TP / TP+FN = 75.98%\n",
    "# F1-score = 2* recall*precision / recall + precision = 78.58%"
   ]
  },
  {
   "cell_type": "markdown",
   "id": "47ff2a03",
   "metadata": {},
   "source": [
    "## Test"
   ]
  },
  {
   "cell_type": "code",
   "execution_count": 284,
   "id": "759cc62c",
   "metadata": {},
   "outputs": [],
   "source": [
    "y_test_pred = model.predict(X_test)"
   ]
  },
  {
   "cell_type": "code",
   "execution_count": 285,
   "id": "d9d3abf2",
   "metadata": {},
   "outputs": [
    {
     "data": {
      "text/plain": [
       "array([[139, 857],\n",
       "       [ 47, 869]], dtype=int64)"
      ]
     },
     "execution_count": 285,
     "metadata": {},
     "output_type": "execute_result"
    }
   ],
   "source": [
    "confusion_matrix(y_test,y_test_pred)"
   ]
  },
  {
   "cell_type": "code",
   "execution_count": 286,
   "id": "75e830cf",
   "metadata": {},
   "outputs": [
    {
     "data": {
      "text/plain": [
       "<sklearn.metrics._plot.confusion_matrix.ConfusionMatrixDisplay at 0x1fabc3c2550>"
      ]
     },
     "execution_count": 286,
     "metadata": {},
     "output_type": "execute_result"
    },
    {
     "data": {
      "image/png": "[encoded data removed]",
      "text/plain": [
       "<Figure size 640x480 with 2 Axes>"
      ]
     },
     "metadata": {},
     "output_type": "display_data"
    }
   ],
   "source": [
    "ConfusionMatrixDisplay.from_estimator(model, X_test, y_test)"
   ]
  },
  {
   "cell_type": "code",
   "execution_count": 287,
   "id": "ebe7c9b7",
   "metadata": {},
   "outputs": [
    {
     "name": "stdout",
     "output_type": "stream",
     "text": [
      "Accuracy Score :  0.5271966527196653\n",
      "Precision Score :  0.503476245654693\n",
      "Recall Score :  0.9486899563318777\n",
      "F1 Score :  0.6578349735049205\n"
     ]
    }
   ],
   "source": [
    "print(\"Accuracy Score : \",accuracy_score(y_test,y_test_pred))\n",
    "print(\"Precision Score : \",precision_score(y_test,y_test_pred))\n",
    "print(\"Recall Score : \",recall_score(y_test,y_test_pred))\n",
    "print(\"F1 Score : \",f1_score(y_test,y_test_pred))"
   ]
  },
  {
   "cell_type": "markdown",
   "id": "52aad0d9",
   "metadata": {},
   "source": [
    "## ROC Curve and AUC Score"
   ]
  },
  {
   "cell_type": "markdown",
   "id": "fd056b4d",
   "metadata": {},
   "source": [
    "I'd be happy to explain ROC curve, AUC curve, and associated metrics in a simple way. Let's take it step by step!\n",
    "\n",
    "ROC Curve:\n",
    "\n",
    "Imagine you have a magical detector that can decide if someone is a superhero or not. Sometimes, it might say a normal person is a superhero, or it might miss some real superheroes. The ROC curve is like a graph that helps us see how good the detector is at finding superheroes.\n",
    "\n",
    "Now, let's talk about the parts of the ROC curve:\n",
    "\n",
    "True Positive Rate (TPR): This is how many real superheroes the detector correctly spots. It's like the percentage of real superheroes it finds.\n",
    "\n",
    "False Positive Rate (FPR): This is how many regular people the detector wrongly thinks are superheroes. It's like the percentage of normal people the detector mistakenly calls superheroes.\n",
    "\n",
    "AUC Curve:\n",
    "\n",
    "The AUC curve is like a special measurement that helps us compare different magical detectors. It's like looking at how well different detectors work at finding superheroes. The AUC value tells us how much area is under the ROC curve.\n",
    "\n",
    "Metrics from the ROC Curve and AUC:\n",
    "\n",
    "From the ROC curve and AUC value, we can learn a few important things:\n",
    "\n",
    "AUC Value: If the AUC value is close to 1, it means the detector is doing an amazing job. If it's closer to 0.5, it means the detector is just guessing and not doing much better than chance.\n",
    "\n",
    "Best Point: We can find a special point on the ROC curve where the TPR is high, and the FPR is low. This is where the detector is really good at finding superheroes without calling too many regular people superheroes.\n",
    "\n",
    "Python Code Example:\n",
    "\n",
    "Here's a simple Python code example that shows how to create an ROC curve and calculate the AUC value using some pretend data:\n",
    "\n",
    "```\n",
    "import numpy as np\n",
    "import matplotlib.pyplot as plt\n",
    "from sklearn.metrics import roc_curve, auc\n",
    "\n",
    "# Pretend data\n",
    "true_labels = np.array([0, 0, 1, 1, 0, 1, 0, 1, 1, 0])\n",
    "predicted_probs = np.array([0.1, 0.3, 0.6, 0.8, 0.2, 0.7, 0.4, 0.9, 0.75, 0.3])\n",
    "\n",
    "# Calculate ROC curve\n",
    "fpr, tpr, thresholds = roc_curve(true_labels, predicted_probs)\n",
    "\n",
    "# Calculate AUC\n",
    "roc_auc = auc(fpr, tpr)\n",
    "\n",
    "# Plot ROC curve\n",
    "plt.figure()\n",
    "plt.plot(fpr, tpr, color='darkorange', lw=2, label='ROC curve (AUC = %0.2f)' % roc_auc)\n",
    "plt.plot([0, 1], [0, 1], color='navy', lw=2, linestyle='--')\n",
    "plt.xlim([0.0, 1.0])\n",
    "plt.ylim([0.0, 1.05])\n",
    "plt.xlabel('False Positive Rate')\n",
    "plt.ylabel('True Positive Rate')\n",
    "plt.title('Receiver Operating Characteristic (ROC)')\n",
    "plt.legend(loc=\"lower right\")\n",
    "plt.show()\n",
    "\n",
    "print(\"AUC Value:\", roc_auc)\n",
    "```\n",
    "In this code, we generate a pretend dataset with true labels and predicted probabilities. We calculate the ROC curve and AUC value using the roc_curve and auc functions from the sklearn.metrics module. The ROC curve shows how well the magical detector is performing, and the AUC value gives us a number to compare different detectors.\n",
    "\n",
    "So, the ROC curve, AUC curve, and associated metrics help us understand how well our magical superhero detector is working and how different detectors compare to each other!\n"
   ]
  },
  {
   "cell_type": "code",
   "execution_count": 288,
   "id": "dabef3e2",
   "metadata": {},
   "outputs": [
    {
     "data": {
      "image/png": "[encoded data removed]",
      "text/plain": [
       "<Figure size 640x480 with 1 Axes>"
      ]
     },
     "metadata": {},
     "output_type": "display_data"
    },
    {
     "name": "stdout",
     "output_type": "stream",
     "text": [
      "AUC Value: 1.0\n"
     ]
    }
   ],
   "source": [
    "import numpy as np\n",
    "import matplotlib.pyplot as plt\n",
    "from sklearn.metrics import roc_curve, auc\n",
    "\n",
    "# Pretend data\n",
    "true_labels = np.array([0, 0, 1, 1, 0, 1, 0, 1, 1, 0])\n",
    "predicted_probs = np.array([0.1, 0.3, 0.6, 0.8, 0.2, 0.7, 0.4, 0.9, 0.75, 0.3])\n",
    "\n",
    "# Calculate ROC curve\n",
    "fpr, tpr, thresholds = roc_curve(true_labels, predicted_probs)\n",
    "\n",
    "# Calculate AUC\n",
    "roc_auc = auc(fpr, tpr)\n",
    "\n",
    "# Plot ROC curve\n",
    "plt.figure()\n",
    "plt.plot(fpr, tpr, color='darkorange', lw=2, label='ROC curve (AUC = %0.2f)' % roc_auc)\n",
    "plt.plot([0, 1], [0, 1], color='navy', lw=2, linestyle='--')\n",
    "plt.xlim([0.0, 1.0])\n",
    "plt.ylim([0.0, 1.05])\n",
    "plt.xlabel('False Positive Rate')\n",
    "plt.ylabel('True Positive Rate')\n",
    "plt.title('Receiver Operating Characteristic (ROC)')\n",
    "plt.legend(loc=\"lower right\")\n",
    "plt.show()\n",
    "\n",
    "print(\"AUC Value:\", roc_auc)\n"
   ]
  },
  {
   "cell_type": "markdown",
   "id": "637f67da",
   "metadata": {},
   "source": [
    "## ROC function"
   ]
  },
  {
   "cell_type": "code",
   "execution_count": 289,
   "id": "ae8c03a0",
   "metadata": {},
   "outputs": [],
   "source": [
    "from sklearn import metrics\n",
    "def draw_roc( actual, probs ):\n",
    "    fpr, tpr, thresholds = metrics.roc_curve( actual, probs)\n",
    "    auc_score = metrics.roc_auc_score( actual, probs )\n",
    "    plt.figure(figsize=(5, 5))\n",
    "    plt.plot( fpr, tpr, label='ROC curve (area = %0.2f)' % auc_score )\n",
    "    plt.plot([0, 1], [0, 1], 'k--')\n",
    "    plt.xlim([0.0, 1.0])\n",
    "    plt.ylim([0.0, 1.05])\n",
    "    plt.xlabel('False Positive Rate or [1 - True Negative Rate]')\n",
    "    plt.ylabel('True Positive Rate')\n",
    "    plt.title('Receiver operating characteristic example')\n",
    "    plt.legend(loc=\"lower right\")\n",
    "    plt.show()\n",
    "\n",
    "    return None"
   ]
  },
  {
   "cell_type": "code",
   "execution_count": 290,
   "id": "e800a5c8",
   "metadata": {},
   "outputs": [],
   "source": [
    "actual = y_train\n",
    "probs = model.predict_proba(X_train)[:,1]"
   ]
  },
  {
   "cell_type": "code",
   "execution_count": 291,
   "id": "18f8d787",
   "metadata": {},
   "outputs": [
    {
     "data": {
      "image/png": "[encoded data removed]",
      "text/plain": [
       "<Figure size 500x500 with 1 Axes>"
      ]
     },
     "metadata": {},
     "output_type": "display_data"
    }
   ],
   "source": [
    "draw_roc(actual,probs)"
   ]
  },
  {
   "cell_type": "code",
   "execution_count": 292,
   "id": "f39e69cf",
   "metadata": {},
   "outputs": [],
   "source": [
    "actual = y_test\n",
    "probs = model.predict_proba(X_test)[:,1]"
   ]
  },
  {
   "cell_type": "code",
   "execution_count": 293,
   "id": "7f9ea8fa",
   "metadata": {},
   "outputs": [
    {
     "data": {
      "image/png": "[encoded data removed]",
      "text/plain": [
       "<Figure size 500x500 with 1 Axes>"
      ]
     },
     "metadata": {},
     "output_type": "display_data"
    }
   ],
   "source": [
    "draw_roc(actual,probs)"
   ]
  },
  {
   "cell_type": "markdown",
   "id": "1d299a35",
   "metadata": {},
   "source": [
    "\n",
    "## Generating scrore between 0-100 for potential lead"
   ]
  },
  {
   "cell_type": "code",
   "execution_count": 294,
   "id": "f11c1726",
   "metadata": {},
   "outputs": [
    {
     "data": {
      "text/plain": [
       "array([0.71165548, 0.28834452])"
      ]
     },
     "execution_count": 294,
     "metadata": {},
     "output_type": "execute_result"
    }
   ],
   "source": [
    "estimated_probability = model.predict_proba(X_train)[0]\n",
    "estimated_probability"
   ]
  },
  {
   "cell_type": "code",
   "execution_count": 295,
   "id": "201e2fc0",
   "metadata": {},
   "outputs": [],
   "source": [
    "# P(positive_class) + P(negative_class) = 1"
   ]
  },
  {
   "cell_type": "code",
   "execution_count": 296,
   "id": "81a6f1a6",
   "metadata": {},
   "outputs": [
    {
     "data": {
      "text/plain": [
       "1.0"
      ]
     },
     "execution_count": 296,
     "metadata": {},
     "output_type": "execute_result"
    }
   ],
   "source": [
    "estimated_probability[0]  + estimated_probability[1]"
   ]
  },
  {
   "cell_type": "code",
   "execution_count": 297,
   "id": "9f908e41",
   "metadata": {},
   "outputs": [
    {
     "data": {
      "text/plain": [
       "0.7116554814038056"
      ]
     },
     "execution_count": 297,
     "metadata": {},
     "output_type": "execute_result"
    }
   ],
   "source": [
    "# estimated probability of a class being negative\n",
    "negative_class  = estimated_probability[0] # probability of negative class\n",
    "negative_class\n",
    "# if probability is greater than 0.5 then class is negative if tless than that it is positive."
   ]
  },
  {
   "cell_type": "code",
   "execution_count": 298,
   "id": "53258897",
   "metadata": {},
   "outputs": [],
   "source": [
    "# P(positive_class) = 1 - P(negative_class)"
   ]
  },
  {
   "cell_type": "code",
   "execution_count": 299,
   "id": "465bc973",
   "metadata": {},
   "outputs": [
    {
     "data": {
      "text/plain": [
       "0.2883445185961943"
      ]
     },
     "execution_count": 299,
     "metadata": {},
     "output_type": "execute_result"
    }
   ],
   "source": [
    "# estimated probability of a class being positive\n",
    "positive_class = estimated_probability[1] # probability of positive class\n",
    "positive_class\n",
    "# if probability is greater than 0.5 then class is positive  and if less than that it is negative."
   ]
  },
  {
   "cell_type": "code",
   "execution_count": 300,
   "id": "e361701d",
   "metadata": {},
   "outputs": [],
   "source": [
    "# We have a focus on estmated probability of getting conversion.\n",
    "estimated_probabilty = model.predict_proba(X_train)"
   ]
  },
  {
   "cell_type": "code",
   "execution_count": 301,
   "id": "15a2e733",
   "metadata": {},
   "outputs": [],
   "source": [
    "predicted_value = model.predict(X_train)"
   ]
  },
  {
   "cell_type": "code",
   "execution_count": 302,
   "id": "de26c10b",
   "metadata": {},
   "outputs": [],
   "source": [
    "coversion_df = pd.DataFrame([estimated_probabilty[:,1],predicted_value ]).T"
   ]
  },
  {
   "cell_type": "code",
   "execution_count": 303,
   "id": "49ee9bb0",
   "metadata": {},
   "outputs": [
    {
     "data": {
      "text/html": [
       "<div>\n",
       "<style scoped>\n",
       "    .dataframe tbody tr th:only-of-type {\n",
       "        vertical-align: middle;\n",
       "    }\n",
       "\n",
       "    .dataframe tbody tr th {\n",
       "        vertical-align: top;\n",
       "    }\n",
       "\n",
       "    .dataframe thead th {\n",
       "        text-align: right;\n",
       "    }\n",
       "</style>\n",
       "<table border=\"1\" class=\"dataframe\">\n",
       "  <thead>\n",
       "    <tr style=\"text-align: right;\">\n",
       "      <th></th>\n",
       "      <th>0</th>\n",
       "      <th>1</th>\n",
       "    </tr>\n",
       "  </thead>\n",
       "  <tbody>\n",
       "    <tr>\n",
       "      <th>0</th>\n",
       "      <td>0.288345</td>\n",
       "      <td>0.0</td>\n",
       "    </tr>\n",
       "    <tr>\n",
       "      <th>1</th>\n",
       "      <td>0.079677</td>\n",
       "      <td>0.0</td>\n",
       "    </tr>\n",
       "    <tr>\n",
       "      <th>2</th>\n",
       "      <td>0.052765</td>\n",
       "      <td>0.0</td>\n",
       "    </tr>\n",
       "    <tr>\n",
       "      <th>3</th>\n",
       "      <td>0.346328</td>\n",
       "      <td>0.0</td>\n",
       "    </tr>\n",
       "    <tr>\n",
       "      <th>4</th>\n",
       "      <td>0.971423</td>\n",
       "      <td>1.0</td>\n",
       "    </tr>\n",
       "    <tr>\n",
       "      <th>...</th>\n",
       "      <td>...</td>\n",
       "      <td>...</td>\n",
       "    </tr>\n",
       "    <tr>\n",
       "      <th>4456</th>\n",
       "      <td>0.939408</td>\n",
       "      <td>1.0</td>\n",
       "    </tr>\n",
       "    <tr>\n",
       "      <th>4457</th>\n",
       "      <td>0.559800</td>\n",
       "      <td>1.0</td>\n",
       "    </tr>\n",
       "    <tr>\n",
       "      <th>4458</th>\n",
       "      <td>0.898179</td>\n",
       "      <td>1.0</td>\n",
       "    </tr>\n",
       "    <tr>\n",
       "      <th>4459</th>\n",
       "      <td>0.112512</td>\n",
       "      <td>0.0</td>\n",
       "    </tr>\n",
       "    <tr>\n",
       "      <th>4460</th>\n",
       "      <td>0.452547</td>\n",
       "      <td>0.0</td>\n",
       "    </tr>\n",
       "  </tbody>\n",
       "</table>\n",
       "<p>4461 rows × 2 columns</p>\n",
       "</div>"
      ],
      "text/plain": [
       "             0    1\n",
       "0     0.288345  0.0\n",
       "1     0.079677  0.0\n",
       "2     0.052765  0.0\n",
       "3     0.346328  0.0\n",
       "4     0.971423  1.0\n",
       "...        ...  ...\n",
       "4456  0.939408  1.0\n",
       "4457  0.559800  1.0\n",
       "4458  0.898179  1.0\n",
       "4459  0.112512  0.0\n",
       "4460  0.452547  0.0\n",
       "\n",
       "[4461 rows x 2 columns]"
      ]
     },
     "execution_count": 303,
     "metadata": {},
     "output_type": "execute_result"
    }
   ],
   "source": [
    "coversion_df"
   ]
  },
  {
   "cell_type": "code",
   "execution_count": 304,
   "id": "37ca6527",
   "metadata": {},
   "outputs": [],
   "source": [
    "coversion_df.columns = ['estimated_probability','predicted_value']"
   ]
  },
  {
   "cell_type": "code",
   "execution_count": 305,
   "id": "a9c1bf73",
   "metadata": {},
   "outputs": [],
   "source": [
    "coversion_df['predicted_value'] = coversion_df['predicted_value'].astype('int')"
   ]
  },
  {
   "cell_type": "code",
   "execution_count": 306,
   "id": "b06b2e5e",
   "metadata": {},
   "outputs": [],
   "source": [
    "coversion_df['Score'] = round(coversion_df['estimated_probability']*100,2)"
   ]
  },
  {
   "cell_type": "code",
   "execution_count": 307,
   "id": "68971bcd",
   "metadata": {},
   "outputs": [
    {
     "data": {
      "text/html": [
       "<div>\n",
       "<style scoped>\n",
       "    .dataframe tbody tr th:only-of-type {\n",
       "        vertical-align: middle;\n",
       "    }\n",
       "\n",
       "    .dataframe tbody tr th {\n",
       "        vertical-align: top;\n",
       "    }\n",
       "\n",
       "    .dataframe thead th {\n",
       "        text-align: right;\n",
       "    }\n",
       "</style>\n",
       "<table border=\"1\" class=\"dataframe\">\n",
       "  <thead>\n",
       "    <tr style=\"text-align: right;\">\n",
       "      <th></th>\n",
       "      <th>estimated_probability</th>\n",
       "      <th>predicted_value</th>\n",
       "      <th>Score</th>\n",
       "    </tr>\n",
       "  </thead>\n",
       "  <tbody>\n",
       "    <tr>\n",
       "      <th>0</th>\n",
       "      <td>0.288345</td>\n",
       "      <td>0</td>\n",
       "      <td>28.83</td>\n",
       "    </tr>\n",
       "    <tr>\n",
       "      <th>1</th>\n",
       "      <td>0.079677</td>\n",
       "      <td>0</td>\n",
       "      <td>7.97</td>\n",
       "    </tr>\n",
       "    <tr>\n",
       "      <th>2</th>\n",
       "      <td>0.052765</td>\n",
       "      <td>0</td>\n",
       "      <td>5.28</td>\n",
       "    </tr>\n",
       "    <tr>\n",
       "      <th>3</th>\n",
       "      <td>0.346328</td>\n",
       "      <td>0</td>\n",
       "      <td>34.63</td>\n",
       "    </tr>\n",
       "    <tr>\n",
       "      <th>4</th>\n",
       "      <td>0.971423</td>\n",
       "      <td>1</td>\n",
       "      <td>97.14</td>\n",
       "    </tr>\n",
       "    <tr>\n",
       "      <th>...</th>\n",
       "      <td>...</td>\n",
       "      <td>...</td>\n",
       "      <td>...</td>\n",
       "    </tr>\n",
       "    <tr>\n",
       "      <th>4456</th>\n",
       "      <td>0.939408</td>\n",
       "      <td>1</td>\n",
       "      <td>93.94</td>\n",
       "    </tr>\n",
       "    <tr>\n",
       "      <th>4457</th>\n",
       "      <td>0.559800</td>\n",
       "      <td>1</td>\n",
       "      <td>55.98</td>\n",
       "    </tr>\n",
       "    <tr>\n",
       "      <th>4458</th>\n",
       "      <td>0.898179</td>\n",
       "      <td>1</td>\n",
       "      <td>89.82</td>\n",
       "    </tr>\n",
       "    <tr>\n",
       "      <th>4459</th>\n",
       "      <td>0.112512</td>\n",
       "      <td>0</td>\n",
       "      <td>11.25</td>\n",
       "    </tr>\n",
       "    <tr>\n",
       "      <th>4460</th>\n",
       "      <td>0.452547</td>\n",
       "      <td>0</td>\n",
       "      <td>45.25</td>\n",
       "    </tr>\n",
       "  </tbody>\n",
       "</table>\n",
       "<p>4461 rows × 3 columns</p>\n",
       "</div>"
      ],
      "text/plain": [
       "      estimated_probability  predicted_value  Score\n",
       "0                  0.288345                0  28.83\n",
       "1                  0.079677                0   7.97\n",
       "2                  0.052765                0   5.28\n",
       "3                  0.346328                0  34.63\n",
       "4                  0.971423                1  97.14\n",
       "...                     ...              ...    ...\n",
       "4456               0.939408                1  93.94\n",
       "4457               0.559800                1  55.98\n",
       "4458               0.898179                1  89.82\n",
       "4459               0.112512                0  11.25\n",
       "4460               0.452547                0  45.25\n",
       "\n",
       "[4461 rows x 3 columns]"
      ]
     },
     "execution_count": 307,
     "metadata": {},
     "output_type": "execute_result"
    }
   ],
   "source": [
    "coversion_df"
   ]
  },
  {
   "cell_type": "markdown",
   "id": "a92ad94b",
   "metadata": {},
   "source": [
    "# **Change Threshold**"
   ]
  },
  {
   "cell_type": "code",
   "execution_count": 308,
   "id": "02c2b550",
   "metadata": {},
   "outputs": [],
   "source": [
    "# threshold 0.5\n",
    "predicted_value_05 = model.predict(X_train)"
   ]
  },
  {
   "cell_type": "code",
   "execution_count": 309,
   "id": "01dac8aa",
   "metadata": {},
   "outputs": [
    {
     "name": "stdout",
     "output_type": "stream",
     "text": [
      "Accuracy Score :  0.8004931629679444\n",
      "Precision Score :  0.8136522172396612\n",
      "Recall Score :  0.7598883201489065\n",
      "F1 Score :  0.785851780558229\n"
     ]
    }
   ],
   "source": [
    "print(\"Accuracy Score : \",accuracy_score(y_train,predicted_value_05))\n",
    "print(\"Precision Score : \",precision_score(y_train,predicted_value_05))\n",
    "print(\"Recall Score : \",recall_score(y_train,predicted_value_05))\n",
    "print(\"F1 Score : \",f1_score(y_train,predicted_value_05))"
   ]
  },
  {
   "cell_type": "code",
   "execution_count": 310,
   "id": "6142f5ea",
   "metadata": {},
   "outputs": [
    {
     "data": {
      "text/plain": [
       "array([0.28834452, 0.07967693, 0.05276478, ..., 0.89817888, 0.11251178,\n",
       "       0.4525472 ])"
      ]
     },
     "execution_count": 310,
     "metadata": {},
     "output_type": "execute_result"
    }
   ],
   "source": [
    "estimated_probabilty = model.predict_proba(X_train)\n",
    "estimated_positive_probabilty = estimated_probabilty[:,1]\n",
    "estimated_positive_probabilty"
   ]
  },
  {
   "cell_type": "code",
   "execution_count": 311,
   "id": "16086881",
   "metadata": {},
   "outputs": [],
   "source": [
    "threshold_df = pd.DataFrame([estimated_positive_probabilty,predicted_value_05]).T\n",
    "threshold_df.columns=['positive_probabilty','predicted_value_05']"
   ]
  },
  {
   "cell_type": "code",
   "execution_count": 312,
   "id": "967312c1",
   "metadata": {},
   "outputs": [
    {
     "data": {
      "text/html": [
       "<div>\n",
       "<style scoped>\n",
       "    .dataframe tbody tr th:only-of-type {\n",
       "        vertical-align: middle;\n",
       "    }\n",
       "\n",
       "    .dataframe tbody tr th {\n",
       "        vertical-align: top;\n",
       "    }\n",
       "\n",
       "    .dataframe thead th {\n",
       "        text-align: right;\n",
       "    }\n",
       "</style>\n",
       "<table border=\"1\" class=\"dataframe\">\n",
       "  <thead>\n",
       "    <tr style=\"text-align: right;\">\n",
       "      <th></th>\n",
       "      <th>positive_probabilty</th>\n",
       "      <th>predicted_value_05</th>\n",
       "    </tr>\n",
       "  </thead>\n",
       "  <tbody>\n",
       "    <tr>\n",
       "      <th>0</th>\n",
       "      <td>0.288345</td>\n",
       "      <td>0.0</td>\n",
       "    </tr>\n",
       "    <tr>\n",
       "      <th>1</th>\n",
       "      <td>0.079677</td>\n",
       "      <td>0.0</td>\n",
       "    </tr>\n",
       "    <tr>\n",
       "      <th>2</th>\n",
       "      <td>0.052765</td>\n",
       "      <td>0.0</td>\n",
       "    </tr>\n",
       "    <tr>\n",
       "      <th>3</th>\n",
       "      <td>0.346328</td>\n",
       "      <td>0.0</td>\n",
       "    </tr>\n",
       "    <tr>\n",
       "      <th>4</th>\n",
       "      <td>0.971423</td>\n",
       "      <td>1.0</td>\n",
       "    </tr>\n",
       "    <tr>\n",
       "      <th>...</th>\n",
       "      <td>...</td>\n",
       "      <td>...</td>\n",
       "    </tr>\n",
       "    <tr>\n",
       "      <th>4456</th>\n",
       "      <td>0.939408</td>\n",
       "      <td>1.0</td>\n",
       "    </tr>\n",
       "    <tr>\n",
       "      <th>4457</th>\n",
       "      <td>0.559800</td>\n",
       "      <td>1.0</td>\n",
       "    </tr>\n",
       "    <tr>\n",
       "      <th>4458</th>\n",
       "      <td>0.898179</td>\n",
       "      <td>1.0</td>\n",
       "    </tr>\n",
       "    <tr>\n",
       "      <th>4459</th>\n",
       "      <td>0.112512</td>\n",
       "      <td>0.0</td>\n",
       "    </tr>\n",
       "    <tr>\n",
       "      <th>4460</th>\n",
       "      <td>0.452547</td>\n",
       "      <td>0.0</td>\n",
       "    </tr>\n",
       "  </tbody>\n",
       "</table>\n",
       "<p>4461 rows × 2 columns</p>\n",
       "</div>"
      ],
      "text/plain": [
       "      positive_probabilty  predicted_value_05\n",
       "0                0.288345                 0.0\n",
       "1                0.079677                 0.0\n",
       "2                0.052765                 0.0\n",
       "3                0.346328                 0.0\n",
       "4                0.971423                 1.0\n",
       "...                   ...                 ...\n",
       "4456             0.939408                 1.0\n",
       "4457             0.559800                 1.0\n",
       "4458             0.898179                 1.0\n",
       "4459             0.112512                 0.0\n",
       "4460             0.452547                 0.0\n",
       "\n",
       "[4461 rows x 2 columns]"
      ]
     },
     "execution_count": 312,
     "metadata": {},
     "output_type": "execute_result"
    }
   ],
   "source": [
    "threshold_df"
   ]
  },
  {
   "cell_type": "code",
   "execution_count": 313,
   "id": "931b151a",
   "metadata": {},
   "outputs": [],
   "source": [
    "thres_list = [1,2,3,4,5,6,7,8,9]\n",
    "for thres in thres_list:\n",
    "  threshold_df['predicted_value_0'+str(thres)] = threshold_df['positive_probabilty'].apply(lambda x: 1 if x > (thres/10) else 0)"
   ]
  },
  {
   "cell_type": "code",
   "execution_count": 314,
   "id": "dc0ae5b9",
   "metadata": {},
   "outputs": [
    {
     "data": {
      "text/html": [
       "<div>\n",
       "<style scoped>\n",
       "    .dataframe tbody tr th:only-of-type {\n",
       "        vertical-align: middle;\n",
       "    }\n",
       "\n",
       "    .dataframe tbody tr th {\n",
       "        vertical-align: top;\n",
       "    }\n",
       "\n",
       "    .dataframe thead th {\n",
       "        text-align: right;\n",
       "    }\n",
       "</style>\n",
       "<table border=\"1\" class=\"dataframe\">\n",
       "  <thead>\n",
       "    <tr style=\"text-align: right;\">\n",
       "      <th></th>\n",
       "      <th>positive_probabilty</th>\n",
       "      <th>predicted_value_05</th>\n",
       "      <th>predicted_value_01</th>\n",
       "      <th>predicted_value_02</th>\n",
       "      <th>predicted_value_03</th>\n",
       "      <th>predicted_value_04</th>\n",
       "      <th>predicted_value_06</th>\n",
       "      <th>predicted_value_07</th>\n",
       "      <th>predicted_value_08</th>\n",
       "      <th>predicted_value_09</th>\n",
       "    </tr>\n",
       "  </thead>\n",
       "  <tbody>\n",
       "    <tr>\n",
       "      <th>0</th>\n",
       "      <td>0.288345</td>\n",
       "      <td>0</td>\n",
       "      <td>1</td>\n",
       "      <td>1</td>\n",
       "      <td>0</td>\n",
       "      <td>0</td>\n",
       "      <td>0</td>\n",
       "      <td>0</td>\n",
       "      <td>0</td>\n",
       "      <td>0</td>\n",
       "    </tr>\n",
       "    <tr>\n",
       "      <th>1</th>\n",
       "      <td>0.079677</td>\n",
       "      <td>0</td>\n",
       "      <td>0</td>\n",
       "      <td>0</td>\n",
       "      <td>0</td>\n",
       "      <td>0</td>\n",
       "      <td>0</td>\n",
       "      <td>0</td>\n",
       "      <td>0</td>\n",
       "      <td>0</td>\n",
       "    </tr>\n",
       "    <tr>\n",
       "      <th>2</th>\n",
       "      <td>0.052765</td>\n",
       "      <td>0</td>\n",
       "      <td>0</td>\n",
       "      <td>0</td>\n",
       "      <td>0</td>\n",
       "      <td>0</td>\n",
       "      <td>0</td>\n",
       "      <td>0</td>\n",
       "      <td>0</td>\n",
       "      <td>0</td>\n",
       "    </tr>\n",
       "    <tr>\n",
       "      <th>3</th>\n",
       "      <td>0.346328</td>\n",
       "      <td>0</td>\n",
       "      <td>1</td>\n",
       "      <td>1</td>\n",
       "      <td>1</td>\n",
       "      <td>0</td>\n",
       "      <td>0</td>\n",
       "      <td>0</td>\n",
       "      <td>0</td>\n",
       "      <td>0</td>\n",
       "    </tr>\n",
       "    <tr>\n",
       "      <th>4</th>\n",
       "      <td>0.971423</td>\n",
       "      <td>1</td>\n",
       "      <td>1</td>\n",
       "      <td>1</td>\n",
       "      <td>1</td>\n",
       "      <td>1</td>\n",
       "      <td>1</td>\n",
       "      <td>1</td>\n",
       "      <td>1</td>\n",
       "      <td>1</td>\n",
       "    </tr>\n",
       "    <tr>\n",
       "      <th>...</th>\n",
       "      <td>...</td>\n",
       "      <td>...</td>\n",
       "      <td>...</td>\n",
       "      <td>...</td>\n",
       "      <td>...</td>\n",
       "      <td>...</td>\n",
       "      <td>...</td>\n",
       "      <td>...</td>\n",
       "      <td>...</td>\n",
       "      <td>...</td>\n",
       "    </tr>\n",
       "    <tr>\n",
       "      <th>4456</th>\n",
       "      <td>0.939408</td>\n",
       "      <td>1</td>\n",
       "      <td>1</td>\n",
       "      <td>1</td>\n",
       "      <td>1</td>\n",
       "      <td>1</td>\n",
       "      <td>1</td>\n",
       "      <td>1</td>\n",
       "      <td>1</td>\n",
       "      <td>1</td>\n",
       "    </tr>\n",
       "    <tr>\n",
       "      <th>4457</th>\n",
       "      <td>0.559800</td>\n",
       "      <td>1</td>\n",
       "      <td>1</td>\n",
       "      <td>1</td>\n",
       "      <td>1</td>\n",
       "      <td>1</td>\n",
       "      <td>0</td>\n",
       "      <td>0</td>\n",
       "      <td>0</td>\n",
       "      <td>0</td>\n",
       "    </tr>\n",
       "    <tr>\n",
       "      <th>4458</th>\n",
       "      <td>0.898179</td>\n",
       "      <td>1</td>\n",
       "      <td>1</td>\n",
       "      <td>1</td>\n",
       "      <td>1</td>\n",
       "      <td>1</td>\n",
       "      <td>1</td>\n",
       "      <td>1</td>\n",
       "      <td>1</td>\n",
       "      <td>0</td>\n",
       "    </tr>\n",
       "    <tr>\n",
       "      <th>4459</th>\n",
       "      <td>0.112512</td>\n",
       "      <td>0</td>\n",
       "      <td>1</td>\n",
       "      <td>0</td>\n",
       "      <td>0</td>\n",
       "      <td>0</td>\n",
       "      <td>0</td>\n",
       "      <td>0</td>\n",
       "      <td>0</td>\n",
       "      <td>0</td>\n",
       "    </tr>\n",
       "    <tr>\n",
       "      <th>4460</th>\n",
       "      <td>0.452547</td>\n",
       "      <td>0</td>\n",
       "      <td>1</td>\n",
       "      <td>1</td>\n",
       "      <td>1</td>\n",
       "      <td>1</td>\n",
       "      <td>0</td>\n",
       "      <td>0</td>\n",
       "      <td>0</td>\n",
       "      <td>0</td>\n",
       "    </tr>\n",
       "  </tbody>\n",
       "</table>\n",
       "<p>4461 rows × 10 columns</p>\n",
       "</div>"
      ],
      "text/plain": [
       "      positive_probabilty  predicted_value_05  predicted_value_01  \\\n",
       "0                0.288345                   0                   1   \n",
       "1                0.079677                   0                   0   \n",
       "2                0.052765                   0                   0   \n",
       "3                0.346328                   0                   1   \n",
       "4                0.971423                   1                   1   \n",
       "...                   ...                 ...                 ...   \n",
       "4456             0.939408                   1                   1   \n",
       "4457             0.559800                   1                   1   \n",
       "4458             0.898179                   1                   1   \n",
       "4459             0.112512                   0                   1   \n",
       "4460             0.452547                   0                   1   \n",
       "\n",
       "      predicted_value_02  predicted_value_03  predicted_value_04  \\\n",
       "0                      1                   0                   0   \n",
       "1                      0                   0                   0   \n",
       "2                      0                   0                   0   \n",
       "3                      1                   1                   0   \n",
       "4                      1                   1                   1   \n",
       "...                  ...                 ...                 ...   \n",
       "4456                   1                   1                   1   \n",
       "4457                   1                   1                   1   \n",
       "4458                   1                   1                   1   \n",
       "4459                   0                   0                   0   \n",
       "4460                   1                   1                   1   \n",
       "\n",
       "      predicted_value_06  predicted_value_07  predicted_value_08  \\\n",
       "0                      0                   0                   0   \n",
       "1                      0                   0                   0   \n",
       "2                      0                   0                   0   \n",
       "3                      0                   0                   0   \n",
       "4                      1                   1                   1   \n",
       "...                  ...                 ...                 ...   \n",
       "4456                   1                   1                   1   \n",
       "4457                   0                   0                   0   \n",
       "4458                   1                   1                   1   \n",
       "4459                   0                   0                   0   \n",
       "4460                   0                   0                   0   \n",
       "\n",
       "      predicted_value_09  \n",
       "0                      0  \n",
       "1                      0  \n",
       "2                      0  \n",
       "3                      0  \n",
       "4                      1  \n",
       "...                  ...  \n",
       "4456                   1  \n",
       "4457                   0  \n",
       "4458                   0  \n",
       "4459                   0  \n",
       "4460                   0  \n",
       "\n",
       "[4461 rows x 10 columns]"
      ]
     },
     "execution_count": 314,
     "metadata": {},
     "output_type": "execute_result"
    }
   ],
   "source": [
    "threshold_df"
   ]
  },
  {
   "cell_type": "code",
   "execution_count": 315,
   "id": "d957441d",
   "metadata": {},
   "outputs": [
    {
     "name": "stdout",
     "output_type": "stream",
     "text": [
      "Score for threshold value:  0.1\n",
      "Accuracy Score :  0.5696032279757902\n",
      "Precision Score :  0.5285180572851805\n",
      "Recall Score :  0.9874360167519777\n",
      "F1 Score :  0.6885139519792343\n",
      "\n",
      "\n",
      "Score for threshold value:  0.2\n",
      "Accuracy Score :  0.7126204886796682\n",
      "Precision Score :  0.634085988246211\n",
      "Recall Score :  0.9539320614239181\n",
      "F1 Score :  0.7617985878855443\n",
      "\n",
      "\n",
      "Score for threshold value:  0.3\n",
      "Accuracy Score :  0.7700067249495629\n",
      "Precision Score :  0.7045537340619308\n",
      "Recall Score :  0.899953466728711\n",
      "F1 Score :  0.7903555373927258\n",
      "\n",
      "\n",
      "Score for threshold value:  0.4\n",
      "Accuracy Score :  0.7926473884779197\n",
      "Precision Score :  0.7651646447140381\n",
      "Recall Score :  0.8217775709632387\n",
      "F1 Score :  0.7924612968364371\n",
      "\n",
      "\n",
      "Score for threshold value:  0.5\n",
      "Accuracy Score :  0.8004931629679444\n",
      "Precision Score :  0.8136522172396612\n",
      "Recall Score :  0.7598883201489065\n",
      "F1 Score :  0.785851780558229\n",
      "\n",
      "\n",
      "Score for threshold value:  0.6\n",
      "Accuracy Score :  0.777404169468729\n",
      "Precision Score :  0.8498789346246973\n",
      "Recall Score :  0.6533271288971615\n",
      "F1 Score :  0.7387529597474348\n",
      "\n",
      "\n",
      "Score for threshold value:  0.7\n",
      "Accuracy Score :  0.7516251961443623\n",
      "Precision Score :  0.8741912293314162\n",
      "Recall Score :  0.5658445788738948\n",
      "F1 Score :  0.6870056497175141\n",
      "\n",
      "\n",
      "Score for threshold value:  0.8\n",
      "Accuracy Score :  0.7206904281551222\n",
      "Precision Score :  0.9123287671232877\n",
      "Recall Score :  0.46486738017682644\n",
      "F1 Score :  0.6159062885326757\n",
      "\n",
      "\n",
      "Score for threshold value:  0.9\n",
      "Accuracy Score :  0.6639766868415153\n",
      "Precision Score :  0.9551820728291317\n",
      "Recall Score :  0.31735691019078643\n",
      "F1 Score :  0.4764233321690535\n",
      "\n",
      "\n"
     ]
    }
   ],
   "source": [
    "thres_list = [1,2,3,4,5,6,7,8,9]\n",
    "for thres in thres_list:\n",
    "  print(\"Score for threshold value: \",str(thres/10))\n",
    "  print(\"Accuracy Score : \",accuracy_score(y_train,threshold_df['predicted_value_0'+str(thres)]))\n",
    "  print(\"Precision Score : \",precision_score(y_train,threshold_df['predicted_value_0'+str(thres)]))\n",
    "  print(\"Recall Score : \",recall_score(y_train,threshold_df['predicted_value_0'+str(thres)]))\n",
    "  print(\"F1 Score : \",f1_score(y_train,threshold_df['predicted_value_0'+str(thres)]))\n",
    "  print(\"\\n\")"
   ]
  },
  {
   "cell_type": "markdown",
   "id": "5aa27eff",
   "metadata": {},
   "source": [
    "## Improving Model performance."
   ]
  },
  {
   "cell_type": "code",
   "execution_count": 316,
   "id": "bc007c69",
   "metadata": {},
   "outputs": [],
   "source": [
    "# Select more appropiate features and removing any correlated features."
   ]
  },
  {
   "cell_type": "code",
   "execution_count": 317,
   "id": "8811cf4e",
   "metadata": {},
   "outputs": [],
   "source": [
    "# Import RFE and select 15 variables\n",
    "# Recursive feature Elimination ,technique for doing feature selection.\n",
    "\n",
    "from sklearn.feature_selection import RFE\n",
    "rfe = RFE(model, n_features_to_select=15, step=1)   # running RFE with 15 variables as output\n",
    "rfe = rfe.fit(X_train, y_train)"
   ]
  },
  {
   "cell_type": "code",
   "execution_count": 318,
   "id": "6ceacf0f",
   "metadata": {},
   "outputs": [
    {
     "data": {
      "text/plain": [
       "array([ True,  True, False, False,  True, False, False, False, False,\n",
       "       False,  True, False, False, False,  True, False, False, False,\n",
       "        True, False, False,  True, False, False, False, False, False,\n",
       "       False, False,  True, False, False,  True, False, False, False,\n",
       "       False,  True, False,  True,  True,  True, False, False, False,\n",
       "       False, False, False,  True, False, False, False, False,  True,\n",
       "       False, False, False, False, False, False, False, False, False,\n",
       "       False, False, False, False, False, False, False, False, False,\n",
       "       False, False])"
      ]
     },
     "execution_count": 318,
     "metadata": {},
     "output_type": "execute_result"
    }
   ],
   "source": [
    "rfe.support_"
   ]
  },
  {
   "cell_type": "code",
   "execution_count": 319,
   "id": "f5c2db4f",
   "metadata": {},
   "outputs": [
    {
     "data": {
      "text/plain": [
       "array([ 1,  1, 23,  8,  1, 52, 24, 51, 36, 44,  1, 35, 43, 53,  1, 37, 58,\n",
       "       42,  1, 33, 38,  1, 25,  4, 49, 57, 41, 54, 28,  1,  5, 26,  1, 47,\n",
       "       40, 34, 48,  1, 46,  1,  1,  1, 50,  3, 20, 59, 27, 60,  1,  2, 32,\n",
       "       31, 45,  1, 39, 29,  6, 15, 11,  9, 14, 10, 55, 16, 18, 22, 12, 21,\n",
       "       19, 30,  7, 56, 13, 17])"
      ]
     },
     "execution_count": 319,
     "metadata": {},
     "output_type": "execute_result"
    }
   ],
   "source": [
    "rfe.ranking_"
   ]
  },
  {
   "cell_type": "code",
   "execution_count": 320,
   "id": "02e3ecb7",
   "metadata": {},
   "outputs": [
    {
     "data": {
      "text/plain": [
       "[('TotalVisits', True, 1),\n",
       " ('Total Time Spent on Website', True, 1),\n",
       " ('Page Views Per Visit', False, 23),\n",
       " ('Lead Origin_Landing Page Submission', False, 8),\n",
       " ('Lead Origin_Lead Add Form', True, 1),\n",
       " ('Lead Origin_Lead Import', False, 52),\n",
       " ('Lead Source_Direct Traffic', False, 24),\n",
       " ('Lead Source_Facebook', False, 51),\n",
       " ('Lead Source_Google', False, 36),\n",
       " ('Lead Source_Live Chat', False, 44),\n",
       " ('Lead Source_Olark Chat', True, 1),\n",
       " ('Lead Source_Organic Search', False, 35),\n",
       " ('Lead Source_Pay per Click Ads', False, 43),\n",
       " ('Lead Source_Press_Release', False, 53),\n",
       " ('Lead Source_Reference', True, 1),\n",
       " ('Lead Source_Referral Sites', False, 37),\n",
       " ('Lead Source_Social Media', False, 58),\n",
       " ('Lead Source_WeLearn', False, 42),\n",
       " ('Lead Source_Welingak Website', True, 1),\n",
       " ('Lead Source_bing', False, 33),\n",
       " ('Lead Source_testone', False, 38),\n",
       " ('Do Not Email_Yes', True, 1),\n",
       " ('Last Activity_Converted to Lead', False, 25),\n",
       " ('Last Activity_Email Bounced', False, 4),\n",
       " ('Last Activity_Email Link Clicked', False, 49),\n",
       " ('Last Activity_Email Marked Spam', False, 57),\n",
       " ('Last Activity_Email Opened', False, 41),\n",
       " ('Last Activity_Email Received', False, 54),\n",
       " ('Last Activity_Form Submitted on Website', False, 28),\n",
       " ('Last Activity_Had a Phone Conversation', True, 1),\n",
       " ('Last Activity_Olark Chat Conversation', False, 5),\n",
       " ('Last Activity_Page Visited on Website', False, 26),\n",
       " ('Last Activity_SMS Sent', True, 1),\n",
       " ('Last Activity_Unreachable', False, 47),\n",
       " ('Last Activity_Unsubscribed', False, 40),\n",
       " ('Last Activity_View in browser link Clicked', False, 34),\n",
       " ('Last Activity_Visited Booth in Tradeshow', False, 48),\n",
       " ('What is your current occupation_Housewife', True, 1),\n",
       " ('What is your current occupation_Other', False, 46),\n",
       " ('What is your current occupation_Student', True, 1),\n",
       " ('What is your current occupation_Unemployed', True, 1),\n",
       " ('What is your current occupation_Working Professional', True, 1),\n",
       " ('A free copy of Mastering The Interview_Yes', False, 50),\n",
       " ('Last Notable Activity_Email Bounced', False, 3),\n",
       " ('Last Notable Activity_Email Link Clicked', False, 20),\n",
       " ('Last Notable Activity_Email Marked Spam', False, 59),\n",
       " ('Last Notable Activity_Email Opened', False, 27),\n",
       " ('Last Notable Activity_Email Received', False, 60),\n",
       " ('Last Notable Activity_Had a Phone Conversation', True, 1),\n",
       " ('Last Notable Activity_Modified', False, 2),\n",
       " ('Last Notable Activity_Olark Chat Conversation', False, 32),\n",
       " ('Last Notable Activity_Page Visited on Website', False, 31),\n",
       " ('Last Notable Activity_SMS Sent', False, 45),\n",
       " ('Last Notable Activity_Unreachable', True, 1),\n",
       " ('Last Notable Activity_Unsubscribed', False, 39),\n",
       " ('Last Notable Activity_View in browser link Clicked', False, 29),\n",
       " ('Specialization_Banking, Investment And Insurance', False, 6),\n",
       " ('Specialization_Business Administration', False, 15),\n",
       " ('Specialization_E-Business', False, 11),\n",
       " ('Specialization_E-COMMERCE', False, 9),\n",
       " ('Specialization_Finance Management', False, 14),\n",
       " ('Specialization_Healthcare Management', False, 10),\n",
       " ('Specialization_Hospitality Management', False, 55),\n",
       " ('Specialization_Human Resource Management', False, 16),\n",
       " ('Specialization_IT Projects Management', False, 18),\n",
       " ('Specialization_International Business', False, 22),\n",
       " ('Specialization_Marketing Management', False, 12),\n",
       " ('Specialization_Media and Advertising', False, 21),\n",
       " ('Specialization_Operations Management', False, 19),\n",
       " ('Specialization_Retail Management', False, 30),\n",
       " ('Specialization_Rural and Agribusiness', False, 7),\n",
       " ('Specialization_Services Excellence', False, 56),\n",
       " ('Specialization_Supply Chain Management', False, 13),\n",
       " ('Specialization_Travel and Tourism', False, 17)]"
      ]
     },
     "execution_count": 320,
     "metadata": {},
     "output_type": "execute_result"
    }
   ],
   "source": [
    "# Let's take a look at which features have been selected by RFE\n",
    "\n",
    "list(zip(X_train.columns, rfe.support_, rfe.ranking_))"
   ]
  },
  {
   "cell_type": "code",
   "execution_count": 321,
   "id": "11cf53ca",
   "metadata": {},
   "outputs": [],
   "source": [
    "# Put all the columns selected by RFE in the variable 'col'\n",
    "\n",
    "col = X_train.columns[rfe.support_]"
   ]
  },
  {
   "cell_type": "code",
   "execution_count": 322,
   "id": "5ab970ac",
   "metadata": {},
   "outputs": [
    {
     "data": {
      "text/plain": [
       "Index(['TotalVisits', 'Total Time Spent on Website',\n",
       "       'Lead Origin_Lead Add Form', 'Lead Source_Olark Chat',\n",
       "       'Lead Source_Reference', 'Lead Source_Welingak Website',\n",
       "       'Do Not Email_Yes', 'Last Activity_Had a Phone Conversation',\n",
       "       'Last Activity_SMS Sent', 'What is your current occupation_Housewife',\n",
       "       'What is your current occupation_Student',\n",
       "       'What is your current occupation_Unemployed',\n",
       "       'What is your current occupation_Working Professional',\n",
       "       'Last Notable Activity_Had a Phone Conversation',\n",
       "       'Last Notable Activity_Unreachable'],\n",
       "      dtype='object')"
      ]
     },
     "execution_count": 322,
     "metadata": {},
     "output_type": "execute_result"
    }
   ],
   "source": [
    "col"
   ]
  },
  {
   "cell_type": "markdown",
   "id": "9a032603",
   "metadata": {},
   "source": [
    "Now you have all the variables selected by RFE and since we care about the statistics part, i.e. the p-values and the VIFs, let's use these variables to create a logistic regression model using statsmodels."
   ]
  },
  {
   "cell_type": "code",
   "execution_count": 323,
   "id": "eafd8aa0",
   "metadata": {},
   "outputs": [],
   "source": [
    "# Select only the columns selected by RFE\n",
    "\n",
    "X_train_new = X_train[col]"
   ]
  },
  {
   "cell_type": "code",
   "execution_count": 324,
   "id": "946e7d8f",
   "metadata": {},
   "outputs": [
    {
     "data": {
      "text/html": [
       "<div>\n",
       "<style scoped>\n",
       "    .dataframe tbody tr th:only-of-type {\n",
       "        vertical-align: middle;\n",
       "    }\n",
       "\n",
       "    .dataframe tbody tr th {\n",
       "        vertical-align: top;\n",
       "    }\n",
       "\n",
       "    .dataframe thead th {\n",
       "        text-align: right;\n",
       "    }\n",
       "</style>\n",
       "<table border=\"1\" class=\"dataframe\">\n",
       "  <thead>\n",
       "    <tr style=\"text-align: right;\">\n",
       "      <th></th>\n",
       "      <th>TotalVisits</th>\n",
       "      <th>Total Time Spent on Website</th>\n",
       "      <th>Lead Origin_Lead Add Form</th>\n",
       "      <th>Lead Source_Olark Chat</th>\n",
       "      <th>Lead Source_Reference</th>\n",
       "      <th>Lead Source_Welingak Website</th>\n",
       "      <th>Do Not Email_Yes</th>\n",
       "      <th>Last Activity_Had a Phone Conversation</th>\n",
       "      <th>Last Activity_SMS Sent</th>\n",
       "      <th>What is your current occupation_Housewife</th>\n",
       "      <th>What is your current occupation_Student</th>\n",
       "      <th>What is your current occupation_Unemployed</th>\n",
       "      <th>What is your current occupation_Working Professional</th>\n",
       "      <th>Last Notable Activity_Had a Phone Conversation</th>\n",
       "      <th>Last Notable Activity_Unreachable</th>\n",
       "    </tr>\n",
       "  </thead>\n",
       "  <tbody>\n",
       "    <tr>\n",
       "      <th>8003</th>\n",
       "      <td>0.015936</td>\n",
       "      <td>0.029489</td>\n",
       "      <td>False</td>\n",
       "      <td>False</td>\n",
       "      <td>False</td>\n",
       "      <td>False</td>\n",
       "      <td>False</td>\n",
       "      <td>False</td>\n",
       "      <td>True</td>\n",
       "      <td>False</td>\n",
       "      <td>False</td>\n",
       "      <td>True</td>\n",
       "      <td>False</td>\n",
       "      <td>False</td>\n",
       "      <td>False</td>\n",
       "    </tr>\n",
       "    <tr>\n",
       "      <th>218</th>\n",
       "      <td>0.015936</td>\n",
       "      <td>0.082306</td>\n",
       "      <td>False</td>\n",
       "      <td>False</td>\n",
       "      <td>False</td>\n",
       "      <td>False</td>\n",
       "      <td>False</td>\n",
       "      <td>False</td>\n",
       "      <td>False</td>\n",
       "      <td>False</td>\n",
       "      <td>False</td>\n",
       "      <td>True</td>\n",
       "      <td>False</td>\n",
       "      <td>False</td>\n",
       "      <td>False</td>\n",
       "    </tr>\n",
       "    <tr>\n",
       "      <th>4171</th>\n",
       "      <td>0.023904</td>\n",
       "      <td>0.034331</td>\n",
       "      <td>False</td>\n",
       "      <td>False</td>\n",
       "      <td>False</td>\n",
       "      <td>False</td>\n",
       "      <td>False</td>\n",
       "      <td>False</td>\n",
       "      <td>False</td>\n",
       "      <td>False</td>\n",
       "      <td>False</td>\n",
       "      <td>True</td>\n",
       "      <td>False</td>\n",
       "      <td>False</td>\n",
       "      <td>False</td>\n",
       "    </tr>\n",
       "    <tr>\n",
       "      <th>4037</th>\n",
       "      <td>0.000000</td>\n",
       "      <td>0.000000</td>\n",
       "      <td>False</td>\n",
       "      <td>True</td>\n",
       "      <td>False</td>\n",
       "      <td>False</td>\n",
       "      <td>False</td>\n",
       "      <td>False</td>\n",
       "      <td>False</td>\n",
       "      <td>False</td>\n",
       "      <td>False</td>\n",
       "      <td>True</td>\n",
       "      <td>False</td>\n",
       "      <td>False</td>\n",
       "      <td>False</td>\n",
       "    </tr>\n",
       "    <tr>\n",
       "      <th>3660</th>\n",
       "      <td>0.000000</td>\n",
       "      <td>0.000000</td>\n",
       "      <td>True</td>\n",
       "      <td>False</td>\n",
       "      <td>True</td>\n",
       "      <td>False</td>\n",
       "      <td>False</td>\n",
       "      <td>False</td>\n",
       "      <td>True</td>\n",
       "      <td>False</td>\n",
       "      <td>False</td>\n",
       "      <td>True</td>\n",
       "      <td>False</td>\n",
       "      <td>False</td>\n",
       "      <td>False</td>\n",
       "    </tr>\n",
       "    <tr>\n",
       "      <th>...</th>\n",
       "      <td>...</td>\n",
       "      <td>...</td>\n",
       "      <td>...</td>\n",
       "      <td>...</td>\n",
       "      <td>...</td>\n",
       "      <td>...</td>\n",
       "      <td>...</td>\n",
       "      <td>...</td>\n",
       "      <td>...</td>\n",
       "      <td>...</td>\n",
       "      <td>...</td>\n",
       "      <td>...</td>\n",
       "      <td>...</td>\n",
       "      <td>...</td>\n",
       "      <td>...</td>\n",
       "    </tr>\n",
       "    <tr>\n",
       "      <th>8759</th>\n",
       "      <td>0.000000</td>\n",
       "      <td>0.000000</td>\n",
       "      <td>True</td>\n",
       "      <td>False</td>\n",
       "      <td>True</td>\n",
       "      <td>False</td>\n",
       "      <td>False</td>\n",
       "      <td>False</td>\n",
       "      <td>True</td>\n",
       "      <td>False</td>\n",
       "      <td>False</td>\n",
       "      <td>True</td>\n",
       "      <td>False</td>\n",
       "      <td>False</td>\n",
       "      <td>False</td>\n",
       "    </tr>\n",
       "    <tr>\n",
       "      <th>100</th>\n",
       "      <td>0.027888</td>\n",
       "      <td>0.718750</td>\n",
       "      <td>False</td>\n",
       "      <td>False</td>\n",
       "      <td>False</td>\n",
       "      <td>False</td>\n",
       "      <td>False</td>\n",
       "      <td>False</td>\n",
       "      <td>False</td>\n",
       "      <td>False</td>\n",
       "      <td>False</td>\n",
       "      <td>True</td>\n",
       "      <td>False</td>\n",
       "      <td>False</td>\n",
       "      <td>False</td>\n",
       "    </tr>\n",
       "    <tr>\n",
       "      <th>5877</th>\n",
       "      <td>0.011952</td>\n",
       "      <td>0.752201</td>\n",
       "      <td>False</td>\n",
       "      <td>False</td>\n",
       "      <td>False</td>\n",
       "      <td>False</td>\n",
       "      <td>False</td>\n",
       "      <td>False</td>\n",
       "      <td>True</td>\n",
       "      <td>False</td>\n",
       "      <td>False</td>\n",
       "      <td>True</td>\n",
       "      <td>False</td>\n",
       "      <td>False</td>\n",
       "      <td>False</td>\n",
       "    </tr>\n",
       "    <tr>\n",
       "      <th>8658</th>\n",
       "      <td>0.015936</td>\n",
       "      <td>0.187060</td>\n",
       "      <td>False</td>\n",
       "      <td>False</td>\n",
       "      <td>False</td>\n",
       "      <td>False</td>\n",
       "      <td>False</td>\n",
       "      <td>False</td>\n",
       "      <td>False</td>\n",
       "      <td>False</td>\n",
       "      <td>False</td>\n",
       "      <td>True</td>\n",
       "      <td>False</td>\n",
       "      <td>False</td>\n",
       "      <td>False</td>\n",
       "    </tr>\n",
       "    <tr>\n",
       "      <th>8217</th>\n",
       "      <td>0.015936</td>\n",
       "      <td>0.100792</td>\n",
       "      <td>False</td>\n",
       "      <td>False</td>\n",
       "      <td>False</td>\n",
       "      <td>False</td>\n",
       "      <td>False</td>\n",
       "      <td>False</td>\n",
       "      <td>True</td>\n",
       "      <td>False</td>\n",
       "      <td>False</td>\n",
       "      <td>True</td>\n",
       "      <td>False</td>\n",
       "      <td>False</td>\n",
       "      <td>False</td>\n",
       "    </tr>\n",
       "  </tbody>\n",
       "</table>\n",
       "<p>4461 rows × 15 columns</p>\n",
       "</div>"
      ],
      "text/plain": [
       "      TotalVisits  Total Time Spent on Website  Lead Origin_Lead Add Form  \\\n",
       "8003     0.015936                     0.029489                      False   \n",
       "218      0.015936                     0.082306                      False   \n",
       "4171     0.023904                     0.034331                      False   \n",
       "4037     0.000000                     0.000000                      False   \n",
       "3660     0.000000                     0.000000                       True   \n",
       "...           ...                          ...                        ...   \n",
       "8759     0.000000                     0.000000                       True   \n",
       "100      0.027888                     0.718750                      False   \n",
       "5877     0.011952                     0.752201                      False   \n",
       "8658     0.015936                     0.187060                      False   \n",
       "8217     0.015936                     0.100792                      False   \n",
       "\n",
       "      Lead Source_Olark Chat  Lead Source_Reference  \\\n",
       "8003                   False                  False   \n",
       "218                    False                  False   \n",
       "4171                   False                  False   \n",
       "4037                    True                  False   \n",
       "3660                   False                   True   \n",
       "...                      ...                    ...   \n",
       "8759                   False                   True   \n",
       "100                    False                  False   \n",
       "5877                   False                  False   \n",
       "8658                   False                  False   \n",
       "8217                   False                  False   \n",
       "\n",
       "      Lead Source_Welingak Website  Do Not Email_Yes  \\\n",
       "8003                         False             False   \n",
       "218                          False             False   \n",
       "4171                         False             False   \n",
       "4037                         False             False   \n",
       "3660                         False             False   \n",
       "...                            ...               ...   \n",
       "8759                         False             False   \n",
       "100                          False             False   \n",
       "5877                         False             False   \n",
       "8658                         False             False   \n",
       "8217                         False             False   \n",
       "\n",
       "      Last Activity_Had a Phone Conversation  Last Activity_SMS Sent  \\\n",
       "8003                                   False                    True   \n",
       "218                                    False                   False   \n",
       "4171                                   False                   False   \n",
       "4037                                   False                   False   \n",
       "3660                                   False                    True   \n",
       "...                                      ...                     ...   \n",
       "8759                                   False                    True   \n",
       "100                                    False                   False   \n",
       "5877                                   False                    True   \n",
       "8658                                   False                   False   \n",
       "8217                                   False                    True   \n",
       "\n",
       "      What is your current occupation_Housewife  \\\n",
       "8003                                      False   \n",
       "218                                       False   \n",
       "4171                                      False   \n",
       "4037                                      False   \n",
       "3660                                      False   \n",
       "...                                         ...   \n",
       "8759                                      False   \n",
       "100                                       False   \n",
       "5877                                      False   \n",
       "8658                                      False   \n",
       "8217                                      False   \n",
       "\n",
       "      What is your current occupation_Student  \\\n",
       "8003                                    False   \n",
       "218                                     False   \n",
       "4171                                    False   \n",
       "4037                                    False   \n",
       "3660                                    False   \n",
       "...                                       ...   \n",
       "8759                                    False   \n",
       "100                                     False   \n",
       "5877                                    False   \n",
       "8658                                    False   \n",
       "8217                                    False   \n",
       "\n",
       "      What is your current occupation_Unemployed  \\\n",
       "8003                                        True   \n",
       "218                                         True   \n",
       "4171                                        True   \n",
       "4037                                        True   \n",
       "3660                                        True   \n",
       "...                                          ...   \n",
       "8759                                        True   \n",
       "100                                         True   \n",
       "5877                                        True   \n",
       "8658                                        True   \n",
       "8217                                        True   \n",
       "\n",
       "      What is your current occupation_Working Professional  \\\n",
       "8003                                              False      \n",
       "218                                               False      \n",
       "4171                                              False      \n",
       "4037                                              False      \n",
       "3660                                              False      \n",
       "...                                                 ...      \n",
       "8759                                              False      \n",
       "100                                               False      \n",
       "5877                                              False      \n",
       "8658                                              False      \n",
       "8217                                              False      \n",
       "\n",
       "      Last Notable Activity_Had a Phone Conversation  \\\n",
       "8003                                           False   \n",
       "218                                            False   \n",
       "4171                                           False   \n",
       "4037                                           False   \n",
       "3660                                           False   \n",
       "...                                              ...   \n",
       "8759                                           False   \n",
       "100                                            False   \n",
       "5877                                           False   \n",
       "8658                                           False   \n",
       "8217                                           False   \n",
       "\n",
       "      Last Notable Activity_Unreachable  \n",
       "8003                              False  \n",
       "218                               False  \n",
       "4171                              False  \n",
       "4037                              False  \n",
       "3660                              False  \n",
       "...                                 ...  \n",
       "8759                              False  \n",
       "100                               False  \n",
       "5877                              False  \n",
       "8658                              False  \n",
       "8217                              False  \n",
       "\n",
       "[4461 rows x 15 columns]"
      ]
     },
     "execution_count": 324,
     "metadata": {},
     "output_type": "execute_result"
    }
   ],
   "source": [
    "X_train_new"
   ]
  },
  {
   "cell_type": "code",
   "execution_count": 325,
   "id": "6fba0c7d",
   "metadata": {},
   "outputs": [],
   "source": [
    "# Import statsmodels\n",
    "\n",
    "import statsmodels.api as sm"
   ]
  },
  {
   "cell_type": "code",
   "execution_count": 326,
   "id": "cdb825da",
   "metadata": {},
   "outputs": [
    {
     "ename": "ValueError",
     "evalue": "Pandas data cast to numpy dtype of object. Check input data with np.asarray(data).",
     "output_type": "error",
     "traceback": [
      "\u001b[1;31m---------------------------------------------------------------------------\u001b[0m",
      "\u001b[1;31mValueError\u001b[0m                                Traceback (most recent call last)",
      "Cell \u001b[1;32mIn[326], line 4\u001b[0m\n\u001b[0;32m      1\u001b[0m \u001b[38;5;66;03m# Fit a logistic Regression model on X_train after adding a constant and output the summary\u001b[39;00m\n\u001b[0;32m      3\u001b[0m X_train_sm \u001b[38;5;241m=\u001b[39m sm\u001b[38;5;241m.\u001b[39madd_constant(X_train_new)\n\u001b[1;32m----> 4\u001b[0m logm2 \u001b[38;5;241m=\u001b[39m sm\u001b[38;5;241m.\u001b[39mGLM(y_train, X_train_sm, family \u001b[38;5;241m=\u001b[39m sm\u001b[38;5;241m.\u001b[39mfamilies\u001b[38;5;241m.\u001b[39mBinomial())\n\u001b[0;32m      5\u001b[0m res \u001b[38;5;241m=\u001b[39m logm2\u001b[38;5;241m.\u001b[39mfit()\n\u001b[0;32m      6\u001b[0m res\u001b[38;5;241m.\u001b[39msummary()\n",
      "File \u001b[1;32m~\\anaconda3\\Lib\\site-packages\\statsmodels\\genmod\\generalized_linear_model.py:325\u001b[0m, in \u001b[0;36mGLM.__init__\u001b[1;34m(self, endog, exog, family, offset, exposure, freq_weights, var_weights, missing, **kwargs)\u001b[0m\n\u001b[0;32m    322\u001b[0m \u001b[38;5;28mself\u001b[39m\u001b[38;5;241m.\u001b[39mfreq_weights \u001b[38;5;241m=\u001b[39m freq_weights\n\u001b[0;32m    323\u001b[0m \u001b[38;5;28mself\u001b[39m\u001b[38;5;241m.\u001b[39mvar_weights \u001b[38;5;241m=\u001b[39m var_weights\n\u001b[1;32m--> 325\u001b[0m \u001b[38;5;28msuper\u001b[39m(GLM, \u001b[38;5;28mself\u001b[39m)\u001b[38;5;241m.\u001b[39m\u001b[38;5;21m__init__\u001b[39m(endog, exog, missing\u001b[38;5;241m=\u001b[39mmissing,\n\u001b[0;32m    326\u001b[0m                           offset\u001b[38;5;241m=\u001b[39moffset, exposure\u001b[38;5;241m=\u001b[39mexposure,\n\u001b[0;32m    327\u001b[0m                           freq_weights\u001b[38;5;241m=\u001b[39mfreq_weights,\n\u001b[0;32m    328\u001b[0m                           var_weights\u001b[38;5;241m=\u001b[39mvar_weights, \u001b[38;5;241m*\u001b[39m\u001b[38;5;241m*\u001b[39mkwargs)\n\u001b[0;32m    329\u001b[0m \u001b[38;5;28mself\u001b[39m\u001b[38;5;241m.\u001b[39m_check_inputs(family, \u001b[38;5;28mself\u001b[39m\u001b[38;5;241m.\u001b[39moffset, \u001b[38;5;28mself\u001b[39m\u001b[38;5;241m.\u001b[39mexposure, \u001b[38;5;28mself\u001b[39m\u001b[38;5;241m.\u001b[39mendog,\n\u001b[0;32m    330\u001b[0m                    \u001b[38;5;28mself\u001b[39m\u001b[38;5;241m.\u001b[39mfreq_weights, \u001b[38;5;28mself\u001b[39m\u001b[38;5;241m.\u001b[39mvar_weights)\n\u001b[0;32m    331\u001b[0m \u001b[38;5;28;01mif\u001b[39;00m offset \u001b[38;5;129;01mis\u001b[39;00m \u001b[38;5;28;01mNone\u001b[39;00m:\n",
      "File \u001b[1;32m~\\anaconda3\\Lib\\site-packages\\statsmodels\\base\\model.py:270\u001b[0m, in \u001b[0;36mLikelihoodModel.__init__\u001b[1;34m(self, endog, exog, **kwargs)\u001b[0m\n\u001b[0;32m    269\u001b[0m \u001b[38;5;28;01mdef\u001b[39;00m \u001b[38;5;21m__init__\u001b[39m(\u001b[38;5;28mself\u001b[39m, endog, exog\u001b[38;5;241m=\u001b[39m\u001b[38;5;28;01mNone\u001b[39;00m, \u001b[38;5;241m*\u001b[39m\u001b[38;5;241m*\u001b[39mkwargs):\n\u001b[1;32m--> 270\u001b[0m     \u001b[38;5;28msuper\u001b[39m()\u001b[38;5;241m.\u001b[39m\u001b[38;5;21m__init__\u001b[39m(endog, exog, \u001b[38;5;241m*\u001b[39m\u001b[38;5;241m*\u001b[39mkwargs)\n\u001b[0;32m    271\u001b[0m     \u001b[38;5;28mself\u001b[39m\u001b[38;5;241m.\u001b[39minitialize()\n",
      "File \u001b[1;32m~\\anaconda3\\Lib\\site-packages\\statsmodels\\base\\model.py:95\u001b[0m, in \u001b[0;36mModel.__init__\u001b[1;34m(self, endog, exog, **kwargs)\u001b[0m\n\u001b[0;32m     93\u001b[0m missing \u001b[38;5;241m=\u001b[39m kwargs\u001b[38;5;241m.\u001b[39mpop(\u001b[38;5;124m'\u001b[39m\u001b[38;5;124mmissing\u001b[39m\u001b[38;5;124m'\u001b[39m, \u001b[38;5;124m'\u001b[39m\u001b[38;5;124mnone\u001b[39m\u001b[38;5;124m'\u001b[39m)\n\u001b[0;32m     94\u001b[0m hasconst \u001b[38;5;241m=\u001b[39m kwargs\u001b[38;5;241m.\u001b[39mpop(\u001b[38;5;124m'\u001b[39m\u001b[38;5;124mhasconst\u001b[39m\u001b[38;5;124m'\u001b[39m, \u001b[38;5;28;01mNone\u001b[39;00m)\n\u001b[1;32m---> 95\u001b[0m \u001b[38;5;28mself\u001b[39m\u001b[38;5;241m.\u001b[39mdata \u001b[38;5;241m=\u001b[39m \u001b[38;5;28mself\u001b[39m\u001b[38;5;241m.\u001b[39m_handle_data(endog, exog, missing, hasconst,\n\u001b[0;32m     96\u001b[0m                               \u001b[38;5;241m*\u001b[39m\u001b[38;5;241m*\u001b[39mkwargs)\n\u001b[0;32m     97\u001b[0m \u001b[38;5;28mself\u001b[39m\u001b[38;5;241m.\u001b[39mk_constant \u001b[38;5;241m=\u001b[39m \u001b[38;5;28mself\u001b[39m\u001b[38;5;241m.\u001b[39mdata\u001b[38;5;241m.\u001b[39mk_constant\n\u001b[0;32m     98\u001b[0m \u001b[38;5;28mself\u001b[39m\u001b[38;5;241m.\u001b[39mexog \u001b[38;5;241m=\u001b[39m \u001b[38;5;28mself\u001b[39m\u001b[38;5;241m.\u001b[39mdata\u001b[38;5;241m.\u001b[39mexog\n",
      "File \u001b[1;32m~\\anaconda3\\Lib\\site-packages\\statsmodels\\base\\model.py:135\u001b[0m, in \u001b[0;36mModel._handle_data\u001b[1;34m(self, endog, exog, missing, hasconst, **kwargs)\u001b[0m\n\u001b[0;32m    134\u001b[0m \u001b[38;5;28;01mdef\u001b[39;00m \u001b[38;5;21m_handle_data\u001b[39m(\u001b[38;5;28mself\u001b[39m, endog, exog, missing, hasconst, \u001b[38;5;241m*\u001b[39m\u001b[38;5;241m*\u001b[39mkwargs):\n\u001b[1;32m--> 135\u001b[0m     data \u001b[38;5;241m=\u001b[39m handle_data(endog, exog, missing, hasconst, \u001b[38;5;241m*\u001b[39m\u001b[38;5;241m*\u001b[39mkwargs)\n\u001b[0;32m    136\u001b[0m     \u001b[38;5;66;03m# kwargs arrays could have changed, easier to just attach here\u001b[39;00m\n\u001b[0;32m    137\u001b[0m     \u001b[38;5;28;01mfor\u001b[39;00m key \u001b[38;5;129;01min\u001b[39;00m kwargs:\n",
      "File \u001b[1;32m~\\anaconda3\\Lib\\site-packages\\statsmodels\\base\\data.py:675\u001b[0m, in \u001b[0;36mhandle_data\u001b[1;34m(endog, exog, missing, hasconst, **kwargs)\u001b[0m\n\u001b[0;32m    672\u001b[0m     exog \u001b[38;5;241m=\u001b[39m np\u001b[38;5;241m.\u001b[39masarray(exog)\n\u001b[0;32m    674\u001b[0m klass \u001b[38;5;241m=\u001b[39m handle_data_class_factory(endog, exog)\n\u001b[1;32m--> 675\u001b[0m \u001b[38;5;28;01mreturn\u001b[39;00m klass(endog, exog\u001b[38;5;241m=\u001b[39mexog, missing\u001b[38;5;241m=\u001b[39mmissing, hasconst\u001b[38;5;241m=\u001b[39mhasconst,\n\u001b[0;32m    676\u001b[0m              \u001b[38;5;241m*\u001b[39m\u001b[38;5;241m*\u001b[39mkwargs)\n",
      "File \u001b[1;32m~\\anaconda3\\Lib\\site-packages\\statsmodels\\base\\data.py:84\u001b[0m, in \u001b[0;36mModelData.__init__\u001b[1;34m(self, endog, exog, missing, hasconst, **kwargs)\u001b[0m\n\u001b[0;32m     82\u001b[0m     \u001b[38;5;28mself\u001b[39m\u001b[38;5;241m.\u001b[39morig_endog \u001b[38;5;241m=\u001b[39m endog\n\u001b[0;32m     83\u001b[0m     \u001b[38;5;28mself\u001b[39m\u001b[38;5;241m.\u001b[39morig_exog \u001b[38;5;241m=\u001b[39m exog\n\u001b[1;32m---> 84\u001b[0m     \u001b[38;5;28mself\u001b[39m\u001b[38;5;241m.\u001b[39mendog, \u001b[38;5;28mself\u001b[39m\u001b[38;5;241m.\u001b[39mexog \u001b[38;5;241m=\u001b[39m \u001b[38;5;28mself\u001b[39m\u001b[38;5;241m.\u001b[39m_convert_endog_exog(endog, exog)\n\u001b[0;32m     86\u001b[0m \u001b[38;5;28mself\u001b[39m\u001b[38;5;241m.\u001b[39mconst_idx \u001b[38;5;241m=\u001b[39m \u001b[38;5;28;01mNone\u001b[39;00m\n\u001b[0;32m     87\u001b[0m \u001b[38;5;28mself\u001b[39m\u001b[38;5;241m.\u001b[39mk_constant \u001b[38;5;241m=\u001b[39m \u001b[38;5;241m0\u001b[39m\n",
      "File \u001b[1;32m~\\anaconda3\\Lib\\site-packages\\statsmodels\\base\\data.py:509\u001b[0m, in \u001b[0;36mPandasData._convert_endog_exog\u001b[1;34m(self, endog, exog)\u001b[0m\n\u001b[0;32m    507\u001b[0m exog \u001b[38;5;241m=\u001b[39m exog \u001b[38;5;28;01mif\u001b[39;00m exog \u001b[38;5;129;01mis\u001b[39;00m \u001b[38;5;28;01mNone\u001b[39;00m \u001b[38;5;28;01melse\u001b[39;00m np\u001b[38;5;241m.\u001b[39masarray(exog)\n\u001b[0;32m    508\u001b[0m \u001b[38;5;28;01mif\u001b[39;00m endog\u001b[38;5;241m.\u001b[39mdtype \u001b[38;5;241m==\u001b[39m \u001b[38;5;28mobject\u001b[39m \u001b[38;5;129;01mor\u001b[39;00m exog \u001b[38;5;129;01mis\u001b[39;00m \u001b[38;5;129;01mnot\u001b[39;00m \u001b[38;5;28;01mNone\u001b[39;00m \u001b[38;5;129;01mand\u001b[39;00m exog\u001b[38;5;241m.\u001b[39mdtype \u001b[38;5;241m==\u001b[39m \u001b[38;5;28mobject\u001b[39m:\n\u001b[1;32m--> 509\u001b[0m     \u001b[38;5;28;01mraise\u001b[39;00m \u001b[38;5;167;01mValueError\u001b[39;00m(\u001b[38;5;124m\"\u001b[39m\u001b[38;5;124mPandas data cast to numpy dtype of object. \u001b[39m\u001b[38;5;124m\"\u001b[39m\n\u001b[0;32m    510\u001b[0m                      \u001b[38;5;124m\"\u001b[39m\u001b[38;5;124mCheck input data with np.asarray(data).\u001b[39m\u001b[38;5;124m\"\u001b[39m)\n\u001b[0;32m    511\u001b[0m \u001b[38;5;28;01mreturn\u001b[39;00m \u001b[38;5;28msuper\u001b[39m(PandasData, \u001b[38;5;28mself\u001b[39m)\u001b[38;5;241m.\u001b[39m_convert_endog_exog(endog, exog)\n",
      "\u001b[1;31mValueError\u001b[0m: Pandas data cast to numpy dtype of object. Check input data with np.asarray(data)."
     ]
    }
   ],
   "source": [
    "# Fit a logistic Regression model on X_train after adding a constant and output the summary\n",
    "\n",
    "X_train_sm = sm.add_constant(X_train_new)\n",
    "logm2 = sm.GLM(y_train, X_train_sm, family = sm.families.Binomial())\n",
    "res = logm2.fit()\n",
    "res.summary()"
   ]
  },
  {
   "cell_type": "code",
   "execution_count": null,
   "id": "eca1b7a4",
   "metadata": {},
   "outputs": [],
   "source": [
    "# Import 'variance_inflation_factor'\n",
    "\n",
    "from statsmodels.stats.outliers_influence import variance_inflation_factor"
   ]
  },
  {
   "cell_type": "code",
   "execution_count": null,
   "id": "02a96e20",
   "metadata": {},
   "outputs": [],
   "source": [
    "# Make a VIF dataframe for all the variables present\n",
    "\n",
    "vif = pd.DataFrame()\n",
    "vif['Features'] = X_train_new.columns\n",
    "vif['VIF'] = [variance_inflation_factor(X_train_new.values, i) for i in range(X_train_new.shape[1])]\n",
    "vif['VIF'] = round(vif['VIF'], 2)\n",
    "vif = vif.sort_values(by = \"VIF\", ascending = False)\n",
    "vif"
   ]
  },
  {
   "cell_type": "code",
   "execution_count": null,
   "id": "3d4698ac",
   "metadata": {},
   "outputs": [],
   "source": [
    "VIFs seem to be in a decent range except for three variables.\n",
    "\n",
    "Let's first drop the variable `Lead Origin_Lead Add Form` since it has a high p-value as well as a high VIF."
   ]
  },
  {
   "cell_type": "code",
   "execution_count": null,
   "id": "a26be74a",
   "metadata": {},
   "outputs": [],
   "source": [
    "X_train_new.drop('Lead Origin_Lead Add Form', axis = 1, inplace = True)"
   ]
  },
  {
   "cell_type": "code",
   "execution_count": null,
   "id": "652c7d62",
   "metadata": {},
   "outputs": [],
   "source": [
    "# Refit the model with the new set of features\n",
    "\n",
    "logm1 = sm.GLM(y_train,(sm.add_constant(X_train_new)), family = sm.families.Binomial())\n",
    "logm1.fit().summary()"
   ]
  },
  {
   "cell_type": "code",
   "execution_count": null,
   "id": "34497dca",
   "metadata": {},
   "outputs": [],
   "source": [
    "# Make a VIF dataframe for all the variables present\n",
    "\n",
    "vif = pd.DataFrame()\n",
    "vif['Features'] = X_train_new.columns\n",
    "vif['VIF'] = [variance_inflation_factor(X_train_new.values, i) for i in range(X_train_new.shape[1])]\n",
    "vif['VIF'] = round(vif['VIF'], 2)\n",
    "vif = vif.sort_values(by = \"VIF\", ascending = False)\n",
    "vif"
   ]
  },
  {
   "cell_type": "markdown",
   "id": "cf2de085",
   "metadata": {},
   "source": [
    "The variable `Lead Profile_Dual Specialization Student\t` also needs to be dropped."
   ]
  },
  {
   "cell_type": "markdown",
   "id": "9546e718",
   "metadata": {},
   "source": [
    "The VIFs are now all less than 5. So let's drop the ones with the high p-values beginning with `Last Notable Activity_Had a Phone Conversation`."
   ]
  },
  {
   "cell_type": "code",
   "execution_count": null,
   "id": "37436275",
   "metadata": {},
   "outputs": [],
   "source": [
    "X_train_new.drop('Last Notable Activity_Had a Phone Conversation', axis = 1, inplace = True)"
   ]
  },
  {
   "cell_type": "code",
   "execution_count": null,
   "id": "109bab95",
   "metadata": {},
   "outputs": [],
   "source": [
    "# Refit the model with the new set of features\n",
    "\n",
    "logm1 = sm.GLM(y_train,(sm.add_constant(X_train_new)), family = sm.families.Binomial())\n",
    "logm1.fit().summary()"
   ]
  },
  {
   "cell_type": "markdown",
   "id": "c3822e18",
   "metadata": {},
   "source": [
    "Drop `What is your current occupation_Housewife`."
   ]
  },
  {
   "cell_type": "code",
   "execution_count": 327,
   "id": "e5262d1a",
   "metadata": {},
   "outputs": [],
   "source": [
    "X_train_new.drop('What is your current occupation_Housewife', axis = 1, inplace = True)"
   ]
  },
  {
   "cell_type": "code",
   "execution_count": 328,
   "id": "35eddb1c",
   "metadata": {},
   "outputs": [
    {
     "ename": "ValueError",
     "evalue": "Pandas data cast to numpy dtype of object. Check input data with np.asarray(data).",
     "output_type": "error",
     "traceback": [
      "\u001b[1;31m---------------------------------------------------------------------------\u001b[0m",
      "\u001b[1;31mValueError\u001b[0m                                Traceback (most recent call last)",
      "Cell \u001b[1;32mIn[328], line 3\u001b[0m\n\u001b[0;32m      1\u001b[0m \u001b[38;5;66;03m# Refit the model with the new set of features\u001b[39;00m\n\u001b[1;32m----> 3\u001b[0m logm1 \u001b[38;5;241m=\u001b[39m sm\u001b[38;5;241m.\u001b[39mGLM(y_train,(sm\u001b[38;5;241m.\u001b[39madd_constant(X_train_new)), family \u001b[38;5;241m=\u001b[39m sm\u001b[38;5;241m.\u001b[39mfamilies\u001b[38;5;241m.\u001b[39mBinomial())\n\u001b[0;32m      4\u001b[0m logm1\u001b[38;5;241m.\u001b[39mfit()\u001b[38;5;241m.\u001b[39msummary()\n",
      "File \u001b[1;32m~\\anaconda3\\Lib\\site-packages\\statsmodels\\genmod\\generalized_linear_model.py:325\u001b[0m, in \u001b[0;36mGLM.__init__\u001b[1;34m(self, endog, exog, family, offset, exposure, freq_weights, var_weights, missing, **kwargs)\u001b[0m\n\u001b[0;32m    322\u001b[0m \u001b[38;5;28mself\u001b[39m\u001b[38;5;241m.\u001b[39mfreq_weights \u001b[38;5;241m=\u001b[39m freq_weights\n\u001b[0;32m    323\u001b[0m \u001b[38;5;28mself\u001b[39m\u001b[38;5;241m.\u001b[39mvar_weights \u001b[38;5;241m=\u001b[39m var_weights\n\u001b[1;32m--> 325\u001b[0m \u001b[38;5;28msuper\u001b[39m(GLM, \u001b[38;5;28mself\u001b[39m)\u001b[38;5;241m.\u001b[39m\u001b[38;5;21m__init__\u001b[39m(endog, exog, missing\u001b[38;5;241m=\u001b[39mmissing,\n\u001b[0;32m    326\u001b[0m                           offset\u001b[38;5;241m=\u001b[39moffset, exposure\u001b[38;5;241m=\u001b[39mexposure,\n\u001b[0;32m    327\u001b[0m                           freq_weights\u001b[38;5;241m=\u001b[39mfreq_weights,\n\u001b[0;32m    328\u001b[0m                           var_weights\u001b[38;5;241m=\u001b[39mvar_weights, \u001b[38;5;241m*\u001b[39m\u001b[38;5;241m*\u001b[39mkwargs)\n\u001b[0;32m    329\u001b[0m \u001b[38;5;28mself\u001b[39m\u001b[38;5;241m.\u001b[39m_check_inputs(family, \u001b[38;5;28mself\u001b[39m\u001b[38;5;241m.\u001b[39moffset, \u001b[38;5;28mself\u001b[39m\u001b[38;5;241m.\u001b[39mexposure, \u001b[38;5;28mself\u001b[39m\u001b[38;5;241m.\u001b[39mendog,\n\u001b[0;32m    330\u001b[0m                    \u001b[38;5;28mself\u001b[39m\u001b[38;5;241m.\u001b[39mfreq_weights, \u001b[38;5;28mself\u001b[39m\u001b[38;5;241m.\u001b[39mvar_weights)\n\u001b[0;32m    331\u001b[0m \u001b[38;5;28;01mif\u001b[39;00m offset \u001b[38;5;129;01mis\u001b[39;00m \u001b[38;5;28;01mNone\u001b[39;00m:\n",
      "File \u001b[1;32m~\\anaconda3\\Lib\\site-packages\\statsmodels\\base\\model.py:270\u001b[0m, in \u001b[0;36mLikelihoodModel.__init__\u001b[1;34m(self, endog, exog, **kwargs)\u001b[0m\n\u001b[0;32m    269\u001b[0m \u001b[38;5;28;01mdef\u001b[39;00m \u001b[38;5;21m__init__\u001b[39m(\u001b[38;5;28mself\u001b[39m, endog, exog\u001b[38;5;241m=\u001b[39m\u001b[38;5;28;01mNone\u001b[39;00m, \u001b[38;5;241m*\u001b[39m\u001b[38;5;241m*\u001b[39mkwargs):\n\u001b[1;32m--> 270\u001b[0m     \u001b[38;5;28msuper\u001b[39m()\u001b[38;5;241m.\u001b[39m\u001b[38;5;21m__init__\u001b[39m(endog, exog, \u001b[38;5;241m*\u001b[39m\u001b[38;5;241m*\u001b[39mkwargs)\n\u001b[0;32m    271\u001b[0m     \u001b[38;5;28mself\u001b[39m\u001b[38;5;241m.\u001b[39minitialize()\n",
      "File \u001b[1;32m~\\anaconda3\\Lib\\site-packages\\statsmodels\\base\\model.py:95\u001b[0m, in \u001b[0;36mModel.__init__\u001b[1;34m(self, endog, exog, **kwargs)\u001b[0m\n\u001b[0;32m     93\u001b[0m missing \u001b[38;5;241m=\u001b[39m kwargs\u001b[38;5;241m.\u001b[39mpop(\u001b[38;5;124m'\u001b[39m\u001b[38;5;124mmissing\u001b[39m\u001b[38;5;124m'\u001b[39m, \u001b[38;5;124m'\u001b[39m\u001b[38;5;124mnone\u001b[39m\u001b[38;5;124m'\u001b[39m)\n\u001b[0;32m     94\u001b[0m hasconst \u001b[38;5;241m=\u001b[39m kwargs\u001b[38;5;241m.\u001b[39mpop(\u001b[38;5;124m'\u001b[39m\u001b[38;5;124mhasconst\u001b[39m\u001b[38;5;124m'\u001b[39m, \u001b[38;5;28;01mNone\u001b[39;00m)\n\u001b[1;32m---> 95\u001b[0m \u001b[38;5;28mself\u001b[39m\u001b[38;5;241m.\u001b[39mdata \u001b[38;5;241m=\u001b[39m \u001b[38;5;28mself\u001b[39m\u001b[38;5;241m.\u001b[39m_handle_data(endog, exog, missing, hasconst,\n\u001b[0;32m     96\u001b[0m                               \u001b[38;5;241m*\u001b[39m\u001b[38;5;241m*\u001b[39mkwargs)\n\u001b[0;32m     97\u001b[0m \u001b[38;5;28mself\u001b[39m\u001b[38;5;241m.\u001b[39mk_constant \u001b[38;5;241m=\u001b[39m \u001b[38;5;28mself\u001b[39m\u001b[38;5;241m.\u001b[39mdata\u001b[38;5;241m.\u001b[39mk_constant\n\u001b[0;32m     98\u001b[0m \u001b[38;5;28mself\u001b[39m\u001b[38;5;241m.\u001b[39mexog \u001b[38;5;241m=\u001b[39m \u001b[38;5;28mself\u001b[39m\u001b[38;5;241m.\u001b[39mdata\u001b[38;5;241m.\u001b[39mexog\n",
      "File \u001b[1;32m~\\anaconda3\\Lib\\site-packages\\statsmodels\\base\\model.py:135\u001b[0m, in \u001b[0;36mModel._handle_data\u001b[1;34m(self, endog, exog, missing, hasconst, **kwargs)\u001b[0m\n\u001b[0;32m    134\u001b[0m \u001b[38;5;28;01mdef\u001b[39;00m \u001b[38;5;21m_handle_data\u001b[39m(\u001b[38;5;28mself\u001b[39m, endog, exog, missing, hasconst, \u001b[38;5;241m*\u001b[39m\u001b[38;5;241m*\u001b[39mkwargs):\n\u001b[1;32m--> 135\u001b[0m     data \u001b[38;5;241m=\u001b[39m handle_data(endog, exog, missing, hasconst, \u001b[38;5;241m*\u001b[39m\u001b[38;5;241m*\u001b[39mkwargs)\n\u001b[0;32m    136\u001b[0m     \u001b[38;5;66;03m# kwargs arrays could have changed, easier to just attach here\u001b[39;00m\n\u001b[0;32m    137\u001b[0m     \u001b[38;5;28;01mfor\u001b[39;00m key \u001b[38;5;129;01min\u001b[39;00m kwargs:\n",
      "File \u001b[1;32m~\\anaconda3\\Lib\\site-packages\\statsmodels\\base\\data.py:675\u001b[0m, in \u001b[0;36mhandle_data\u001b[1;34m(endog, exog, missing, hasconst, **kwargs)\u001b[0m\n\u001b[0;32m    672\u001b[0m     exog \u001b[38;5;241m=\u001b[39m np\u001b[38;5;241m.\u001b[39masarray(exog)\n\u001b[0;32m    674\u001b[0m klass \u001b[38;5;241m=\u001b[39m handle_data_class_factory(endog, exog)\n\u001b[1;32m--> 675\u001b[0m \u001b[38;5;28;01mreturn\u001b[39;00m klass(endog, exog\u001b[38;5;241m=\u001b[39mexog, missing\u001b[38;5;241m=\u001b[39mmissing, hasconst\u001b[38;5;241m=\u001b[39mhasconst,\n\u001b[0;32m    676\u001b[0m              \u001b[38;5;241m*\u001b[39m\u001b[38;5;241m*\u001b[39mkwargs)\n",
      "File \u001b[1;32m~\\anaconda3\\Lib\\site-packages\\statsmodels\\base\\data.py:84\u001b[0m, in \u001b[0;36mModelData.__init__\u001b[1;34m(self, endog, exog, missing, hasconst, **kwargs)\u001b[0m\n\u001b[0;32m     82\u001b[0m     \u001b[38;5;28mself\u001b[39m\u001b[38;5;241m.\u001b[39morig_endog \u001b[38;5;241m=\u001b[39m endog\n\u001b[0;32m     83\u001b[0m     \u001b[38;5;28mself\u001b[39m\u001b[38;5;241m.\u001b[39morig_exog \u001b[38;5;241m=\u001b[39m exog\n\u001b[1;32m---> 84\u001b[0m     \u001b[38;5;28mself\u001b[39m\u001b[38;5;241m.\u001b[39mendog, \u001b[38;5;28mself\u001b[39m\u001b[38;5;241m.\u001b[39mexog \u001b[38;5;241m=\u001b[39m \u001b[38;5;28mself\u001b[39m\u001b[38;5;241m.\u001b[39m_convert_endog_exog(endog, exog)\n\u001b[0;32m     86\u001b[0m \u001b[38;5;28mself\u001b[39m\u001b[38;5;241m.\u001b[39mconst_idx \u001b[38;5;241m=\u001b[39m \u001b[38;5;28;01mNone\u001b[39;00m\n\u001b[0;32m     87\u001b[0m \u001b[38;5;28mself\u001b[39m\u001b[38;5;241m.\u001b[39mk_constant \u001b[38;5;241m=\u001b[39m \u001b[38;5;241m0\u001b[39m\n",
      "File \u001b[1;32m~\\anaconda3\\Lib\\site-packages\\statsmodels\\base\\data.py:509\u001b[0m, in \u001b[0;36mPandasData._convert_endog_exog\u001b[1;34m(self, endog, exog)\u001b[0m\n\u001b[0;32m    507\u001b[0m exog \u001b[38;5;241m=\u001b[39m exog \u001b[38;5;28;01mif\u001b[39;00m exog \u001b[38;5;129;01mis\u001b[39;00m \u001b[38;5;28;01mNone\u001b[39;00m \u001b[38;5;28;01melse\u001b[39;00m np\u001b[38;5;241m.\u001b[39masarray(exog)\n\u001b[0;32m    508\u001b[0m \u001b[38;5;28;01mif\u001b[39;00m endog\u001b[38;5;241m.\u001b[39mdtype \u001b[38;5;241m==\u001b[39m \u001b[38;5;28mobject\u001b[39m \u001b[38;5;129;01mor\u001b[39;00m exog \u001b[38;5;129;01mis\u001b[39;00m \u001b[38;5;129;01mnot\u001b[39;00m \u001b[38;5;28;01mNone\u001b[39;00m \u001b[38;5;129;01mand\u001b[39;00m exog\u001b[38;5;241m.\u001b[39mdtype \u001b[38;5;241m==\u001b[39m \u001b[38;5;28mobject\u001b[39m:\n\u001b[1;32m--> 509\u001b[0m     \u001b[38;5;28;01mraise\u001b[39;00m \u001b[38;5;167;01mValueError\u001b[39;00m(\u001b[38;5;124m\"\u001b[39m\u001b[38;5;124mPandas data cast to numpy dtype of object. \u001b[39m\u001b[38;5;124m\"\u001b[39m\n\u001b[0;32m    510\u001b[0m                      \u001b[38;5;124m\"\u001b[39m\u001b[38;5;124mCheck input data with np.asarray(data).\u001b[39m\u001b[38;5;124m\"\u001b[39m)\n\u001b[0;32m    511\u001b[0m \u001b[38;5;28;01mreturn\u001b[39;00m \u001b[38;5;28msuper\u001b[39m(PandasData, \u001b[38;5;28mself\u001b[39m)\u001b[38;5;241m.\u001b[39m_convert_endog_exog(endog, exog)\n",
      "\u001b[1;31mValueError\u001b[0m: Pandas data cast to numpy dtype of object. Check input data with np.asarray(data)."
     ]
    }
   ],
   "source": [
    "# Refit the model with the new set of features\n",
    "\n",
    "logm1 = sm.GLM(y_train,(sm.add_constant(X_train_new)), family = sm.families.Binomial())\n",
    "logm1.fit().summary()"
   ]
  },
  {
   "cell_type": "markdown",
   "id": "947d3475",
   "metadata": {},
   "source": [
    "Drop `What is your current occupation_Working Professional`."
   ]
  },
  {
   "cell_type": "code",
   "execution_count": 329,
   "id": "2cbe8a11",
   "metadata": {},
   "outputs": [],
   "source": [
    "X_train_new.drop('What is your current occupation_Working Professional', axis = 1, inplace = True)"
   ]
  },
  {
   "cell_type": "code",
   "execution_count": 330,
   "id": "fc271787",
   "metadata": {},
   "outputs": [
    {
     "ename": "ValueError",
     "evalue": "Pandas data cast to numpy dtype of object. Check input data with np.asarray(data).",
     "output_type": "error",
     "traceback": [
      "\u001b[1;31m---------------------------------------------------------------------------\u001b[0m",
      "\u001b[1;31mValueError\u001b[0m                                Traceback (most recent call last)",
      "Cell \u001b[1;32mIn[330], line 3\u001b[0m\n\u001b[0;32m      1\u001b[0m \u001b[38;5;66;03m# Refit the model with the new set of features\u001b[39;00m\n\u001b[1;32m----> 3\u001b[0m logm1 \u001b[38;5;241m=\u001b[39m sm\u001b[38;5;241m.\u001b[39mGLM(y_train,(sm\u001b[38;5;241m.\u001b[39madd_constant(X_train_new)), family \u001b[38;5;241m=\u001b[39m sm\u001b[38;5;241m.\u001b[39mfamilies\u001b[38;5;241m.\u001b[39mBinomial())\n\u001b[0;32m      4\u001b[0m res \u001b[38;5;241m=\u001b[39m logm1\u001b[38;5;241m.\u001b[39mfit()\n\u001b[0;32m      5\u001b[0m res\u001b[38;5;241m.\u001b[39msummary()\n",
      "File \u001b[1;32m~\\anaconda3\\Lib\\site-packages\\statsmodels\\genmod\\generalized_linear_model.py:325\u001b[0m, in \u001b[0;36mGLM.__init__\u001b[1;34m(self, endog, exog, family, offset, exposure, freq_weights, var_weights, missing, **kwargs)\u001b[0m\n\u001b[0;32m    322\u001b[0m \u001b[38;5;28mself\u001b[39m\u001b[38;5;241m.\u001b[39mfreq_weights \u001b[38;5;241m=\u001b[39m freq_weights\n\u001b[0;32m    323\u001b[0m \u001b[38;5;28mself\u001b[39m\u001b[38;5;241m.\u001b[39mvar_weights \u001b[38;5;241m=\u001b[39m var_weights\n\u001b[1;32m--> 325\u001b[0m \u001b[38;5;28msuper\u001b[39m(GLM, \u001b[38;5;28mself\u001b[39m)\u001b[38;5;241m.\u001b[39m\u001b[38;5;21m__init__\u001b[39m(endog, exog, missing\u001b[38;5;241m=\u001b[39mmissing,\n\u001b[0;32m    326\u001b[0m                           offset\u001b[38;5;241m=\u001b[39moffset, exposure\u001b[38;5;241m=\u001b[39mexposure,\n\u001b[0;32m    327\u001b[0m                           freq_weights\u001b[38;5;241m=\u001b[39mfreq_weights,\n\u001b[0;32m    328\u001b[0m                           var_weights\u001b[38;5;241m=\u001b[39mvar_weights, \u001b[38;5;241m*\u001b[39m\u001b[38;5;241m*\u001b[39mkwargs)\n\u001b[0;32m    329\u001b[0m \u001b[38;5;28mself\u001b[39m\u001b[38;5;241m.\u001b[39m_check_inputs(family, \u001b[38;5;28mself\u001b[39m\u001b[38;5;241m.\u001b[39moffset, \u001b[38;5;28mself\u001b[39m\u001b[38;5;241m.\u001b[39mexposure, \u001b[38;5;28mself\u001b[39m\u001b[38;5;241m.\u001b[39mendog,\n\u001b[0;32m    330\u001b[0m                    \u001b[38;5;28mself\u001b[39m\u001b[38;5;241m.\u001b[39mfreq_weights, \u001b[38;5;28mself\u001b[39m\u001b[38;5;241m.\u001b[39mvar_weights)\n\u001b[0;32m    331\u001b[0m \u001b[38;5;28;01mif\u001b[39;00m offset \u001b[38;5;129;01mis\u001b[39;00m \u001b[38;5;28;01mNone\u001b[39;00m:\n",
      "File \u001b[1;32m~\\anaconda3\\Lib\\site-packages\\statsmodels\\base\\model.py:270\u001b[0m, in \u001b[0;36mLikelihoodModel.__init__\u001b[1;34m(self, endog, exog, **kwargs)\u001b[0m\n\u001b[0;32m    269\u001b[0m \u001b[38;5;28;01mdef\u001b[39;00m \u001b[38;5;21m__init__\u001b[39m(\u001b[38;5;28mself\u001b[39m, endog, exog\u001b[38;5;241m=\u001b[39m\u001b[38;5;28;01mNone\u001b[39;00m, \u001b[38;5;241m*\u001b[39m\u001b[38;5;241m*\u001b[39mkwargs):\n\u001b[1;32m--> 270\u001b[0m     \u001b[38;5;28msuper\u001b[39m()\u001b[38;5;241m.\u001b[39m\u001b[38;5;21m__init__\u001b[39m(endog, exog, \u001b[38;5;241m*\u001b[39m\u001b[38;5;241m*\u001b[39mkwargs)\n\u001b[0;32m    271\u001b[0m     \u001b[38;5;28mself\u001b[39m\u001b[38;5;241m.\u001b[39minitialize()\n",
      "File \u001b[1;32m~\\anaconda3\\Lib\\site-packages\\statsmodels\\base\\model.py:95\u001b[0m, in \u001b[0;36mModel.__init__\u001b[1;34m(self, endog, exog, **kwargs)\u001b[0m\n\u001b[0;32m     93\u001b[0m missing \u001b[38;5;241m=\u001b[39m kwargs\u001b[38;5;241m.\u001b[39mpop(\u001b[38;5;124m'\u001b[39m\u001b[38;5;124mmissing\u001b[39m\u001b[38;5;124m'\u001b[39m, \u001b[38;5;124m'\u001b[39m\u001b[38;5;124mnone\u001b[39m\u001b[38;5;124m'\u001b[39m)\n\u001b[0;32m     94\u001b[0m hasconst \u001b[38;5;241m=\u001b[39m kwargs\u001b[38;5;241m.\u001b[39mpop(\u001b[38;5;124m'\u001b[39m\u001b[38;5;124mhasconst\u001b[39m\u001b[38;5;124m'\u001b[39m, \u001b[38;5;28;01mNone\u001b[39;00m)\n\u001b[1;32m---> 95\u001b[0m \u001b[38;5;28mself\u001b[39m\u001b[38;5;241m.\u001b[39mdata \u001b[38;5;241m=\u001b[39m \u001b[38;5;28mself\u001b[39m\u001b[38;5;241m.\u001b[39m_handle_data(endog, exog, missing, hasconst,\n\u001b[0;32m     96\u001b[0m                               \u001b[38;5;241m*\u001b[39m\u001b[38;5;241m*\u001b[39mkwargs)\n\u001b[0;32m     97\u001b[0m \u001b[38;5;28mself\u001b[39m\u001b[38;5;241m.\u001b[39mk_constant \u001b[38;5;241m=\u001b[39m \u001b[38;5;28mself\u001b[39m\u001b[38;5;241m.\u001b[39mdata\u001b[38;5;241m.\u001b[39mk_constant\n\u001b[0;32m     98\u001b[0m \u001b[38;5;28mself\u001b[39m\u001b[38;5;241m.\u001b[39mexog \u001b[38;5;241m=\u001b[39m \u001b[38;5;28mself\u001b[39m\u001b[38;5;241m.\u001b[39mdata\u001b[38;5;241m.\u001b[39mexog\n",
      "File \u001b[1;32m~\\anaconda3\\Lib\\site-packages\\statsmodels\\base\\model.py:135\u001b[0m, in \u001b[0;36mModel._handle_data\u001b[1;34m(self, endog, exog, missing, hasconst, **kwargs)\u001b[0m\n\u001b[0;32m    134\u001b[0m \u001b[38;5;28;01mdef\u001b[39;00m \u001b[38;5;21m_handle_data\u001b[39m(\u001b[38;5;28mself\u001b[39m, endog, exog, missing, hasconst, \u001b[38;5;241m*\u001b[39m\u001b[38;5;241m*\u001b[39mkwargs):\n\u001b[1;32m--> 135\u001b[0m     data \u001b[38;5;241m=\u001b[39m handle_data(endog, exog, missing, hasconst, \u001b[38;5;241m*\u001b[39m\u001b[38;5;241m*\u001b[39mkwargs)\n\u001b[0;32m    136\u001b[0m     \u001b[38;5;66;03m# kwargs arrays could have changed, easier to just attach here\u001b[39;00m\n\u001b[0;32m    137\u001b[0m     \u001b[38;5;28;01mfor\u001b[39;00m key \u001b[38;5;129;01min\u001b[39;00m kwargs:\n",
      "File \u001b[1;32m~\\anaconda3\\Lib\\site-packages\\statsmodels\\base\\data.py:675\u001b[0m, in \u001b[0;36mhandle_data\u001b[1;34m(endog, exog, missing, hasconst, **kwargs)\u001b[0m\n\u001b[0;32m    672\u001b[0m     exog \u001b[38;5;241m=\u001b[39m np\u001b[38;5;241m.\u001b[39masarray(exog)\n\u001b[0;32m    674\u001b[0m klass \u001b[38;5;241m=\u001b[39m handle_data_class_factory(endog, exog)\n\u001b[1;32m--> 675\u001b[0m \u001b[38;5;28;01mreturn\u001b[39;00m klass(endog, exog\u001b[38;5;241m=\u001b[39mexog, missing\u001b[38;5;241m=\u001b[39mmissing, hasconst\u001b[38;5;241m=\u001b[39mhasconst,\n\u001b[0;32m    676\u001b[0m              \u001b[38;5;241m*\u001b[39m\u001b[38;5;241m*\u001b[39mkwargs)\n",
      "File \u001b[1;32m~\\anaconda3\\Lib\\site-packages\\statsmodels\\base\\data.py:84\u001b[0m, in \u001b[0;36mModelData.__init__\u001b[1;34m(self, endog, exog, missing, hasconst, **kwargs)\u001b[0m\n\u001b[0;32m     82\u001b[0m     \u001b[38;5;28mself\u001b[39m\u001b[38;5;241m.\u001b[39morig_endog \u001b[38;5;241m=\u001b[39m endog\n\u001b[0;32m     83\u001b[0m     \u001b[38;5;28mself\u001b[39m\u001b[38;5;241m.\u001b[39morig_exog \u001b[38;5;241m=\u001b[39m exog\n\u001b[1;32m---> 84\u001b[0m     \u001b[38;5;28mself\u001b[39m\u001b[38;5;241m.\u001b[39mendog, \u001b[38;5;28mself\u001b[39m\u001b[38;5;241m.\u001b[39mexog \u001b[38;5;241m=\u001b[39m \u001b[38;5;28mself\u001b[39m\u001b[38;5;241m.\u001b[39m_convert_endog_exog(endog, exog)\n\u001b[0;32m     86\u001b[0m \u001b[38;5;28mself\u001b[39m\u001b[38;5;241m.\u001b[39mconst_idx \u001b[38;5;241m=\u001b[39m \u001b[38;5;28;01mNone\u001b[39;00m\n\u001b[0;32m     87\u001b[0m \u001b[38;5;28mself\u001b[39m\u001b[38;5;241m.\u001b[39mk_constant \u001b[38;5;241m=\u001b[39m \u001b[38;5;241m0\u001b[39m\n",
      "File \u001b[1;32m~\\anaconda3\\Lib\\site-packages\\statsmodels\\base\\data.py:509\u001b[0m, in \u001b[0;36mPandasData._convert_endog_exog\u001b[1;34m(self, endog, exog)\u001b[0m\n\u001b[0;32m    507\u001b[0m exog \u001b[38;5;241m=\u001b[39m exog \u001b[38;5;28;01mif\u001b[39;00m exog \u001b[38;5;129;01mis\u001b[39;00m \u001b[38;5;28;01mNone\u001b[39;00m \u001b[38;5;28;01melse\u001b[39;00m np\u001b[38;5;241m.\u001b[39masarray(exog)\n\u001b[0;32m    508\u001b[0m \u001b[38;5;28;01mif\u001b[39;00m endog\u001b[38;5;241m.\u001b[39mdtype \u001b[38;5;241m==\u001b[39m \u001b[38;5;28mobject\u001b[39m \u001b[38;5;129;01mor\u001b[39;00m exog \u001b[38;5;129;01mis\u001b[39;00m \u001b[38;5;129;01mnot\u001b[39;00m \u001b[38;5;28;01mNone\u001b[39;00m \u001b[38;5;129;01mand\u001b[39;00m exog\u001b[38;5;241m.\u001b[39mdtype \u001b[38;5;241m==\u001b[39m \u001b[38;5;28mobject\u001b[39m:\n\u001b[1;32m--> 509\u001b[0m     \u001b[38;5;28;01mraise\u001b[39;00m \u001b[38;5;167;01mValueError\u001b[39;00m(\u001b[38;5;124m\"\u001b[39m\u001b[38;5;124mPandas data cast to numpy dtype of object. \u001b[39m\u001b[38;5;124m\"\u001b[39m\n\u001b[0;32m    510\u001b[0m                      \u001b[38;5;124m\"\u001b[39m\u001b[38;5;124mCheck input data with np.asarray(data).\u001b[39m\u001b[38;5;124m\"\u001b[39m)\n\u001b[0;32m    511\u001b[0m \u001b[38;5;28;01mreturn\u001b[39;00m \u001b[38;5;28msuper\u001b[39m(PandasData, \u001b[38;5;28mself\u001b[39m)\u001b[38;5;241m.\u001b[39m_convert_endog_exog(endog, exog)\n",
      "\u001b[1;31mValueError\u001b[0m: Pandas data cast to numpy dtype of object. Check input data with np.asarray(data)."
     ]
    }
   ],
   "source": [
    "# Refit the model with the new set of features\n",
    "\n",
    "logm1 = sm.GLM(y_train,(sm.add_constant(X_train_new)), family = sm.families.Binomial())\n",
    "res = logm1.fit()\n",
    "res.summary()"
   ]
  },
  {
   "cell_type": "markdown",
   "id": "5ecfdbba",
   "metadata": {},
   "source": [
    "All the p-values are now in the appropriate range. Let's also check the VIFs again in case we had missed something."
   ]
  },
  {
   "cell_type": "code",
   "execution_count": 331,
   "id": "e7050347",
   "metadata": {},
   "outputs": [
    {
     "ename": "TypeError",
     "evalue": "ufunc 'isfinite' not supported for the input types, and the inputs could not be safely coerced to any supported types according to the casting rule ''safe''",
     "output_type": "error",
     "traceback": [
      "\u001b[1;31m---------------------------------------------------------------------------\u001b[0m",
      "\u001b[1;31mTypeError\u001b[0m                                 Traceback (most recent call last)",
      "Cell \u001b[1;32mIn[331], line 5\u001b[0m\n\u001b[0;32m      3\u001b[0m vif \u001b[38;5;241m=\u001b[39m pd\u001b[38;5;241m.\u001b[39mDataFrame()\n\u001b[0;32m      4\u001b[0m vif[\u001b[38;5;124m'\u001b[39m\u001b[38;5;124mFeatures\u001b[39m\u001b[38;5;124m'\u001b[39m] \u001b[38;5;241m=\u001b[39m X_train_new\u001b[38;5;241m.\u001b[39mcolumns\n\u001b[1;32m----> 5\u001b[0m vif[\u001b[38;5;124m'\u001b[39m\u001b[38;5;124mVIF\u001b[39m\u001b[38;5;124m'\u001b[39m] \u001b[38;5;241m=\u001b[39m [variance_inflation_factor(X_train_new\u001b[38;5;241m.\u001b[39mvalues, i) \u001b[38;5;28;01mfor\u001b[39;00m i \u001b[38;5;129;01min\u001b[39;00m \u001b[38;5;28mrange\u001b[39m(X_train_new\u001b[38;5;241m.\u001b[39mshape[\u001b[38;5;241m1\u001b[39m])]\n\u001b[0;32m      6\u001b[0m vif[\u001b[38;5;124m'\u001b[39m\u001b[38;5;124mVIF\u001b[39m\u001b[38;5;124m'\u001b[39m] \u001b[38;5;241m=\u001b[39m \u001b[38;5;28mround\u001b[39m(vif[\u001b[38;5;124m'\u001b[39m\u001b[38;5;124mVIF\u001b[39m\u001b[38;5;124m'\u001b[39m], \u001b[38;5;241m2\u001b[39m)\n\u001b[0;32m      7\u001b[0m vif \u001b[38;5;241m=\u001b[39m vif\u001b[38;5;241m.\u001b[39msort_values(by \u001b[38;5;241m=\u001b[39m \u001b[38;5;124m\"\u001b[39m\u001b[38;5;124mVIF\u001b[39m\u001b[38;5;124m\"\u001b[39m, ascending \u001b[38;5;241m=\u001b[39m \u001b[38;5;28;01mFalse\u001b[39;00m)\n",
      "Cell \u001b[1;32mIn[331], line 5\u001b[0m, in \u001b[0;36m<listcomp>\u001b[1;34m(.0)\u001b[0m\n\u001b[0;32m      3\u001b[0m vif \u001b[38;5;241m=\u001b[39m pd\u001b[38;5;241m.\u001b[39mDataFrame()\n\u001b[0;32m      4\u001b[0m vif[\u001b[38;5;124m'\u001b[39m\u001b[38;5;124mFeatures\u001b[39m\u001b[38;5;124m'\u001b[39m] \u001b[38;5;241m=\u001b[39m X_train_new\u001b[38;5;241m.\u001b[39mcolumns\n\u001b[1;32m----> 5\u001b[0m vif[\u001b[38;5;124m'\u001b[39m\u001b[38;5;124mVIF\u001b[39m\u001b[38;5;124m'\u001b[39m] \u001b[38;5;241m=\u001b[39m [variance_inflation_factor(X_train_new\u001b[38;5;241m.\u001b[39mvalues, i) \u001b[38;5;28;01mfor\u001b[39;00m i \u001b[38;5;129;01min\u001b[39;00m \u001b[38;5;28mrange\u001b[39m(X_train_new\u001b[38;5;241m.\u001b[39mshape[\u001b[38;5;241m1\u001b[39m])]\n\u001b[0;32m      6\u001b[0m vif[\u001b[38;5;124m'\u001b[39m\u001b[38;5;124mVIF\u001b[39m\u001b[38;5;124m'\u001b[39m] \u001b[38;5;241m=\u001b[39m \u001b[38;5;28mround\u001b[39m(vif[\u001b[38;5;124m'\u001b[39m\u001b[38;5;124mVIF\u001b[39m\u001b[38;5;124m'\u001b[39m], \u001b[38;5;241m2\u001b[39m)\n\u001b[0;32m      7\u001b[0m vif \u001b[38;5;241m=\u001b[39m vif\u001b[38;5;241m.\u001b[39msort_values(by \u001b[38;5;241m=\u001b[39m \u001b[38;5;124m\"\u001b[39m\u001b[38;5;124mVIF\u001b[39m\u001b[38;5;124m\"\u001b[39m, ascending \u001b[38;5;241m=\u001b[39m \u001b[38;5;28;01mFalse\u001b[39;00m)\n",
      "File \u001b[1;32m~\\anaconda3\\Lib\\site-packages\\statsmodels\\stats\\outliers_influence.py:197\u001b[0m, in \u001b[0;36mvariance_inflation_factor\u001b[1;34m(exog, exog_idx)\u001b[0m\n\u001b[0;32m    195\u001b[0m mask \u001b[38;5;241m=\u001b[39m np\u001b[38;5;241m.\u001b[39marange(k_vars) \u001b[38;5;241m!=\u001b[39m exog_idx\n\u001b[0;32m    196\u001b[0m x_noti \u001b[38;5;241m=\u001b[39m exog[:, mask]\n\u001b[1;32m--> 197\u001b[0m r_squared_i \u001b[38;5;241m=\u001b[39m OLS(x_i, x_noti)\u001b[38;5;241m.\u001b[39mfit()\u001b[38;5;241m.\u001b[39mrsquared\n\u001b[0;32m    198\u001b[0m vif \u001b[38;5;241m=\u001b[39m \u001b[38;5;241m1.\u001b[39m \u001b[38;5;241m/\u001b[39m (\u001b[38;5;241m1.\u001b[39m \u001b[38;5;241m-\u001b[39m r_squared_i)\n\u001b[0;32m    199\u001b[0m \u001b[38;5;28;01mreturn\u001b[39;00m vif\n",
      "File \u001b[1;32m~\\anaconda3\\Lib\\site-packages\\statsmodels\\regression\\linear_model.py:922\u001b[0m, in \u001b[0;36mOLS.__init__\u001b[1;34m(self, endog, exog, missing, hasconst, **kwargs)\u001b[0m\n\u001b[0;32m    919\u001b[0m     msg \u001b[38;5;241m=\u001b[39m (\u001b[38;5;124m\"\u001b[39m\u001b[38;5;124mWeights are not supported in OLS and will be ignored\u001b[39m\u001b[38;5;124m\"\u001b[39m\n\u001b[0;32m    920\u001b[0m            \u001b[38;5;124m\"\u001b[39m\u001b[38;5;124mAn exception will be raised in the next version.\u001b[39m\u001b[38;5;124m\"\u001b[39m)\n\u001b[0;32m    921\u001b[0m     warnings\u001b[38;5;241m.\u001b[39mwarn(msg, ValueWarning)\n\u001b[1;32m--> 922\u001b[0m \u001b[38;5;28msuper\u001b[39m(OLS, \u001b[38;5;28mself\u001b[39m)\u001b[38;5;241m.\u001b[39m\u001b[38;5;21m__init__\u001b[39m(endog, exog, missing\u001b[38;5;241m=\u001b[39mmissing,\n\u001b[0;32m    923\u001b[0m                           hasconst\u001b[38;5;241m=\u001b[39mhasconst, \u001b[38;5;241m*\u001b[39m\u001b[38;5;241m*\u001b[39mkwargs)\n\u001b[0;32m    924\u001b[0m \u001b[38;5;28;01mif\u001b[39;00m \u001b[38;5;124m\"\u001b[39m\u001b[38;5;124mweights\u001b[39m\u001b[38;5;124m\"\u001b[39m \u001b[38;5;129;01min\u001b[39;00m \u001b[38;5;28mself\u001b[39m\u001b[38;5;241m.\u001b[39m_init_keys:\n\u001b[0;32m    925\u001b[0m     \u001b[38;5;28mself\u001b[39m\u001b[38;5;241m.\u001b[39m_init_keys\u001b[38;5;241m.\u001b[39mremove(\u001b[38;5;124m\"\u001b[39m\u001b[38;5;124mweights\u001b[39m\u001b[38;5;124m\"\u001b[39m)\n",
      "File \u001b[1;32m~\\anaconda3\\Lib\\site-packages\\statsmodels\\regression\\linear_model.py:748\u001b[0m, in \u001b[0;36mWLS.__init__\u001b[1;34m(self, endog, exog, weights, missing, hasconst, **kwargs)\u001b[0m\n\u001b[0;32m    746\u001b[0m \u001b[38;5;28;01melse\u001b[39;00m:\n\u001b[0;32m    747\u001b[0m     weights \u001b[38;5;241m=\u001b[39m weights\u001b[38;5;241m.\u001b[39msqueeze()\n\u001b[1;32m--> 748\u001b[0m \u001b[38;5;28msuper\u001b[39m(WLS, \u001b[38;5;28mself\u001b[39m)\u001b[38;5;241m.\u001b[39m\u001b[38;5;21m__init__\u001b[39m(endog, exog, missing\u001b[38;5;241m=\u001b[39mmissing,\n\u001b[0;32m    749\u001b[0m                           weights\u001b[38;5;241m=\u001b[39mweights, hasconst\u001b[38;5;241m=\u001b[39mhasconst, \u001b[38;5;241m*\u001b[39m\u001b[38;5;241m*\u001b[39mkwargs)\n\u001b[0;32m    750\u001b[0m nobs \u001b[38;5;241m=\u001b[39m \u001b[38;5;28mself\u001b[39m\u001b[38;5;241m.\u001b[39mexog\u001b[38;5;241m.\u001b[39mshape[\u001b[38;5;241m0\u001b[39m]\n\u001b[0;32m    751\u001b[0m weights \u001b[38;5;241m=\u001b[39m \u001b[38;5;28mself\u001b[39m\u001b[38;5;241m.\u001b[39mweights\n",
      "File \u001b[1;32m~\\anaconda3\\Lib\\site-packages\\statsmodels\\regression\\linear_model.py:202\u001b[0m, in \u001b[0;36mRegressionModel.__init__\u001b[1;34m(self, endog, exog, **kwargs)\u001b[0m\n\u001b[0;32m    201\u001b[0m \u001b[38;5;28;01mdef\u001b[39;00m \u001b[38;5;21m__init__\u001b[39m(\u001b[38;5;28mself\u001b[39m, endog, exog, \u001b[38;5;241m*\u001b[39m\u001b[38;5;241m*\u001b[39mkwargs):\n\u001b[1;32m--> 202\u001b[0m     \u001b[38;5;28msuper\u001b[39m(RegressionModel, \u001b[38;5;28mself\u001b[39m)\u001b[38;5;241m.\u001b[39m\u001b[38;5;21m__init__\u001b[39m(endog, exog, \u001b[38;5;241m*\u001b[39m\u001b[38;5;241m*\u001b[39mkwargs)\n\u001b[0;32m    203\u001b[0m     \u001b[38;5;28mself\u001b[39m\u001b[38;5;241m.\u001b[39mpinv_wexog: Float64Array \u001b[38;5;241m|\u001b[39m \u001b[38;5;28;01mNone\u001b[39;00m \u001b[38;5;241m=\u001b[39m \u001b[38;5;28;01mNone\u001b[39;00m\n\u001b[0;32m    204\u001b[0m     \u001b[38;5;28mself\u001b[39m\u001b[38;5;241m.\u001b[39m_data_attr\u001b[38;5;241m.\u001b[39mextend([\u001b[38;5;124m'\u001b[39m\u001b[38;5;124mpinv_wexog\u001b[39m\u001b[38;5;124m'\u001b[39m, \u001b[38;5;124m'\u001b[39m\u001b[38;5;124mwendog\u001b[39m\u001b[38;5;124m'\u001b[39m, \u001b[38;5;124m'\u001b[39m\u001b[38;5;124mwexog\u001b[39m\u001b[38;5;124m'\u001b[39m, \u001b[38;5;124m'\u001b[39m\u001b[38;5;124mweights\u001b[39m\u001b[38;5;124m'\u001b[39m])\n",
      "File \u001b[1;32m~\\anaconda3\\Lib\\site-packages\\statsmodels\\base\\model.py:270\u001b[0m, in \u001b[0;36mLikelihoodModel.__init__\u001b[1;34m(self, endog, exog, **kwargs)\u001b[0m\n\u001b[0;32m    269\u001b[0m \u001b[38;5;28;01mdef\u001b[39;00m \u001b[38;5;21m__init__\u001b[39m(\u001b[38;5;28mself\u001b[39m, endog, exog\u001b[38;5;241m=\u001b[39m\u001b[38;5;28;01mNone\u001b[39;00m, \u001b[38;5;241m*\u001b[39m\u001b[38;5;241m*\u001b[39mkwargs):\n\u001b[1;32m--> 270\u001b[0m     \u001b[38;5;28msuper\u001b[39m()\u001b[38;5;241m.\u001b[39m\u001b[38;5;21m__init__\u001b[39m(endog, exog, \u001b[38;5;241m*\u001b[39m\u001b[38;5;241m*\u001b[39mkwargs)\n\u001b[0;32m    271\u001b[0m     \u001b[38;5;28mself\u001b[39m\u001b[38;5;241m.\u001b[39minitialize()\n",
      "File \u001b[1;32m~\\anaconda3\\Lib\\site-packages\\statsmodels\\base\\model.py:95\u001b[0m, in \u001b[0;36mModel.__init__\u001b[1;34m(self, endog, exog, **kwargs)\u001b[0m\n\u001b[0;32m     93\u001b[0m missing \u001b[38;5;241m=\u001b[39m kwargs\u001b[38;5;241m.\u001b[39mpop(\u001b[38;5;124m'\u001b[39m\u001b[38;5;124mmissing\u001b[39m\u001b[38;5;124m'\u001b[39m, \u001b[38;5;124m'\u001b[39m\u001b[38;5;124mnone\u001b[39m\u001b[38;5;124m'\u001b[39m)\n\u001b[0;32m     94\u001b[0m hasconst \u001b[38;5;241m=\u001b[39m kwargs\u001b[38;5;241m.\u001b[39mpop(\u001b[38;5;124m'\u001b[39m\u001b[38;5;124mhasconst\u001b[39m\u001b[38;5;124m'\u001b[39m, \u001b[38;5;28;01mNone\u001b[39;00m)\n\u001b[1;32m---> 95\u001b[0m \u001b[38;5;28mself\u001b[39m\u001b[38;5;241m.\u001b[39mdata \u001b[38;5;241m=\u001b[39m \u001b[38;5;28mself\u001b[39m\u001b[38;5;241m.\u001b[39m_handle_data(endog, exog, missing, hasconst,\n\u001b[0;32m     96\u001b[0m                               \u001b[38;5;241m*\u001b[39m\u001b[38;5;241m*\u001b[39mkwargs)\n\u001b[0;32m     97\u001b[0m \u001b[38;5;28mself\u001b[39m\u001b[38;5;241m.\u001b[39mk_constant \u001b[38;5;241m=\u001b[39m \u001b[38;5;28mself\u001b[39m\u001b[38;5;241m.\u001b[39mdata\u001b[38;5;241m.\u001b[39mk_constant\n\u001b[0;32m     98\u001b[0m \u001b[38;5;28mself\u001b[39m\u001b[38;5;241m.\u001b[39mexog \u001b[38;5;241m=\u001b[39m \u001b[38;5;28mself\u001b[39m\u001b[38;5;241m.\u001b[39mdata\u001b[38;5;241m.\u001b[39mexog\n",
      "File \u001b[1;32m~\\anaconda3\\Lib\\site-packages\\statsmodels\\base\\model.py:135\u001b[0m, in \u001b[0;36mModel._handle_data\u001b[1;34m(self, endog, exog, missing, hasconst, **kwargs)\u001b[0m\n\u001b[0;32m    134\u001b[0m \u001b[38;5;28;01mdef\u001b[39;00m \u001b[38;5;21m_handle_data\u001b[39m(\u001b[38;5;28mself\u001b[39m, endog, exog, missing, hasconst, \u001b[38;5;241m*\u001b[39m\u001b[38;5;241m*\u001b[39mkwargs):\n\u001b[1;32m--> 135\u001b[0m     data \u001b[38;5;241m=\u001b[39m handle_data(endog, exog, missing, hasconst, \u001b[38;5;241m*\u001b[39m\u001b[38;5;241m*\u001b[39mkwargs)\n\u001b[0;32m    136\u001b[0m     \u001b[38;5;66;03m# kwargs arrays could have changed, easier to just attach here\u001b[39;00m\n\u001b[0;32m    137\u001b[0m     \u001b[38;5;28;01mfor\u001b[39;00m key \u001b[38;5;129;01min\u001b[39;00m kwargs:\n",
      "File \u001b[1;32m~\\anaconda3\\Lib\\site-packages\\statsmodels\\base\\data.py:675\u001b[0m, in \u001b[0;36mhandle_data\u001b[1;34m(endog, exog, missing, hasconst, **kwargs)\u001b[0m\n\u001b[0;32m    672\u001b[0m     exog \u001b[38;5;241m=\u001b[39m np\u001b[38;5;241m.\u001b[39masarray(exog)\n\u001b[0;32m    674\u001b[0m klass \u001b[38;5;241m=\u001b[39m handle_data_class_factory(endog, exog)\n\u001b[1;32m--> 675\u001b[0m \u001b[38;5;28;01mreturn\u001b[39;00m klass(endog, exog\u001b[38;5;241m=\u001b[39mexog, missing\u001b[38;5;241m=\u001b[39mmissing, hasconst\u001b[38;5;241m=\u001b[39mhasconst,\n\u001b[0;32m    676\u001b[0m              \u001b[38;5;241m*\u001b[39m\u001b[38;5;241m*\u001b[39mkwargs)\n",
      "File \u001b[1;32m~\\anaconda3\\Lib\\site-packages\\statsmodels\\base\\data.py:88\u001b[0m, in \u001b[0;36mModelData.__init__\u001b[1;34m(self, endog, exog, missing, hasconst, **kwargs)\u001b[0m\n\u001b[0;32m     86\u001b[0m \u001b[38;5;28mself\u001b[39m\u001b[38;5;241m.\u001b[39mconst_idx \u001b[38;5;241m=\u001b[39m \u001b[38;5;28;01mNone\u001b[39;00m\n\u001b[0;32m     87\u001b[0m \u001b[38;5;28mself\u001b[39m\u001b[38;5;241m.\u001b[39mk_constant \u001b[38;5;241m=\u001b[39m \u001b[38;5;241m0\u001b[39m\n\u001b[1;32m---> 88\u001b[0m \u001b[38;5;28mself\u001b[39m\u001b[38;5;241m.\u001b[39m_handle_constant(hasconst)\n\u001b[0;32m     89\u001b[0m \u001b[38;5;28mself\u001b[39m\u001b[38;5;241m.\u001b[39m_check_integrity()\n\u001b[0;32m     90\u001b[0m \u001b[38;5;28mself\u001b[39m\u001b[38;5;241m.\u001b[39m_cache \u001b[38;5;241m=\u001b[39m {}\n",
      "File \u001b[1;32m~\\anaconda3\\Lib\\site-packages\\statsmodels\\base\\data.py:133\u001b[0m, in \u001b[0;36mModelData._handle_constant\u001b[1;34m(self, hasconst)\u001b[0m\n\u001b[0;32m    131\u001b[0m check_implicit \u001b[38;5;241m=\u001b[39m \u001b[38;5;28;01mFalse\u001b[39;00m\n\u001b[0;32m    132\u001b[0m exog_max \u001b[38;5;241m=\u001b[39m np\u001b[38;5;241m.\u001b[39mmax(\u001b[38;5;28mself\u001b[39m\u001b[38;5;241m.\u001b[39mexog, axis\u001b[38;5;241m=\u001b[39m\u001b[38;5;241m0\u001b[39m)\n\u001b[1;32m--> 133\u001b[0m \u001b[38;5;28;01mif\u001b[39;00m \u001b[38;5;129;01mnot\u001b[39;00m np\u001b[38;5;241m.\u001b[39misfinite(exog_max)\u001b[38;5;241m.\u001b[39mall():\n\u001b[0;32m    134\u001b[0m     \u001b[38;5;28;01mraise\u001b[39;00m MissingDataError(\u001b[38;5;124m'\u001b[39m\u001b[38;5;124mexog contains inf or nans\u001b[39m\u001b[38;5;124m'\u001b[39m)\n\u001b[0;32m    135\u001b[0m exog_min \u001b[38;5;241m=\u001b[39m np\u001b[38;5;241m.\u001b[39mmin(\u001b[38;5;28mself\u001b[39m\u001b[38;5;241m.\u001b[39mexog, axis\u001b[38;5;241m=\u001b[39m\u001b[38;5;241m0\u001b[39m)\n",
      "\u001b[1;31mTypeError\u001b[0m: ufunc 'isfinite' not supported for the input types, and the inputs could not be safely coerced to any supported types according to the casting rule ''safe''"
     ]
    }
   ],
   "source": [
    "# Make a VIF dataframe for all the variables present\n",
    "\n",
    "vif = pd.DataFrame()\n",
    "vif['Features'] = X_train_new.columns\n",
    "vif['VIF'] = [variance_inflation_factor(X_train_new.values, i) for i in range(X_train_new.shape[1])]\n",
    "vif['VIF'] = round(vif['VIF'], 2)\n",
    "vif = vif.sort_values(by = \"VIF\", ascending = False)\n",
    "vif"
   ]
  },
  {
   "cell_type": "markdown",
   "id": "c75d1fa3",
   "metadata": {},
   "source": [
    "## Step 3: Model Evaluation\n",
    "​\n",
    "Now, both the p-values and VIFs seem decent enough for all the variables. So let's go ahead and make predictions using this final set of features."
   ]
  },
  {
   "cell_type": "code",
   "execution_count": 332,
   "id": "7df95376",
   "metadata": {},
   "outputs": [],
   "source": [
    "final_col = X_train_new.columns"
   ]
  },
  {
   "cell_type": "code",
   "execution_count": 333,
   "id": "ec0a1ed1",
   "metadata": {},
   "outputs": [],
   "source": [
    "X_test_new = X_test[final_col]"
   ]
  },
  {
   "cell_type": "code",
   "execution_count": 334,
   "id": "1fd20127",
   "metadata": {},
   "outputs": [
    {
     "data": {
      "text/html": [
       "<div>\n",
       "<style scoped>\n",
       "    .dataframe tbody tr th:only-of-type {\n",
       "        vertical-align: middle;\n",
       "    }\n",
       "\n",
       "    .dataframe tbody tr th {\n",
       "        vertical-align: top;\n",
       "    }\n",
       "\n",
       "    .dataframe thead th {\n",
       "        text-align: right;\n",
       "    }\n",
       "</style>\n",
       "<table border=\"1\" class=\"dataframe\">\n",
       "  <thead>\n",
       "    <tr style=\"text-align: right;\">\n",
       "      <th></th>\n",
       "      <th>TotalVisits</th>\n",
       "      <th>Total Time Spent on Website</th>\n",
       "      <th>Lead Origin_Lead Add Form</th>\n",
       "      <th>Lead Source_Olark Chat</th>\n",
       "      <th>Lead Source_Reference</th>\n",
       "      <th>Lead Source_Welingak Website</th>\n",
       "      <th>Do Not Email_Yes</th>\n",
       "      <th>Last Activity_Had a Phone Conversation</th>\n",
       "      <th>Last Activity_SMS Sent</th>\n",
       "      <th>What is your current occupation_Student</th>\n",
       "      <th>What is your current occupation_Unemployed</th>\n",
       "      <th>Last Notable Activity_Had a Phone Conversation</th>\n",
       "      <th>Last Notable Activity_Unreachable</th>\n",
       "    </tr>\n",
       "  </thead>\n",
       "  <tbody>\n",
       "    <tr>\n",
       "      <th>4771</th>\n",
       "      <td>0.0</td>\n",
       "      <td>0</td>\n",
       "      <td>True</td>\n",
       "      <td>False</td>\n",
       "      <td>True</td>\n",
       "      <td>False</td>\n",
       "      <td>False</td>\n",
       "      <td>False</td>\n",
       "      <td>True</td>\n",
       "      <td>False</td>\n",
       "      <td>False</td>\n",
       "      <td>False</td>\n",
       "      <td>False</td>\n",
       "    </tr>\n",
       "    <tr>\n",
       "      <th>6122</th>\n",
       "      <td>7.0</td>\n",
       "      <td>66</td>\n",
       "      <td>False</td>\n",
       "      <td>False</td>\n",
       "      <td>False</td>\n",
       "      <td>False</td>\n",
       "      <td>False</td>\n",
       "      <td>False</td>\n",
       "      <td>False</td>\n",
       "      <td>False</td>\n",
       "      <td>True</td>\n",
       "      <td>False</td>\n",
       "      <td>False</td>\n",
       "    </tr>\n",
       "    <tr>\n",
       "      <th>9202</th>\n",
       "      <td>4.0</td>\n",
       "      <td>947</td>\n",
       "      <td>False</td>\n",
       "      <td>False</td>\n",
       "      <td>False</td>\n",
       "      <td>False</td>\n",
       "      <td>False</td>\n",
       "      <td>False</td>\n",
       "      <td>True</td>\n",
       "      <td>False</td>\n",
       "      <td>True</td>\n",
       "      <td>False</td>\n",
       "      <td>False</td>\n",
       "    </tr>\n",
       "    <tr>\n",
       "      <th>6570</th>\n",
       "      <td>3.0</td>\n",
       "      <td>861</td>\n",
       "      <td>False</td>\n",
       "      <td>False</td>\n",
       "      <td>False</td>\n",
       "      <td>False</td>\n",
       "      <td>True</td>\n",
       "      <td>False</td>\n",
       "      <td>True</td>\n",
       "      <td>False</td>\n",
       "      <td>True</td>\n",
       "      <td>False</td>\n",
       "      <td>False</td>\n",
       "    </tr>\n",
       "    <tr>\n",
       "      <th>2668</th>\n",
       "      <td>8.0</td>\n",
       "      <td>898</td>\n",
       "      <td>False</td>\n",
       "      <td>False</td>\n",
       "      <td>False</td>\n",
       "      <td>False</td>\n",
       "      <td>False</td>\n",
       "      <td>False</td>\n",
       "      <td>True</td>\n",
       "      <td>False</td>\n",
       "      <td>True</td>\n",
       "      <td>False</td>\n",
       "      <td>False</td>\n",
       "    </tr>\n",
       "    <tr>\n",
       "      <th>...</th>\n",
       "      <td>...</td>\n",
       "      <td>...</td>\n",
       "      <td>...</td>\n",
       "      <td>...</td>\n",
       "      <td>...</td>\n",
       "      <td>...</td>\n",
       "      <td>...</td>\n",
       "      <td>...</td>\n",
       "      <td>...</td>\n",
       "      <td>...</td>\n",
       "      <td>...</td>\n",
       "      <td>...</td>\n",
       "      <td>...</td>\n",
       "    </tr>\n",
       "    <tr>\n",
       "      <th>5828</th>\n",
       "      <td>3.0</td>\n",
       "      <td>62</td>\n",
       "      <td>False</td>\n",
       "      <td>False</td>\n",
       "      <td>False</td>\n",
       "      <td>False</td>\n",
       "      <td>False</td>\n",
       "      <td>False</td>\n",
       "      <td>True</td>\n",
       "      <td>False</td>\n",
       "      <td>True</td>\n",
       "      <td>False</td>\n",
       "      <td>False</td>\n",
       "    </tr>\n",
       "    <tr>\n",
       "      <th>6583</th>\n",
       "      <td>3.0</td>\n",
       "      <td>346</td>\n",
       "      <td>False</td>\n",
       "      <td>False</td>\n",
       "      <td>False</td>\n",
       "      <td>False</td>\n",
       "      <td>False</td>\n",
       "      <td>False</td>\n",
       "      <td>True</td>\n",
       "      <td>False</td>\n",
       "      <td>True</td>\n",
       "      <td>False</td>\n",
       "      <td>False</td>\n",
       "    </tr>\n",
       "    <tr>\n",
       "      <th>5531</th>\n",
       "      <td>14.0</td>\n",
       "      <td>1595</td>\n",
       "      <td>False</td>\n",
       "      <td>False</td>\n",
       "      <td>False</td>\n",
       "      <td>False</td>\n",
       "      <td>False</td>\n",
       "      <td>False</td>\n",
       "      <td>False</td>\n",
       "      <td>False</td>\n",
       "      <td>True</td>\n",
       "      <td>False</td>\n",
       "      <td>False</td>\n",
       "    </tr>\n",
       "    <tr>\n",
       "      <th>3056</th>\n",
       "      <td>3.0</td>\n",
       "      <td>949</td>\n",
       "      <td>False</td>\n",
       "      <td>False</td>\n",
       "      <td>False</td>\n",
       "      <td>False</td>\n",
       "      <td>True</td>\n",
       "      <td>False</td>\n",
       "      <td>True</td>\n",
       "      <td>False</td>\n",
       "      <td>True</td>\n",
       "      <td>False</td>\n",
       "      <td>False</td>\n",
       "    </tr>\n",
       "    <tr>\n",
       "      <th>4088</th>\n",
       "      <td>5.0</td>\n",
       "      <td>1205</td>\n",
       "      <td>False</td>\n",
       "      <td>False</td>\n",
       "      <td>False</td>\n",
       "      <td>False</td>\n",
       "      <td>False</td>\n",
       "      <td>False</td>\n",
       "      <td>False</td>\n",
       "      <td>False</td>\n",
       "      <td>True</td>\n",
       "      <td>False</td>\n",
       "      <td>False</td>\n",
       "    </tr>\n",
       "  </tbody>\n",
       "</table>\n",
       "<p>1912 rows × 13 columns</p>\n",
       "</div>"
      ],
      "text/plain": [
       "      TotalVisits  Total Time Spent on Website  Lead Origin_Lead Add Form  \\\n",
       "4771          0.0                            0                       True   \n",
       "6122          7.0                           66                      False   \n",
       "9202          4.0                          947                      False   \n",
       "6570          3.0                          861                      False   \n",
       "2668          8.0                          898                      False   \n",
       "...           ...                          ...                        ...   \n",
       "5828          3.0                           62                      False   \n",
       "6583          3.0                          346                      False   \n",
       "5531         14.0                         1595                      False   \n",
       "3056          3.0                          949                      False   \n",
       "4088          5.0                         1205                      False   \n",
       "\n",
       "      Lead Source_Olark Chat  Lead Source_Reference  \\\n",
       "4771                   False                   True   \n",
       "6122                   False                  False   \n",
       "9202                   False                  False   \n",
       "6570                   False                  False   \n",
       "2668                   False                  False   \n",
       "...                      ...                    ...   \n",
       "5828                   False                  False   \n",
       "6583                   False                  False   \n",
       "5531                   False                  False   \n",
       "3056                   False                  False   \n",
       "4088                   False                  False   \n",
       "\n",
       "      Lead Source_Welingak Website  Do Not Email_Yes  \\\n",
       "4771                         False             False   \n",
       "6122                         False             False   \n",
       "9202                         False             False   \n",
       "6570                         False              True   \n",
       "2668                         False             False   \n",
       "...                            ...               ...   \n",
       "5828                         False             False   \n",
       "6583                         False             False   \n",
       "5531                         False             False   \n",
       "3056                         False              True   \n",
       "4088                         False             False   \n",
       "\n",
       "      Last Activity_Had a Phone Conversation  Last Activity_SMS Sent  \\\n",
       "4771                                   False                    True   \n",
       "6122                                   False                   False   \n",
       "9202                                   False                    True   \n",
       "6570                                   False                    True   \n",
       "2668                                   False                    True   \n",
       "...                                      ...                     ...   \n",
       "5828                                   False                    True   \n",
       "6583                                   False                    True   \n",
       "5531                                   False                   False   \n",
       "3056                                   False                    True   \n",
       "4088                                   False                   False   \n",
       "\n",
       "      What is your current occupation_Student  \\\n",
       "4771                                    False   \n",
       "6122                                    False   \n",
       "9202                                    False   \n",
       "6570                                    False   \n",
       "2668                                    False   \n",
       "...                                       ...   \n",
       "5828                                    False   \n",
       "6583                                    False   \n",
       "5531                                    False   \n",
       "3056                                    False   \n",
       "4088                                    False   \n",
       "\n",
       "      What is your current occupation_Unemployed  \\\n",
       "4771                                       False   \n",
       "6122                                        True   \n",
       "9202                                        True   \n",
       "6570                                        True   \n",
       "2668                                        True   \n",
       "...                                          ...   \n",
       "5828                                        True   \n",
       "6583                                        True   \n",
       "5531                                        True   \n",
       "3056                                        True   \n",
       "4088                                        True   \n",
       "\n",
       "      Last Notable Activity_Had a Phone Conversation  \\\n",
       "4771                                           False   \n",
       "6122                                           False   \n",
       "9202                                           False   \n",
       "6570                                           False   \n",
       "2668                                           False   \n",
       "...                                              ...   \n",
       "5828                                           False   \n",
       "6583                                           False   \n",
       "5531                                           False   \n",
       "3056                                           False   \n",
       "4088                                           False   \n",
       "\n",
       "      Last Notable Activity_Unreachable  \n",
       "4771                              False  \n",
       "6122                              False  \n",
       "9202                              False  \n",
       "6570                              False  \n",
       "2668                              False  \n",
       "...                                 ...  \n",
       "5828                              False  \n",
       "6583                              False  \n",
       "5531                              False  \n",
       "3056                              False  \n",
       "4088                              False  \n",
       "\n",
       "[1912 rows x 13 columns]"
      ]
     },
     "execution_count": 334,
     "metadata": {},
     "output_type": "execute_result"
    }
   ],
   "source": [
    "X_test_new"
   ]
  },
  {
   "cell_type": "markdown",
   "id": "b9e17738",
   "metadata": {},
   "source": [
    "## Building New model after doing feature selection and removing highly correlated values and statistically insignificant feature."
   ]
  },
  {
   "cell_type": "code",
   "execution_count": 335,
   "id": "173713eb",
   "metadata": {},
   "outputs": [
    {
     "data": {
      "text/html": [
       "<style>#sk-container-id-6 {color: black;}#sk-container-id-6 pre{padding: 0;}#sk-container-id-6 div.sk-toggleable {background-color: white;}#sk-container-id-6 label.sk-toggleable__label {cursor: pointer;display: block;width: 100%;margin-bottom: 0;padding: 0.3em;box-sizing: border-box;text-align: center;}#sk-container-id-6 label.sk-toggleable__label-arrow:before {content: \"▸\";float: left;margin-right: 0.25em;color: #696969;}#sk-container-id-6 label.sk-toggleable__label-arrow:hover:before {color: black;}#sk-container-id-6 div.sk-estimator:hover label.sk-toggleable__label-arrow:before {color: black;}#sk-container-id-6 div.sk-toggleable__content {max-height: 0;max-width: 0;overflow: hidden;text-align: left;background-color: #f0f8ff;}#sk-container-id-6 div.sk-toggleable__content pre {margin: 0.2em;color: black;border-radius: 0.25em;background-color: #f0f8ff;}#sk-container-id-6 input.sk-toggleable__control:checked~div.sk-toggleable__content {max-height: 200px;max-width: 100%;overflow: auto;}#sk-container-id-6 input.sk-toggleable__control:checked~label.sk-toggleable__label-arrow:before {content: \"▾\";}#sk-container-id-6 div.sk-estimator input.sk-toggleable__control:checked~label.sk-toggleable__label {background-color: #d4ebff;}#sk-container-id-6 div.sk-label input.sk-toggleable__control:checked~label.sk-toggleable__label {background-color: #d4ebff;}#sk-container-id-6 input.sk-hidden--visually {border: 0;clip: rect(1px 1px 1px 1px);clip: rect(1px, 1px, 1px, 1px);height: 1px;margin: -1px;overflow: hidden;padding: 0;position: absolute;width: 1px;}#sk-container-id-6 div.sk-estimator {font-family: monospace;background-color: #f0f8ff;border: 1px dotted black;border-radius: 0.25em;box-sizing: border-box;margin-bottom: 0.5em;}#sk-container-id-6 div.sk-estimator:hover {background-color: #d4ebff;}#sk-container-id-6 div.sk-parallel-item::after {content: \"\";width: 100%;border-bottom: 1px solid gray;flex-grow: 1;}#sk-container-id-6 div.sk-label:hover label.sk-toggleable__label {background-color: #d4ebff;}#sk-container-id-6 div.sk-serial::before {content: \"\";position: absolute;border-left: 1px solid gray;box-sizing: border-box;top: 0;bottom: 0;left: 50%;z-index: 0;}#sk-container-id-6 div.sk-serial {display: flex;flex-direction: column;align-items: center;background-color: white;padding-right: 0.2em;padding-left: 0.2em;position: relative;}#sk-container-id-6 div.sk-item {position: relative;z-index: 1;}#sk-container-id-6 div.sk-parallel {display: flex;align-items: stretch;justify-content: center;background-color: white;position: relative;}#sk-container-id-6 div.sk-item::before, #sk-container-id-6 div.sk-parallel-item::before {content: \"\";position: absolute;border-left: 1px solid gray;box-sizing: border-box;top: 0;bottom: 0;left: 50%;z-index: -1;}#sk-container-id-6 div.sk-parallel-item {display: flex;flex-direction: column;z-index: 1;position: relative;background-color: white;}#sk-container-id-6 div.sk-parallel-item:first-child::after {align-self: flex-end;width: 50%;}#sk-container-id-6 div.sk-parallel-item:last-child::after {align-self: flex-start;width: 50%;}#sk-container-id-6 div.sk-parallel-item:only-child::after {width: 0;}#sk-container-id-6 div.sk-dashed-wrapped {border: 1px dashed gray;margin: 0 0.4em 0.5em 0.4em;box-sizing: border-box;padding-bottom: 0.4em;background-color: white;}#sk-container-id-6 div.sk-label label {font-family: monospace;font-weight: bold;display: inline-block;line-height: 1.2em;}#sk-container-id-6 div.sk-label-container {text-align: center;}#sk-container-id-6 div.sk-container {/* jupyter's `normalize.less` sets `[hidden] { display: none; }` but bootstrap.min.css set `[hidden] { display: none !important; }` so we also need the `!important` here to be able to override the default hidden behavior on the sphinx rendered scikit-learn.org. See: https://github.com/scikit-learn/scikit-learn/issues/21755 */display: inline-block !important;position: relative;}#sk-container-id-6 div.sk-text-repr-fallback {display: none;}</style><div id=\"sk-container-id-6\" class=\"sk-top-container\"><div class=\"sk-text-repr-fallback\"><pre>LogisticRegression()</pre><b>In a Jupyter environment, please rerun this cell to show the HTML representation or trust the notebook. <br />On GitHub, the HTML representation is unable to render, please try loading this page with nbviewer.org.</b></div><div class=\"sk-container\" hidden><div class=\"sk-item\"><div class=\"sk-estimator sk-toggleable\"><input class=\"sk-toggleable__control sk-hidden--visually\" id=\"sk-estimator-id-6\" type=\"checkbox\" checked><label for=\"sk-estimator-id-6\" class=\"sk-toggleable__label sk-toggleable__label-arrow\">LogisticRegression</label><div class=\"sk-toggleable__content\"><pre>LogisticRegression()</pre></div></div></div></div></div>"
      ],
      "text/plain": [
       "LogisticRegression()"
      ]
     },
     "execution_count": 335,
     "metadata": {},
     "output_type": "execute_result"
    }
   ],
   "source": [
    "model_new = LogisticRegression()\n",
    "model_new.fit(X_train_new,y_train)"
   ]
  },
  {
   "cell_type": "code",
   "execution_count": 336,
   "id": "07a6ebf2",
   "metadata": {},
   "outputs": [
    {
     "data": {
      "text/plain": [
       "array([0, 0, 0, ..., 1, 0, 0], dtype=int64)"
      ]
     },
     "execution_count": 336,
     "metadata": {},
     "output_type": "execute_result"
    }
   ],
   "source": [
    "model_new.predict(X_train_new)"
   ]
  },
  {
   "cell_type": "code",
   "execution_count": 337,
   "id": "816f8828",
   "metadata": {},
   "outputs": [
    {
     "data": {
      "text/plain": [
       "array([0.31469358, 0.15385174, 0.13092222, ..., 0.90645371, 0.2206909 ,\n",
       "       0.38303459])"
      ]
     },
     "execution_count": 337,
     "metadata": {},
     "output_type": "execute_result"
    }
   ],
   "source": [
    "model_new.predict_proba(X_train_new)[:,1]"
   ]
  },
  {
   "cell_type": "markdown",
   "id": "52c6d288",
   "metadata": {},
   "source": [
    "## Train and Test evaluation on new model."
   ]
  },
  {
   "cell_type": "code",
   "execution_count": 338,
   "id": "1cf9b5b7",
   "metadata": {},
   "outputs": [
    {
     "data": {
      "text/plain": [
       "<sklearn.metrics._plot.confusion_matrix.ConfusionMatrixDisplay at 0x1fac4aaff10>"
      ]
     },
     "execution_count": 338,
     "metadata": {},
     "output_type": "execute_result"
    },
    {
     "data": {
      "image/png": "[encoded data removed]",
      "text/plain": [
       "<Figure size 640x480 with 2 Axes>"
      ]
     },
     "metadata": {},
     "output_type": "display_data"
    }
   ],
   "source": [
    "y_train\n",
    "y_train_pred = model_new.predict(X_train_new)\n",
    "confusion_matrix(y_train,y_train_pred)\n",
    "ConfusionMatrixDisplay.from_estimator(model_new, X_train_new, y_train)"
   ]
  },
  {
   "cell_type": "code",
   "execution_count": 339,
   "id": "9b1e5cd3",
   "metadata": {},
   "outputs": [
    {
     "name": "stdout",
     "output_type": "stream",
     "text": [
      "Accuracy Score :  0.7865949338713293\n",
      "Precision Score :  0.8055130168453293\n",
      "Recall Score :  0.7342950209399721\n",
      "F1 Score :  0.7682570593963\n"
     ]
    }
   ],
   "source": [
    "print(\"Accuracy Score : \",accuracy_score(y_train,y_train_pred))\n",
    "print(\"Precision Score : \",precision_score(y_train,y_train_pred))\n",
    "print(\"Recall Score : \",recall_score(y_train,y_train_pred))\n",
    "print(\"F1 Score : \",f1_score(y_train,y_train_pred))\n"
   ]
  },
  {
   "cell_type": "code",
   "execution_count": 340,
   "id": "c79c7b60",
   "metadata": {},
   "outputs": [
    {
     "data": {
      "text/plain": [
       "0.8597819900138634"
      ]
     },
     "execution_count": 340,
     "metadata": {},
     "output_type": "execute_result"
    }
   ],
   "source": [
    "roc_auc_score(y_train,model_new.predict_proba(X_train_new)[:,1])"
   ]
  },
  {
   "cell_type": "code",
   "execution_count": 341,
   "id": "27fc4c4c",
   "metadata": {},
   "outputs": [
    {
     "data": {
      "image/png": "[encoded data removed]",
      "text/plain": [
       "<Figure size 500x500 with 1 Axes>"
      ]
     },
     "metadata": {},
     "output_type": "display_data"
    }
   ],
   "source": [
    "draw_roc(y_train, model_new.predict_proba(X_train_new)[:,1])"
   ]
  },
  {
   "cell_type": "markdown",
   "id": "923ad2d0",
   "metadata": {},
   "source": [
    "## Test"
   ]
  },
  {
   "cell_type": "code",
   "execution_count": 342,
   "id": "caee1372",
   "metadata": {},
   "outputs": [
    {
     "data": {
      "text/plain": [
       "4771    1\n",
       "6122    0\n",
       "9202    0\n",
       "6570    1\n",
       "2668    1\n",
       "       ..\n",
       "5828    0\n",
       "6583    1\n",
       "5531    0\n",
       "3056    1\n",
       "4088    1\n",
       "Name: Converted, Length: 1912, dtype: int64"
      ]
     },
     "execution_count": 342,
     "metadata": {},
     "output_type": "execute_result"
    }
   ],
   "source": [
    "y_test"
   ]
  },
  {
   "cell_type": "code",
   "execution_count": 343,
   "id": "68df1606",
   "metadata": {},
   "outputs": [
    {
     "data": {
      "text/plain": [
       "<sklearn.metrics._plot.confusion_matrix.ConfusionMatrixDisplay at 0x1fabd601c10>"
      ]
     },
     "execution_count": 343,
     "metadata": {},
     "output_type": "execute_result"
    },
    {
     "data": {
      "image/png": "[encoded data removed]",
      "text/plain": [
       "<Figure size 640x480 with 2 Axes>"
      ]
     },
     "metadata": {},
     "output_type": "display_data"
    }
   ],
   "source": [
    "y_test_pred = model_new.predict(X_test_new)\n",
    "confusion_matrix(y_test,y_test_pred)\n",
    "ConfusionMatrixDisplay.from_estimator(model_new, X_test_new, y_test)"
   ]
  },
  {
   "cell_type": "code",
   "execution_count": 344,
   "id": "ae580730",
   "metadata": {},
   "outputs": [
    {
     "name": "stdout",
     "output_type": "stream",
     "text": [
      "Accuracy Score :  0.5240585774058577\n",
      "Precision Score :  0.5017401392111369\n",
      "Recall Score :  0.9443231441048034\n",
      "F1 Score :  0.6553030303030303\n"
     ]
    }
   ],
   "source": [
    "print(\"Accuracy Score : \",accuracy_score(y_test,y_test_pred))\n",
    "print(\"Precision Score : \",precision_score(y_test,y_test_pred))\n",
    "print(\"Recall Score : \",recall_score(y_test,y_test_pred))\n",
    "print(\"F1 Score : \",f1_score(y_test,y_test_pred))"
   ]
  },
  {
   "cell_type": "code",
   "execution_count": 345,
   "id": "8c7243aa",
   "metadata": {},
   "outputs": [
    {
     "data": {
      "text/plain": [
       "0.47645494642324754"
      ]
     },
     "execution_count": 345,
     "metadata": {},
     "output_type": "execute_result"
    }
   ],
   "source": [
    "roc_auc_score(y_test,model_new.predict_proba(X_test_new)[:,1])"
   ]
  },
  {
   "cell_type": "code",
   "execution_count": 346,
   "id": "b8491aac",
   "metadata": {},
   "outputs": [
    {
     "data": {
      "image/png": "[encoded data removed]",
      "text/plain": [
       "<Figure size 500x500 with 1 Axes>"
      ]
     },
     "metadata": {},
     "output_type": "display_data"
    }
   ],
   "source": [
    "roc_auc_score(y_test,model_new.predict_proba(X_test_new)[:,1])\n",
    "draw_roc(y_test,model_new.predict_proba(X_test_new)[:,1])"
   ]
  },
  {
   "cell_type": "markdown",
   "id": "797130fd",
   "metadata": {},
   "source": [
    "## Changing Hyperparameters of the logistic Regression Model."
   ]
  },
  {
   "cell_type": "code",
   "execution_count": 347,
   "id": "c9d18294",
   "metadata": {},
   "outputs": [],
   "source": [
    "from sklearn.linear_model import LogisticRegression"
   ]
  },
  {
   "cell_type": "code",
   "execution_count": 348,
   "id": "2cb04c51",
   "metadata": {},
   "outputs": [],
   "source": [
    "logistic_model = LogisticRegression(penalty='elasticnet', tol=0.00001 , C=100.0, solver='saga', max_iter=10000, l1_ratio=0.70)"
   ]
  },
  {
   "cell_type": "code",
   "execution_count": 349,
   "id": "aba825e3",
   "metadata": {},
   "outputs": [
    {
     "data": {
      "text/html": [
       "<style>#sk-container-id-7 {color: black;}#sk-container-id-7 pre{padding: 0;}#sk-container-id-7 div.sk-toggleable {background-color: white;}#sk-container-id-7 label.sk-toggleable__label {cursor: pointer;display: block;width: 100%;margin-bottom: 0;padding: 0.3em;box-sizing: border-box;text-align: center;}#sk-container-id-7 label.sk-toggleable__label-arrow:before {content: \"▸\";float: left;margin-right: 0.25em;color: #696969;}#sk-container-id-7 label.sk-toggleable__label-arrow:hover:before {color: black;}#sk-container-id-7 div.sk-estimator:hover label.sk-toggleable__label-arrow:before {color: black;}#sk-container-id-7 div.sk-toggleable__content {max-height: 0;max-width: 0;overflow: hidden;text-align: left;background-color: #f0f8ff;}#sk-container-id-7 div.sk-toggleable__content pre {margin: 0.2em;color: black;border-radius: 0.25em;background-color: #f0f8ff;}#sk-container-id-7 input.sk-toggleable__control:checked~div.sk-toggleable__content {max-height: 200px;max-width: 100%;overflow: auto;}#sk-container-id-7 input.sk-toggleable__control:checked~label.sk-toggleable__label-arrow:before {content: \"▾\";}#sk-container-id-7 div.sk-estimator input.sk-toggleable__control:checked~label.sk-toggleable__label {background-color: #d4ebff;}#sk-container-id-7 div.sk-label input.sk-toggleable__control:checked~label.sk-toggleable__label {background-color: #d4ebff;}#sk-container-id-7 input.sk-hidden--visually {border: 0;clip: rect(1px 1px 1px 1px);clip: rect(1px, 1px, 1px, 1px);height: 1px;margin: -1px;overflow: hidden;padding: 0;position: absolute;width: 1px;}#sk-container-id-7 div.sk-estimator {font-family: monospace;background-color: #f0f8ff;border: 1px dotted black;border-radius: 0.25em;box-sizing: border-box;margin-bottom: 0.5em;}#sk-container-id-7 div.sk-estimator:hover {background-color: #d4ebff;}#sk-container-id-7 div.sk-parallel-item::after {content: \"\";width: 100%;border-bottom: 1px solid gray;flex-grow: 1;}#sk-container-id-7 div.sk-label:hover label.sk-toggleable__label {background-color: #d4ebff;}#sk-container-id-7 div.sk-serial::before {content: \"\";position: absolute;border-left: 1px solid gray;box-sizing: border-box;top: 0;bottom: 0;left: 50%;z-index: 0;}#sk-container-id-7 div.sk-serial {display: flex;flex-direction: column;align-items: center;background-color: white;padding-right: 0.2em;padding-left: 0.2em;position: relative;}#sk-container-id-7 div.sk-item {position: relative;z-index: 1;}#sk-container-id-7 div.sk-parallel {display: flex;align-items: stretch;justify-content: center;background-color: white;position: relative;}#sk-container-id-7 div.sk-item::before, #sk-container-id-7 div.sk-parallel-item::before {content: \"\";position: absolute;border-left: 1px solid gray;box-sizing: border-box;top: 0;bottom: 0;left: 50%;z-index: -1;}#sk-container-id-7 div.sk-parallel-item {display: flex;flex-direction: column;z-index: 1;position: relative;background-color: white;}#sk-container-id-7 div.sk-parallel-item:first-child::after {align-self: flex-end;width: 50%;}#sk-container-id-7 div.sk-parallel-item:last-child::after {align-self: flex-start;width: 50%;}#sk-container-id-7 div.sk-parallel-item:only-child::after {width: 0;}#sk-container-id-7 div.sk-dashed-wrapped {border: 1px dashed gray;margin: 0 0.4em 0.5em 0.4em;box-sizing: border-box;padding-bottom: 0.4em;background-color: white;}#sk-container-id-7 div.sk-label label {font-family: monospace;font-weight: bold;display: inline-block;line-height: 1.2em;}#sk-container-id-7 div.sk-label-container {text-align: center;}#sk-container-id-7 div.sk-container {/* jupyter's `normalize.less` sets `[hidden] { display: none; }` but bootstrap.min.css set `[hidden] { display: none !important; }` so we also need the `!important` here to be able to override the default hidden behavior on the sphinx rendered scikit-learn.org. See: https://github.com/scikit-learn/scikit-learn/issues/21755 */display: inline-block !important;position: relative;}#sk-container-id-7 div.sk-text-repr-fallback {display: none;}</style><div id=\"sk-container-id-7\" class=\"sk-top-container\"><div class=\"sk-text-repr-fallback\"><pre>LogisticRegression(C=100.0, l1_ratio=0.7, max_iter=10000, penalty=&#x27;elasticnet&#x27;,\n",
       "                   solver=&#x27;saga&#x27;, tol=1e-05)</pre><b>In a Jupyter environment, please rerun this cell to show the HTML representation or trust the notebook. <br />On GitHub, the HTML representation is unable to render, please try loading this page with nbviewer.org.</b></div><div class=\"sk-container\" hidden><div class=\"sk-item\"><div class=\"sk-estimator sk-toggleable\"><input class=\"sk-toggleable__control sk-hidden--visually\" id=\"sk-estimator-id-7\" type=\"checkbox\" checked><label for=\"sk-estimator-id-7\" class=\"sk-toggleable__label sk-toggleable__label-arrow\">LogisticRegression</label><div class=\"sk-toggleable__content\"><pre>LogisticRegression(C=100.0, l1_ratio=0.7, max_iter=10000, penalty=&#x27;elasticnet&#x27;,\n",
       "                   solver=&#x27;saga&#x27;, tol=1e-05)</pre></div></div></div></div></div>"
      ],
      "text/plain": [
       "LogisticRegression(C=100.0, l1_ratio=0.7, max_iter=10000, penalty='elasticnet',\n",
       "                   solver='saga', tol=1e-05)"
      ]
     },
     "execution_count": 349,
     "metadata": {},
     "output_type": "execute_result"
    }
   ],
   "source": [
    "logistic_model.fit(X_train_new,y_train)"
   ]
  },
  {
   "cell_type": "code",
   "execution_count": 350,
   "id": "e8f4afe6",
   "metadata": {},
   "outputs": [
    {
     "data": {
      "text/plain": [
       "0.4721352659546483"
      ]
     },
     "execution_count": 350,
     "metadata": {},
     "output_type": "execute_result"
    }
   ],
   "source": [
    "roc_auc_score(y_test,logistic_model.predict_proba(X_test_new)[:,1])"
   ]
  },
  {
   "cell_type": "markdown",
   "id": "4ba35781",
   "metadata": {},
   "source": [
    "# **K-Nearest Neighbours**"
   ]
  },
  {
   "cell_type": "code",
   "execution_count": 351,
   "id": "cfdcc8c4",
   "metadata": {},
   "outputs": [],
   "source": [
    "from sklearn.neighbors import KNeighborsClassifier"
   ]
  },
  {
   "cell_type": "code",
   "execution_count": 352,
   "id": "04faafb2",
   "metadata": {},
   "outputs": [],
   "source": [
    "nn_model = KNeighborsClassifier()"
   ]
  },
  {
   "cell_type": "code",
   "execution_count": 355,
   "id": "91c26672",
   "metadata": {},
   "outputs": [
    {
     "data": {
      "text/html": [
       "<style>#sk-container-id-9 {color: black;}#sk-container-id-9 pre{padding: 0;}#sk-container-id-9 div.sk-toggleable {background-color: white;}#sk-container-id-9 label.sk-toggleable__label {cursor: pointer;display: block;width: 100%;margin-bottom: 0;padding: 0.3em;box-sizing: border-box;text-align: center;}#sk-container-id-9 label.sk-toggleable__label-arrow:before {content: \"▸\";float: left;margin-right: 0.25em;color: #696969;}#sk-container-id-9 label.sk-toggleable__label-arrow:hover:before {color: black;}#sk-container-id-9 div.sk-estimator:hover label.sk-toggleable__label-arrow:before {color: black;}#sk-container-id-9 div.sk-toggleable__content {max-height: 0;max-width: 0;overflow: hidden;text-align: left;background-color: #f0f8ff;}#sk-container-id-9 div.sk-toggleable__content pre {margin: 0.2em;color: black;border-radius: 0.25em;background-color: #f0f8ff;}#sk-container-id-9 input.sk-toggleable__control:checked~div.sk-toggleable__content {max-height: 200px;max-width: 100%;overflow: auto;}#sk-container-id-9 input.sk-toggleable__control:checked~label.sk-toggleable__label-arrow:before {content: \"▾\";}#sk-container-id-9 div.sk-estimator input.sk-toggleable__control:checked~label.sk-toggleable__label {background-color: #d4ebff;}#sk-container-id-9 div.sk-label input.sk-toggleable__control:checked~label.sk-toggleable__label {background-color: #d4ebff;}#sk-container-id-9 input.sk-hidden--visually {border: 0;clip: rect(1px 1px 1px 1px);clip: rect(1px, 1px, 1px, 1px);height: 1px;margin: -1px;overflow: hidden;padding: 0;position: absolute;width: 1px;}#sk-container-id-9 div.sk-estimator {font-family: monospace;background-color: #f0f8ff;border: 1px dotted black;border-radius: 0.25em;box-sizing: border-box;margin-bottom: 0.5em;}#sk-container-id-9 div.sk-estimator:hover {background-color: #d4ebff;}#sk-container-id-9 div.sk-parallel-item::after {content: \"\";width: 100%;border-bottom: 1px solid gray;flex-grow: 1;}#sk-container-id-9 div.sk-label:hover label.sk-toggleable__label {background-color: #d4ebff;}#sk-container-id-9 div.sk-serial::before {content: \"\";position: absolute;border-left: 1px solid gray;box-sizing: border-box;top: 0;bottom: 0;left: 50%;z-index: 0;}#sk-container-id-9 div.sk-serial {display: flex;flex-direction: column;align-items: center;background-color: white;padding-right: 0.2em;padding-left: 0.2em;position: relative;}#sk-container-id-9 div.sk-item {position: relative;z-index: 1;}#sk-container-id-9 div.sk-parallel {display: flex;align-items: stretch;justify-content: center;background-color: white;position: relative;}#sk-container-id-9 div.sk-item::before, #sk-container-id-9 div.sk-parallel-item::before {content: \"\";position: absolute;border-left: 1px solid gray;box-sizing: border-box;top: 0;bottom: 0;left: 50%;z-index: -1;}#sk-container-id-9 div.sk-parallel-item {display: flex;flex-direction: column;z-index: 1;position: relative;background-color: white;}#sk-container-id-9 div.sk-parallel-item:first-child::after {align-self: flex-end;width: 50%;}#sk-container-id-9 div.sk-parallel-item:last-child::after {align-self: flex-start;width: 50%;}#sk-container-id-9 div.sk-parallel-item:only-child::after {width: 0;}#sk-container-id-9 div.sk-dashed-wrapped {border: 1px dashed gray;margin: 0 0.4em 0.5em 0.4em;box-sizing: border-box;padding-bottom: 0.4em;background-color: white;}#sk-container-id-9 div.sk-label label {font-family: monospace;font-weight: bold;display: inline-block;line-height: 1.2em;}#sk-container-id-9 div.sk-label-container {text-align: center;}#sk-container-id-9 div.sk-container {/* jupyter's `normalize.less` sets `[hidden] { display: none; }` but bootstrap.min.css set `[hidden] { display: none !important; }` so we also need the `!important` here to be able to override the default hidden behavior on the sphinx rendered scikit-learn.org. See: https://github.com/scikit-learn/scikit-learn/issues/21755 */display: inline-block !important;position: relative;}#sk-container-id-9 div.sk-text-repr-fallback {display: none;}</style><div id=\"sk-container-id-9\" class=\"sk-top-container\"><div class=\"sk-text-repr-fallback\"><pre>KNeighborsClassifier()</pre><b>In a Jupyter environment, please rerun this cell to show the HTML representation or trust the notebook. <br />On GitHub, the HTML representation is unable to render, please try loading this page with nbviewer.org.</b></div><div class=\"sk-container\" hidden><div class=\"sk-item\"><div class=\"sk-estimator sk-toggleable\"><input class=\"sk-toggleable__control sk-hidden--visually\" id=\"sk-estimator-id-9\" type=\"checkbox\" checked><label for=\"sk-estimator-id-9\" class=\"sk-toggleable__label sk-toggleable__label-arrow\">KNeighborsClassifier</label><div class=\"sk-toggleable__content\"><pre>KNeighborsClassifier()</pre></div></div></div></div></div>"
      ],
      "text/plain": [
       "KNeighborsClassifier()"
      ]
     },
     "execution_count": 355,
     "metadata": {},
     "output_type": "execute_result"
    }
   ],
   "source": [
    "nn_model.fit(X_train_new,y_train)"
   ]
  },
  {
   "cell_type": "code",
   "execution_count": 356,
   "id": "1702e821",
   "metadata": {},
   "outputs": [
    {
     "data": {
      "text/plain": [
       "<sklearn.metrics._plot.confusion_matrix.ConfusionMatrixDisplay at 0x1faca11dad0>"
      ]
     },
     "execution_count": 356,
     "metadata": {},
     "output_type": "execute_result"
    },
    {
     "data": {
      "image/png": "[encoded data removed]",
      "text/plain": [
       "<Figure size 640x480 with 2 Axes>"
      ]
     },
     "metadata": {},
     "output_type": "display_data"
    }
   ],
   "source": [
    "y_test_pred = nn_model.predict(X_test_new)\n",
    "confusion_matrix(y_test,y_test_pred)\n",
    "ConfusionMatrixDisplay.from_estimator(nn_model, X_test_new, y_test)"
   ]
  },
  {
   "cell_type": "code",
   "execution_count": 357,
   "id": "2a908f1d",
   "metadata": {},
   "outputs": [
    {
     "data": {
      "text/plain": [
       "0.5366108786610879"
      ]
     },
     "execution_count": 357,
     "metadata": {},
     "output_type": "execute_result"
    }
   ],
   "source": [
    "accuracy_score(y_test,y_test_pred)"
   ]
  },
  {
   "cell_type": "code",
   "execution_count": 358,
   "id": "2b76a4bc",
   "metadata": {},
   "outputs": [
    {
     "data": {
      "text/plain": [
       "0.5087822014051522"
      ]
     },
     "execution_count": 358,
     "metadata": {},
     "output_type": "execute_result"
    }
   ],
   "source": [
    "precision_score(y_test,y_test_pred)"
   ]
  },
  {
   "cell_type": "code",
   "execution_count": 359,
   "id": "2ef7616d",
   "metadata": {},
   "outputs": [
    {
     "data": {
      "text/plain": [
       "0.9486899563318777"
      ]
     },
     "execution_count": 359,
     "metadata": {},
     "output_type": "execute_result"
    }
   ],
   "source": [
    "recall_score(y_test,y_test_pred)"
   ]
  },
  {
   "cell_type": "code",
   "execution_count": 360,
   "id": "c5375aed",
   "metadata": {},
   "outputs": [
    {
     "data": {
      "text/plain": [
       "0.6623475609756098"
      ]
     },
     "execution_count": 360,
     "metadata": {},
     "output_type": "execute_result"
    }
   ],
   "source": [
    "f1_score(y_test,y_test_pred)"
   ]
  },
  {
   "cell_type": "code",
   "execution_count": 361,
   "id": "cbc8e228",
   "metadata": {},
   "outputs": [
    {
     "data": {
      "text/plain": [
       "0.7617692385261571"
      ]
     },
     "execution_count": 361,
     "metadata": {},
     "output_type": "execute_result"
    }
   ],
   "source": [
    "roc_auc_score(y_test,nn_model.predict_proba(X_test_new)[:,1])"
   ]
  },
  {
   "cell_type": "code",
   "execution_count": 362,
   "id": "876a3323",
   "metadata": {},
   "outputs": [
    {
     "data": {
      "image/png": "[encoded data removed]",
      "text/plain": [
       "<Figure size 500x500 with 1 Axes>"
      ]
     },
     "metadata": {},
     "output_type": "display_data"
    }
   ],
   "source": [
    "draw_roc(y_test,nn_model.predict_proba(X_test_new)[:,1])"
   ]
  },
  {
   "cell_type": "code",
   "execution_count": 363,
   "id": "28d06205",
   "metadata": {},
   "outputs": [
    {
     "data": {
      "image/png": "[encoded data removed]",
      "text/plain": [
       "<Figure size 500x500 with 1 Axes>"
      ]
     },
     "metadata": {},
     "output_type": "display_data"
    },
    {
     "data": {
      "image/png": "[encoded data removed]",
      "text/plain": [
       "<Figure size 500x500 with 1 Axes>"
      ]
     },
     "metadata": {},
     "output_type": "display_data"
    }
   ],
   "source": [
    "draw_roc(y_test,model_new.predict_proba(X_test_new)[:,1])\n",
    "draw_roc(y_test,nn_model.predict_proba(X_test_new)[:,1])"
   ]
  },
  {
   "cell_type": "markdown",
   "id": "1f968e2d",
   "metadata": {},
   "source": [
    "# **Random Forest**"
   ]
  },
  {
   "cell_type": "code",
   "execution_count": 364,
   "id": "e6a812a9",
   "metadata": {},
   "outputs": [],
   "source": [
    "from sklearn.ensemble import RandomForestClassifier\n",
    "\n",
    "# Create a Random Forest Classifier with 100 trees\n",
    "n_trees = 100\n",
    "random_forest = RandomForestClassifier(n_estimators=n_trees, random_state=42)\n",
    "\n",
    "# Train the Random Forest Classifier\n",
    "random_forest.fit(X_train_new, y_train)\n",
    "\n",
    "y_test_pred = random_forest.predict(X_test_new)"
   ]
  },
  {
   "cell_type": "code",
   "execution_count": 365,
   "id": "19c477ea",
   "metadata": {},
   "outputs": [
    {
     "data": {
      "text/plain": [
       "<sklearn.metrics._plot.confusion_matrix.ConfusionMatrixDisplay at 0x1fac5203090>"
      ]
     },
     "execution_count": 365,
     "metadata": {},
     "output_type": "execute_result"
    },
    {
     "data": {
      "image/png": "[encoded data removed]",
      "text/plain": [
       "<Figure size 640x480 with 2 Axes>"
      ]
     },
     "metadata": {},
     "output_type": "display_data"
    }
   ],
   "source": [
    "confusion_matrix(y_test,y_test_pred)\n",
    "ConfusionMatrixDisplay.from_estimator(nn_model, X_test_new, y_test)"
   ]
  },
  {
   "cell_type": "code",
   "execution_count": 366,
   "id": "67231ccd",
   "metadata": {},
   "outputs": [
    {
     "name": "stdout",
     "output_type": "stream",
     "text": [
      "Accuracy Score :  0.7086820083682008\n",
      "Precision Score :  0.7060849598163031\n",
      "Recall Score :  0.6713973799126638\n",
      "F1 Score :  0.6883044208170118\n"
     ]
    }
   ],
   "source": [
    "print(\"Accuracy Score : \",accuracy_score(y_test,y_test_pred))\n",
    "print(\"Precision Score : \",precision_score(y_test,y_test_pred))\n",
    "print(\"Recall Score : \",recall_score(y_test,y_test_pred))\n",
    "print(\"F1 Score : \",f1_score(y_test,y_test_pred))"
   ]
  },
  {
   "cell_type": "code",
   "execution_count": 367,
   "id": "d9998cfc",
   "metadata": {},
   "outputs": [
    {
     "data": {
      "image/png": "[encoded data removed]",
      "text/plain": [
       "<Figure size 500x500 with 1 Axes>"
      ]
     },
     "metadata": {},
     "output_type": "display_data"
    }
   ],
   "source": [
    "roc_auc_score(y_test,random_forest.predict_proba(X_test_new)[:,1])\n",
    "draw_roc(y_test,random_forest.predict_proba(X_test_new)[:,1])"
   ]
  },
  {
   "cell_type": "markdown",
   "id": "f7c5d654",
   "metadata": {},
   "source": [
    "# **XG Boost**"
   ]
  },
  {
   "cell_type": "code",
   "execution_count": 368,
   "id": "c560434d",
   "metadata": {},
   "outputs": [
    {
     "ename": "AttributeError",
     "evalue": "module 'pandas' has no attribute 'Int64Index'",
     "output_type": "error",
     "traceback": [
      "\u001b[1;31m---------------------------------------------------------------------------\u001b[0m",
      "\u001b[1;31mAttributeError\u001b[0m                            Traceback (most recent call last)",
      "Cell \u001b[1;32mIn[368], line 7\u001b[0m\n\u001b[0;32m      4\u001b[0m xgb_classifier \u001b[38;5;241m=\u001b[39m xgb\u001b[38;5;241m.\u001b[39mXGBClassifier(n_estimators\u001b[38;5;241m=\u001b[39m\u001b[38;5;241m100\u001b[39m, learning_rate\u001b[38;5;241m=\u001b[39m\u001b[38;5;241m0.1\u001b[39m, random_state\u001b[38;5;241m=\u001b[39m\u001b[38;5;241m42\u001b[39m)\n\u001b[0;32m      6\u001b[0m \u001b[38;5;66;03m# Train the classifier\u001b[39;00m\n\u001b[1;32m----> 7\u001b[0m xgb_classifier\u001b[38;5;241m.\u001b[39mfit(X_train_new, y_train)\n\u001b[0;32m      8\u001b[0m y_test_pred \u001b[38;5;241m=\u001b[39m xgb_classifier\u001b[38;5;241m.\u001b[39mpredict(X_test_new)\n",
      "File \u001b[1;32m~\\anaconda3\\Lib\\site-packages\\xgboost\\core.py:506\u001b[0m, in \u001b[0;36m_deprecate_positional_args.<locals>.inner_f\u001b[1;34m(*args, **kwargs)\u001b[0m\n\u001b[0;32m    504\u001b[0m \u001b[38;5;28;01mfor\u001b[39;00m k, arg \u001b[38;5;129;01min\u001b[39;00m \u001b[38;5;28mzip\u001b[39m(sig\u001b[38;5;241m.\u001b[39mparameters, args):\n\u001b[0;32m    505\u001b[0m     kwargs[k] \u001b[38;5;241m=\u001b[39m arg\n\u001b[1;32m--> 506\u001b[0m \u001b[38;5;28;01mreturn\u001b[39;00m f(\u001b[38;5;241m*\u001b[39m\u001b[38;5;241m*\u001b[39mkwargs)\n",
      "File \u001b[1;32m~\\anaconda3\\Lib\\site-packages\\xgboost\\sklearn.py:1231\u001b[0m, in \u001b[0;36mXGBClassifier.fit\u001b[1;34m(self, X, y, sample_weight, base_margin, eval_set, eval_metric, early_stopping_rounds, verbose, xgb_model, sample_weight_eval_set, base_margin_eval_set, feature_weights, callbacks)\u001b[0m\n\u001b[0;32m   1228\u001b[0m     label_transform \u001b[38;5;241m=\u001b[39m \u001b[38;5;28;01mlambda\u001b[39;00m x: x\n\u001b[0;32m   1230\u001b[0m model, feval, params \u001b[38;5;241m=\u001b[39m \u001b[38;5;28mself\u001b[39m\u001b[38;5;241m.\u001b[39m_configure_fit(xgb_model, eval_metric, params)\n\u001b[1;32m-> 1231\u001b[0m train_dmatrix, evals \u001b[38;5;241m=\u001b[39m _wrap_evaluation_matrices(\n\u001b[0;32m   1232\u001b[0m     missing\u001b[38;5;241m=\u001b[39m\u001b[38;5;28mself\u001b[39m\u001b[38;5;241m.\u001b[39mmissing,\n\u001b[0;32m   1233\u001b[0m     X\u001b[38;5;241m=\u001b[39mX,\n\u001b[0;32m   1234\u001b[0m     y\u001b[38;5;241m=\u001b[39my,\n\u001b[0;32m   1235\u001b[0m     group\u001b[38;5;241m=\u001b[39m\u001b[38;5;28;01mNone\u001b[39;00m,\n\u001b[0;32m   1236\u001b[0m     qid\u001b[38;5;241m=\u001b[39m\u001b[38;5;28;01mNone\u001b[39;00m,\n\u001b[0;32m   1237\u001b[0m     sample_weight\u001b[38;5;241m=\u001b[39msample_weight,\n\u001b[0;32m   1238\u001b[0m     base_margin\u001b[38;5;241m=\u001b[39mbase_margin,\n\u001b[0;32m   1239\u001b[0m     feature_weights\u001b[38;5;241m=\u001b[39mfeature_weights,\n\u001b[0;32m   1240\u001b[0m     eval_set\u001b[38;5;241m=\u001b[39meval_set,\n\u001b[0;32m   1241\u001b[0m     sample_weight_eval_set\u001b[38;5;241m=\u001b[39msample_weight_eval_set,\n\u001b[0;32m   1242\u001b[0m     base_margin_eval_set\u001b[38;5;241m=\u001b[39mbase_margin_eval_set,\n\u001b[0;32m   1243\u001b[0m     eval_group\u001b[38;5;241m=\u001b[39m\u001b[38;5;28;01mNone\u001b[39;00m,\n\u001b[0;32m   1244\u001b[0m     eval_qid\u001b[38;5;241m=\u001b[39m\u001b[38;5;28;01mNone\u001b[39;00m,\n\u001b[0;32m   1245\u001b[0m     create_dmatrix\u001b[38;5;241m=\u001b[39m\u001b[38;5;28;01mlambda\u001b[39;00m \u001b[38;5;241m*\u001b[39m\u001b[38;5;241m*\u001b[39mkwargs: DMatrix(nthread\u001b[38;5;241m=\u001b[39m\u001b[38;5;28mself\u001b[39m\u001b[38;5;241m.\u001b[39mn_jobs, \u001b[38;5;241m*\u001b[39m\u001b[38;5;241m*\u001b[39mkwargs),\n\u001b[0;32m   1246\u001b[0m     enable_categorical\u001b[38;5;241m=\u001b[39m\u001b[38;5;28mself\u001b[39m\u001b[38;5;241m.\u001b[39menable_categorical,\n\u001b[0;32m   1247\u001b[0m     label_transform\u001b[38;5;241m=\u001b[39mlabel_transform,\n\u001b[0;32m   1248\u001b[0m )\n\u001b[0;32m   1250\u001b[0m \u001b[38;5;28mself\u001b[39m\u001b[38;5;241m.\u001b[39m_Booster \u001b[38;5;241m=\u001b[39m train(\n\u001b[0;32m   1251\u001b[0m     params,\n\u001b[0;32m   1252\u001b[0m     train_dmatrix,\n\u001b[1;32m   (...)\u001b[0m\n\u001b[0;32m   1261\u001b[0m     callbacks\u001b[38;5;241m=\u001b[39mcallbacks,\n\u001b[0;32m   1262\u001b[0m )\n\u001b[0;32m   1264\u001b[0m \u001b[38;5;28;01mif\u001b[39;00m \u001b[38;5;129;01mnot\u001b[39;00m \u001b[38;5;28mcallable\u001b[39m(\u001b[38;5;28mself\u001b[39m\u001b[38;5;241m.\u001b[39mobjective):\n",
      "File \u001b[1;32m~\\anaconda3\\Lib\\site-packages\\xgboost\\sklearn.py:286\u001b[0m, in \u001b[0;36m_wrap_evaluation_matrices\u001b[1;34m(missing, X, y, group, qid, sample_weight, base_margin, feature_weights, eval_set, sample_weight_eval_set, base_margin_eval_set, eval_group, eval_qid, create_dmatrix, enable_categorical, label_transform)\u001b[0m\n\u001b[0;32m    265\u001b[0m \u001b[38;5;28;01mdef\u001b[39;00m \u001b[38;5;21m_wrap_evaluation_matrices\u001b[39m(\n\u001b[0;32m    266\u001b[0m     missing: \u001b[38;5;28mfloat\u001b[39m,\n\u001b[0;32m    267\u001b[0m     X: Any,\n\u001b[1;32m   (...)\u001b[0m\n\u001b[0;32m    281\u001b[0m     label_transform: Callable \u001b[38;5;241m=\u001b[39m \u001b[38;5;28;01mlambda\u001b[39;00m x: x,\n\u001b[0;32m    282\u001b[0m ) \u001b[38;5;241m-\u001b[39m\u001b[38;5;241m>\u001b[39m Tuple[Any, Optional[List[Tuple[Any, \u001b[38;5;28mstr\u001b[39m]]]]:\n\u001b[0;32m    283\u001b[0m \u001b[38;5;250m    \u001b[39m\u001b[38;5;124;03m\"\"\"Convert array_like evaluation matrices into DMatrix.  Perform validation on the way.\u001b[39;00m\n\u001b[0;32m    284\u001b[0m \n\u001b[0;32m    285\u001b[0m \u001b[38;5;124;03m    \"\"\"\u001b[39;00m\n\u001b[1;32m--> 286\u001b[0m     train_dmatrix \u001b[38;5;241m=\u001b[39m create_dmatrix(\n\u001b[0;32m    287\u001b[0m         data\u001b[38;5;241m=\u001b[39mX,\n\u001b[0;32m    288\u001b[0m         label\u001b[38;5;241m=\u001b[39mlabel_transform(y),\n\u001b[0;32m    289\u001b[0m         group\u001b[38;5;241m=\u001b[39mgroup,\n\u001b[0;32m    290\u001b[0m         qid\u001b[38;5;241m=\u001b[39mqid,\n\u001b[0;32m    291\u001b[0m         weight\u001b[38;5;241m=\u001b[39msample_weight,\n\u001b[0;32m    292\u001b[0m         base_margin\u001b[38;5;241m=\u001b[39mbase_margin,\n\u001b[0;32m    293\u001b[0m         feature_weights\u001b[38;5;241m=\u001b[39mfeature_weights,\n\u001b[0;32m    294\u001b[0m         missing\u001b[38;5;241m=\u001b[39mmissing,\n\u001b[0;32m    295\u001b[0m         enable_categorical\u001b[38;5;241m=\u001b[39menable_categorical,\n\u001b[0;32m    296\u001b[0m     )\n\u001b[0;32m    298\u001b[0m     n_validation \u001b[38;5;241m=\u001b[39m \u001b[38;5;241m0\u001b[39m \u001b[38;5;28;01mif\u001b[39;00m eval_set \u001b[38;5;129;01mis\u001b[39;00m \u001b[38;5;28;01mNone\u001b[39;00m \u001b[38;5;28;01melse\u001b[39;00m \u001b[38;5;28mlen\u001b[39m(eval_set)\n\u001b[0;32m    300\u001b[0m     \u001b[38;5;28;01mdef\u001b[39;00m \u001b[38;5;21mvalidate_or_none\u001b[39m(meta: Optional[List], name: \u001b[38;5;28mstr\u001b[39m) \u001b[38;5;241m-\u001b[39m\u001b[38;5;241m>\u001b[39m List:\n",
      "File \u001b[1;32m~\\anaconda3\\Lib\\site-packages\\xgboost\\sklearn.py:1245\u001b[0m, in \u001b[0;36mXGBClassifier.fit.<locals>.<lambda>\u001b[1;34m(**kwargs)\u001b[0m\n\u001b[0;32m   1228\u001b[0m     label_transform \u001b[38;5;241m=\u001b[39m \u001b[38;5;28;01mlambda\u001b[39;00m x: x\n\u001b[0;32m   1230\u001b[0m model, feval, params \u001b[38;5;241m=\u001b[39m \u001b[38;5;28mself\u001b[39m\u001b[38;5;241m.\u001b[39m_configure_fit(xgb_model, eval_metric, params)\n\u001b[0;32m   1231\u001b[0m train_dmatrix, evals \u001b[38;5;241m=\u001b[39m _wrap_evaluation_matrices(\n\u001b[0;32m   1232\u001b[0m     missing\u001b[38;5;241m=\u001b[39m\u001b[38;5;28mself\u001b[39m\u001b[38;5;241m.\u001b[39mmissing,\n\u001b[0;32m   1233\u001b[0m     X\u001b[38;5;241m=\u001b[39mX,\n\u001b[0;32m   1234\u001b[0m     y\u001b[38;5;241m=\u001b[39my,\n\u001b[0;32m   1235\u001b[0m     group\u001b[38;5;241m=\u001b[39m\u001b[38;5;28;01mNone\u001b[39;00m,\n\u001b[0;32m   1236\u001b[0m     qid\u001b[38;5;241m=\u001b[39m\u001b[38;5;28;01mNone\u001b[39;00m,\n\u001b[0;32m   1237\u001b[0m     sample_weight\u001b[38;5;241m=\u001b[39msample_weight,\n\u001b[0;32m   1238\u001b[0m     base_margin\u001b[38;5;241m=\u001b[39mbase_margin,\n\u001b[0;32m   1239\u001b[0m     feature_weights\u001b[38;5;241m=\u001b[39mfeature_weights,\n\u001b[0;32m   1240\u001b[0m     eval_set\u001b[38;5;241m=\u001b[39meval_set,\n\u001b[0;32m   1241\u001b[0m     sample_weight_eval_set\u001b[38;5;241m=\u001b[39msample_weight_eval_set,\n\u001b[0;32m   1242\u001b[0m     base_margin_eval_set\u001b[38;5;241m=\u001b[39mbase_margin_eval_set,\n\u001b[0;32m   1243\u001b[0m     eval_group\u001b[38;5;241m=\u001b[39m\u001b[38;5;28;01mNone\u001b[39;00m,\n\u001b[0;32m   1244\u001b[0m     eval_qid\u001b[38;5;241m=\u001b[39m\u001b[38;5;28;01mNone\u001b[39;00m,\n\u001b[1;32m-> 1245\u001b[0m     create_dmatrix\u001b[38;5;241m=\u001b[39m\u001b[38;5;28;01mlambda\u001b[39;00m \u001b[38;5;241m*\u001b[39m\u001b[38;5;241m*\u001b[39mkwargs: DMatrix(nthread\u001b[38;5;241m=\u001b[39m\u001b[38;5;28mself\u001b[39m\u001b[38;5;241m.\u001b[39mn_jobs, \u001b[38;5;241m*\u001b[39m\u001b[38;5;241m*\u001b[39mkwargs),\n\u001b[0;32m   1246\u001b[0m     enable_categorical\u001b[38;5;241m=\u001b[39m\u001b[38;5;28mself\u001b[39m\u001b[38;5;241m.\u001b[39menable_categorical,\n\u001b[0;32m   1247\u001b[0m     label_transform\u001b[38;5;241m=\u001b[39mlabel_transform,\n\u001b[0;32m   1248\u001b[0m )\n\u001b[0;32m   1250\u001b[0m \u001b[38;5;28mself\u001b[39m\u001b[38;5;241m.\u001b[39m_Booster \u001b[38;5;241m=\u001b[39m train(\n\u001b[0;32m   1251\u001b[0m     params,\n\u001b[0;32m   1252\u001b[0m     train_dmatrix,\n\u001b[1;32m   (...)\u001b[0m\n\u001b[0;32m   1261\u001b[0m     callbacks\u001b[38;5;241m=\u001b[39mcallbacks,\n\u001b[0;32m   1262\u001b[0m )\n\u001b[0;32m   1264\u001b[0m \u001b[38;5;28;01mif\u001b[39;00m \u001b[38;5;129;01mnot\u001b[39;00m \u001b[38;5;28mcallable\u001b[39m(\u001b[38;5;28mself\u001b[39m\u001b[38;5;241m.\u001b[39mobjective):\n",
      "File \u001b[1;32m~\\anaconda3\\Lib\\site-packages\\xgboost\\core.py:506\u001b[0m, in \u001b[0;36m_deprecate_positional_args.<locals>.inner_f\u001b[1;34m(*args, **kwargs)\u001b[0m\n\u001b[0;32m    504\u001b[0m \u001b[38;5;28;01mfor\u001b[39;00m k, arg \u001b[38;5;129;01min\u001b[39;00m \u001b[38;5;28mzip\u001b[39m(sig\u001b[38;5;241m.\u001b[39mparameters, args):\n\u001b[0;32m    505\u001b[0m     kwargs[k] \u001b[38;5;241m=\u001b[39m arg\n\u001b[1;32m--> 506\u001b[0m \u001b[38;5;28;01mreturn\u001b[39;00m f(\u001b[38;5;241m*\u001b[39m\u001b[38;5;241m*\u001b[39mkwargs)\n",
      "File \u001b[1;32m~\\anaconda3\\Lib\\site-packages\\xgboost\\core.py:616\u001b[0m, in \u001b[0;36mDMatrix.__init__\u001b[1;34m(self, data, label, weight, base_margin, missing, silent, feature_names, feature_types, nthread, group, qid, label_lower_bound, label_upper_bound, feature_weights, enable_categorical)\u001b[0m\n\u001b[0;32m    613\u001b[0m     \u001b[38;5;28;01massert\u001b[39;00m \u001b[38;5;28mself\u001b[39m\u001b[38;5;241m.\u001b[39mhandle \u001b[38;5;129;01mis\u001b[39;00m \u001b[38;5;129;01mnot\u001b[39;00m \u001b[38;5;28;01mNone\u001b[39;00m\n\u001b[0;32m    614\u001b[0m     \u001b[38;5;28;01mreturn\u001b[39;00m\n\u001b[1;32m--> 616\u001b[0m handle, feature_names, feature_types \u001b[38;5;241m=\u001b[39m dispatch_data_backend(\n\u001b[0;32m    617\u001b[0m     data,\n\u001b[0;32m    618\u001b[0m     missing\u001b[38;5;241m=\u001b[39m\u001b[38;5;28mself\u001b[39m\u001b[38;5;241m.\u001b[39mmissing,\n\u001b[0;32m    619\u001b[0m     threads\u001b[38;5;241m=\u001b[39m\u001b[38;5;28mself\u001b[39m\u001b[38;5;241m.\u001b[39mnthread,\n\u001b[0;32m    620\u001b[0m     feature_names\u001b[38;5;241m=\u001b[39mfeature_names,\n\u001b[0;32m    621\u001b[0m     feature_types\u001b[38;5;241m=\u001b[39mfeature_types,\n\u001b[0;32m    622\u001b[0m     enable_categorical\u001b[38;5;241m=\u001b[39menable_categorical,\n\u001b[0;32m    623\u001b[0m )\n\u001b[0;32m    624\u001b[0m \u001b[38;5;28;01massert\u001b[39;00m handle \u001b[38;5;129;01mis\u001b[39;00m \u001b[38;5;129;01mnot\u001b[39;00m \u001b[38;5;28;01mNone\u001b[39;00m\n\u001b[0;32m    625\u001b[0m \u001b[38;5;28mself\u001b[39m\u001b[38;5;241m.\u001b[39mhandle \u001b[38;5;241m=\u001b[39m handle\n",
      "File \u001b[1;32m~\\anaconda3\\Lib\\site-packages\\xgboost\\data.py:772\u001b[0m, in \u001b[0;36mdispatch_data_backend\u001b[1;34m(data, missing, threads, feature_names, feature_types, enable_categorical)\u001b[0m\n\u001b[0;32m    770\u001b[0m     \u001b[38;5;28;01mreturn\u001b[39;00m _from_tuple(data, missing, threads, feature_names, feature_types)\n\u001b[0;32m    771\u001b[0m \u001b[38;5;28;01mif\u001b[39;00m _is_pandas_df(data):\n\u001b[1;32m--> 772\u001b[0m     \u001b[38;5;28;01mreturn\u001b[39;00m _from_pandas_df(data, enable_categorical, missing, threads,\n\u001b[0;32m    773\u001b[0m                            feature_names, feature_types)\n\u001b[0;32m    774\u001b[0m \u001b[38;5;28;01mif\u001b[39;00m _is_pandas_series(data):\n\u001b[0;32m    775\u001b[0m     \u001b[38;5;28;01mreturn\u001b[39;00m _from_pandas_series(\n\u001b[0;32m    776\u001b[0m         data, missing, threads, enable_categorical, feature_names, feature_types\n\u001b[0;32m    777\u001b[0m     )\n",
      "File \u001b[1;32m~\\anaconda3\\Lib\\site-packages\\xgboost\\data.py:312\u001b[0m, in \u001b[0;36m_from_pandas_df\u001b[1;34m(data, enable_categorical, missing, nthread, feature_names, feature_types)\u001b[0m\n\u001b[0;32m    304\u001b[0m \u001b[38;5;28;01mdef\u001b[39;00m \u001b[38;5;21m_from_pandas_df\u001b[39m(\n\u001b[0;32m    305\u001b[0m     data: DataFrame,\n\u001b[0;32m    306\u001b[0m     enable_categorical: \u001b[38;5;28mbool\u001b[39m,\n\u001b[1;32m   (...)\u001b[0m\n\u001b[0;32m    310\u001b[0m     feature_types: Optional[List[\u001b[38;5;28mstr\u001b[39m]],\n\u001b[0;32m    311\u001b[0m ):\n\u001b[1;32m--> 312\u001b[0m     data, feature_names, feature_types \u001b[38;5;241m=\u001b[39m _transform_pandas_df(\n\u001b[0;32m    313\u001b[0m         data, enable_categorical, feature_names, feature_types)\n\u001b[0;32m    314\u001b[0m     \u001b[38;5;28;01mreturn\u001b[39;00m _from_numpy_array(data, missing, nthread, feature_names,\n\u001b[0;32m    315\u001b[0m                              feature_types)\n",
      "File \u001b[1;32m~\\anaconda3\\Lib\\site-packages\\xgboost\\data.py:262\u001b[0m, in \u001b[0;36m_transform_pandas_df\u001b[1;34m(data, enable_categorical, feature_names, feature_types, meta, meta_type)\u001b[0m\n\u001b[0;32m    260\u001b[0m \u001b[38;5;28;01mif\u001b[39;00m \u001b[38;5;28misinstance\u001b[39m(data\u001b[38;5;241m.\u001b[39mcolumns, pd\u001b[38;5;241m.\u001b[39mMultiIndex):\n\u001b[0;32m    261\u001b[0m     feature_names \u001b[38;5;241m=\u001b[39m [\u001b[38;5;124m\"\u001b[39m\u001b[38;5;124m \u001b[39m\u001b[38;5;124m\"\u001b[39m\u001b[38;5;241m.\u001b[39mjoin([\u001b[38;5;28mstr\u001b[39m(x) \u001b[38;5;28;01mfor\u001b[39;00m x \u001b[38;5;129;01min\u001b[39;00m i]) \u001b[38;5;28;01mfor\u001b[39;00m i \u001b[38;5;129;01min\u001b[39;00m data\u001b[38;5;241m.\u001b[39mcolumns]\n\u001b[1;32m--> 262\u001b[0m \u001b[38;5;28;01melif\u001b[39;00m \u001b[38;5;28misinstance\u001b[39m(data\u001b[38;5;241m.\u001b[39mcolumns, (pd\u001b[38;5;241m.\u001b[39mInt64Index, pd\u001b[38;5;241m.\u001b[39mRangeIndex)):\n\u001b[0;32m    263\u001b[0m     feature_names \u001b[38;5;241m=\u001b[39m \u001b[38;5;28mlist\u001b[39m(\u001b[38;5;28mmap\u001b[39m(\u001b[38;5;28mstr\u001b[39m, data\u001b[38;5;241m.\u001b[39mcolumns))\n\u001b[0;32m    264\u001b[0m \u001b[38;5;28;01melse\u001b[39;00m:\n",
      "\u001b[1;31mAttributeError\u001b[0m: module 'pandas' has no attribute 'Int64Index'"
     ]
    }
   ],
   "source": [
    "import xgboost as xgb\n",
    "\n",
    "# Create an XGBoost Classifier\n",
    "xgb_classifier = xgb.XGBClassifier(n_estimators=100, learning_rate=0.1, random_state=42)\n",
    "\n",
    "# Train the classifier\n",
    "xgb_classifier.fit(X_train_new, y_train)\n",
    "y_test_pred = xgb_classifier.predict(X_test_new)"
   ]
  },
  {
   "cell_type": "code",
   "execution_count": null,
   "id": "c9c3195d",
   "metadata": {},
   "outputs": [],
   "source": [
    "confusion_matrix(y_test,y_test_pred)\n",
    "ConfusionMatrixDisplay.from_estimator(nn_model, X_test_new, y_test)"
   ]
  },
  {
   "cell_type": "code",
   "execution_count": null,
   "id": "5dc7297b",
   "metadata": {},
   "outputs": [],
   "source": [
    "print(\"Accuracy Score : \",accuracy_score(y_test,y_test_pred))\n",
    "print(\"Precision Score : \",precision_score(y_test,y_test_pred))\n",
    "print(\"Recall Score : \",recall_score(y_test,y_test_pred))\n",
    "print(\"F1 Score : \",f1_score(y_test,y_test_pred))"
   ]
  },
  {
   "cell_type": "code",
   "execution_count": 369,
   "id": "30f367ff",
   "metadata": {},
   "outputs": [
    {
     "ename": "NotFittedError",
     "evalue": "need to call fit or load_model beforehand",
     "output_type": "error",
     "traceback": [
      "\u001b[1;31m---------------------------------------------------------------------------\u001b[0m",
      "\u001b[1;31mNotFittedError\u001b[0m                            Traceback (most recent call last)",
      "Cell \u001b[1;32mIn[369], line 1\u001b[0m\n\u001b[1;32m----> 1\u001b[0m roc_auc_score(y_test,xgb_classifier\u001b[38;5;241m.\u001b[39mpredict_proba(X_test_new)[:,\u001b[38;5;241m1\u001b[39m])\n\u001b[0;32m      2\u001b[0m draw_roc(y_test,xgb_classifier\u001b[38;5;241m.\u001b[39mpredict_proba(X_test_new)[:,\u001b[38;5;241m1\u001b[39m])\n",
      "File \u001b[1;32m~\\anaconda3\\Lib\\site-packages\\xgboost\\sklearn.py:1348\u001b[0m, in \u001b[0;36mXGBClassifier.predict_proba\u001b[1;34m(self, X, ntree_limit, validate_features, base_margin, iteration_range)\u001b[0m\n\u001b[0;32m   1316\u001b[0m \u001b[38;5;250m\u001b[39m\u001b[38;5;124;03m\"\"\" Predict the probability of each `X` example being of a given class.\u001b[39;00m\n\u001b[0;32m   1317\u001b[0m \n\u001b[0;32m   1318\u001b[0m \u001b[38;5;124;03m.. note:: This function is only thread safe for `gbtree` and `dart`.\u001b[39;00m\n\u001b[1;32m   (...)\u001b[0m\n\u001b[0;32m   1341\u001b[0m \u001b[38;5;124;03m    probability of each data example being of a given class.\u001b[39;00m\n\u001b[0;32m   1342\u001b[0m \u001b[38;5;124;03m\"\"\"\u001b[39;00m\n\u001b[0;32m   1343\u001b[0m \u001b[38;5;66;03m# custom obj:      Do nothing as we don't know what to do.\u001b[39;00m\n\u001b[0;32m   1344\u001b[0m \u001b[38;5;66;03m# softprob:        Do nothing, output is proba.\u001b[39;00m\n\u001b[0;32m   1345\u001b[0m \u001b[38;5;66;03m# softmax:         Use output margin to remove the argmax in PredTransform.\u001b[39;00m\n\u001b[0;32m   1346\u001b[0m \u001b[38;5;66;03m# binary:logistic: Expand the prob vector into 2-class matrix after predict.\u001b[39;00m\n\u001b[0;32m   1347\u001b[0m \u001b[38;5;66;03m# binary:logitraw: Unsupported by predict_proba()\u001b[39;00m\n\u001b[1;32m-> 1348\u001b[0m class_probs \u001b[38;5;241m=\u001b[39m \u001b[38;5;28msuper\u001b[39m()\u001b[38;5;241m.\u001b[39mpredict(\n\u001b[0;32m   1349\u001b[0m     X\u001b[38;5;241m=\u001b[39mX,\n\u001b[0;32m   1350\u001b[0m     output_margin\u001b[38;5;241m=\u001b[39m\u001b[38;5;28mself\u001b[39m\u001b[38;5;241m.\u001b[39mobjective \u001b[38;5;241m==\u001b[39m \u001b[38;5;124m\"\u001b[39m\u001b[38;5;124mmulti:softmax\u001b[39m\u001b[38;5;124m\"\u001b[39m,\n\u001b[0;32m   1351\u001b[0m     ntree_limit\u001b[38;5;241m=\u001b[39mntree_limit,\n\u001b[0;32m   1352\u001b[0m     validate_features\u001b[38;5;241m=\u001b[39mvalidate_features,\n\u001b[0;32m   1353\u001b[0m     base_margin\u001b[38;5;241m=\u001b[39mbase_margin,\n\u001b[0;32m   1354\u001b[0m     iteration_range\u001b[38;5;241m=\u001b[39miteration_range\n\u001b[0;32m   1355\u001b[0m )\n\u001b[0;32m   1356\u001b[0m \u001b[38;5;66;03m# If model is loaded from a raw booster there's no `n_classes_`\u001b[39;00m\n\u001b[0;32m   1357\u001b[0m \u001b[38;5;28;01mreturn\u001b[39;00m _cls_predict_proba(\n\u001b[0;32m   1358\u001b[0m     \u001b[38;5;28mgetattr\u001b[39m(\u001b[38;5;28mself\u001b[39m, \u001b[38;5;124m\"\u001b[39m\u001b[38;5;124mn_classes_\u001b[39m\u001b[38;5;124m\"\u001b[39m, \u001b[38;5;28;01mNone\u001b[39;00m), class_probs, np\u001b[38;5;241m.\u001b[39mvstack\n\u001b[0;32m   1359\u001b[0m )\n",
      "File \u001b[1;32m~\\anaconda3\\Lib\\site-packages\\xgboost\\sklearn.py:876\u001b[0m, in \u001b[0;36mXGBModel.predict\u001b[1;34m(self, X, output_margin, ntree_limit, validate_features, base_margin, iteration_range)\u001b[0m\n\u001b[0;32m    833\u001b[0m \u001b[38;5;28;01mdef\u001b[39;00m \u001b[38;5;21mpredict\u001b[39m(\n\u001b[0;32m    834\u001b[0m     \u001b[38;5;28mself\u001b[39m,\n\u001b[0;32m    835\u001b[0m     X: array_like,\n\u001b[1;32m   (...)\u001b[0m\n\u001b[0;32m    840\u001b[0m     iteration_range: Optional[Tuple[\u001b[38;5;28mint\u001b[39m, \u001b[38;5;28mint\u001b[39m]] \u001b[38;5;241m=\u001b[39m \u001b[38;5;28;01mNone\u001b[39;00m,\n\u001b[0;32m    841\u001b[0m ) \u001b[38;5;241m-\u001b[39m\u001b[38;5;241m>\u001b[39m np\u001b[38;5;241m.\u001b[39mndarray:\n\u001b[0;32m    842\u001b[0m \u001b[38;5;250m    \u001b[39m\u001b[38;5;124;03m\"\"\"Predict with `X`.  If the model is trained with early stopping, then `best_iteration`\u001b[39;00m\n\u001b[0;32m    843\u001b[0m \u001b[38;5;124;03m    is used automatically.  For tree models, when data is on GPU, like cupy array or\u001b[39;00m\n\u001b[0;32m    844\u001b[0m \u001b[38;5;124;03m    cuDF dataframe and `predictor` is not specified, the prediction is run on GPU\u001b[39;00m\n\u001b[1;32m   (...)\u001b[0m\n\u001b[0;32m    873\u001b[0m \n\u001b[0;32m    874\u001b[0m \u001b[38;5;124;03m    \"\"\"\u001b[39;00m\n\u001b[0;32m    875\u001b[0m     iteration_range \u001b[38;5;241m=\u001b[39m _convert_ntree_limit(\n\u001b[1;32m--> 876\u001b[0m         \u001b[38;5;28mself\u001b[39m\u001b[38;5;241m.\u001b[39mget_booster(), ntree_limit, iteration_range\n\u001b[0;32m    877\u001b[0m     )\n\u001b[0;32m    878\u001b[0m     iteration_range \u001b[38;5;241m=\u001b[39m \u001b[38;5;28mself\u001b[39m\u001b[38;5;241m.\u001b[39m_get_iteration_range(iteration_range)\n\u001b[0;32m    879\u001b[0m     \u001b[38;5;28;01mif\u001b[39;00m \u001b[38;5;28mself\u001b[39m\u001b[38;5;241m.\u001b[39m_can_use_inplace_predict():\n",
      "File \u001b[1;32m~\\anaconda3\\Lib\\site-packages\\xgboost\\sklearn.py:459\u001b[0m, in \u001b[0;36mXGBModel.get_booster\u001b[1;34m(self)\u001b[0m\n\u001b[0;32m    457\u001b[0m \u001b[38;5;28;01mif\u001b[39;00m \u001b[38;5;129;01mnot\u001b[39;00m \u001b[38;5;28mself\u001b[39m\u001b[38;5;241m.\u001b[39m__sklearn_is_fitted__():\n\u001b[0;32m    458\u001b[0m     \u001b[38;5;28;01mfrom\u001b[39;00m \u001b[38;5;21;01msklearn\u001b[39;00m\u001b[38;5;21;01m.\u001b[39;00m\u001b[38;5;21;01mexceptions\u001b[39;00m \u001b[38;5;28;01mimport\u001b[39;00m NotFittedError\n\u001b[1;32m--> 459\u001b[0m     \u001b[38;5;28;01mraise\u001b[39;00m NotFittedError(\u001b[38;5;124m'\u001b[39m\u001b[38;5;124mneed to call fit or load_model beforehand\u001b[39m\u001b[38;5;124m'\u001b[39m)\n\u001b[0;32m    460\u001b[0m \u001b[38;5;28;01mreturn\u001b[39;00m \u001b[38;5;28mself\u001b[39m\u001b[38;5;241m.\u001b[39m_Booster\n",
      "\u001b[1;31mNotFittedError\u001b[0m: need to call fit or load_model beforehand"
     ]
    }
   ],
   "source": [
    "roc_auc_score(y_test,xgb_classifier.predict_proba(X_test_new)[:,1])\n",
    "draw_roc(y_test,xgb_classifier.predict_proba(X_test_new)[:,1])"
   ]
  },
  {
   "cell_type": "markdown",
   "id": "8642df5a",
   "metadata": {},
   "source": [
    "# **Light GBM**"
   ]
  },
  {
   "cell_type": "code",
   "execution_count": 370,
   "id": "9a3d4c5b",
   "metadata": {},
   "outputs": [
    {
     "name": "stdout",
     "output_type": "stream",
     "text": [
      "Requirement already satisfied: lightgbm in c:\\users\\user\\anaconda3\\lib\\site-packages (4.4.0)\n",
      "Requirement already satisfied: numpy>=1.17.0 in c:\\users\\user\\anaconda3\\lib\\site-packages (from lightgbm) (1.26.4)\n",
      "Requirement already satisfied: scipy in c:\\users\\user\\anaconda3\\lib\\site-packages (from lightgbm) (1.11.1)\n"
     ]
    }
   ],
   "source": [
    "! pip install lightgbm"
   ]
  },
  {
   "cell_type": "code",
   "execution_count": 371,
   "id": "538d084d",
   "metadata": {},
   "outputs": [
    {
     "name": "stdout",
     "output_type": "stream",
     "text": [
      "[LightGBM] [Warning] Found whitespace in feature_names, replace with underlines\n",
      "[LightGBM] [Info] Number of positive: 2149, number of negative: 2312\n",
      "[LightGBM] [Info] Auto-choosing row-wise multi-threading, the overhead of testing was 0.003454 seconds.\n",
      "You can set `force_row_wise=true` to remove the overhead.\n",
      "And if memory is not enough, you can set `force_col_wise=true`.\n",
      "[LightGBM] [Info] Total Bins 300\n",
      "[LightGBM] [Info] Number of data points in the train set: 4461, number of used features: 10\n",
      "[LightGBM] [Info] [binary:BoostFromScore]: pavg=0.481731 -> initscore=-0.073110\n",
      "[LightGBM] [Info] Start training from score -0.073110\n"
     ]
    },
    {
     "ename": "NotFittedError",
     "evalue": "need to call fit or load_model beforehand",
     "output_type": "error",
     "traceback": [
      "\u001b[1;31m---------------------------------------------------------------------------\u001b[0m",
      "\u001b[1;31mNotFittedError\u001b[0m                            Traceback (most recent call last)",
      "Cell \u001b[1;32mIn[371], line 8\u001b[0m\n\u001b[0;32m      6\u001b[0m \u001b[38;5;66;03m# Train the classifier\u001b[39;00m\n\u001b[0;32m      7\u001b[0m lgb_classifier\u001b[38;5;241m.\u001b[39mfit(X_train_new, y_train)\n\u001b[1;32m----> 8\u001b[0m y_test_pred \u001b[38;5;241m=\u001b[39m xgb_classifier\u001b[38;5;241m.\u001b[39mpredict(X_test_new)\n",
      "File \u001b[1;32m~\\anaconda3\\Lib\\site-packages\\xgboost\\sklearn.py:1284\u001b[0m, in \u001b[0;36mXGBClassifier.predict\u001b[1;34m(self, X, output_margin, ntree_limit, validate_features, base_margin, iteration_range)\u001b[0m\n\u001b[0;32m   1275\u001b[0m \u001b[38;5;28;01mdef\u001b[39;00m \u001b[38;5;21mpredict\u001b[39m(\n\u001b[0;32m   1276\u001b[0m     \u001b[38;5;28mself\u001b[39m,\n\u001b[0;32m   1277\u001b[0m     X: array_like,\n\u001b[1;32m   (...)\u001b[0m\n\u001b[0;32m   1282\u001b[0m     iteration_range: Optional[Tuple[\u001b[38;5;28mint\u001b[39m, \u001b[38;5;28mint\u001b[39m]] \u001b[38;5;241m=\u001b[39m \u001b[38;5;28;01mNone\u001b[39;00m,\n\u001b[0;32m   1283\u001b[0m ) \u001b[38;5;241m-\u001b[39m\u001b[38;5;241m>\u001b[39m np\u001b[38;5;241m.\u001b[39mndarray:\n\u001b[1;32m-> 1284\u001b[0m     class_probs \u001b[38;5;241m=\u001b[39m \u001b[38;5;28msuper\u001b[39m()\u001b[38;5;241m.\u001b[39mpredict(\n\u001b[0;32m   1285\u001b[0m         X\u001b[38;5;241m=\u001b[39mX,\n\u001b[0;32m   1286\u001b[0m         output_margin\u001b[38;5;241m=\u001b[39moutput_margin,\n\u001b[0;32m   1287\u001b[0m         ntree_limit\u001b[38;5;241m=\u001b[39mntree_limit,\n\u001b[0;32m   1288\u001b[0m         validate_features\u001b[38;5;241m=\u001b[39mvalidate_features,\n\u001b[0;32m   1289\u001b[0m         base_margin\u001b[38;5;241m=\u001b[39mbase_margin,\n\u001b[0;32m   1290\u001b[0m         iteration_range\u001b[38;5;241m=\u001b[39miteration_range,\n\u001b[0;32m   1291\u001b[0m     )\n\u001b[0;32m   1292\u001b[0m     \u001b[38;5;28;01mif\u001b[39;00m output_margin:\n\u001b[0;32m   1293\u001b[0m         \u001b[38;5;66;03m# If output_margin is active, simply return the scores\u001b[39;00m\n\u001b[0;32m   1294\u001b[0m         \u001b[38;5;28;01mreturn\u001b[39;00m class_probs\n",
      "File \u001b[1;32m~\\anaconda3\\Lib\\site-packages\\xgboost\\sklearn.py:876\u001b[0m, in \u001b[0;36mXGBModel.predict\u001b[1;34m(self, X, output_margin, ntree_limit, validate_features, base_margin, iteration_range)\u001b[0m\n\u001b[0;32m    833\u001b[0m \u001b[38;5;28;01mdef\u001b[39;00m \u001b[38;5;21mpredict\u001b[39m(\n\u001b[0;32m    834\u001b[0m     \u001b[38;5;28mself\u001b[39m,\n\u001b[0;32m    835\u001b[0m     X: array_like,\n\u001b[1;32m   (...)\u001b[0m\n\u001b[0;32m    840\u001b[0m     iteration_range: Optional[Tuple[\u001b[38;5;28mint\u001b[39m, \u001b[38;5;28mint\u001b[39m]] \u001b[38;5;241m=\u001b[39m \u001b[38;5;28;01mNone\u001b[39;00m,\n\u001b[0;32m    841\u001b[0m ) \u001b[38;5;241m-\u001b[39m\u001b[38;5;241m>\u001b[39m np\u001b[38;5;241m.\u001b[39mndarray:\n\u001b[0;32m    842\u001b[0m \u001b[38;5;250m    \u001b[39m\u001b[38;5;124;03m\"\"\"Predict with `X`.  If the model is trained with early stopping, then `best_iteration`\u001b[39;00m\n\u001b[0;32m    843\u001b[0m \u001b[38;5;124;03m    is used automatically.  For tree models, when data is on GPU, like cupy array or\u001b[39;00m\n\u001b[0;32m    844\u001b[0m \u001b[38;5;124;03m    cuDF dataframe and `predictor` is not specified, the prediction is run on GPU\u001b[39;00m\n\u001b[1;32m   (...)\u001b[0m\n\u001b[0;32m    873\u001b[0m \n\u001b[0;32m    874\u001b[0m \u001b[38;5;124;03m    \"\"\"\u001b[39;00m\n\u001b[0;32m    875\u001b[0m     iteration_range \u001b[38;5;241m=\u001b[39m _convert_ntree_limit(\n\u001b[1;32m--> 876\u001b[0m         \u001b[38;5;28mself\u001b[39m\u001b[38;5;241m.\u001b[39mget_booster(), ntree_limit, iteration_range\n\u001b[0;32m    877\u001b[0m     )\n\u001b[0;32m    878\u001b[0m     iteration_range \u001b[38;5;241m=\u001b[39m \u001b[38;5;28mself\u001b[39m\u001b[38;5;241m.\u001b[39m_get_iteration_range(iteration_range)\n\u001b[0;32m    879\u001b[0m     \u001b[38;5;28;01mif\u001b[39;00m \u001b[38;5;28mself\u001b[39m\u001b[38;5;241m.\u001b[39m_can_use_inplace_predict():\n",
      "File \u001b[1;32m~\\anaconda3\\Lib\\site-packages\\xgboost\\sklearn.py:459\u001b[0m, in \u001b[0;36mXGBModel.get_booster\u001b[1;34m(self)\u001b[0m\n\u001b[0;32m    457\u001b[0m \u001b[38;5;28;01mif\u001b[39;00m \u001b[38;5;129;01mnot\u001b[39;00m \u001b[38;5;28mself\u001b[39m\u001b[38;5;241m.\u001b[39m__sklearn_is_fitted__():\n\u001b[0;32m    458\u001b[0m     \u001b[38;5;28;01mfrom\u001b[39;00m \u001b[38;5;21;01msklearn\u001b[39;00m\u001b[38;5;21;01m.\u001b[39;00m\u001b[38;5;21;01mexceptions\u001b[39;00m \u001b[38;5;28;01mimport\u001b[39;00m NotFittedError\n\u001b[1;32m--> 459\u001b[0m     \u001b[38;5;28;01mraise\u001b[39;00m NotFittedError(\u001b[38;5;124m'\u001b[39m\u001b[38;5;124mneed to call fit or load_model beforehand\u001b[39m\u001b[38;5;124m'\u001b[39m)\n\u001b[0;32m    460\u001b[0m \u001b[38;5;28;01mreturn\u001b[39;00m \u001b[38;5;28mself\u001b[39m\u001b[38;5;241m.\u001b[39m_Booster\n",
      "\u001b[1;31mNotFittedError\u001b[0m: need to call fit or load_model beforehand"
     ]
    }
   ],
   "source": [
    "import lightgbm as lgb\n",
    "\n",
    "# Create a LightGBM Classifier\n",
    "lgb_classifier = lgb.LGBMClassifier(n_estimators=200, learning_rate=0.1, random_state=42)\n",
    "\n",
    "# Train the classifier\n",
    "lgb_classifier.fit(X_train_new, y_train)\n",
    "y_test_pred = xgb_classifier.predict(X_test_new)"
   ]
  },
  {
   "cell_type": "code",
   "execution_count": null,
   "id": "753ccba8",
   "metadata": {},
   "outputs": [],
   "source": [
    "confusion_matrix(y_test,y_test_pred)\n",
    "ConfusionMatrixDisplay.from_estimator(nn_model, X_test_new, y_test)"
   ]
  },
  {
   "cell_type": "code",
   "execution_count": null,
   "id": "7627c3b6",
   "metadata": {},
   "outputs": [],
   "source": [
    "print(\"Accuracy Score : \",accuracy_score(y_test,y_test_pred))\n",
    "print(\"Precision Score : \",precision_score(y_test,y_test_pred))\n",
    "print(\"Recall Score : \",recall_score(y_test,y_test_pred))\n",
    "print(\"F1 Score : \",f1_score(y_test,y_test_pred))"
   ]
  },
  {
   "cell_type": "code",
   "execution_count": null,
   "id": "e8c9a229",
   "metadata": {},
   "outputs": [],
   "source": [
    "roc_auc_score(y_test,lgb_classifier.predict_proba(X_test_new)[:,1])\n",
    "draw_roc(y_test,lgb_classifier.predict_proba(X_test_new)[:,1])"
   ]
  },
  {
   "cell_type": "markdown",
   "id": "3e36bab4",
   "metadata": {},
   "source": [
    "# **Cat Boost**"
   ]
  },
  {
   "cell_type": "code",
   "execution_count": null,
   "id": "13196aea",
   "metadata": {},
   "outputs": [],
   "source": [
    "! pip install catboost"
   ]
  },
  {
   "cell_type": "code",
   "execution_count": null,
   "id": "f7b76f3f",
   "metadata": {},
   "outputs": [],
   "source": [
    "from catboost import CatBoostClassifier, Pool\n",
    "\n",
    "# Create a CatBoost Classifier\n",
    "catboost_classifier = CatBoostClassifier(iterations=100, learning_rate=0.1, random_state=42)\n",
    "\n",
    "# Train the classifier\n",
    "catboost_classifier.fit(X_train_new, y_train)\n",
    "y_test_pred = xgb_classifier.predict(X_test_new)\n"
   ]
  },
  {
   "cell_type": "code",
   "execution_count": null,
   "id": "30d66cf6",
   "metadata": {},
   "outputs": [],
   "source": [
    "confusion_matrix(y_test,y_test_pred)\n",
    "ConfusionMatrixDisplay.from_estimator(catboost_classifier, X_test_new, y_test)"
   ]
  },
  {
   "cell_type": "code",
   "execution_count": null,
   "id": "1abf2a24",
   "metadata": {},
   "outputs": [],
   "source": [
    "print(\"Accuracy Score : \",accuracy_score(y_test,y_test_pred))\n",
    "print(\"Precision Score : \",precision_score(y_test,y_test_pred))\n",
    "print(\"Recall Score : \",recall_score(y_test,y_test_pred))\n",
    "print(\"F1 Score : \",f1_score(y_test,y_test_pred))"
   ]
  },
  {
   "cell_type": "code",
   "execution_count": null,
   "id": "3bc3905e",
   "metadata": {},
   "outputs": [],
   "source": [
    "roc_auc_score(y_test,catboost_classifier.predict_proba(X_test_new)[:,1])\n",
    "draw_roc(y_test,catboost_classifier.predict_proba(X_test_new)[:,1])"
   ]
  },
  {
   "cell_type": "code",
   "execution_count": null,
   "id": "1e5c6851",
   "metadata": {},
   "outputs": [],
   "source": []
  },
  {
   "cell_type": "code",
   "execution_count": null,
   "id": "c8342d79",
   "metadata": {},
   "outputs": [],
   "source": []
  }
 ],
 "metadata": {
  "kernelspec": {
   "display_name": "Python 3 (ipykernel)",
   "language": "python",
   "name": "python3"
  },
  "language_info": {
   "codemirror_mode": {
    "name": "ipython",
    "version": 3
   },
   "file_extension": ".py",
   "mimetype": "text/x-python",
   "name": "python",
   "nbconvert_exporter": "python",
   "pygments_lexer": "ipython3",
   "version": "3.11.5"
  }
 },
 "nbformat": 4,
 "nbformat_minor": 5
}
